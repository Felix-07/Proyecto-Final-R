{
 "cells": [
  {
   "cell_type": "markdown",
   "metadata": {},
   "source": [
    "# Programación y Estadística con R\n",
    "\n",
    "**Lenguaje de programación:** R\n",
    "\n",
    "**Equipo:** 11\n",
    "\n",
    "**Integrantes:**\n",
    "\n",
    "Ximena Ávila Villagómez\n",
    "\n",
    "Ana Katherine Cuevas Flores\n",
    "\n",
    "Félix Alberto Nieto García\n",
    "\n",
    "Daniel Gómez Avín\n",
    "\n",
    "Santiago Peña Rodríguez\n",
    "\n",
    "Alejandro De Fuentes Martínez\n",
    "\n",
    "\n",
    "**Resumen:**\n",
    "El trabajo es sobre el analísis de datos de partido de futbool de la seleccion española."
   ]
  },
  {
   "cell_type": "markdown",
   "metadata": {},
   "source": [
    "## Librerias utilizadas"
   ]
  },
  {
   "cell_type": "code",
   "execution_count": 39,
   "metadata": {},
   "outputs": [],
   "source": [
    "library(\"ggplot2\") #Para graficación\n",
    "library(\"dplyr\") #Para la manipulación y operaciones con data frames\n",
    "library(\"rsample\")"
   ]
  },
  {
   "cell_type": "markdown",
   "metadata": {},
   "source": [
    "### Postwork 1"
   ]
  },
  {
   "cell_type": "markdown",
   "metadata": {},
   "source": [
    "1. Importa los datos de soccer de la temporada 2019/2020 de la primera división de la liga española a R que se encuentran en el enlace:  https://www.football-data.co.uk/spainm.php"
   ]
  },
  {
   "cell_type": "code",
   "execution_count": 3,
   "metadata": {},
   "outputs": [
    {
     "data": {
      "text/html": [
       "<table>\n",
       "<thead><tr><th scope=col>Div</th><th scope=col>Date</th><th scope=col>Time</th><th scope=col>HomeTeam</th><th scope=col>AwayTeam</th><th scope=col>FTHG</th><th scope=col>FTAG</th><th scope=col>FTR</th><th scope=col>HTHG</th><th scope=col>HTAG</th><th scope=col>...</th><th scope=col>AvgC.2.5.1</th><th scope=col>AHCh</th><th scope=col>B365CAHH</th><th scope=col>B365CAHA</th><th scope=col>PCAHH</th><th scope=col>PCAHA</th><th scope=col>MaxCAHH</th><th scope=col>MaxCAHA</th><th scope=col>AvgCAHH</th><th scope=col>AvgCAHA</th></tr></thead>\n",
       "<tbody>\n",
       "\t<tr><td>SP1        </td><td>16/08/2019 </td><td>20:00      </td><td>Ath Bilbao </td><td>Barcelona  </td><td>1          </td><td>0          </td><td>H          </td><td>0          </td><td>0          </td><td>...        </td><td>1.97       </td><td> 0.75      </td><td>1.93       </td><td>2.00       </td><td>1.91       </td><td>2.01       </td><td>2.02       </td><td>2.03       </td><td>1.91       </td><td>1.98       </td></tr>\n",
       "\t<tr><td>SP1        </td><td>17/08/2019 </td><td>16:00      </td><td>Celta      </td><td>Real Madrid</td><td>1          </td><td>3          </td><td>A          </td><td>0          </td><td>1          </td><td>...        </td><td>2.63       </td><td> 1.00      </td><td>1.82       </td><td>1.97       </td><td>1.85       </td><td>2.07       </td><td>2.00       </td><td>2.20       </td><td>1.82       </td><td>2.06       </td></tr>\n",
       "\t<tr><td>SP1        </td><td>17/08/2019 </td><td>18:00      </td><td>Valencia   </td><td>Sociedad   </td><td>1          </td><td>1          </td><td>D          </td><td>0          </td><td>0          </td><td>...        </td><td>1.82       </td><td>-0.75      </td><td>1.94       </td><td>1.99       </td><td>1.92       </td><td>2.00       </td><td>1.96       </td><td>2.12       </td><td>1.89       </td><td>2.00       </td></tr>\n",
       "\t<tr><td>SP1        </td><td>17/08/2019 </td><td>19:00      </td><td>Mallorca   </td><td>Eibar      </td><td>2          </td><td>1          </td><td>H          </td><td>1          </td><td>0          </td><td>...        </td><td>1.66       </td><td> 0.00      </td><td>2.11       </td><td>1.82       </td><td>2.09       </td><td>1.83       </td><td>2.12       </td><td>1.88       </td><td>2.07       </td><td>1.83       </td></tr>\n",
       "\t<tr><td>SP1        </td><td>17/08/2019 </td><td>20:00      </td><td>Leganes    </td><td>Osasuna    </td><td>0          </td><td>1          </td><td>A          </td><td>0          </td><td>0          </td><td>...        </td><td>1.46       </td><td>-0.50      </td><td>1.89       </td><td>2.04       </td><td>1.90       </td><td>2.01       </td><td>1.95       </td><td>2.06       </td><td>1.90       </td><td>1.99       </td></tr>\n",
       "\t<tr><td>SP1        </td><td>17/08/2019 </td><td>20:00      </td><td>Villarreal </td><td>Granada    </td><td>4          </td><td>4          </td><td>D          </td><td>1          </td><td>1          </td><td>...        </td><td>1.92       </td><td>-1.00      </td><td>1.96       </td><td>1.97       </td><td>1.96       </td><td>1.96       </td><td>1.98       </td><td>2.12       </td><td>1.93       </td><td>1.95       </td></tr>\n",
       "</tbody>\n",
       "</table>\n"
      ],
      "text/latex": [
       "\\begin{tabular}{r|lllllllllllllllllllllllllllllllllllllllllllllllllllllllllllllllllllllllllllllllllllllllllllllllllllllllll}\n",
       " Div & Date & Time & HomeTeam & AwayTeam & FTHG & FTAG & FTR & HTHG & HTAG & ... & AvgC.2.5.1 & AHCh & B365CAHH & B365CAHA & PCAHH & PCAHA & MaxCAHH & MaxCAHA & AvgCAHH & AvgCAHA\\\\\n",
       "\\hline\n",
       "\t SP1         & 16/08/2019  & 20:00       & Ath Bilbao  & Barcelona   & 1           & 0           & H           & 0           & 0           & ...         & 1.97        &  0.75       & 1.93        & 2.00        & 1.91        & 2.01        & 2.02        & 2.03        & 1.91        & 1.98       \\\\\n",
       "\t SP1         & 17/08/2019  & 16:00       & Celta       & Real Madrid & 1           & 3           & A           & 0           & 1           & ...         & 2.63        &  1.00       & 1.82        & 1.97        & 1.85        & 2.07        & 2.00        & 2.20        & 1.82        & 2.06       \\\\\n",
       "\t SP1         & 17/08/2019  & 18:00       & Valencia    & Sociedad    & 1           & 1           & D           & 0           & 0           & ...         & 1.82        & -0.75       & 1.94        & 1.99        & 1.92        & 2.00        & 1.96        & 2.12        & 1.89        & 2.00       \\\\\n",
       "\t SP1         & 17/08/2019  & 19:00       & Mallorca    & Eibar       & 2           & 1           & H           & 1           & 0           & ...         & 1.66        &  0.00       & 2.11        & 1.82        & 2.09        & 1.83        & 2.12        & 1.88        & 2.07        & 1.83       \\\\\n",
       "\t SP1         & 17/08/2019  & 20:00       & Leganes     & Osasuna     & 0           & 1           & A           & 0           & 0           & ...         & 1.46        & -0.50       & 1.89        & 2.04        & 1.90        & 2.01        & 1.95        & 2.06        & 1.90        & 1.99       \\\\\n",
       "\t SP1         & 17/08/2019  & 20:00       & Villarreal  & Granada     & 4           & 4           & D           & 1           & 1           & ...         & 1.92        & -1.00       & 1.96        & 1.97        & 1.96        & 1.96        & 1.98        & 2.12        & 1.93        & 1.95       \\\\\n",
       "\\end{tabular}\n"
      ],
      "text/markdown": [
       "\n",
       "| Div | Date | Time | HomeTeam | AwayTeam | FTHG | FTAG | FTR | HTHG | HTAG | ... | AvgC.2.5.1 | AHCh | B365CAHH | B365CAHA | PCAHH | PCAHA | MaxCAHH | MaxCAHA | AvgCAHH | AvgCAHA |\n",
       "|---|---|---|---|---|---|---|---|---|---|---|---|---|---|---|---|---|---|---|---|---|\n",
       "| SP1         | 16/08/2019  | 20:00       | Ath Bilbao  | Barcelona   | 1           | 0           | H           | 0           | 0           | ...         | 1.97        |  0.75       | 1.93        | 2.00        | 1.91        | 2.01        | 2.02        | 2.03        | 1.91        | 1.98        |\n",
       "| SP1         | 17/08/2019  | 16:00       | Celta       | Real Madrid | 1           | 3           | A           | 0           | 1           | ...         | 2.63        |  1.00       | 1.82        | 1.97        | 1.85        | 2.07        | 2.00        | 2.20        | 1.82        | 2.06        |\n",
       "| SP1         | 17/08/2019  | 18:00       | Valencia    | Sociedad    | 1           | 1           | D           | 0           | 0           | ...         | 1.82        | -0.75       | 1.94        | 1.99        | 1.92        | 2.00        | 1.96        | 2.12        | 1.89        | 2.00        |\n",
       "| SP1         | 17/08/2019  | 19:00       | Mallorca    | Eibar       | 2           | 1           | H           | 1           | 0           | ...         | 1.66        |  0.00       | 2.11        | 1.82        | 2.09        | 1.83        | 2.12        | 1.88        | 2.07        | 1.83        |\n",
       "| SP1         | 17/08/2019  | 20:00       | Leganes     | Osasuna     | 0           | 1           | A           | 0           | 0           | ...         | 1.46        | -0.50       | 1.89        | 2.04        | 1.90        | 2.01        | 1.95        | 2.06        | 1.90        | 1.99        |\n",
       "| SP1         | 17/08/2019  | 20:00       | Villarreal  | Granada     | 4           | 4           | D           | 1           | 1           | ...         | 1.92        | -1.00       | 1.96        | 1.97        | 1.96        | 1.96        | 1.98        | 2.12        | 1.93        | 1.95        |\n",
       "\n"
      ],
      "text/plain": [
       "  Div Date       Time  HomeTeam   AwayTeam    FTHG FTAG FTR HTHG HTAG ...\n",
       "1 SP1 16/08/2019 20:00 Ath Bilbao Barcelona   1    0    H   0    0    ...\n",
       "2 SP1 17/08/2019 16:00 Celta      Real Madrid 1    3    A   0    1    ...\n",
       "3 SP1 17/08/2019 18:00 Valencia   Sociedad    1    1    D   0    0    ...\n",
       "4 SP1 17/08/2019 19:00 Mallorca   Eibar       2    1    H   1    0    ...\n",
       "5 SP1 17/08/2019 20:00 Leganes    Osasuna     0    1    A   0    0    ...\n",
       "6 SP1 17/08/2019 20:00 Villarreal Granada     4    4    D   1    1    ...\n",
       "  AvgC.2.5.1 AHCh  B365CAHH B365CAHA PCAHH PCAHA MaxCAHH MaxCAHA AvgCAHH\n",
       "1 1.97        0.75 1.93     2.00     1.91  2.01  2.02    2.03    1.91   \n",
       "2 2.63        1.00 1.82     1.97     1.85  2.07  2.00    2.20    1.82   \n",
       "3 1.82       -0.75 1.94     1.99     1.92  2.00  1.96    2.12    1.89   \n",
       "4 1.66        0.00 2.11     1.82     2.09  1.83  2.12    1.88    2.07   \n",
       "5 1.46       -0.50 1.89     2.04     1.90  2.01  1.95    2.06    1.90   \n",
       "6 1.92       -1.00 1.96     1.97     1.96  1.96  1.98    2.12    1.93   \n",
       "  AvgCAHA\n",
       "1 1.98   \n",
       "2 2.06   \n",
       "3 2.00   \n",
       "4 1.83   \n",
       "5 1.99   \n",
       "6 1.95   "
      ]
     },
     "metadata": {},
     "output_type": "display_data"
    }
   ],
   "source": [
    "LinkT1920 <- \"https://www.football-data.co.uk/mmz4281/1920/SP1.csv\"\n",
    "\n",
    "DatosT1920 <- read.csv(LinkT1920)\n",
    "head(DatosT1920) #Primeros registros "
   ]
  },
  {
   "cell_type": "code",
   "execution_count": 4,
   "metadata": {},
   "outputs": [
    {
     "name": "stdout",
     "output_type": "stream",
     "text": [
      "'data.frame':\t380 obs. of  105 variables:\n",
      " $ Div        : Factor w/ 1 level \"SP1\": 1 1 1 1 1 1 1 1 1 1 ...\n",
      " $ Date       : Factor w/ 116 levels \"01/02/2020\",\"01/03/2020\",..: 56 59 59 59 59 59 62 62 62 62 ...\n",
      " $ Time       : Factor w/ 13 levels \"11:00\",\"12:00\",..: 11 5 7 9 11 11 5 7 11 13 ...\n",
      " $ HomeTeam   : Factor w/ 20 levels \"Alaves\",\"Ath Bilbao\",..: 2 6 18 13 11 20 1 8 5 3 ...\n",
      " $ AwayTeam   : Factor w/ 20 levels \"Alaves\",\"Ath Bilbao\",..: 4 15 17 7 14 10 12 16 19 9 ...\n",
      " $ FTHG       : int  1 1 1 2 0 4 1 0 1 1 ...\n",
      " $ FTAG       : int  0 3 1 1 1 4 0 2 2 0 ...\n",
      " $ FTR        : Factor w/ 3 levels \"A\",\"D\",\"H\": 3 1 2 3 1 2 3 1 1 3 ...\n",
      " $ HTHG       : int  0 0 0 1 0 1 0 0 0 1 ...\n",
      " $ HTAG       : int  0 1 0 0 0 1 0 1 0 0 ...\n",
      " $ HTR        : Factor w/ 3 levels \"A\",\"D\",\"H\": 2 1 2 3 2 2 2 1 2 3 ...\n",
      " $ HS         : int  11 7 14 16 13 12 9 7 13 5 ...\n",
      " $ AS         : int  11 17 12 11 4 14 16 12 14 6 ...\n",
      " $ HST        : int  5 4 6 4 2 7 2 2 4 5 ...\n",
      " $ AST        : int  2 11 3 5 2 7 4 4 3 0 ...\n",
      " $ HF         : int  14 17 13 13 17 10 18 11 11 19 ...\n",
      " $ AF         : int  9 12 14 14 11 16 15 17 19 22 ...\n",
      " $ HC         : int  3 6 3 9 8 2 2 8 6 3 ...\n",
      " $ AC         : int  8 4 3 3 0 7 9 4 1 4 ...\n",
      " $ HY         : int  1 5 4 2 1 3 2 2 2 3 ...\n",
      " $ AY         : int  1 2 4 3 4 1 1 2 6 4 ...\n",
      " $ HR         : int  0 0 1 0 1 0 0 0 1 1 ...\n",
      " $ AR         : int  0 1 0 0 0 0 0 0 0 1 ...\n",
      " $ B365H      : num  5.25 4.75 1.66 2.8 2 1.6 2.15 3.2 1.66 1.44 ...\n",
      " $ B365D      : num  3.8 4.2 3.75 3.2 3.2 3.8 3.2 3.3 3.75 4.33 ...\n",
      " $ B365A      : num  1.65 1.65 5.5 2.6 4.2 6.5 3.6 2.3 5.5 8 ...\n",
      " $ BWH        : num  5.5 4.4 1.67 2.95 2.05 1.6 2.15 3.1 1.65 1.45 ...\n",
      " $ BWD        : num  3.8 4.2 3.75 3.1 3.25 3.8 3.3 3.4 3.75 4.33 ...\n",
      " $ BWA        : num  1.65 1.72 5.5 2.6 3.9 6.25 3.6 2.3 5.75 7.5 ...\n",
      " $ IWH        : num  5 5.3 1.67 2.9 2.05 1.63 2.2 3.1 1.63 1.45 ...\n",
      " $ IWD        : num  3.8 4.2 3.75 3.1 3.1 4 3.25 3.4 3.75 4.4 ...\n",
      " $ IWA        : num  1.7 1.6 5.3 2.6 4.05 5.5 3.4 2.3 5.7 7.2 ...\n",
      " $ PSH        : num  5.15 4.73 1.68 2.98 2.1 1.62 2.29 3.13 1.63 1.49 ...\n",
      " $ PSD        : num  3.84 4.18 3.94 3.14 3.21 3.99 3.31 3.56 3.81 4.34 ...\n",
      " $ PSA        : num  1.74 1.72 5.47 2.66 4.13 6.13 3.45 2.33 6.38 7.58 ...\n",
      " $ WHH        : num  5 5.25 1.67 2.9 2.05 1.6 2.25 3 1.62 1.47 ...\n",
      " $ WHD        : num  3.8 4.2 3.8 3.1 3.2 3.9 3.3 3.5 3.75 4.2 ...\n",
      " $ WHA        : num  1.7 1.6 5.25 2.62 4 5.8 3.3 2.3 6 8 ...\n",
      " $ VCH        : num  5 4.75 1.67 2.9 2.1 1.65 2.25 3 1.62 1.45 ...\n",
      " $ VCD        : num  3.8 4.2 3.9 3.13 3.2 4 3.3 3.5 3.8 4.2 ...\n",
      " $ VCA        : num  1.75 1.73 5.75 2.7 4.1 5.75 3.3 2.3 5.75 8 ...\n",
      " $ MaxH       : num  5.5 5.3 1.72 3.05 2.1 1.65 2.31 3.2 1.67 1.52 ...\n",
      " $ MaxD       : num  3.95 4.4 3.98 3.2 3.3 4.15 3.4 3.56 3.9 4.5 ...\n",
      " $ MaxA       : num  1.76 1.73 5.75 2.7 4.25 6.5 3.6 2.4 6.5 8.5 ...\n",
      " $ AvgH       : num  5.07 4.67 1.68 2.91 2.06 1.61 2.23 3.08 1.64 1.47 ...\n",
      " $ AvgD       : num  3.81 4.12 3.8 3.09 3.18 3.95 3.25 3.41 3.76 4.23 ...\n",
      " $ AvgA       : num  1.71 1.69 5.29 2.62 4.02 5.8 3.43 2.33 5.78 7.63 ...\n",
      " $ B365.2.5   : num  1.8 1.53 2 2.3 2.5 1.8 2.1 1.9 2.1 2.2 ...\n",
      " $ B365.2.5.1 : num  2 2.5 1.8 1.61 1.53 2 1.72 1.9 1.72 1.66 ...\n",
      " $ P.2.5      : num  1.81 1.52 2.08 2.45 2.72 1.88 2.16 1.95 2.16 2.3 ...\n",
      " $ P.2.5.1    : num  2.09 2.66 1.82 1.6 1.5 2.02 1.76 1.95 1.76 1.68 ...\n",
      " $ Max.2.5    : num  1.85 1.53 2.14 2.47 2.75 1.9 2.2 1.98 2.21 2.3 ...\n",
      " $ Max.2.5.1  : num  2.11 2.72 1.83 1.65 1.54 2.05 1.77 1.95 1.78 1.71 ...\n",
      " $ Avg.2.5    : num  1.79 1.49 2.07 2.34 2.59 1.84 2.13 1.92 2.13 2.23 ...\n",
      " $ Avg.2.5.1  : num  2.05 2.58 1.77 1.6 1.49 1.98 1.72 1.89 1.72 1.66 ...\n",
      " $ AHh        : num  0.75 0.75 -0.75 0 -0.5 -1 -0.25 0.25 -0.75 -1 ...\n",
      " $ B365AHH    : num  1.99 2.04 1.91 2.05 2.08 2.05 1.95 1.88 1.86 1.88 ...\n",
      " $ B365AHA    : num  1.94 1.89 2.02 1.88 1.85 1.75 1.98 2.05 2.07 2.05 ...\n",
      " $ PAHH       : num  1.98 2.01 1.91 2.07 2.1 2.11 1.96 1.9 1.84 1.88 ...\n",
      " $ PAHA       : num  1.94 1.91 2.01 1.85 1.82 1.81 1.96 2.02 2.08 2.04 ...\n",
      " $ MaxAHH     : num  2 2.05 1.93 2.07 2.1 2.14 1.97 1.9 1.87 1.89 ...\n",
      " $ MaxAHA     : num  1.95 1.91 2.03 1.88 1.85 1.85 1.99 2.06 2.08 2.08 ...\n",
      " $ AvgAHH     : num  1.96 2 1.89 2.04 2.06 2.07 1.93 1.87 1.83 1.85 ...\n",
      " $ AvgAHA     : num  1.92 1.88 1.99 1.85 1.83 1.8 1.95 2.01 2.06 2.03 ...\n",
      " $ B365CH     : num  5.25 5.25 1.66 2.87 1.9 1.53 2.3 3 1.8 1.5 ...\n",
      " $ B365CD     : num  3.8 4.2 3.75 3.2 3.1 4 3.4 3.4 3.6 4 ...\n",
      " $ B365CA     : num  1.65 1.57 5.5 2.55 5 6.5 3.2 2.4 4.75 8 ...\n",
      " $ BWCH       : num  4.75 4.5 1.65 2.95 1.95 1.57 2.35 3 1.8 1.5 ...\n",
      " $ BWCD       : num  3.75 4.1 3.8 3.1 3.2 3.8 3.2 3.4 3.4 3.9 ...\n",
      " $ BWCA       : num  1.75 1.7 5.5 2.6 4.5 6.5 3.2 2.35 5 7.75 ...\n",
      " $ IWCH       : num  5 4.6 1.67 2.9 1.9 1.55 2.35 3 1.85 1.5 ...\n",
      " $ IWCD       : num  3.8 3.8 3.8 3.1 3.15 4.05 3.25 3.35 3.55 3.9 ...\n",
      " $ IWCA       : num  1.7 1.75 5.3 2.6 4.85 6.3 3.15 2.35 4.4 7.6 ...\n",
      " $ PSCH       : num  5.34 5.1 1.69 2.96 1.9 1.54 2.43 3.13 1.82 1.57 ...\n",
      " $ PSCD       : num  3.62 4.46 3.88 3.26 3.18 4.19 3.27 3.38 3.53 3.78 ...\n",
      " $ PSCA       : num  1.78 1.65 5.47 2.6 5.3 6.87 3.2 2.41 5.07 7.66 ...\n",
      " $ WHCH       : num  5 5 1.65 2.9 2.05 1.62 2.25 3 1.78 1.5 ...\n",
      " $ WHCD       : num  3.8 4.2 3.9 3.1 3.2 3.9 3.3 3.4 3.5 3.8 ...\n",
      " $ WHCA       : num  1.7 1.63 5.25 2.6 4 5.8 3.3 2.35 5 8 ...\n",
      " $ VCCH       : num  4.8 5.2 1.7 3 1.9 1.57 2.45 3.13 1.87 1.55 ...\n",
      " $ VCCD       : num  3.8 4.4 3.9 3.13 3.2 4 3.3 3.4 3.5 3.9 ...\n",
      " $ VCCA       : num  1.8 1.65 5.5 2.63 5.2 7 3.13 2.4 4.6 8 ...\n",
      " $ MaxCH      : num  5.8 6 1.72 3.05 1.95 1.58 2.46 3.38 1.87 1.58 ...\n",
      " $ MaxCD      : num  3.9 4.52 3.95 3.29 3.26 4.2 3.42 3.47 3.65 4.05 ...\n",
      " $ MaxCA      : num  1.81 1.75 6.2 2.72 5.3 7.3 3.58 2.48 5.35 8.9 ...\n",
      " $ AvgCH      : num  5.03 4.93 1.68 2.93 1.9 1.54 2.37 3.05 1.83 1.53 ...\n",
      " $ AvgCD      : num  3.66 4.26 3.82 3.14 3.16 4.05 3.25 3.34 3.5 3.84 ...\n",
      " $ AvgCA      : num  1.76 1.65 5.37 2.59 4.91 6.66 3.18 2.39 4.74 7.68 ...\n",
      " $ B365C.2.5  : num  1.9 1.44 2 2.2 2.75 1.9 2.1 2 2 2.37 ...\n",
      " $ B365C.2.5.1: num  1.9 2.75 1.8 1.66 1.44 1.9 1.72 1.8 1.8 1.57 ...\n",
      " $ PC.2.5     : num  1.98 1.49 2.06 2.2 2.84 1.95 2.18 2.04 2.03 2.43 ...\n",
      " $ PC.2.5.1   : num  1.93 2.76 1.85 1.74 1.47 1.95 1.75 1.85 1.87 1.61 ...\n",
      " $ MaxC.2.5   : num  1.99 1.51 2.08 2.38 2.85 1.98 2.18 2.09 2.07 2.46 ...\n",
      " $ MaxC.2.5.1 : num  2.11 2.88 1.98 1.74 1.5 2.1 1.83 2.05 1.92 1.65 ...\n",
      " $ AvgC.2.5   : num  1.86 1.47 2 2.24 2.69 1.9 2.1 1.97 1.99 2.36 ...\n",
      " $ AvgC.2.5.1 : num  1.97 2.63 1.82 1.66 1.46 1.92 1.74 1.85 1.83 1.59 ...\n",
      " $ AHCh       : num  0.75 1 -0.75 0 -0.5 -1 -0.25 0.25 -0.75 -1 ...\n",
      " $ B365CAHH   : num  1.93 1.82 1.94 2.11 1.89 1.96 2.08 1.86 2.02 2.06 ...\n",
      " $ B365CAHA   : num  2 1.97 1.99 1.82 2.04 1.97 1.85 2.07 1.77 1.87 ...\n",
      "  [list output truncated]\n"
     ]
    }
   ],
   "source": [
    "str(DatosT1920) #Estructura de los datos"
   ]
  },
  {
   "cell_type": "markdown",
   "metadata": {},
   "source": [
    "2. Se extrae las columnas que contienen los números de goles anotados por los equipos que jugaron en casa (FTHG) y los goles anotados por los equipos que jugaron como visitante (FTAG)"
   ]
  },
  {
   "cell_type": "code",
   "execution_count": 5,
   "metadata": {},
   "outputs": [],
   "source": [
    "Goles <- select(DatosT1920, FTHG,FTAG)"
   ]
  },
  {
   "cell_type": "markdown",
   "metadata": {},
   "source": [
    "3. Se elaboran tablas de frecuencias relativas para estimar las siguientes probabilidades marginales del equipo que juega en casa, la probabilidad marguinal para el equipo que juega como visitante y la probabilidad conjunta."
   ]
  },
  {
   "cell_type": "markdown",
   "metadata": {},
   "source": [
    "Dado un conjunto de datos se puede realizar una tabla que contenga las probabilidad de obtener un suceso a y b al mismo tiempo y las probabilidades de obtener un suceso a o b por separado. \n",
    "<img src=\"https://lh3.googleusercontent.com/proxy/YAogRwbYcDKD0RF4Z4nhCx-xahhkt5XiHk6XGzgqTukbOGt2o6WVnE5vdwrr1sS_KgUrRBO7xB1SMf1FgLMY8Ja7rC3gynmb-wydiXy-_z4myZUGt3KI3QuoEnibpIqkyoe0Nc98bhLvUzSO0qhtWDypNedefo--jtKIokAono0QpeU9970QMG-718iAec2gmu4eFRfqn_-gHIRI7UxpdJ-wQuHRVMJ9-AbDHlnVFWKQLBU\">"
   ]
  },
  {
   "cell_type": "code",
   "execution_count": 6,
   "metadata": {},
   "outputs": [
    {
     "name": "stdout",
     "output_type": "stream",
     "text": [
      "[1] \"Probabilidad conjunta\"\n"
     ]
    },
    {
     "data": {
      "text/plain": [
       "         \n",
       "          0 goles  1 gol 2 goles 3 goles 4 goles 5 goles\n",
       "  0 goles  0.0868 0.0737  0.0395  0.0211  0.0053  0.0053\n",
       "  1 gol    0.1132 0.1289  0.0842  0.0132  0.0079  0.0000\n",
       "  2 goles  0.1026 0.0921  0.0526  0.0079  0.0053  0.0000\n",
       "  3 goles  0.0368 0.0368  0.0184  0.0053  0.0026  0.0000\n",
       "  4 goles  0.0105 0.0132  0.0105  0.0000  0.0026  0.0000\n",
       "  5 goles  0.0053 0.0079  0.0079  0.0000  0.0000  0.0000\n",
       "  6 goles  0.0026 0.0000  0.0000  0.0000  0.0000  0.0000"
      ]
     },
     "metadata": {},
     "output_type": "display_data"
    }
   ],
   "source": [
    "ProbConjunta <- prop.table(table(Goles$FTHG, Goles$FTAG ))\n",
    "colnames(ProbConjunta) <- c(\"0 goles\", \"1 gol\", \"2 goles\", \"3 goles\", \"4 goles\", \"5 goles\")\n",
    "rownames(ProbConjunta) <- c(\"0 goles\", \"1 gol\", \"2 goles\", \"3 goles\", \"4 goles\", \"5 goles\", \"6 goles\")\n",
    "\n",
    "print('Probabilidad conjunta')\n",
    "round(ProbConjunta,4)"
   ]
  },
  {
   "cell_type": "code",
   "execution_count": 7,
   "metadata": {},
   "outputs": [
    {
     "data": {
      "text/html": [
       "<table>\n",
       "<thead><tr><th></th><th scope=col>ProbCasa</th><th scope=col>ProbVisitante</th></tr></thead>\n",
       "<tbody>\n",
       "\t<tr><th scope=row>0 goles</th><td>0.231578947</td><td>0.357894737</td></tr>\n",
       "\t<tr><th scope=row>1 gol</th><td>0.347368421</td><td>0.352631579</td></tr>\n",
       "\t<tr><th scope=row>2 goles</th><td>0.260526316</td><td>0.213157895</td></tr>\n",
       "\t<tr><th scope=row>3 goles</th><td>0.100000000</td><td>0.047368421</td></tr>\n",
       "\t<tr><th scope=row>4 goles</th><td>0.036842105</td><td>0.023684211</td></tr>\n",
       "\t<tr><th scope=row>5 goles</th><td>0.021052632</td><td>0.005263158</td></tr>\n",
       "\t<tr><th scope=row>6 goles</th><td>0.002631579</td><td>        NaN</td></tr>\n",
       "</tbody>\n",
       "</table>\n"
      ],
      "text/latex": [
       "\\begin{tabular}{r|ll}\n",
       "  & ProbCasa & ProbVisitante\\\\\n",
       "\\hline\n",
       "\t0 goles & 0.231578947 & 0.357894737\\\\\n",
       "\t1 gol & 0.347368421 & 0.352631579\\\\\n",
       "\t2 goles & 0.260526316 & 0.213157895\\\\\n",
       "\t3 goles & 0.100000000 & 0.047368421\\\\\n",
       "\t4 goles & 0.036842105 & 0.023684211\\\\\n",
       "\t5 goles & 0.021052632 & 0.005263158\\\\\n",
       "\t6 goles & 0.002631579 &         NaN\\\\\n",
       "\\end{tabular}\n"
      ],
      "text/markdown": [
       "\n",
       "| <!--/--> | ProbCasa | ProbVisitante |\n",
       "|---|---|---|\n",
       "| 0 goles | 0.231578947 | 0.357894737 |\n",
       "| 1 gol | 0.347368421 | 0.352631579 |\n",
       "| 2 goles | 0.260526316 | 0.213157895 |\n",
       "| 3 goles | 0.100000000 | 0.047368421 |\n",
       "| 4 goles | 0.036842105 | 0.023684211 |\n",
       "| 5 goles | 0.021052632 | 0.005263158 |\n",
       "| 6 goles | 0.002631579 |         NaN |\n",
       "\n"
      ],
      "text/plain": [
       "        ProbCasa    ProbVisitante\n",
       "0 goles 0.231578947 0.357894737  \n",
       "1 gol   0.347368421 0.352631579  \n",
       "2 goles 0.260526316 0.213157895  \n",
       "3 goles 0.100000000 0.047368421  \n",
       "4 goles 0.036842105 0.023684211  \n",
       "5 goles 0.021052632 0.005263158  \n",
       "6 goles 0.002631579         NaN  "
      ]
     },
     "metadata": {},
     "output_type": "display_data"
    }
   ],
   "source": [
    "ProbCasa<- prop.table(apply(ProbConjunta,MARGIN = 1,sum))\n",
    "ProbVisitante<- prop.table( apply(ProbConjunta,MARGIN = 2,sum))\n",
    "ProbMarginal <- cbind(ProbCasa,c(ProbVisitante, NaN))\n",
    "colnames(ProbMarginal)[2] <- 'ProbVisitante'\n",
    "ProbMarginal"
   ]
  },
  {
   "cell_type": "code",
   "execution_count": 8,
   "metadata": {},
   "outputs": [
    {
     "data": {
      "text/html": [
       "<table>\n",
       "<thead><tr><th></th><th scope=col>0 goles</th><th scope=col>1 gol</th><th scope=col>2 goles</th><th scope=col>3 goles</th><th scope=col>4 goles</th><th scope=col>5 goles</th><th scope=col>ProbCasa</th></tr></thead>\n",
       "<tbody>\n",
       "\t<tr><th scope=row>0 goles</th><td>0.086842105</td><td>0.073684211</td><td>0.039473684</td><td>0.021052632</td><td>0.005263158</td><td>0.005263158</td><td>0.231578947</td></tr>\n",
       "\t<tr><th scope=row>1 gol</th><td>0.113157895</td><td>0.128947368</td><td>0.084210526</td><td>0.013157895</td><td>0.007894737</td><td>0.000000000</td><td>0.347368421</td></tr>\n",
       "\t<tr><th scope=row>2 goles</th><td>0.102631579</td><td>0.092105263</td><td>0.052631579</td><td>0.007894737</td><td>0.005263158</td><td>0.000000000</td><td>0.260526316</td></tr>\n",
       "\t<tr><th scope=row>3 goles</th><td>0.036842105</td><td>0.036842105</td><td>0.018421053</td><td>0.005263158</td><td>0.002631579</td><td>0.000000000</td><td>0.100000000</td></tr>\n",
       "\t<tr><th scope=row>4 goles</th><td>0.010526316</td><td>0.013157895</td><td>0.010526316</td><td>0.000000000</td><td>0.002631579</td><td>0.000000000</td><td>0.036842105</td></tr>\n",
       "\t<tr><th scope=row>5 goles</th><td>0.005263158</td><td>0.007894737</td><td>0.007894737</td><td>0.000000000</td><td>0.000000000</td><td>0.000000000</td><td>0.021052632</td></tr>\n",
       "\t<tr><th scope=row>6 goles</th><td>0.002631579</td><td>0.000000000</td><td>0.000000000</td><td>0.000000000</td><td>0.000000000</td><td>0.000000000</td><td>0.002631579</td></tr>\n",
       "\t<tr><th scope=row>ProbVisitante</th><td>0.357894737</td><td>0.352631579</td><td>0.213157895</td><td>0.047368421</td><td>0.023684211</td><td>0.005263158</td><td>        NaN</td></tr>\n",
       "</tbody>\n",
       "</table>\n"
      ],
      "text/latex": [
       "\\begin{tabular}{r|lllllll}\n",
       "  & 0 goles & 1 gol & 2 goles & 3 goles & 4 goles & 5 goles & ProbCasa\\\\\n",
       "\\hline\n",
       "\t0 goles & 0.086842105 & 0.073684211 & 0.039473684 & 0.021052632 & 0.005263158 & 0.005263158 & 0.231578947\\\\\n",
       "\t1 gol & 0.113157895 & 0.128947368 & 0.084210526 & 0.013157895 & 0.007894737 & 0.000000000 & 0.347368421\\\\\n",
       "\t2 goles & 0.102631579 & 0.092105263 & 0.052631579 & 0.007894737 & 0.005263158 & 0.000000000 & 0.260526316\\\\\n",
       "\t3 goles & 0.036842105 & 0.036842105 & 0.018421053 & 0.005263158 & 0.002631579 & 0.000000000 & 0.100000000\\\\\n",
       "\t4 goles & 0.010526316 & 0.013157895 & 0.010526316 & 0.000000000 & 0.002631579 & 0.000000000 & 0.036842105\\\\\n",
       "\t5 goles & 0.005263158 & 0.007894737 & 0.007894737 & 0.000000000 & 0.000000000 & 0.000000000 & 0.021052632\\\\\n",
       "\t6 goles & 0.002631579 & 0.000000000 & 0.000000000 & 0.000000000 & 0.000000000 & 0.000000000 & 0.002631579\\\\\n",
       "\tProbVisitante & 0.357894737 & 0.352631579 & 0.213157895 & 0.047368421 & 0.023684211 & 0.005263158 &         NaN\\\\\n",
       "\\end{tabular}\n"
      ],
      "text/markdown": [
       "\n",
       "| <!--/--> | 0 goles | 1 gol | 2 goles | 3 goles | 4 goles | 5 goles | ProbCasa |\n",
       "|---|---|---|---|---|---|---|---|\n",
       "| 0 goles | 0.086842105 | 0.073684211 | 0.039473684 | 0.021052632 | 0.005263158 | 0.005263158 | 0.231578947 |\n",
       "| 1 gol | 0.113157895 | 0.128947368 | 0.084210526 | 0.013157895 | 0.007894737 | 0.000000000 | 0.347368421 |\n",
       "| 2 goles | 0.102631579 | 0.092105263 | 0.052631579 | 0.007894737 | 0.005263158 | 0.000000000 | 0.260526316 |\n",
       "| 3 goles | 0.036842105 | 0.036842105 | 0.018421053 | 0.005263158 | 0.002631579 | 0.000000000 | 0.100000000 |\n",
       "| 4 goles | 0.010526316 | 0.013157895 | 0.010526316 | 0.000000000 | 0.002631579 | 0.000000000 | 0.036842105 |\n",
       "| 5 goles | 0.005263158 | 0.007894737 | 0.007894737 | 0.000000000 | 0.000000000 | 0.000000000 | 0.021052632 |\n",
       "| 6 goles | 0.002631579 | 0.000000000 | 0.000000000 | 0.000000000 | 0.000000000 | 0.000000000 | 0.002631579 |\n",
       "| ProbVisitante | 0.357894737 | 0.352631579 | 0.213157895 | 0.047368421 | 0.023684211 | 0.005263158 |         NaN |\n",
       "\n"
      ],
      "text/plain": [
       "              0 goles     1 gol       2 goles     3 goles     4 goles    \n",
       "0 goles       0.086842105 0.073684211 0.039473684 0.021052632 0.005263158\n",
       "1 gol         0.113157895 0.128947368 0.084210526 0.013157895 0.007894737\n",
       "2 goles       0.102631579 0.092105263 0.052631579 0.007894737 0.005263158\n",
       "3 goles       0.036842105 0.036842105 0.018421053 0.005263158 0.002631579\n",
       "4 goles       0.010526316 0.013157895 0.010526316 0.000000000 0.002631579\n",
       "5 goles       0.005263158 0.007894737 0.007894737 0.000000000 0.000000000\n",
       "6 goles       0.002631579 0.000000000 0.000000000 0.000000000 0.000000000\n",
       "ProbVisitante 0.357894737 0.352631579 0.213157895 0.047368421 0.023684211\n",
       "              5 goles     ProbCasa   \n",
       "0 goles       0.005263158 0.231578947\n",
       "1 gol         0.000000000 0.347368421\n",
       "2 goles       0.000000000 0.260526316\n",
       "3 goles       0.000000000 0.100000000\n",
       "4 goles       0.000000000 0.036842105\n",
       "5 goles       0.000000000 0.021052632\n",
       "6 goles       0.000000000 0.002631579\n",
       "ProbVisitante 0.005263158         NaN"
      ]
     },
     "metadata": {},
     "output_type": "display_data"
    }
   ],
   "source": [
    "Probabilidad<-rbind(cbind(ProbConjunta,ProbCasa),c(ProbVisitante,NaN))\n",
    "rownames(Probabilidad)[8] <- 'ProbVisitante'\n",
    "Probabilidad"
   ]
  },
  {
   "cell_type": "code",
   "execution_count": 9,
   "metadata": {},
   "outputs": [
    {
     "data": {
      "image/png": "[encoded data removed]",
      "text/plain": [
       "Plot with title \"Goles de los visitante\""
      ]
     },
     "metadata": {},
     "output_type": "display_data"
    }
   ],
   "source": [
    "#Graficas de las probabilidades marginales\n",
    "layout(matrix(c(1:2), nrow=2, byrow=FALSE))\n",
    "barplot(ProbCasa, main = \"Goles de casa\",xlab=\"Goles\",ylab=\"Frecuencia relativa\",\n",
    "        col = \"steelblue\")\n",
    "\n",
    "barplot(ProbVisitante, main = \"Goles de los visitante\",xlab=\"Goles\",ylab=\"Frecuencia relativa\",\n",
    "        col = \"steelblue\")\n"
   ]
  },
  {
   "cell_type": "markdown",
   "metadata": {},
   "source": [
    "### Postwork 2"
   ]
  },
  {
   "cell_type": "markdown",
   "metadata": {},
   "source": [
    "1. Se importa los datos de soccer de las temporadas 2017/2018, 2018/2019 y 2019/2020 de la primera división de la liga española, los datos los puedes encontrar en el siguiente enlace: https://www.football-data.co.uk/spainm.php"
   ]
  },
  {
   "cell_type": "code",
   "execution_count": 10,
   "metadata": {},
   "outputs": [],
   "source": [
    "LinkT1718 <- \"https://www.football-data.co.uk/mmz4281/1718/SP1.csv\"\n",
    "LinkT1819 <- \"https://www.football-data.co.uk/mmz4281/1819/SP1.csv\"\n",
    "LinkT1920 <- \"https://www.football-data.co.uk/mmz4281/1920/SP1.csv\""
   ]
  },
  {
   "cell_type": "code",
   "execution_count": 11,
   "metadata": {},
   "outputs": [],
   "source": [
    "download.file(url = LinkT1920, destfile = \"SP1.1920.csv\", mode = \"wb\")\n",
    "download.file(url = LinkT1819, destfile = \"SP1.1819.csv\", mode = \"wb\")\n",
    "download.file(url = LinkT1718, destfile = \"SP1.1718.csv\", mode = \"wb\")"
   ]
  },
  {
   "cell_type": "code",
   "execution_count": 12,
   "metadata": {},
   "outputs": [],
   "source": [
    "LigaEspanola <- lapply(dir()[6:8] , read.csv) \n",
    "#Si tienes más archivos en tu carpeta, tienes que colorar indices en el dir()[a:b]"
   ]
  },
  {
   "cell_type": "markdown",
   "metadata": {},
   "source": [
    "2. Las estructuras de de los datas frames al usar las funciones"
   ]
  },
  {
   "cell_type": "code",
   "execution_count": 118,
   "metadata": {},
   "outputs": [
    {
     "data": {
      "text/plain": [
       "[[1]]\n",
       "       Date           HomeTeam         AwayTeam        FTHG      \n",
       " 12/05/18:  8   Alaves    : 19   Alaves    : 19   Min.   :0.000  \n",
       " 19/05/18:  6   Ath Bilbao: 19   Ath Bilbao: 19   1st Qu.:0.750  \n",
       " 01/04/18:  5   Ath Madrid: 19   Ath Madrid: 19   Median :1.000  \n",
       " 01/10/17:  5   Barcelona : 19   Barcelona : 19   Mean   :1.547  \n",
       " 03/03/18:  5   Betis     : 19   Betis     : 19   3rd Qu.:2.000  \n",
       " 05/11/17:  5   Celta     : 19   Celta     : 19   Max.   :7.000  \n",
       " (Other) :346   (Other)   :266   (Other)   :266                  \n",
       "      FTAG       FTR    \n",
       " Min.   :0.000   A:115  \n",
       " 1st Qu.:0.000   D: 86  \n",
       " Median :1.000   H:179  \n",
       " Mean   :1.147          \n",
       " 3rd Qu.:2.000          \n",
       " Max.   :6.000          \n",
       "                        \n",
       "\n",
       "[[2]]\n",
       "         Date           HomeTeam         AwayTeam        FTHG      \n",
       " 12/05/2019: 10   Alaves    : 19   Alaves    : 19   Min.   :0.000  \n",
       " 18/05/2019:  8   Ath Bilbao: 19   Ath Bilbao: 19   1st Qu.:1.000  \n",
       " 07/04/2019:  6   Ath Madrid: 19   Ath Madrid: 19   Median :1.000  \n",
       " 04/11/2018:  5   Barcelona : 19   Barcelona : 19   Mean   :1.453  \n",
       " 05/05/2019:  5   Betis     : 19   Betis     : 19   3rd Qu.:2.000  \n",
       " 07/10/2018:  5   Celta     : 19   Celta     : 19   Max.   :8.000  \n",
       " (Other)   :341   (Other)   :266   (Other)   :266                  \n",
       "      FTAG       FTR    \n",
       " Min.   :0.000   A:102  \n",
       " 1st Qu.:0.000   D:110  \n",
       " Median :1.000   H:168  \n",
       " Mean   :1.134          \n",
       " 3rd Qu.:2.000          \n",
       " Max.   :6.000          \n",
       "                        \n",
       "\n",
       "[[3]]\n",
       "         Date           HomeTeam         AwayTeam        FTHG      \n",
       " 16/07/2020: 10   Alaves    : 19   Alaves    : 19   Min.   :0.000  \n",
       " 19/07/2020: 10   Ath Bilbao: 19   Ath Bilbao: 19   1st Qu.:1.000  \n",
       " 02/02/2020:  6   Ath Madrid: 19   Ath Madrid: 19   Median :1.000  \n",
       " 03/11/2019:  6   Barcelona : 19   Barcelona : 19   Mean   :1.437  \n",
       " 01/03/2020:  5   Betis     : 19   Betis     : 19   3rd Qu.:2.000  \n",
       " 01/12/2019:  5   Celta     : 19   Celta     : 19   Max.   :6.000  \n",
       " (Other)   :338   (Other)   :266   (Other)   :266                  \n",
       "      FTAG       FTR    \n",
       " Min.   :0.000   A:101  \n",
       " 1st Qu.:0.000   D:105  \n",
       " Median :1.000   H:174  \n",
       " Mean   :1.042          \n",
       " 3rd Qu.:2.000          \n",
       " Max.   :5.000          \n",
       "                        \n"
      ]
     },
     "metadata": {},
     "output_type": "display_data"
    },
    {
     "name": "stdout",
     "output_type": "stream",
     "text": [
      "'data.frame':\t380 obs. of  6 variables:\n",
      " $ Date    : Factor w/ 137 levels \"01/03/18\",\"01/04/18\",..: 75 75 83 83 83 90 90 90 97 97 ...\n",
      " $ HomeTeam: Factor w/ 20 levels \"Alaves\",\"Ath Bilbao\",..: 13 19 6 10 17 2 4 11 14 15 ...\n",
      " $ AwayTeam: Factor w/ 20 levels \"Alaves\",\"Ath Bilbao\",..: 1 12 18 3 8 9 5 16 20 7 ...\n",
      " $ FTHG    : int  1 1 2 2 1 0 2 0 1 0 ...\n",
      " $ FTAG    : int  0 0 3 2 1 0 0 3 0 1 ...\n",
      " $ FTR     : Factor w/ 3 levels \"A\",\"D\",\"H\": 3 3 1 2 2 2 3 1 3 1 ...\n",
      "'data.frame':\t380 obs. of  6 variables:\n",
      " $ Date    : Factor w/ 129 levels \"01/02/2019\",\"01/03/2019\",..: 68 68 74 74 74 78 78 78 82 82 ...\n",
      " $ HomeTeam: Factor w/ 20 levels \"Alaves\",\"Ath Bilbao\",..: 5 10 4 6 20 7 14 19 2 17 ...\n",
      " $ AwayTeam: Factor w/ 20 levels \"Alaves\",\"Ath Bilbao\",..: 13 18 1 8 16 11 9 15 12 3 ...\n",
      " $ FTHG    : int  0 0 3 1 1 1 2 1 2 1 ...\n",
      " $ FTAG    : int  3 0 0 1 2 2 0 4 1 1 ...\n",
      " $ FTR     : Factor w/ 3 levels \"A\",\"D\",\"H\": 1 2 3 2 1 1 3 1 3 2 ...\n",
      "'data.frame':\t380 obs. of  6 variables:\n",
      " $ Date    : Factor w/ 116 levels \"01/02/2020\",\"01/03/2020\",..: 56 59 59 59 59 59 62 62 62 62 ...\n",
      " $ HomeTeam: Factor w/ 20 levels \"Alaves\",\"Ath Bilbao\",..: 2 6 18 13 11 20 1 8 5 3 ...\n",
      " $ AwayTeam: Factor w/ 20 levels \"Alaves\",\"Ath Bilbao\",..: 4 15 17 7 14 10 12 16 19 9 ...\n",
      " $ FTHG    : int  1 1 1 2 0 4 1 0 1 1 ...\n",
      " $ FTAG    : int  0 3 1 1 1 4 0 2 2 0 ...\n",
      " $ FTR     : Factor w/ 3 levels \"A\",\"D\",\"H\": 3 1 2 3 1 2 3 1 1 3 ...\n"
     ]
    },
    {
     "data": {
      "text/html": [
       "<ol>\n",
       "\t<li>NULL</li>\n",
       "\t<li>NULL</li>\n",
       "\t<li>NULL</li>\n",
       "</ol>\n"
      ],
      "text/latex": [
       "\\begin{enumerate}\n",
       "\\item NULL\n",
       "\\item NULL\n",
       "\\item NULL\n",
       "\\end{enumerate}\n"
      ],
      "text/markdown": [
       "1. NULL\n",
       "2. NULL\n",
       "3. NULL\n",
       "\n",
       "\n"
      ],
      "text/plain": [
       "[[1]]\n",
       "NULL\n",
       "\n",
       "[[2]]\n",
       "NULL\n",
       "\n",
       "[[3]]\n",
       "NULL\n"
      ]
     },
     "metadata": {},
     "output_type": "display_data"
    },
    {
     "data": {
      "text/html": [
       "<ol>\n",
       "\t<li><table>\n",
       "<thead><tr><th scope=col>Date</th><th scope=col>HomeTeam</th><th scope=col>AwayTeam</th><th scope=col>FTHG</th><th scope=col>FTAG</th><th scope=col>FTR</th></tr></thead>\n",
       "<tbody>\n",
       "\t<tr><td>18/08/17  </td><td>Leganes   </td><td>Alaves    </td><td>1         </td><td>0         </td><td>H         </td></tr>\n",
       "\t<tr><td>18/08/17  </td><td>Valencia  </td><td>Las Palmas</td><td>1         </td><td>0         </td><td>H         </td></tr>\n",
       "\t<tr><td>19/08/17  </td><td>Celta     </td><td>Sociedad  </td><td>2         </td><td>3         </td><td>A         </td></tr>\n",
       "\t<tr><td>19/08/17  </td><td>Girona    </td><td>Ath Madrid</td><td>2         </td><td>2         </td><td>D         </td></tr>\n",
       "\t<tr><td>19/08/17  </td><td>Sevilla   </td><td>Espanol   </td><td>1         </td><td>1         </td><td>D         </td></tr>\n",
       "\t<tr><td>20/08/17  </td><td>Ath Bilbao</td><td>Getafe    </td><td>0         </td><td>0         </td><td>D         </td></tr>\n",
       "</tbody>\n",
       "</table>\n",
       "</li>\n",
       "\t<li><table>\n",
       "<thead><tr><th scope=col>Date</th><th scope=col>HomeTeam</th><th scope=col>AwayTeam</th><th scope=col>FTHG</th><th scope=col>FTAG</th><th scope=col>FTR</th></tr></thead>\n",
       "<tbody>\n",
       "\t<tr><td>17/08/2018</td><td>Betis     </td><td>Levante   </td><td>0         </td><td>3         </td><td>A         </td></tr>\n",
       "\t<tr><td>17/08/2018</td><td>Girona    </td><td>Valladolid</td><td>0         </td><td>0         </td><td>D         </td></tr>\n",
       "\t<tr><td>18/08/2018</td><td>Barcelona </td><td>Alaves    </td><td>3         </td><td>0         </td><td>H         </td></tr>\n",
       "\t<tr><td>18/08/2018</td><td>Celta     </td><td>Espanol   </td><td>1         </td><td>1         </td><td>D         </td></tr>\n",
       "\t<tr><td>18/08/2018</td><td>Villarreal</td><td>Sociedad  </td><td>1         </td><td>2         </td><td>A         </td></tr>\n",
       "\t<tr><td>19/08/2018</td><td>Eibar     </td><td>Huesca    </td><td>1         </td><td>2         </td><td>A         </td></tr>\n",
       "</tbody>\n",
       "</table>\n",
       "</li>\n",
       "\t<li><table>\n",
       "<thead><tr><th scope=col>Date</th><th scope=col>HomeTeam</th><th scope=col>AwayTeam</th><th scope=col>FTHG</th><th scope=col>FTAG</th><th scope=col>FTR</th></tr></thead>\n",
       "<tbody>\n",
       "\t<tr><td>16/08/2019 </td><td>Ath Bilbao </td><td>Barcelona  </td><td>1          </td><td>0          </td><td>H          </td></tr>\n",
       "\t<tr><td>17/08/2019 </td><td>Celta      </td><td>Real Madrid</td><td>1          </td><td>3          </td><td>A          </td></tr>\n",
       "\t<tr><td>17/08/2019 </td><td>Valencia   </td><td>Sociedad   </td><td>1          </td><td>1          </td><td>D          </td></tr>\n",
       "\t<tr><td>17/08/2019 </td><td>Mallorca   </td><td>Eibar      </td><td>2          </td><td>1          </td><td>H          </td></tr>\n",
       "\t<tr><td>17/08/2019 </td><td>Leganes    </td><td>Osasuna    </td><td>0          </td><td>1          </td><td>A          </td></tr>\n",
       "\t<tr><td>17/08/2019 </td><td>Villarreal </td><td>Granada    </td><td>4          </td><td>4          </td><td>D          </td></tr>\n",
       "</tbody>\n",
       "</table>\n",
       "</li>\n",
       "</ol>\n"
      ],
      "text/latex": [
       "\\begin{enumerate}\n",
       "\\item \\begin{tabular}{r|llllll}\n",
       " Date & HomeTeam & AwayTeam & FTHG & FTAG & FTR\\\\\n",
       "\\hline\n",
       "\t 18/08/17   & Leganes    & Alaves     & 1          & 0          & H         \\\\\n",
       "\t 18/08/17   & Valencia   & Las Palmas & 1          & 0          & H         \\\\\n",
       "\t 19/08/17   & Celta      & Sociedad   & 2          & 3          & A         \\\\\n",
       "\t 19/08/17   & Girona     & Ath Madrid & 2          & 2          & D         \\\\\n",
       "\t 19/08/17   & Sevilla    & Espanol    & 1          & 1          & D         \\\\\n",
       "\t 20/08/17   & Ath Bilbao & Getafe     & 0          & 0          & D         \\\\\n",
       "\\end{tabular}\n",
       "\n",
       "\\item \\begin{tabular}{r|llllll}\n",
       " Date & HomeTeam & AwayTeam & FTHG & FTAG & FTR\\\\\n",
       "\\hline\n",
       "\t 17/08/2018 & Betis      & Levante    & 0          & 3          & A         \\\\\n",
       "\t 17/08/2018 & Girona     & Valladolid & 0          & 0          & D         \\\\\n",
       "\t 18/08/2018 & Barcelona  & Alaves     & 3          & 0          & H         \\\\\n",
       "\t 18/08/2018 & Celta      & Espanol    & 1          & 1          & D         \\\\\n",
       "\t 18/08/2018 & Villarreal & Sociedad   & 1          & 2          & A         \\\\\n",
       "\t 19/08/2018 & Eibar      & Huesca     & 1          & 2          & A         \\\\\n",
       "\\end{tabular}\n",
       "\n",
       "\\item \\begin{tabular}{r|llllll}\n",
       " Date & HomeTeam & AwayTeam & FTHG & FTAG & FTR\\\\\n",
       "\\hline\n",
       "\t 16/08/2019  & Ath Bilbao  & Barcelona   & 1           & 0           & H          \\\\\n",
       "\t 17/08/2019  & Celta       & Real Madrid & 1           & 3           & A          \\\\\n",
       "\t 17/08/2019  & Valencia    & Sociedad    & 1           & 1           & D          \\\\\n",
       "\t 17/08/2019  & Mallorca    & Eibar       & 2           & 1           & H          \\\\\n",
       "\t 17/08/2019  & Leganes     & Osasuna     & 0           & 1           & A          \\\\\n",
       "\t 17/08/2019  & Villarreal  & Granada     & 4           & 4           & D          \\\\\n",
       "\\end{tabular}\n",
       "\n",
       "\\end{enumerate}\n"
      ],
      "text/markdown": [
       "1. \n",
       "| Date | HomeTeam | AwayTeam | FTHG | FTAG | FTR |\n",
       "|---|---|---|---|---|---|\n",
       "| 18/08/17   | Leganes    | Alaves     | 1          | 0          | H          |\n",
       "| 18/08/17   | Valencia   | Las Palmas | 1          | 0          | H          |\n",
       "| 19/08/17   | Celta      | Sociedad   | 2          | 3          | A          |\n",
       "| 19/08/17   | Girona     | Ath Madrid | 2          | 2          | D          |\n",
       "| 19/08/17   | Sevilla    | Espanol    | 1          | 1          | D          |\n",
       "| 20/08/17   | Ath Bilbao | Getafe     | 0          | 0          | D          |\n",
       "\n",
       "\n",
       "2. \n",
       "| Date | HomeTeam | AwayTeam | FTHG | FTAG | FTR |\n",
       "|---|---|---|---|---|---|\n",
       "| 17/08/2018 | Betis      | Levante    | 0          | 3          | A          |\n",
       "| 17/08/2018 | Girona     | Valladolid | 0          | 0          | D          |\n",
       "| 18/08/2018 | Barcelona  | Alaves     | 3          | 0          | H          |\n",
       "| 18/08/2018 | Celta      | Espanol    | 1          | 1          | D          |\n",
       "| 18/08/2018 | Villarreal | Sociedad   | 1          | 2          | A          |\n",
       "| 19/08/2018 | Eibar      | Huesca     | 1          | 2          | A          |\n",
       "\n",
       "\n",
       "3. \n",
       "| Date | HomeTeam | AwayTeam | FTHG | FTAG | FTR |\n",
       "|---|---|---|---|---|---|\n",
       "| 16/08/2019  | Ath Bilbao  | Barcelona   | 1           | 0           | H           |\n",
       "| 17/08/2019  | Celta       | Real Madrid | 1           | 3           | A           |\n",
       "| 17/08/2019  | Valencia    | Sociedad    | 1           | 1           | D           |\n",
       "| 17/08/2019  | Mallorca    | Eibar       | 2           | 1           | H           |\n",
       "| 17/08/2019  | Leganes     | Osasuna     | 0           | 1           | A           |\n",
       "| 17/08/2019  | Villarreal  | Granada     | 4           | 4           | D           |\n",
       "\n",
       "\n",
       "\n",
       "\n"
      ],
      "text/plain": [
       "[[1]]\n",
       "      Date   HomeTeam   AwayTeam FTHG FTAG FTR\n",
       "1 18/08/17    Leganes     Alaves    1    0   H\n",
       "2 18/08/17   Valencia Las Palmas    1    0   H\n",
       "3 19/08/17      Celta   Sociedad    2    3   A\n",
       "4 19/08/17     Girona Ath Madrid    2    2   D\n",
       "5 19/08/17    Sevilla    Espanol    1    1   D\n",
       "6 20/08/17 Ath Bilbao     Getafe    0    0   D\n",
       "\n",
       "[[2]]\n",
       "        Date   HomeTeam   AwayTeam FTHG FTAG FTR\n",
       "1 17/08/2018      Betis    Levante    0    3   A\n",
       "2 17/08/2018     Girona Valladolid    0    0   D\n",
       "3 18/08/2018  Barcelona     Alaves    3    0   H\n",
       "4 18/08/2018      Celta    Espanol    1    1   D\n",
       "5 18/08/2018 Villarreal   Sociedad    1    2   A\n",
       "6 19/08/2018      Eibar     Huesca    1    2   A\n",
       "\n",
       "[[3]]\n",
       "        Date   HomeTeam    AwayTeam FTHG FTAG FTR\n",
       "1 16/08/2019 Ath Bilbao   Barcelona    1    0   H\n",
       "2 17/08/2019      Celta Real Madrid    1    3   A\n",
       "3 17/08/2019   Valencia    Sociedad    1    1   D\n",
       "4 17/08/2019   Mallorca       Eibar    2    1   H\n",
       "5 17/08/2019    Leganes     Osasuna    0    1   A\n",
       "6 17/08/2019 Villarreal     Granada    4    4   D\n"
      ]
     },
     "metadata": {},
     "output_type": "display_data"
    }
   ],
   "source": [
    "#lapply(LigaEspanola , View )\n",
    "lapply(LigaEspanola , summary) \n",
    "lapply(LigaEspanola , str) \n",
    "lapply(LigaEspanola , head) \n",
    " \n"
   ]
  },
  {
   "cell_type": "markdown",
   "metadata": {},
   "source": [
    "3. Selección de   las columnas Date, HomeTeam, AwayTeam, FTHG, FTAG y FTR; esto para cada uno de los data."
   ]
  },
  {
   "cell_type": "code",
   "execution_count": 14,
   "metadata": {},
   "outputs": [],
   "source": [
    "LigaEspanola <- lapply(LigaEspanola, select, Date, HomeTeam:FTR)"
   ]
  },
  {
   "cell_type": "markdown",
   "metadata": {},
   "source": [
    "4. Asegúrate de que los elementos de las columnas correspondientes de los nuevos data frames sean del mismo tipo."
   ]
  },
  {
   "cell_type": "code",
   "execution_count": 15,
   "metadata": {
    "scrolled": true
   },
   "outputs": [
    {
     "name": "stdout",
     "output_type": "stream",
     "text": [
      "'data.frame':\t1140 obs. of  6 variables:\n",
      " $ Date    : Date, format: \"0017-08-18\" \"0017-08-18\" ...\n",
      " $ HomeTeam: Factor w/ 26 levels \"Alaves\",\"Ath Bilbao\",..: 13 19 6 10 17 2 4 11 14 15 ...\n",
      " $ AwayTeam: Factor w/ 26 levels \"Alaves\",\"Ath Bilbao\",..: 1 12 18 3 8 9 5 16 20 7 ...\n",
      " $ FTHG    : int  1 1 2 2 1 0 2 0 1 0 ...\n",
      " $ FTAG    : int  0 0 3 2 1 0 0 3 0 1 ...\n",
      " $ FTR     : Factor w/ 3 levels \"A\",\"D\",\"H\": 3 3 1 2 2 2 3 1 3 1 ...\n"
     ]
    },
    {
     "data": {
      "text/html": [
       "<table>\n",
       "<thead><tr><th scope=col>Date</th><th scope=col>HomeTeam</th><th scope=col>AwayTeam</th><th scope=col>FTHG</th><th scope=col>FTAG</th><th scope=col>FTR</th></tr></thead>\n",
       "<tbody>\n",
       "\t<tr><td>0017-08-18</td><td>Leganes   </td><td>Alaves    </td><td>1         </td><td>0         </td><td>H         </td></tr>\n",
       "\t<tr><td>0017-08-18</td><td>Valencia  </td><td>Las Palmas</td><td>1         </td><td>0         </td><td>H         </td></tr>\n",
       "\t<tr><td>0017-08-19</td><td>Celta     </td><td>Sociedad  </td><td>2         </td><td>3         </td><td>A         </td></tr>\n",
       "\t<tr><td>0017-08-19</td><td>Girona    </td><td>Ath Madrid</td><td>2         </td><td>2         </td><td>D         </td></tr>\n",
       "\t<tr><td>0017-08-19</td><td>Sevilla   </td><td>Espanol   </td><td>1         </td><td>1         </td><td>D         </td></tr>\n",
       "\t<tr><td>0017-08-20</td><td>Ath Bilbao</td><td>Getafe    </td><td>0         </td><td>0         </td><td>D         </td></tr>\n",
       "</tbody>\n",
       "</table>\n"
      ],
      "text/latex": [
       "\\begin{tabular}{r|llllll}\n",
       " Date & HomeTeam & AwayTeam & FTHG & FTAG & FTR\\\\\n",
       "\\hline\n",
       "\t 0017-08-18 & Leganes    & Alaves     & 1          & 0          & H         \\\\\n",
       "\t 0017-08-18 & Valencia   & Las Palmas & 1          & 0          & H         \\\\\n",
       "\t 0017-08-19 & Celta      & Sociedad   & 2          & 3          & A         \\\\\n",
       "\t 0017-08-19 & Girona     & Ath Madrid & 2          & 2          & D         \\\\\n",
       "\t 0017-08-19 & Sevilla    & Espanol    & 1          & 1          & D         \\\\\n",
       "\t 0017-08-20 & Ath Bilbao & Getafe     & 0          & 0          & D         \\\\\n",
       "\\end{tabular}\n"
      ],
      "text/markdown": [
       "\n",
       "| Date | HomeTeam | AwayTeam | FTHG | FTAG | FTR |\n",
       "|---|---|---|---|---|---|\n",
       "| 0017-08-18 | Leganes    | Alaves     | 1          | 0          | H          |\n",
       "| 0017-08-18 | Valencia   | Las Palmas | 1          | 0          | H          |\n",
       "| 0017-08-19 | Celta      | Sociedad   | 2          | 3          | A          |\n",
       "| 0017-08-19 | Girona     | Ath Madrid | 2          | 2          | D          |\n",
       "| 0017-08-19 | Sevilla    | Espanol    | 1          | 1          | D          |\n",
       "| 0017-08-20 | Ath Bilbao | Getafe     | 0          | 0          | D          |\n",
       "\n"
      ],
      "text/plain": [
       "  Date       HomeTeam   AwayTeam   FTHG FTAG FTR\n",
       "1 0017-08-18 Leganes    Alaves     1    0    H  \n",
       "2 0017-08-18 Valencia   Las Palmas 1    0    H  \n",
       "3 0017-08-19 Celta      Sociedad   2    3    A  \n",
       "4 0017-08-19 Girona     Ath Madrid 2    2    D  \n",
       "5 0017-08-19 Sevilla    Espanol    1    1    D  \n",
       "6 0017-08-20 Ath Bilbao Getafe     0    0    D  "
      ]
     },
     "metadata": {},
     "output_type": "display_data"
    }
   ],
   "source": [
    "DatosLE <- do.call(rbind, LigaEspanola)\n",
    "DatosLE <- mutate(DatosLE, Date = as.Date(Date, \"%d/%m/%Y\"))\n",
    "str(DatosLE)\n",
    "head(DatosLE)"
   ]
  },
  {
   "cell_type": "markdown",
   "metadata": {},
   "source": [
    "## Postwork 3"
   ]
  },
  {
   "cell_type": "markdown",
   "metadata": {},
   "source": [
    "1. Con el último data frame obtenido en el postwork de la sesión 2, elabora tablas de frecuencias relativas para estimar las siguientes probabilidades: Probabilidad marginal equipo de casa, probabilidad marginal de equipo visitante, probabilida conjunta."
   ]
  },
  {
   "cell_type": "code",
   "execution_count": 16,
   "metadata": {},
   "outputs": [
    {
     "name": "stdout",
     "output_type": "stream",
     "text": [
      "[1] \"Probabilidad conjunta\"\n"
     ]
    },
    {
     "data": {
      "text/plain": [
       "         \n",
       "          0 goles   1 gol 2 goles 3 goles 4 goles 5 goles 6 goles\n",
       "  0 goles 0.07807 0.08070 0.04561 0.01842 0.00526 0.00439 0.00000\n",
       "  1 gol   0.11579 0.11491 0.06842 0.01754 0.00877 0.00175 0.00000\n",
       "  2 goles 0.08772 0.09386 0.06140 0.01140 0.00877 0.00175 0.00175\n",
       "  3 goles 0.04474 0.03246 0.02456 0.00614 0.00175 0.00175 0.00088\n",
       "  4 goles 0.01404 0.01053 0.00702 0.00000 0.00351 0.00000 0.00000\n",
       "  5 goles 0.00877 0.00526 0.00439 0.00000 0.00088 0.00000 0.00000\n",
       "  6 goles 0.00263 0.00175 0.00000 0.00088 0.00000 0.00000 0.00000\n",
       "  7 goles 0.00000 0.00088 0.00000 0.00000 0.00000 0.00000 0.00000\n",
       "  8 goles 0.00000 0.00000 0.00088 0.00000 0.00000 0.00000 0.00000"
      ]
     },
     "metadata": {},
     "output_type": "display_data"
    }
   ],
   "source": [
    "ProbConjuntaLE <- prop.table(table(DatosLE$FTHG,DatosLE$FTAG))\n",
    "colnames(ProbConjuntaLE) <- c(\"0 goles\", \"1 gol\", \"2 goles\", \"3 goles\", \"4 goles\", \"5 goles\", \"6 goles\")\n",
    "rownames(ProbConjuntaLE) <- c(\"0 goles\", \"1 gol\", \"2 goles\", \"3 goles\", \"4 goles\", \"5 goles\", \"6 goles\",\"7 goles\",\"8 goles\")\n",
    "\n",
    "print('Probabilidad conjunta')\n",
    "round(ProbConjuntaLE,5)"
   ]
  },
  {
   "cell_type": "code",
   "execution_count": 17,
   "metadata": {},
   "outputs": [
    {
     "data": {
      "text/html": [
       "<table>\n",
       "<thead><tr><th></th><th scope=col>ProbCasaLE</th><th scope=col>ProbVisitanteLE</th></tr></thead>\n",
       "<tbody>\n",
       "\t<tr><th scope=row>0 goles</th><td>0.232456140</td><td>0.351754386</td></tr>\n",
       "\t<tr><th scope=row>1 gol</th><td>0.327192982</td><td>0.340350877</td></tr>\n",
       "\t<tr><th scope=row>2 goles</th><td>0.266666667</td><td>0.212280702</td></tr>\n",
       "\t<tr><th scope=row>3 goles</th><td>0.112280702</td><td>0.054385965</td></tr>\n",
       "\t<tr><th scope=row>4 goles</th><td>0.035087719</td><td>0.028947368</td></tr>\n",
       "\t<tr><th scope=row>5 goles</th><td>0.019298246</td><td>0.009649123</td></tr>\n",
       "\t<tr><th scope=row>6 goles</th><td>0.005263158</td><td>0.002631579</td></tr>\n",
       "\t<tr><th scope=row>7 goles</th><td>0.000877193</td><td>        NaN</td></tr>\n",
       "\t<tr><th scope=row>8 goles</th><td>0.000877193</td><td>        NaN</td></tr>\n",
       "</tbody>\n",
       "</table>\n"
      ],
      "text/latex": [
       "\\begin{tabular}{r|ll}\n",
       "  & ProbCasaLE & ProbVisitanteLE\\\\\n",
       "\\hline\n",
       "\t0 goles & 0.232456140 & 0.351754386\\\\\n",
       "\t1 gol & 0.327192982 & 0.340350877\\\\\n",
       "\t2 goles & 0.266666667 & 0.212280702\\\\\n",
       "\t3 goles & 0.112280702 & 0.054385965\\\\\n",
       "\t4 goles & 0.035087719 & 0.028947368\\\\\n",
       "\t5 goles & 0.019298246 & 0.009649123\\\\\n",
       "\t6 goles & 0.005263158 & 0.002631579\\\\\n",
       "\t7 goles & 0.000877193 &         NaN\\\\\n",
       "\t8 goles & 0.000877193 &         NaN\\\\\n",
       "\\end{tabular}\n"
      ],
      "text/markdown": [
       "\n",
       "| <!--/--> | ProbCasaLE | ProbVisitanteLE |\n",
       "|---|---|---|\n",
       "| 0 goles | 0.232456140 | 0.351754386 |\n",
       "| 1 gol | 0.327192982 | 0.340350877 |\n",
       "| 2 goles | 0.266666667 | 0.212280702 |\n",
       "| 3 goles | 0.112280702 | 0.054385965 |\n",
       "| 4 goles | 0.035087719 | 0.028947368 |\n",
       "| 5 goles | 0.019298246 | 0.009649123 |\n",
       "| 6 goles | 0.005263158 | 0.002631579 |\n",
       "| 7 goles | 0.000877193 |         NaN |\n",
       "| 8 goles | 0.000877193 |         NaN |\n",
       "\n"
      ],
      "text/plain": [
       "        ProbCasaLE  ProbVisitanteLE\n",
       "0 goles 0.232456140 0.351754386    \n",
       "1 gol   0.327192982 0.340350877    \n",
       "2 goles 0.266666667 0.212280702    \n",
       "3 goles 0.112280702 0.054385965    \n",
       "4 goles 0.035087719 0.028947368    \n",
       "5 goles 0.019298246 0.009649123    \n",
       "6 goles 0.005263158 0.002631579    \n",
       "7 goles 0.000877193         NaN    \n",
       "8 goles 0.000877193         NaN    "
      ]
     },
     "metadata": {},
     "output_type": "display_data"
    }
   ],
   "source": [
    "ProbCasaLE<- prop.table(apply(ProbConjuntaLE,MARGIN = 1,sum))\n",
    "ProbVisitanteLE<- prop.table( apply(ProbConjuntaLE,MARGIN = 2,sum))\n",
    "ProbMarginalLE <- cbind(ProbCasaLE,c(ProbVisitanteLE, NaN,NaN))\n",
    "colnames(ProbMarginalLE)[2] <- 'ProbVisitanteLE'\n",
    "ProbMarginalLE"
   ]
  },
  {
   "cell_type": "markdown",
   "metadata": {},
   "source": [
    "2. Realiza lo siguiente:\n",
    "\n",
    "Un gráfico de barras para las probabilidades marginales estimadas del número de goles que anota el equipo de casa.\n",
    "\n",
    "Un gráfico de barras para las probabilidades marginales estimadas del número de goles que anota el equipo visitante.\n",
    "\n",
    "Un HeatMap para las probabilidades conjuntas estimadas de los números de goles que anotan el equipo de casa y el equipo visitante en un partido.\n"
   ]
  },
  {
   "cell_type": "code",
   "execution_count": 127,
   "metadata": {},
   "outputs": [
    {
     "data": {
      "image/png": "[encoded data removed]",
      "text/plain": [
       "Plot with title \"Probabilidad del Número de Goles \n",
       " que Anota el Equipo Visitante\""
      ]
     },
     "metadata": {},
     "output_type": "display_data"
    }
   ],
   "source": [
    "layout(matrix(c(1:2), nrow=2, byrow=FALSE))\n",
    "barplot(ProbCasaLE, main = \" Probabilidad del Numero de Goles \\n que Anota el Equipo en Casa\", \n",
    "     xlab = \"Numero de Goles\", ylab = \"Probabilidad\", col = \"#58d68d\")\n",
    "\n",
    "barplot(prop.table(table(DatosLE$FTAG)), main = \"Probabilidad del Número de Goles \\n que Anota el Equipo Visitante\", \n",
    "        xlab = \"Numero de Goles\", ylab = \"Probabilidad\", col = \"#85c1e9\")"
   ]
  },
  {
   "cell_type": "code",
   "execution_count": 62,
   "metadata": {},
   "outputs": [
    {
     "data": {
      "image/png": "[encoded data removed]",
      "text/plain": [
       "Plot with title \"Probabilidad del Marcador de Goles\""
      ]
     },
     "metadata": {},
     "output_type": "display_data"
    }
   ],
   "source": [
    "heatmap(ProbConjuntaLE,\n",
    "        scale = \"none\",\n",
    "        Rowv = NA, Colv = NA, \n",
    "        col = cm.colors(256),\n",
    "        xlab=\"Goles del Equipo Visitante\", ylab=\"Goles del Equipo en Casa\",\n",
    "        main = \"Probabilidad del Marcador de Goles\")"
   ]
  },
  {
   "cell_type": "markdown",
   "metadata": {},
   "source": [
    "## Postwork 4"
   ]
  },
  {
   "cell_type": "markdown",
   "metadata": {},
   "source": [
    "Investigación sobre la dependencia o independencia del número de goles anotados por el equipo de casa y el número de goles anotados por el equipo visitante mediante un procedimiento denominado bootstrap."
   ]
  },
  {
   "cell_type": "markdown",
   "metadata": {},
   "source": [
    "## Bootstrap\n",
    "Una distribución de muestreo describe la probabilidad de obtener cada valor posible de un estadístico de una muestra aleatoria de una población. Bootstrap es un método que estima la distribución de muestreo al tomar múltiples muestras con reemplazo de una sola muestra aleatoria. Estas nuevas muestras se denominan muestras repetidas. Cada muestra tiene el mismo tamaño que la muestra original. \n",
    "\n",
    "Imita lo que pudiera ser el aspecto de la población"
   ]
  },
  {
   "cell_type": "markdown",
   "metadata": {},
   "source": [
    "1. Obtén una tabla de cocientes al dividir estas probabilidades conjuntas por el producto de las probabilidades marginales correspondientes."
   ]
  },
  {
   "cell_type": "code",
   "execution_count": 106,
   "metadata": {},
   "outputs": [
    {
     "data": {
      "text/plain": [
       "         \n",
       "          0 goles   1 gol 2 goles 3 goles 4 goles 5 goles 6 goles\n",
       "  0 goles 0.95478 1.02004 0.92437 1.45709 0.78216 1.95540 0.00000\n",
       "  1 gol   1.00606 1.03190 0.98509 0.98590 0.92615 0.55569 0.00000\n",
       "  2 goles 0.93516 1.03415 1.08471 0.78629 1.13636 0.68182 2.50000\n",
       "  3 goles 1.13272 0.84931 1.03048 1.00554 0.53977 1.61932 2.96875\n",
       "  4 goles 1.13716 0.88144 0.94215 0.00000 3.45455 0.00000 0.00000\n",
       "  5 goles 1.29222 0.80131 1.07062 0.00000 1.57025 0.00000 0.00000\n",
       "  6 goles 1.42145 0.97938 0.00000 3.06452 0.00000 0.00000 0.00000\n",
       "  7 goles 0.00000 2.93814 0.00000 0.00000 0.00000 0.00000 0.00000\n",
       "  8 goles 0.00000 0.00000 4.71074 0.00000 0.00000 0.00000 0.00000"
      ]
     },
     "metadata": {},
     "output_type": "display_data"
    }
   ],
   "source": [
    "ProbCo =round(ProbConjuntaLE/t(ProbVisitanteLE %*% t(ProbCasaLE)),5)\n",
    "ProbCo"
   ]
  },
  {
   "cell_type": "markdown",
   "metadata": {},
   "source": [
    "2.Mediante un procedimiento de boostrap, obtén más cocientes similares a los obtenidos en la tabla del punto anterior. Esto para tener una idea de las distribuciones de la cual vienen los cocientes en la tabla anterior. Menciona en cuáles casos le parece razonable suponer que los cocientes de la tabla en el punto 1, son iguales a 1 (en tal caso tendríamos independencia de las variables aleatorias X y Y)."
   ]
  },
  {
   "cell_type": "code",
   "execution_count": 56,
   "metadata": {},
   "outputs": [],
   "source": [
    "set.seed(839287482)\n",
    "Nmuestras = 2 # Número de muestras bootstrap\n",
    "DatosLE_boot <- bootstraps(DatosLE, times = Nmuestras)"
   ]
  },
  {
   "cell_type": "code",
   "execution_count": 45,
   "metadata": {
    "collapsed": true
   },
   "outputs": [
    {
     "name": "stdout",
     "output_type": "stream",
     "text": [
      "bootstraps [2 x 2] (S3: bootstraps/rset/tbl_df/tbl/data.frame)\n",
      " $ splits:List of 2\n",
      "  ..$ :List of 4\n",
      "  .. ..$ data  :'data.frame':\t1140 obs. of  6 variables:\n",
      "  .. .. ..$ Date    : Date[1:1140], format: \"0017-08-18\" ...\n",
      "  .. .. ..$ HomeTeam: Factor w/ 26 levels \"Alaves\",\"Ath Bilbao\",..: 13 19 6 10 17 2 4 11 14 15 ...\n",
      "  .. .. ..$ AwayTeam: Factor w/ 26 levels \"Alaves\",\"Ath Bilbao\",..: 1 12 18 3 8 9 5 16 20 7 ...\n",
      "  .. .. ..$ FTHG    : int [1:1140] 1 1 2 2 1 0 2 0 1 0 ...\n",
      "  .. .. ..$ FTAG    : int [1:1140] 0 0 3 2 1 0 0 3 0 1 ...\n",
      "  .. .. ..$ FTR     : Factor w/ 3 levels \"A\",\"D\",\"H\": 3 3 1 2 2 2 3 1 3 1 ...\n",
      "  .. ..$ in_id : int [1:1140] 1013 100 44 727 491 245 235 1135 1106 19 ...\n",
      "  .. ..$ out_id: logi NA\n",
      "  .. ..$ id    : tibble [1 x 1] (S3: tbl_df/tbl/data.frame)\n",
      "  .. .. ..$ id: chr \"Bootstrap1\"\n",
      "  .. ..- attr(*, \"class\")= chr [1:2] \"boot_split\" \"rsplit\"\n",
      "  ..$ :List of 4\n",
      "  .. ..$ data  :'data.frame':\t1140 obs. of  6 variables:\n",
      "  .. .. ..$ Date    : Date[1:1140], format: \"0017-08-18\" ...\n",
      "  .. .. ..$ HomeTeam: Factor w/ 26 levels \"Alaves\",\"Ath Bilbao\",..: 13 19 6 10 17 2 4 11 14 15 ...\n",
      "  .. .. ..$ AwayTeam: Factor w/ 26 levels \"Alaves\",\"Ath Bilbao\",..: 1 12 18 3 8 9 5 16 20 7 ...\n",
      "  .. .. ..$ FTHG    : int [1:1140] 1 1 2 2 1 0 2 0 1 0 ...\n",
      "  .. .. ..$ FTAG    : int [1:1140] 0 0 3 2 1 0 0 3 0 1 ...\n",
      "  .. .. ..$ FTR     : Factor w/ 3 levels \"A\",\"D\",\"H\": 3 3 1 2 2 2 3 1 3 1 ...\n",
      "  .. ..$ in_id : int [1:1140] 578 489 169 721 824 32 109 419 160 918 ...\n",
      "  .. ..$ out_id: logi NA\n",
      "  .. ..$ id    : tibble [1 x 1] (S3: tbl_df/tbl/data.frame)\n",
      "  .. .. ..$ id: chr \"Bootstrap2\"\n",
      "  .. ..- attr(*, \"class\")= chr [1:2] \"boot_split\" \"rsplit\"\n",
      " $ id    : chr [1:2] \"Bootstrap1\" \"Bootstrap2\"\n",
      " - attr(*, \"times\")= num 2\n",
      " - attr(*, \"apparent\")= logi FALSE\n",
      " - attr(*, \"strata\")= logi FALSE\n",
      " - attr(*, \"fingerprint\")= chr \"24a58881f2c6180ada7a5acf8eea8e01\"\n"
     ]
    }
   ],
   "source": [
    "str(DatosLE_boot)"
   ]
  },
  {
   "cell_type": "code",
   "execution_count": 57,
   "metadata": {},
   "outputs": [
    {
     "data": {
      "text/plain": [
       "<Analysis/Assess/Total>\n",
       "<1140/428/1140>"
      ]
     },
     "metadata": {},
     "output_type": "display_data"
    },
    {
     "data": {
      "text/plain": [
       "<Analysis/Assess/Total>\n",
       "<1140/391/1140>"
      ]
     },
     "metadata": {},
     "output_type": "display_data"
    }
   ],
   "source": [
    "Primera_boot <- DatosLE_boot$splits[[1]]\n",
    "Segunda_boot <- DatosLE_boot$splits[[2]]\n",
    "#Informacion de la primera muestra\n",
    "Primera_boot\n",
    "Segunda_boot"
   ]
  },
  {
   "cell_type": "code",
   "execution_count": 60,
   "metadata": {},
   "outputs": [
    {
     "data": {
      "text/html": [
       "<table>\n",
       "<thead><tr><th></th><th scope=col>Date</th><th scope=col>HomeTeam</th><th scope=col>AwayTeam</th><th scope=col>FTHG</th><th scope=col>FTAG</th><th scope=col>FTR</th></tr></thead>\n",
       "<tbody>\n",
       "\t<tr><th scope=row>1013</th><td>2020-02-29 </td><td>Leganes    </td><td>Alaves     </td><td>1          </td><td>1          </td><td>D          </td></tr>\n",
       "\t<tr><th scope=row>100</th><td>0017-10-30 </td><td>Las Palmas </td><td>La Coruna  </td><td>1          </td><td>3          </td><td>A          </td></tr>\n",
       "\t<tr><th scope=row>44</th><td>0017-09-20 </td><td>La Coruna  </td><td>Alaves     </td><td>1          </td><td>0          </td><td>H          </td></tr>\n",
       "\t<tr><th scope=row>727</th><td>2019-04-28 </td><td>Valencia   </td><td>Eibar      </td><td>0          </td><td>1          </td><td>A          </td></tr>\n",
       "\t<tr><th scope=row>491</th><td>2018-11-09 </td><td>Levante    </td><td>Sociedad   </td><td>1          </td><td>3          </td><td>A          </td></tr>\n",
       "\t<tr><th scope=row>245</th><td>0018-02-24 </td><td>Real Madrid</td><td>Alaves     </td><td>4          </td><td>0          </td><td>H          </td></tr>\n",
       "</tbody>\n",
       "</table>\n"
      ],
      "text/latex": [
       "\\begin{tabular}{r|llllll}\n",
       "  & Date & HomeTeam & AwayTeam & FTHG & FTAG & FTR\\\\\n",
       "\\hline\n",
       "\t1013 & 2020-02-29  & Leganes     & Alaves      & 1           & 1           & D          \\\\\n",
       "\t100 & 0017-10-30  & Las Palmas  & La Coruna   & 1           & 3           & A          \\\\\n",
       "\t44 & 0017-09-20  & La Coruna   & Alaves      & 1           & 0           & H          \\\\\n",
       "\t727 & 2019-04-28  & Valencia    & Eibar       & 0           & 1           & A          \\\\\n",
       "\t491 & 2018-11-09  & Levante     & Sociedad    & 1           & 3           & A          \\\\\n",
       "\t245 & 0018-02-24  & Real Madrid & Alaves      & 4           & 0           & H          \\\\\n",
       "\\end{tabular}\n"
      ],
      "text/markdown": [
       "\n",
       "| <!--/--> | Date | HomeTeam | AwayTeam | FTHG | FTAG | FTR |\n",
       "|---|---|---|---|---|---|---|\n",
       "| 1013 | 2020-02-29  | Leganes     | Alaves      | 1           | 1           | D           |\n",
       "| 100 | 0017-10-30  | Las Palmas  | La Coruna   | 1           | 3           | A           |\n",
       "| 44 | 0017-09-20  | La Coruna   | Alaves      | 1           | 0           | H           |\n",
       "| 727 | 2019-04-28  | Valencia    | Eibar       | 0           | 1           | A           |\n",
       "| 491 | 2018-11-09  | Levante     | Sociedad    | 1           | 3           | A           |\n",
       "| 245 | 0018-02-24  | Real Madrid | Alaves      | 4           | 0           | H           |\n",
       "\n"
      ],
      "text/plain": [
       "     Date       HomeTeam    AwayTeam  FTHG FTAG FTR\n",
       "1013 2020-02-29 Leganes     Alaves    1    1    D  \n",
       "100  0017-10-30 Las Palmas  La Coruna 1    3    A  \n",
       "44   0017-09-20 La Coruna   Alaves    1    0    H  \n",
       "727  2019-04-28 Valencia    Eibar     0    1    A  \n",
       "491  2018-11-09 Levante     Sociedad  1    3    A  \n",
       "245  0018-02-24 Real Madrid Alaves    4    0    H  "
      ]
     },
     "metadata": {},
     "output_type": "display_data"
    },
    {
     "data": {
      "text/html": [
       "<table>\n",
       "<thead><tr><th></th><th scope=col>Date</th><th scope=col>HomeTeam</th><th scope=col>AwayTeam</th><th scope=col>FTHG</th><th scope=col>FTAG</th><th scope=col>FTR</th></tr></thead>\n",
       "<tbody>\n",
       "\t<tr><th scope=row>578</th><td>2019-01-20</td><td>Vallecano </td><td>Sociedad  </td><td>2         </td><td>2         </td><td>D         </td></tr>\n",
       "\t<tr><th scope=row>489</th><td>2018-11-04</td><td>Villarreal</td><td>Levante   </td><td>1         </td><td>1         </td><td>D         </td></tr>\n",
       "\t<tr><th scope=row>169</th><td>0017-12-23</td><td>Valencia  </td><td>Villarreal</td><td>0         </td><td>1         </td><td>A         </td></tr>\n",
       "\t<tr><th scope=row>721</th><td>2019-04-27</td><td>Ath Bilbao</td><td>Alaves    </td><td>1         </td><td>1         </td><td>D         </td></tr>\n",
       "\t<tr><th scope=row>824</th><td>2019-09-28</td><td>Granada   </td><td>Leganes   </td><td>1         </td><td>0         </td><td>H         </td></tr>\n",
       "\t<tr><th scope=row>32</th><td>0017-09-16</td><td>Ath Madrid</td><td>Malaga    </td><td>1         </td><td>0         </td><td>H         </td></tr>\n",
       "</tbody>\n",
       "</table>\n"
      ],
      "text/latex": [
       "\\begin{tabular}{r|llllll}\n",
       "  & Date & HomeTeam & AwayTeam & FTHG & FTAG & FTR\\\\\n",
       "\\hline\n",
       "\t578 & 2019-01-20 & Vallecano  & Sociedad   & 2          & 2          & D         \\\\\n",
       "\t489 & 2018-11-04 & Villarreal & Levante    & 1          & 1          & D         \\\\\n",
       "\t169 & 0017-12-23 & Valencia   & Villarreal & 0          & 1          & A         \\\\\n",
       "\t721 & 2019-04-27 & Ath Bilbao & Alaves     & 1          & 1          & D         \\\\\n",
       "\t824 & 2019-09-28 & Granada    & Leganes    & 1          & 0          & H         \\\\\n",
       "\t32 & 0017-09-16 & Ath Madrid & Malaga     & 1          & 0          & H         \\\\\n",
       "\\end{tabular}\n"
      ],
      "text/markdown": [
       "\n",
       "| <!--/--> | Date | HomeTeam | AwayTeam | FTHG | FTAG | FTR |\n",
       "|---|---|---|---|---|---|---|\n",
       "| 578 | 2019-01-20 | Vallecano  | Sociedad   | 2          | 2          | D          |\n",
       "| 489 | 2018-11-04 | Villarreal | Levante    | 1          | 1          | D          |\n",
       "| 169 | 0017-12-23 | Valencia   | Villarreal | 0          | 1          | A          |\n",
       "| 721 | 2019-04-27 | Ath Bilbao | Alaves     | 1          | 1          | D          |\n",
       "| 824 | 2019-09-28 | Granada    | Leganes    | 1          | 0          | H          |\n",
       "| 32 | 0017-09-16 | Ath Madrid | Malaga     | 1          | 0          | H          |\n",
       "\n"
      ],
      "text/plain": [
       "    Date       HomeTeam   AwayTeam   FTHG FTAG FTR\n",
       "578 2019-01-20 Vallecano  Sociedad   2    2    D  \n",
       "489 2018-11-04 Villarreal Levante    1    1    D  \n",
       "169 0017-12-23 Valencia   Villarreal 0    1    A  \n",
       "721 2019-04-27 Ath Bilbao Alaves     1    1    D  \n",
       "824 2019-09-28 Granada    Leganes    1    0    H  \n",
       "32  0017-09-16 Ath Madrid Malaga     1    0    H  "
      ]
     },
     "metadata": {},
     "output_type": "display_data"
    }
   ],
   "source": [
    "PrMuestraB = as.data.frame(Primera_boot)\n",
    "SeMuestraB = as.data.frame(Segunda_boot)\n",
    "head(PrMuestraB)\n",
    "head(SeMuestraB)"
   ]
  },
  {
   "cell_type": "code",
   "execution_count": 84,
   "metadata": {},
   "outputs": [],
   "source": [
    "#Se repite el proceso para obtener las probabilidades\n",
    "#Se crea una función que lo haga automáticamente\n",
    "ProbConjMarg <- function(x,y){\n",
    "    \n",
    "    ProbConjunta <- prop.table(table(x,y))\n",
    "    ProbMargX<- prop.table(apply(ProbConjunta,MARGIN = 1,sum))\n",
    "    ProbMargY<- prop.table(apply(ProbConjunta,MARGIN = 2,sum))\n",
    "    \n",
    "    heatmap(ProbConjunta ,\n",
    "        scale = \"none\",\n",
    "        Rowv = NA, Colv = NA, \n",
    "        col = cm.colors(256),\n",
    "        xlab=\"Goles del Equipo Visitante\", ylab=\"Goles del Equipo en Casa\",\n",
    "        main = \"Probabilidad del Marcador de Goles\")\n",
    "    \n",
    "    return(list(ProbConjunta,ProbMargX,ProbMargY))\n",
    "}"
   ]
  },
  {
   "cell_type": "code",
   "execution_count": 95,
   "metadata": {},
   "outputs": [
    {
     "data": {
      "text/plain": [
       "   y\n",
       "x         0       1       2       3       4       5       6\n",
       "  0 0.07368 0.08333 0.05351 0.01404 0.00614 0.00439 0.00000\n",
       "  1 0.12281 0.11579 0.07018 0.01579 0.01053 0.00175 0.00000\n",
       "  2 0.08509 0.09649 0.05175 0.01228 0.00965 0.00088 0.00000\n",
       "  3 0.03596 0.03246 0.02544 0.00614 0.00263 0.00088 0.00175\n",
       "  4 0.01491 0.00877 0.00351 0.00000 0.00526 0.00000 0.00000\n",
       "  5 0.01404 0.00789 0.00439 0.00000 0.00088 0.00000 0.00000\n",
       "  6 0.00439 0.00175 0.00000 0.00000 0.00000 0.00000 0.00000\n",
       "  7 0.00000 0.00088 0.00000 0.00000 0.00000 0.00000 0.00000"
      ]
     },
     "metadata": {},
     "output_type": "display_data"
    },
    {
     "data": {
      "image/png": "[encoded data removed]",
      "text/plain": [
       "Plot with title \"Probabilidad del Marcador de Goles\""
      ]
     },
     "metadata": {},
     "output_type": "display_data"
    }
   ],
   "source": [
    "ProbMuestra1<-ProbConjMarg(PrMuestraB$FTHG,PrMuestraB$FTAG )\n",
    "round(ProbMuestra1[[1]],5)"
   ]
  },
  {
   "cell_type": "code",
   "execution_count": 96,
   "metadata": {},
   "outputs": [
    {
     "data": {
      "text/plain": [
       "   y\n",
       "x         0       1       2       3       4       5       6\n",
       "  0 0.06930 0.09825 0.04912 0.02105 0.00789 0.00088 0.00000\n",
       "  1 0.11140 0.11667 0.07193 0.01667 0.00965 0.00175 0.00000\n",
       "  2 0.08421 0.09474 0.05877 0.00965 0.00877 0.00000 0.00175\n",
       "  3 0.04649 0.03333 0.01754 0.00526 0.00088 0.00263 0.00000\n",
       "  4 0.01228 0.01228 0.00789 0.00000 0.00351 0.00000 0.00000\n",
       "  5 0.00789 0.00877 0.00175 0.00000 0.00000 0.00000 0.00000\n",
       "  6 0.00000 0.00263 0.00000 0.00263 0.00000 0.00000 0.00000\n",
       "  7 0.00000 0.00088 0.00000 0.00000 0.00000 0.00000 0.00000\n",
       "  8 0.00000 0.00000 0.00088 0.00000 0.00000 0.00000 0.00000"
      ]
     },
     "metadata": {},
     "output_type": "display_data"
    },
    {
     "data": {
      "image/png": "[encoded data removed]",
      "text/plain": [
       "Plot with title \"Probabilidad del Marcador de Goles\""
      ]
     },
     "metadata": {},
     "output_type": "display_data"
    }
   ],
   "source": [
    "ProbMuestra2<-ProbConjMarg(SeMuestraB$FTHG,SeMuestraB$FTAG) \n",
    "round(ProbMuestra2[[1]],5)"
   ]
  },
  {
   "cell_type": "markdown",
   "metadata": {},
   "source": [
    "## Comparación"
   ]
  },
  {
   "cell_type": "code",
   "execution_count": 123,
   "metadata": {},
   "outputs": [
    {
     "name": "stdout",
     "output_type": "stream",
     "text": [
      "[1] \"Inicial\"\n"
     ]
    },
    {
     "data": {
      "text/plain": [
       "         \n",
       "          0 goles   1 gol 2 goles 3 goles 4 goles 5 goles 6 goles\n",
       "  0 goles 0.95478 1.02004 0.92437 1.45709 0.78216 1.95540 0.00000\n",
       "  1 gol   1.00606 1.03190 0.98509 0.98590 0.92615 0.55569 0.00000\n",
       "  2 goles 0.93516 1.03415 1.08471 0.78629 1.13636 0.68182 2.50000\n",
       "  3 goles 1.13272 0.84931 1.03048 1.00554 0.53977 1.61932 2.96875\n",
       "  4 goles 1.13716 0.88144 0.94215 0.00000 3.45455 0.00000 0.00000\n",
       "  5 goles 1.29222 0.80131 1.07062 0.00000 1.57025 0.00000 0.00000\n",
       "  6 goles 1.42145 0.97938 0.00000 3.06452 0.00000 0.00000 0.00000\n",
       "  7 goles 0.00000 2.93814 0.00000 0.00000 0.00000 0.00000 0.00000\n",
       "  8 goles 0.00000 0.00000 4.71074 0.00000 0.00000 0.00000 0.00000"
      ]
     },
     "metadata": {},
     "output_type": "display_data"
    }
   ],
   "source": [
    "print(\"Inicial\")\n",
    "ProbCo"
   ]
  },
  {
   "cell_type": "code",
   "execution_count": 124,
   "metadata": {},
   "outputs": [
    {
     "name": "stdout",
     "output_type": "stream",
     "text": [
      "[1] \"Primera muestra\"\n"
     ]
    },
    {
     "data": {
      "text/plain": [
       "   y\n",
       "x         0       1       2       3       4       5       6\n",
       "  0 0.89328 1.02047 1.09024 1.23745 0.74440 2.36318 0.00000\n",
       "  1 1.03906 0.98958 0.99790 0.97159 0.89062 0.65972 0.00000\n",
       "  2 0.94675 1.08447 0.96783 0.99377 1.07363 0.43379 0.00000\n",
       "  3 0.97375 0.88763 1.15756 1.20909 0.71250 1.05556 9.50000\n",
       "  4 1.30946 0.77805 0.51783 0.00000 4.62162 0.00000 0.00000\n",
       "  5 1.47097 0.83578 0.77257 0.00000 0.91935 0.00000 0.00000\n",
       "  6 2.03571 0.82251 0.00000 0.00000 0.00000 0.00000 0.00000\n",
       "  7 0.00000 2.87879 0.00000 0.00000 0.00000 0.00000 0.00000"
      ]
     },
     "metadata": {},
     "output_type": "display_data"
    }
   ],
   "source": [
    "print(\"Primera muestra\")\n",
    "ProbCoM1 <- round(ProbMuestra1[[1]]/t(ProbMuestra1[[3]] %*% t(ProbMuestra1[[2]])),5)\n",
    "ProbCoM1"
   ]
  },
  {
   "cell_type": "code",
   "execution_count": 125,
   "metadata": {},
   "outputs": [
    {
     "name": "stdout",
     "output_type": "stream",
     "text": [
      "[1] \"Segunda muestra\"\n"
     ]
    },
    {
     "data": {
      "text/plain": [
       "   y\n",
       "x         0       1       2       3       4       5       6\n",
       "  0 0.84788 1.08443 0.95860 1.54550 1.04321 0.67616 0.00000\n",
       "  1 1.02411 0.96754 1.05463 0.91928 0.95798 1.01604 0.00000\n",
       "  2 0.98477 0.99946 1.09619 0.67703 1.10787 0.00000 3.87755\n",
       "  3 1.32100 0.85445 0.79506 0.89728 0.26919 4.71074 0.00000\n",
       "  4 1.02981 0.92904 1.05588 0.00000 3.17770 0.00000 0.00000\n",
       "  5 1.29252 1.29560 0.45811 0.00000 0.00000 0.00000 0.00000\n",
       "  6 0.00000 1.36038 0.00000 9.04762 0.00000 0.00000 0.00000\n",
       "  7 0.00000 2.72076 0.00000 0.00000 0.00000 0.00000 0.00000\n",
       "  8 0.00000 0.00000 4.81013 0.00000 0.00000 0.00000 0.00000"
      ]
     },
     "metadata": {},
     "output_type": "display_data"
    }
   ],
   "source": [
    "print(\"Segunda muestra\")\n",
    "ProbCoM2 <-round(ProbMuestra2[[1]]/t(ProbMuestra2[[3]] %*% t(ProbMuestra2[[2]])),5)\n",
    "ProbCoM2"
   ]
  },
  {
   "cell_type": "markdown",
   "metadata": {},
   "source": [
    "Como se puede observar en los heatmaps de los muestreos, la distribución es similar al de la población. Para obtener una representación aún más similar a la real, sería necesario aumentar el tamaño de muestras."
   ]
  },
  {
   "cell_type": "markdown",
   "metadata": {},
   "source": [
    "## Notas adicionales\n",
    "\n",
    "Si no tienes instaladas las librerias usa los siguientes comandos"
   ]
  },
  {
   "cell_type": "code",
   "execution_count": 112,
   "metadata": {},
   "outputs": [],
   "source": [
    "#install.packages(\"ggplot2\")\n",
    "#install.packages(\"dplyr\")\n",
    "#install.packages(\"rsample\")"
   ]
  }
 ],
 "metadata": {
  "kernelspec": {
   "display_name": "R",
   "language": "R",
   "name": "ir"
  },
  "language_info": {
   "codemirror_mode": "r",
   "file_extension": ".r",
   "mimetype": "text/x-r-source",
   "name": "R",
   "pygments_lexer": "r",
   "version": "3.6.1"
  }
 },
 "nbformat": 4,
 "nbformat_minor": 4
}
