{
 "cells": [
  {
   "cell_type": "markdown",
   "metadata": {},
   "source": [
    "# Programación y Estadística con R\n",
    "\n",
    "**Lenguaje de programación:** R\n",
    "\n",
    "**Equipo:** 11\n",
    "\n",
    "**Integrantes:**\n",
    "\n",
    "Ximena Ávila Villagómez\n",
    "\n",
    "Ana Katherine Cuevas Flores\n",
    "\n",
    "Félix Alberto Nieto García\n",
    "\n",
    "Daniel Gómez Avín\n",
    "\n",
    "Alejandro De Fuentes Martínez\n",
    "\n",
    "\n",
    "**Resumen:**\n",
    "El trabajo es sobre el analísis de datos de partido de futbool de la seleccion española."
   ]
  },
  {
   "cell_type": "markdown",
   "metadata": {},
   "source": [
    "## Librerias utilizadas"
   ]
  },
  {
   "cell_type": "code",
   "execution_count": 1,
   "metadata": {},
   "outputs": [
    {
     "name": "stderr",
     "output_type": "stream",
     "text": [
      "Warning message:\n",
      "\"package 'dplyr' was built under R version 3.6.3\"\n",
      "Attaching package: 'dplyr'\n",
      "\n",
      "The following objects are masked from 'package:stats':\n",
      "\n",
      "    filter, lag\n",
      "\n",
      "The following objects are masked from 'package:base':\n",
      "\n",
      "    intersect, setdiff, setequal, union\n",
      "\n",
      "Warning message:\n",
      "\"package 'rsample' was built under R version 3.6.3\"Warning message:\n",
      "\"package 'lubridate' was built under R version 3.6.3\"\n",
      "Attaching package: 'lubridate'\n",
      "\n",
      "The following objects are masked from 'package:base':\n",
      "\n",
      "    date, intersect, setdiff, union\n",
      "\n",
      "Warning message:\n",
      "\"package 'mongolite' was built under R version 3.6.3\""
     ]
    }
   ],
   "source": [
    "library(\"ggplot2\") #Para graficación\n",
    "library(\"dplyr\") #Para la manipulación y operaciones con data frames\n",
    "library(\"rsample\") #Para obtener diferentes tipos de muestreo\n",
    "library(\"lubridate\")#\n",
    "library(\"mongolite\")# Conexión con Mongo"
   ]
  },
  {
   "cell_type": "markdown",
   "metadata": {},
   "source": [
    "### Postwork 1"
   ]
  },
  {
   "cell_type": "markdown",
   "metadata": {},
   "source": [
    "1. Importa los datos de soccer de la temporada 2019/2020 de la primera división de la liga española a R que se encuentran en el enlace:  https://www.football-data.co.uk/spainm.php"
   ]
  },
  {
   "cell_type": "code",
   "execution_count": 3,
   "metadata": {},
   "outputs": [
    {
     "data": {
      "text/html": [
       "<table>\n",
       "<thead><tr><th scope=col>Div</th><th scope=col>Date</th><th scope=col>Time</th><th scope=col>HomeTeam</th><th scope=col>AwayTeam</th><th scope=col>FTHG</th><th scope=col>FTAG</th><th scope=col>FTR</th><th scope=col>HTHG</th><th scope=col>HTAG</th><th scope=col>...</th><th scope=col>AvgC.2.5.1</th><th scope=col>AHCh</th><th scope=col>B365CAHH</th><th scope=col>B365CAHA</th><th scope=col>PCAHH</th><th scope=col>PCAHA</th><th scope=col>MaxCAHH</th><th scope=col>MaxCAHA</th><th scope=col>AvgCAHH</th><th scope=col>AvgCAHA</th></tr></thead>\n",
       "<tbody>\n",
       "\t<tr><td>SP1        </td><td>16/08/2019 </td><td>20:00      </td><td>Ath Bilbao </td><td>Barcelona  </td><td>1          </td><td>0          </td><td>H          </td><td>0          </td><td>0          </td><td>...        </td><td>1.97       </td><td> 0.75      </td><td>1.93       </td><td>2.00       </td><td>1.91       </td><td>2.01       </td><td>2.02       </td><td>2.03       </td><td>1.91       </td><td>1.98       </td></tr>\n",
       "\t<tr><td>SP1        </td><td>17/08/2019 </td><td>16:00      </td><td>Celta      </td><td>Real Madrid</td><td>1          </td><td>3          </td><td>A          </td><td>0          </td><td>1          </td><td>...        </td><td>2.63       </td><td> 1.00      </td><td>1.82       </td><td>1.97       </td><td>1.85       </td><td>2.07       </td><td>2.00       </td><td>2.20       </td><td>1.82       </td><td>2.06       </td></tr>\n",
       "\t<tr><td>SP1        </td><td>17/08/2019 </td><td>18:00      </td><td>Valencia   </td><td>Sociedad   </td><td>1          </td><td>1          </td><td>D          </td><td>0          </td><td>0          </td><td>...        </td><td>1.82       </td><td>-0.75      </td><td>1.94       </td><td>1.99       </td><td>1.92       </td><td>2.00       </td><td>1.96       </td><td>2.12       </td><td>1.89       </td><td>2.00       </td></tr>\n",
       "\t<tr><td>SP1        </td><td>17/08/2019 </td><td>19:00      </td><td>Mallorca   </td><td>Eibar      </td><td>2          </td><td>1          </td><td>H          </td><td>1          </td><td>0          </td><td>...        </td><td>1.66       </td><td> 0.00      </td><td>2.11       </td><td>1.82       </td><td>2.09       </td><td>1.83       </td><td>2.12       </td><td>1.88       </td><td>2.07       </td><td>1.83       </td></tr>\n",
       "\t<tr><td>SP1        </td><td>17/08/2019 </td><td>20:00      </td><td>Leganes    </td><td>Osasuna    </td><td>0          </td><td>1          </td><td>A          </td><td>0          </td><td>0          </td><td>...        </td><td>1.46       </td><td>-0.50      </td><td>1.89       </td><td>2.04       </td><td>1.90       </td><td>2.01       </td><td>1.95       </td><td>2.06       </td><td>1.90       </td><td>1.99       </td></tr>\n",
       "\t<tr><td>SP1        </td><td>17/08/2019 </td><td>20:00      </td><td>Villarreal </td><td>Granada    </td><td>4          </td><td>4          </td><td>D          </td><td>1          </td><td>1          </td><td>...        </td><td>1.92       </td><td>-1.00      </td><td>1.96       </td><td>1.97       </td><td>1.96       </td><td>1.96       </td><td>1.98       </td><td>2.12       </td><td>1.93       </td><td>1.95       </td></tr>\n",
       "</tbody>\n",
       "</table>\n"
      ],
      "text/latex": [
       "\\begin{tabular}{r|lllllllllllllllllllllllllllllllllllllllllllllllllllllllllllllllllllllllllllllllllllllllllllllllllllllllll}\n",
       " Div & Date & Time & HomeTeam & AwayTeam & FTHG & FTAG & FTR & HTHG & HTAG & ... & AvgC.2.5.1 & AHCh & B365CAHH & B365CAHA & PCAHH & PCAHA & MaxCAHH & MaxCAHA & AvgCAHH & AvgCAHA\\\\\n",
       "\\hline\n",
       "\t SP1         & 16/08/2019  & 20:00       & Ath Bilbao  & Barcelona   & 1           & 0           & H           & 0           & 0           & ...         & 1.97        &  0.75       & 1.93        & 2.00        & 1.91        & 2.01        & 2.02        & 2.03        & 1.91        & 1.98       \\\\\n",
       "\t SP1         & 17/08/2019  & 16:00       & Celta       & Real Madrid & 1           & 3           & A           & 0           & 1           & ...         & 2.63        &  1.00       & 1.82        & 1.97        & 1.85        & 2.07        & 2.00        & 2.20        & 1.82        & 2.06       \\\\\n",
       "\t SP1         & 17/08/2019  & 18:00       & Valencia    & Sociedad    & 1           & 1           & D           & 0           & 0           & ...         & 1.82        & -0.75       & 1.94        & 1.99        & 1.92        & 2.00        & 1.96        & 2.12        & 1.89        & 2.00       \\\\\n",
       "\t SP1         & 17/08/2019  & 19:00       & Mallorca    & Eibar       & 2           & 1           & H           & 1           & 0           & ...         & 1.66        &  0.00       & 2.11        & 1.82        & 2.09        & 1.83        & 2.12        & 1.88        & 2.07        & 1.83       \\\\\n",
       "\t SP1         & 17/08/2019  & 20:00       & Leganes     & Osasuna     & 0           & 1           & A           & 0           & 0           & ...         & 1.46        & -0.50       & 1.89        & 2.04        & 1.90        & 2.01        & 1.95        & 2.06        & 1.90        & 1.99       \\\\\n",
       "\t SP1         & 17/08/2019  & 20:00       & Villarreal  & Granada     & 4           & 4           & D           & 1           & 1           & ...         & 1.92        & -1.00       & 1.96        & 1.97        & 1.96        & 1.96        & 1.98        & 2.12        & 1.93        & 1.95       \\\\\n",
       "\\end{tabular}\n"
      ],
      "text/markdown": [
       "\n",
       "| Div | Date | Time | HomeTeam | AwayTeam | FTHG | FTAG | FTR | HTHG | HTAG | ... | AvgC.2.5.1 | AHCh | B365CAHH | B365CAHA | PCAHH | PCAHA | MaxCAHH | MaxCAHA | AvgCAHH | AvgCAHA |\n",
       "|---|---|---|---|---|---|---|---|---|---|---|---|---|---|---|---|---|---|---|---|---|\n",
       "| SP1         | 16/08/2019  | 20:00       | Ath Bilbao  | Barcelona   | 1           | 0           | H           | 0           | 0           | ...         | 1.97        |  0.75       | 1.93        | 2.00        | 1.91        | 2.01        | 2.02        | 2.03        | 1.91        | 1.98        |\n",
       "| SP1         | 17/08/2019  | 16:00       | Celta       | Real Madrid | 1           | 3           | A           | 0           | 1           | ...         | 2.63        |  1.00       | 1.82        | 1.97        | 1.85        | 2.07        | 2.00        | 2.20        | 1.82        | 2.06        |\n",
       "| SP1         | 17/08/2019  | 18:00       | Valencia    | Sociedad    | 1           | 1           | D           | 0           | 0           | ...         | 1.82        | -0.75       | 1.94        | 1.99        | 1.92        | 2.00        | 1.96        | 2.12        | 1.89        | 2.00        |\n",
       "| SP1         | 17/08/2019  | 19:00       | Mallorca    | Eibar       | 2           | 1           | H           | 1           | 0           | ...         | 1.66        |  0.00       | 2.11        | 1.82        | 2.09        | 1.83        | 2.12        | 1.88        | 2.07        | 1.83        |\n",
       "| SP1         | 17/08/2019  | 20:00       | Leganes     | Osasuna     | 0           | 1           | A           | 0           | 0           | ...         | 1.46        | -0.50       | 1.89        | 2.04        | 1.90        | 2.01        | 1.95        | 2.06        | 1.90        | 1.99        |\n",
       "| SP1         | 17/08/2019  | 20:00       | Villarreal  | Granada     | 4           | 4           | D           | 1           | 1           | ...         | 1.92        | -1.00       | 1.96        | 1.97        | 1.96        | 1.96        | 1.98        | 2.12        | 1.93        | 1.95        |\n",
       "\n"
      ],
      "text/plain": [
       "  Div Date       Time  HomeTeam   AwayTeam    FTHG FTAG FTR HTHG HTAG ...\n",
       "1 SP1 16/08/2019 20:00 Ath Bilbao Barcelona   1    0    H   0    0    ...\n",
       "2 SP1 17/08/2019 16:00 Celta      Real Madrid 1    3    A   0    1    ...\n",
       "3 SP1 17/08/2019 18:00 Valencia   Sociedad    1    1    D   0    0    ...\n",
       "4 SP1 17/08/2019 19:00 Mallorca   Eibar       2    1    H   1    0    ...\n",
       "5 SP1 17/08/2019 20:00 Leganes    Osasuna     0    1    A   0    0    ...\n",
       "6 SP1 17/08/2019 20:00 Villarreal Granada     4    4    D   1    1    ...\n",
       "  AvgC.2.5.1 AHCh  B365CAHH B365CAHA PCAHH PCAHA MaxCAHH MaxCAHA AvgCAHH\n",
       "1 1.97        0.75 1.93     2.00     1.91  2.01  2.02    2.03    1.91   \n",
       "2 2.63        1.00 1.82     1.97     1.85  2.07  2.00    2.20    1.82   \n",
       "3 1.82       -0.75 1.94     1.99     1.92  2.00  1.96    2.12    1.89   \n",
       "4 1.66        0.00 2.11     1.82     2.09  1.83  2.12    1.88    2.07   \n",
       "5 1.46       -0.50 1.89     2.04     1.90  2.01  1.95    2.06    1.90   \n",
       "6 1.92       -1.00 1.96     1.97     1.96  1.96  1.98    2.12    1.93   \n",
       "  AvgCAHA\n",
       "1 1.98   \n",
       "2 2.06   \n",
       "3 2.00   \n",
       "4 1.83   \n",
       "5 1.99   \n",
       "6 1.95   "
      ]
     },
     "metadata": {},
     "output_type": "display_data"
    }
   ],
   "source": [
    "LinkT1920 <- \"https://www.football-data.co.uk/mmz4281/1920/SP1.csv\"\n",
    "\n",
    "DatosT1920 <- read.csv(LinkT1920)\n",
    "head(DatosT1920) #Primeros registros "
   ]
  },
  {
   "cell_type": "code",
   "execution_count": 4,
   "metadata": {},
   "outputs": [
    {
     "name": "stdout",
     "output_type": "stream",
     "text": [
      "'data.frame':\t380 obs. of  105 variables:\n",
      " $ Div        : Factor w/ 1 level \"SP1\": 1 1 1 1 1 1 1 1 1 1 ...\n",
      " $ Date       : Factor w/ 116 levels \"01/02/2020\",\"01/03/2020\",..: 56 59 59 59 59 59 62 62 62 62 ...\n",
      " $ Time       : Factor w/ 13 levels \"11:00\",\"12:00\",..: 11 5 7 9 11 11 5 7 11 13 ...\n",
      " $ HomeTeam   : Factor w/ 20 levels \"Alaves\",\"Ath Bilbao\",..: 2 6 18 13 11 20 1 8 5 3 ...\n",
      " $ AwayTeam   : Factor w/ 20 levels \"Alaves\",\"Ath Bilbao\",..: 4 15 17 7 14 10 12 16 19 9 ...\n",
      " $ FTHG       : int  1 1 1 2 0 4 1 0 1 1 ...\n",
      " $ FTAG       : int  0 3 1 1 1 4 0 2 2 0 ...\n",
      " $ FTR        : Factor w/ 3 levels \"A\",\"D\",\"H\": 3 1 2 3 1 2 3 1 1 3 ...\n",
      " $ HTHG       : int  0 0 0 1 0 1 0 0 0 1 ...\n",
      " $ HTAG       : int  0 1 0 0 0 1 0 1 0 0 ...\n",
      " $ HTR        : Factor w/ 3 levels \"A\",\"D\",\"H\": 2 1 2 3 2 2 2 1 2 3 ...\n",
      " $ HS         : int  11 7 14 16 13 12 9 7 13 5 ...\n",
      " $ AS         : int  11 17 12 11 4 14 16 12 14 6 ...\n",
      " $ HST        : int  5 4 6 4 2 7 2 2 4 5 ...\n",
      " $ AST        : int  2 11 3 5 2 7 4 4 3 0 ...\n",
      " $ HF         : int  14 17 13 13 17 10 18 11 11 19 ...\n",
      " $ AF         : int  9 12 14 14 11 16 15 17 19 22 ...\n",
      " $ HC         : int  3 6 3 9 8 2 2 8 6 3 ...\n",
      " $ AC         : int  8 4 3 3 0 7 9 4 1 4 ...\n",
      " $ HY         : int  1 5 4 2 1 3 2 2 2 3 ...\n",
      " $ AY         : int  1 2 4 3 4 1 1 2 6 4 ...\n",
      " $ HR         : int  0 0 1 0 1 0 0 0 1 1 ...\n",
      " $ AR         : int  0 1 0 0 0 0 0 0 0 1 ...\n",
      " $ B365H      : num  5.25 4.75 1.66 2.8 2 1.6 2.15 3.2 1.66 1.44 ...\n",
      " $ B365D      : num  3.8 4.2 3.75 3.2 3.2 3.8 3.2 3.3 3.75 4.33 ...\n",
      " $ B365A      : num  1.65 1.65 5.5 2.6 4.2 6.5 3.6 2.3 5.5 8 ...\n",
      " $ BWH        : num  5.5 4.4 1.67 2.95 2.05 1.6 2.15 3.1 1.65 1.45 ...\n",
      " $ BWD        : num  3.8 4.2 3.75 3.1 3.25 3.8 3.3 3.4 3.75 4.33 ...\n",
      " $ BWA        : num  1.65 1.72 5.5 2.6 3.9 6.25 3.6 2.3 5.75 7.5 ...\n",
      " $ IWH        : num  5 5.3 1.67 2.9 2.05 1.63 2.2 3.1 1.63 1.45 ...\n",
      " $ IWD        : num  3.8 4.2 3.75 3.1 3.1 4 3.25 3.4 3.75 4.4 ...\n",
      " $ IWA        : num  1.7 1.6 5.3 2.6 4.05 5.5 3.4 2.3 5.7 7.2 ...\n",
      " $ PSH        : num  5.15 4.73 1.68 2.98 2.1 1.62 2.29 3.13 1.63 1.49 ...\n",
      " $ PSD        : num  3.84 4.18 3.94 3.14 3.21 3.99 3.31 3.56 3.81 4.34 ...\n",
      " $ PSA        : num  1.74 1.72 5.47 2.66 4.13 6.13 3.45 2.33 6.38 7.58 ...\n",
      " $ WHH        : num  5 5.25 1.67 2.9 2.05 1.6 2.25 3 1.62 1.47 ...\n",
      " $ WHD        : num  3.8 4.2 3.8 3.1 3.2 3.9 3.3 3.5 3.75 4.2 ...\n",
      " $ WHA        : num  1.7 1.6 5.25 2.62 4 5.8 3.3 2.3 6 8 ...\n",
      " $ VCH        : num  5 4.75 1.67 2.9 2.1 1.65 2.25 3 1.62 1.45 ...\n",
      " $ VCD        : num  3.8 4.2 3.9 3.13 3.2 4 3.3 3.5 3.8 4.2 ...\n",
      " $ VCA        : num  1.75 1.73 5.75 2.7 4.1 5.75 3.3 2.3 5.75 8 ...\n",
      " $ MaxH       : num  5.5 5.3 1.72 3.05 2.1 1.65 2.31 3.2 1.67 1.52 ...\n",
      " $ MaxD       : num  3.95 4.4 3.98 3.2 3.3 4.15 3.4 3.56 3.9 4.5 ...\n",
      " $ MaxA       : num  1.76 1.73 5.75 2.7 4.25 6.5 3.6 2.4 6.5 8.5 ...\n",
      " $ AvgH       : num  5.07 4.67 1.68 2.91 2.06 1.61 2.23 3.08 1.64 1.47 ...\n",
      " $ AvgD       : num  3.81 4.12 3.8 3.09 3.18 3.95 3.25 3.41 3.76 4.23 ...\n",
      " $ AvgA       : num  1.71 1.69 5.29 2.62 4.02 5.8 3.43 2.33 5.78 7.63 ...\n",
      " $ B365.2.5   : num  1.8 1.53 2 2.3 2.5 1.8 2.1 1.9 2.1 2.2 ...\n",
      " $ B365.2.5.1 : num  2 2.5 1.8 1.61 1.53 2 1.72 1.9 1.72 1.66 ...\n",
      " $ P.2.5      : num  1.81 1.52 2.08 2.45 2.72 1.88 2.16 1.95 2.16 2.3 ...\n",
      " $ P.2.5.1    : num  2.09 2.66 1.82 1.6 1.5 2.02 1.76 1.95 1.76 1.68 ...\n",
      " $ Max.2.5    : num  1.85 1.53 2.14 2.47 2.75 1.9 2.2 1.98 2.21 2.3 ...\n",
      " $ Max.2.5.1  : num  2.11 2.72 1.83 1.65 1.54 2.05 1.77 1.95 1.78 1.71 ...\n",
      " $ Avg.2.5    : num  1.79 1.49 2.07 2.34 2.59 1.84 2.13 1.92 2.13 2.23 ...\n",
      " $ Avg.2.5.1  : num  2.05 2.58 1.77 1.6 1.49 1.98 1.72 1.89 1.72 1.66 ...\n",
      " $ AHh        : num  0.75 0.75 -0.75 0 -0.5 -1 -0.25 0.25 -0.75 -1 ...\n",
      " $ B365AHH    : num  1.99 2.04 1.91 2.05 2.08 2.05 1.95 1.88 1.86 1.88 ...\n",
      " $ B365AHA    : num  1.94 1.89 2.02 1.88 1.85 1.75 1.98 2.05 2.07 2.05 ...\n",
      " $ PAHH       : num  1.98 2.01 1.91 2.07 2.1 2.11 1.96 1.9 1.84 1.88 ...\n",
      " $ PAHA       : num  1.94 1.91 2.01 1.85 1.82 1.81 1.96 2.02 2.08 2.04 ...\n",
      " $ MaxAHH     : num  2 2.05 1.93 2.07 2.1 2.14 1.97 1.9 1.87 1.89 ...\n",
      " $ MaxAHA     : num  1.95 1.91 2.03 1.88 1.85 1.85 1.99 2.06 2.08 2.08 ...\n",
      " $ AvgAHH     : num  1.96 2 1.89 2.04 2.06 2.07 1.93 1.87 1.83 1.85 ...\n",
      " $ AvgAHA     : num  1.92 1.88 1.99 1.85 1.83 1.8 1.95 2.01 2.06 2.03 ...\n",
      " $ B365CH     : num  5.25 5.25 1.66 2.87 1.9 1.53 2.3 3 1.8 1.5 ...\n",
      " $ B365CD     : num  3.8 4.2 3.75 3.2 3.1 4 3.4 3.4 3.6 4 ...\n",
      " $ B365CA     : num  1.65 1.57 5.5 2.55 5 6.5 3.2 2.4 4.75 8 ...\n",
      " $ BWCH       : num  4.75 4.5 1.65 2.95 1.95 1.57 2.35 3 1.8 1.5 ...\n",
      " $ BWCD       : num  3.75 4.1 3.8 3.1 3.2 3.8 3.2 3.4 3.4 3.9 ...\n",
      " $ BWCA       : num  1.75 1.7 5.5 2.6 4.5 6.5 3.2 2.35 5 7.75 ...\n",
      " $ IWCH       : num  5 4.6 1.67 2.9 1.9 1.55 2.35 3 1.85 1.5 ...\n",
      " $ IWCD       : num  3.8 3.8 3.8 3.1 3.15 4.05 3.25 3.35 3.55 3.9 ...\n",
      " $ IWCA       : num  1.7 1.75 5.3 2.6 4.85 6.3 3.15 2.35 4.4 7.6 ...\n",
      " $ PSCH       : num  5.34 5.1 1.69 2.96 1.9 1.54 2.43 3.13 1.82 1.57 ...\n",
      " $ PSCD       : num  3.62 4.46 3.88 3.26 3.18 4.19 3.27 3.38 3.53 3.78 ...\n",
      " $ PSCA       : num  1.78 1.65 5.47 2.6 5.3 6.87 3.2 2.41 5.07 7.66 ...\n",
      " $ WHCH       : num  5 5 1.65 2.9 2.05 1.62 2.25 3 1.78 1.5 ...\n",
      " $ WHCD       : num  3.8 4.2 3.9 3.1 3.2 3.9 3.3 3.4 3.5 3.8 ...\n",
      " $ WHCA       : num  1.7 1.63 5.25 2.6 4 5.8 3.3 2.35 5 8 ...\n",
      " $ VCCH       : num  4.8 5.2 1.7 3 1.9 1.57 2.45 3.13 1.87 1.55 ...\n",
      " $ VCCD       : num  3.8 4.4 3.9 3.13 3.2 4 3.3 3.4 3.5 3.9 ...\n",
      " $ VCCA       : num  1.8 1.65 5.5 2.63 5.2 7 3.13 2.4 4.6 8 ...\n",
      " $ MaxCH      : num  5.8 6 1.72 3.05 1.95 1.58 2.46 3.38 1.87 1.58 ...\n",
      " $ MaxCD      : num  3.9 4.52 3.95 3.29 3.26 4.2 3.42 3.47 3.65 4.05 ...\n",
      " $ MaxCA      : num  1.81 1.75 6.2 2.72 5.3 7.3 3.58 2.48 5.35 8.9 ...\n",
      " $ AvgCH      : num  5.03 4.93 1.68 2.93 1.9 1.54 2.37 3.05 1.83 1.53 ...\n",
      " $ AvgCD      : num  3.66 4.26 3.82 3.14 3.16 4.05 3.25 3.34 3.5 3.84 ...\n",
      " $ AvgCA      : num  1.76 1.65 5.37 2.59 4.91 6.66 3.18 2.39 4.74 7.68 ...\n",
      " $ B365C.2.5  : num  1.9 1.44 2 2.2 2.75 1.9 2.1 2 2 2.37 ...\n",
      " $ B365C.2.5.1: num  1.9 2.75 1.8 1.66 1.44 1.9 1.72 1.8 1.8 1.57 ...\n",
      " $ PC.2.5     : num  1.98 1.49 2.06 2.2 2.84 1.95 2.18 2.04 2.03 2.43 ...\n",
      " $ PC.2.5.1   : num  1.93 2.76 1.85 1.74 1.47 1.95 1.75 1.85 1.87 1.61 ...\n",
      " $ MaxC.2.5   : num  1.99 1.51 2.08 2.38 2.85 1.98 2.18 2.09 2.07 2.46 ...\n",
      " $ MaxC.2.5.1 : num  2.11 2.88 1.98 1.74 1.5 2.1 1.83 2.05 1.92 1.65 ...\n",
      " $ AvgC.2.5   : num  1.86 1.47 2 2.24 2.69 1.9 2.1 1.97 1.99 2.36 ...\n",
      " $ AvgC.2.5.1 : num  1.97 2.63 1.82 1.66 1.46 1.92 1.74 1.85 1.83 1.59 ...\n",
      " $ AHCh       : num  0.75 1 -0.75 0 -0.5 -1 -0.25 0.25 -0.75 -1 ...\n",
      " $ B365CAHH   : num  1.93 1.82 1.94 2.11 1.89 1.96 2.08 1.86 2.02 2.06 ...\n",
      " $ B365CAHA   : num  2 1.97 1.99 1.82 2.04 1.97 1.85 2.07 1.77 1.87 ...\n",
      "  [list output truncated]\n"
     ]
    }
   ],
   "source": [
    "str(DatosT1920) #Estructura de los datos"
   ]
  },
  {
   "cell_type": "markdown",
   "metadata": {},
   "source": [
    "2. Se extrae las columnas que contienen los números de goles anotados por los equipos que jugaron en casa (FTHG) y los goles anotados por los equipos que jugaron como visitante (FTAG)"
   ]
  },
  {
   "cell_type": "code",
   "execution_count": 5,
   "metadata": {},
   "outputs": [],
   "source": [
    "Goles <- select(DatosT1920, FTHG,FTAG)"
   ]
  },
  {
   "cell_type": "markdown",
   "metadata": {},
   "source": [
    "3. Se elaboran tablas de frecuencias relativas para estimar las siguientes probabilidades marginales del equipo que juega en casa, la probabilidad marguinal para el equipo que juega como visitante y la probabilidad conjunta."
   ]
  },
  {
   "cell_type": "markdown",
   "metadata": {},
   "source": [
    "Dado un conjunto de datos se puede realizar una tabla que contenga las probabilidad de obtener un suceso a y b al mismo tiempo y las probabilidades de obtener un suceso a o b por separado. \n",
    "<img src=\"https://lh3.googleusercontent.com/proxy/YAogRwbYcDKD0RF4Z4nhCx-xahhkt5XiHk6XGzgqTukbOGt2o6WVnE5vdwrr1sS_KgUrRBO7xB1SMf1FgLMY8Ja7rC3gynmb-wydiXy-_z4myZUGt3KI3QuoEnibpIqkyoe0Nc98bhLvUzSO0qhtWDypNedefo--jtKIokAono0QpeU9970QMG-718iAec2gmu4eFRfqn_-gHIRI7UxpdJ-wQuHRVMJ9-AbDHlnVFWKQLBU\">"
   ]
  },
  {
   "cell_type": "code",
   "execution_count": 6,
   "metadata": {},
   "outputs": [
    {
     "name": "stdout",
     "output_type": "stream",
     "text": [
      "[1] \"Probabilidad conjunta\"\n"
     ]
    },
    {
     "data": {
      "text/plain": [
       "         \n",
       "          0 goles  1 gol 2 goles 3 goles 4 goles 5 goles\n",
       "  0 goles  0.0868 0.0737  0.0395  0.0211  0.0053  0.0053\n",
       "  1 gol    0.1132 0.1289  0.0842  0.0132  0.0079  0.0000\n",
       "  2 goles  0.1026 0.0921  0.0526  0.0079  0.0053  0.0000\n",
       "  3 goles  0.0368 0.0368  0.0184  0.0053  0.0026  0.0000\n",
       "  4 goles  0.0105 0.0132  0.0105  0.0000  0.0026  0.0000\n",
       "  5 goles  0.0053 0.0079  0.0079  0.0000  0.0000  0.0000\n",
       "  6 goles  0.0026 0.0000  0.0000  0.0000  0.0000  0.0000"
      ]
     },
     "metadata": {},
     "output_type": "display_data"
    }
   ],
   "source": [
    "ProbConjunta <- prop.table(table(Goles$FTHG, Goles$FTAG ))\n",
    "colnames(ProbConjunta) <- c(\"0 goles\", \"1 gol\", \"2 goles\", \"3 goles\", \"4 goles\", \"5 goles\")\n",
    "rownames(ProbConjunta) <- c(\"0 goles\", \"1 gol\", \"2 goles\", \"3 goles\", \"4 goles\", \"5 goles\", \"6 goles\")\n",
    "\n",
    "print('Probabilidad conjunta')\n",
    "round(ProbConjunta,4)"
   ]
  },
  {
   "cell_type": "code",
   "execution_count": 7,
   "metadata": {},
   "outputs": [
    {
     "data": {
      "text/html": [
       "<table>\n",
       "<thead><tr><th></th><th scope=col>ProbCasa</th><th scope=col>ProbVisitante</th></tr></thead>\n",
       "<tbody>\n",
       "\t<tr><th scope=row>0 goles</th><td>0.231578947</td><td>0.357894737</td></tr>\n",
       "\t<tr><th scope=row>1 gol</th><td>0.347368421</td><td>0.352631579</td></tr>\n",
       "\t<tr><th scope=row>2 goles</th><td>0.260526316</td><td>0.213157895</td></tr>\n",
       "\t<tr><th scope=row>3 goles</th><td>0.100000000</td><td>0.047368421</td></tr>\n",
       "\t<tr><th scope=row>4 goles</th><td>0.036842105</td><td>0.023684211</td></tr>\n",
       "\t<tr><th scope=row>5 goles</th><td>0.021052632</td><td>0.005263158</td></tr>\n",
       "\t<tr><th scope=row>6 goles</th><td>0.002631579</td><td>        NaN</td></tr>\n",
       "</tbody>\n",
       "</table>\n"
      ],
      "text/latex": [
       "\\begin{tabular}{r|ll}\n",
       "  & ProbCasa & ProbVisitante\\\\\n",
       "\\hline\n",
       "\t0 goles & 0.231578947 & 0.357894737\\\\\n",
       "\t1 gol & 0.347368421 & 0.352631579\\\\\n",
       "\t2 goles & 0.260526316 & 0.213157895\\\\\n",
       "\t3 goles & 0.100000000 & 0.047368421\\\\\n",
       "\t4 goles & 0.036842105 & 0.023684211\\\\\n",
       "\t5 goles & 0.021052632 & 0.005263158\\\\\n",
       "\t6 goles & 0.002631579 &         NaN\\\\\n",
       "\\end{tabular}\n"
      ],
      "text/markdown": [
       "\n",
       "| <!--/--> | ProbCasa | ProbVisitante |\n",
       "|---|---|---|\n",
       "| 0 goles | 0.231578947 | 0.357894737 |\n",
       "| 1 gol | 0.347368421 | 0.352631579 |\n",
       "| 2 goles | 0.260526316 | 0.213157895 |\n",
       "| 3 goles | 0.100000000 | 0.047368421 |\n",
       "| 4 goles | 0.036842105 | 0.023684211 |\n",
       "| 5 goles | 0.021052632 | 0.005263158 |\n",
       "| 6 goles | 0.002631579 |         NaN |\n",
       "\n"
      ],
      "text/plain": [
       "        ProbCasa    ProbVisitante\n",
       "0 goles 0.231578947 0.357894737  \n",
       "1 gol   0.347368421 0.352631579  \n",
       "2 goles 0.260526316 0.213157895  \n",
       "3 goles 0.100000000 0.047368421  \n",
       "4 goles 0.036842105 0.023684211  \n",
       "5 goles 0.021052632 0.005263158  \n",
       "6 goles 0.002631579         NaN  "
      ]
     },
     "metadata": {},
     "output_type": "display_data"
    }
   ],
   "source": [
    "ProbCasa<- prop.table(apply(ProbConjunta,MARGIN = 1,sum))\n",
    "ProbVisitante<- prop.table( apply(ProbConjunta,MARGIN = 2,sum))\n",
    "ProbMarginal <- cbind(ProbCasa,c(ProbVisitante, NaN))\n",
    "colnames(ProbMarginal)[2] <- 'ProbVisitante'\n",
    "ProbMarginal"
   ]
  },
  {
   "cell_type": "code",
   "execution_count": 8,
   "metadata": {},
   "outputs": [
    {
     "data": {
      "text/html": [
       "<table>\n",
       "<thead><tr><th></th><th scope=col>0 goles</th><th scope=col>1 gol</th><th scope=col>2 goles</th><th scope=col>3 goles</th><th scope=col>4 goles</th><th scope=col>5 goles</th><th scope=col>ProbCasa</th></tr></thead>\n",
       "<tbody>\n",
       "\t<tr><th scope=row>0 goles</th><td>0.086842105</td><td>0.073684211</td><td>0.039473684</td><td>0.021052632</td><td>0.005263158</td><td>0.005263158</td><td>0.231578947</td></tr>\n",
       "\t<tr><th scope=row>1 gol</th><td>0.113157895</td><td>0.128947368</td><td>0.084210526</td><td>0.013157895</td><td>0.007894737</td><td>0.000000000</td><td>0.347368421</td></tr>\n",
       "\t<tr><th scope=row>2 goles</th><td>0.102631579</td><td>0.092105263</td><td>0.052631579</td><td>0.007894737</td><td>0.005263158</td><td>0.000000000</td><td>0.260526316</td></tr>\n",
       "\t<tr><th scope=row>3 goles</th><td>0.036842105</td><td>0.036842105</td><td>0.018421053</td><td>0.005263158</td><td>0.002631579</td><td>0.000000000</td><td>0.100000000</td></tr>\n",
       "\t<tr><th scope=row>4 goles</th><td>0.010526316</td><td>0.013157895</td><td>0.010526316</td><td>0.000000000</td><td>0.002631579</td><td>0.000000000</td><td>0.036842105</td></tr>\n",
       "\t<tr><th scope=row>5 goles</th><td>0.005263158</td><td>0.007894737</td><td>0.007894737</td><td>0.000000000</td><td>0.000000000</td><td>0.000000000</td><td>0.021052632</td></tr>\n",
       "\t<tr><th scope=row>6 goles</th><td>0.002631579</td><td>0.000000000</td><td>0.000000000</td><td>0.000000000</td><td>0.000000000</td><td>0.000000000</td><td>0.002631579</td></tr>\n",
       "\t<tr><th scope=row>ProbVisitante</th><td>0.357894737</td><td>0.352631579</td><td>0.213157895</td><td>0.047368421</td><td>0.023684211</td><td>0.005263158</td><td>        NaN</td></tr>\n",
       "</tbody>\n",
       "</table>\n"
      ],
      "text/latex": [
       "\\begin{tabular}{r|lllllll}\n",
       "  & 0 goles & 1 gol & 2 goles & 3 goles & 4 goles & 5 goles & ProbCasa\\\\\n",
       "\\hline\n",
       "\t0 goles & 0.086842105 & 0.073684211 & 0.039473684 & 0.021052632 & 0.005263158 & 0.005263158 & 0.231578947\\\\\n",
       "\t1 gol & 0.113157895 & 0.128947368 & 0.084210526 & 0.013157895 & 0.007894737 & 0.000000000 & 0.347368421\\\\\n",
       "\t2 goles & 0.102631579 & 0.092105263 & 0.052631579 & 0.007894737 & 0.005263158 & 0.000000000 & 0.260526316\\\\\n",
       "\t3 goles & 0.036842105 & 0.036842105 & 0.018421053 & 0.005263158 & 0.002631579 & 0.000000000 & 0.100000000\\\\\n",
       "\t4 goles & 0.010526316 & 0.013157895 & 0.010526316 & 0.000000000 & 0.002631579 & 0.000000000 & 0.036842105\\\\\n",
       "\t5 goles & 0.005263158 & 0.007894737 & 0.007894737 & 0.000000000 & 0.000000000 & 0.000000000 & 0.021052632\\\\\n",
       "\t6 goles & 0.002631579 & 0.000000000 & 0.000000000 & 0.000000000 & 0.000000000 & 0.000000000 & 0.002631579\\\\\n",
       "\tProbVisitante & 0.357894737 & 0.352631579 & 0.213157895 & 0.047368421 & 0.023684211 & 0.005263158 &         NaN\\\\\n",
       "\\end{tabular}\n"
      ],
      "text/markdown": [
       "\n",
       "| <!--/--> | 0 goles | 1 gol | 2 goles | 3 goles | 4 goles | 5 goles | ProbCasa |\n",
       "|---|---|---|---|---|---|---|---|\n",
       "| 0 goles | 0.086842105 | 0.073684211 | 0.039473684 | 0.021052632 | 0.005263158 | 0.005263158 | 0.231578947 |\n",
       "| 1 gol | 0.113157895 | 0.128947368 | 0.084210526 | 0.013157895 | 0.007894737 | 0.000000000 | 0.347368421 |\n",
       "| 2 goles | 0.102631579 | 0.092105263 | 0.052631579 | 0.007894737 | 0.005263158 | 0.000000000 | 0.260526316 |\n",
       "| 3 goles | 0.036842105 | 0.036842105 | 0.018421053 | 0.005263158 | 0.002631579 | 0.000000000 | 0.100000000 |\n",
       "| 4 goles | 0.010526316 | 0.013157895 | 0.010526316 | 0.000000000 | 0.002631579 | 0.000000000 | 0.036842105 |\n",
       "| 5 goles | 0.005263158 | 0.007894737 | 0.007894737 | 0.000000000 | 0.000000000 | 0.000000000 | 0.021052632 |\n",
       "| 6 goles | 0.002631579 | 0.000000000 | 0.000000000 | 0.000000000 | 0.000000000 | 0.000000000 | 0.002631579 |\n",
       "| ProbVisitante | 0.357894737 | 0.352631579 | 0.213157895 | 0.047368421 | 0.023684211 | 0.005263158 |         NaN |\n",
       "\n"
      ],
      "text/plain": [
       "              0 goles     1 gol       2 goles     3 goles     4 goles    \n",
       "0 goles       0.086842105 0.073684211 0.039473684 0.021052632 0.005263158\n",
       "1 gol         0.113157895 0.128947368 0.084210526 0.013157895 0.007894737\n",
       "2 goles       0.102631579 0.092105263 0.052631579 0.007894737 0.005263158\n",
       "3 goles       0.036842105 0.036842105 0.018421053 0.005263158 0.002631579\n",
       "4 goles       0.010526316 0.013157895 0.010526316 0.000000000 0.002631579\n",
       "5 goles       0.005263158 0.007894737 0.007894737 0.000000000 0.000000000\n",
       "6 goles       0.002631579 0.000000000 0.000000000 0.000000000 0.000000000\n",
       "ProbVisitante 0.357894737 0.352631579 0.213157895 0.047368421 0.023684211\n",
       "              5 goles     ProbCasa   \n",
       "0 goles       0.005263158 0.231578947\n",
       "1 gol         0.000000000 0.347368421\n",
       "2 goles       0.000000000 0.260526316\n",
       "3 goles       0.000000000 0.100000000\n",
       "4 goles       0.000000000 0.036842105\n",
       "5 goles       0.000000000 0.021052632\n",
       "6 goles       0.000000000 0.002631579\n",
       "ProbVisitante 0.005263158         NaN"
      ]
     },
     "metadata": {},
     "output_type": "display_data"
    }
   ],
   "source": [
    "Probabilidad<-rbind(cbind(ProbConjunta,ProbCasa),c(ProbVisitante,NaN))\n",
    "rownames(Probabilidad)[8] <- 'ProbVisitante'\n",
    "Probabilidad"
   ]
  },
  {
   "cell_type": "code",
   "execution_count": 9,
   "metadata": {},
   "outputs": [
    {
     "data": {
      "image/png": "[encoded data removed]",
      "text/plain": [
       "Plot with title \"Goles de los visitante\""
      ]
     },
     "metadata": {},
     "output_type": "display_data"
    }
   ],
   "source": [
    "#Graficas de las probabilidades marginales\n",
    "layout(matrix(c(1:2), nrow=2, byrow=FALSE))\n",
    "barplot(ProbCasa, main = \"Goles de casa\",xlab=\"Goles\",ylab=\"Frecuencia relativa\",\n",
    "        col = \"steelblue\")\n",
    "\n",
    "barplot(ProbVisitante, main = \"Goles de los visitante\",xlab=\"Goles\",ylab=\"Frecuencia relativa\",\n",
    "        col = \"steelblue\")\n"
   ]
  },
  {
   "cell_type": "markdown",
   "metadata": {},
   "source": [
    "### Postwork 2"
   ]
  },
  {
   "cell_type": "markdown",
   "metadata": {},
   "source": [
    "1. Se importa los datos de soccer de las temporadas 2017/2018, 2018/2019 y 2019/2020 de la primera división de la liga española, los datos los puedes encontrar en el siguiente enlace: https://www.football-data.co.uk/spainm.php"
   ]
  },
  {
   "cell_type": "code",
   "execution_count": 10,
   "metadata": {},
   "outputs": [],
   "source": [
    "LinkT1718 <- \"https://www.football-data.co.uk/mmz4281/1718/SP1.csv\"\n",
    "LinkT1819 <- \"https://www.football-data.co.uk/mmz4281/1819/SP1.csv\"\n",
    "LinkT1920 <- \"https://www.football-data.co.uk/mmz4281/1920/SP1.csv\""
   ]
  },
  {
   "cell_type": "code",
   "execution_count": 11,
   "metadata": {},
   "outputs": [],
   "source": [
    "download.file(url = LinkT1920, destfile = \"SP1.1920.csv\", mode = \"wb\")\n",
    "download.file(url = LinkT1819, destfile = \"SP1.1819.csv\", mode = \"wb\")\n",
    "download.file(url = LinkT1718, destfile = \"SP1.1718.csv\", mode = \"wb\")"
   ]
  },
  {
   "cell_type": "code",
   "execution_count": 12,
   "metadata": {},
   "outputs": [],
   "source": [
    "LigaEspanola <- lapply(dir()[6:8] , read.csv) \n",
    "#Si tienes más archivos en tu carpeta, tienes que colorar indices en el dir()[a:b]"
   ]
  },
  {
   "cell_type": "markdown",
   "metadata": {},
   "source": [
    "2. Las estructuras de de los datas frames al usar las funciones"
   ]
  },
  {
   "cell_type": "code",
   "execution_count": 118,
   "metadata": {},
   "outputs": [
    {
     "data": {
      "text/plain": [
       "[[1]]\n",
       "       Date           HomeTeam         AwayTeam        FTHG      \n",
       " 12/05/18:  8   Alaves    : 19   Alaves    : 19   Min.   :0.000  \n",
       " 19/05/18:  6   Ath Bilbao: 19   Ath Bilbao: 19   1st Qu.:0.750  \n",
       " 01/04/18:  5   Ath Madrid: 19   Ath Madrid: 19   Median :1.000  \n",
       " 01/10/17:  5   Barcelona : 19   Barcelona : 19   Mean   :1.547  \n",
       " 03/03/18:  5   Betis     : 19   Betis     : 19   3rd Qu.:2.000  \n",
       " 05/11/17:  5   Celta     : 19   Celta     : 19   Max.   :7.000  \n",
       " (Other) :346   (Other)   :266   (Other)   :266                  \n",
       "      FTAG       FTR    \n",
       " Min.   :0.000   A:115  \n",
       " 1st Qu.:0.000   D: 86  \n",
       " Median :1.000   H:179  \n",
       " Mean   :1.147          \n",
       " 3rd Qu.:2.000          \n",
       " Max.   :6.000          \n",
       "                        \n",
       "\n",
       "[[2]]\n",
       "         Date           HomeTeam         AwayTeam        FTHG      \n",
       " 12/05/2019: 10   Alaves    : 19   Alaves    : 19   Min.   :0.000  \n",
       " 18/05/2019:  8   Ath Bilbao: 19   Ath Bilbao: 19   1st Qu.:1.000  \n",
       " 07/04/2019:  6   Ath Madrid: 19   Ath Madrid: 19   Median :1.000  \n",
       " 04/11/2018:  5   Barcelona : 19   Barcelona : 19   Mean   :1.453  \n",
       " 05/05/2019:  5   Betis     : 19   Betis     : 19   3rd Qu.:2.000  \n",
       " 07/10/2018:  5   Celta     : 19   Celta     : 19   Max.   :8.000  \n",
       " (Other)   :341   (Other)   :266   (Other)   :266                  \n",
       "      FTAG       FTR    \n",
       " Min.   :0.000   A:102  \n",
       " 1st Qu.:0.000   D:110  \n",
       " Median :1.000   H:168  \n",
       " Mean   :1.134          \n",
       " 3rd Qu.:2.000          \n",
       " Max.   :6.000          \n",
       "                        \n",
       "\n",
       "[[3]]\n",
       "         Date           HomeTeam         AwayTeam        FTHG      \n",
       " 16/07/2020: 10   Alaves    : 19   Alaves    : 19   Min.   :0.000  \n",
       " 19/07/2020: 10   Ath Bilbao: 19   Ath Bilbao: 19   1st Qu.:1.000  \n",
       " 02/02/2020:  6   Ath Madrid: 19   Ath Madrid: 19   Median :1.000  \n",
       " 03/11/2019:  6   Barcelona : 19   Barcelona : 19   Mean   :1.437  \n",
       " 01/03/2020:  5   Betis     : 19   Betis     : 19   3rd Qu.:2.000  \n",
       " 01/12/2019:  5   Celta     : 19   Celta     : 19   Max.   :6.000  \n",
       " (Other)   :338   (Other)   :266   (Other)   :266                  \n",
       "      FTAG       FTR    \n",
       " Min.   :0.000   A:101  \n",
       " 1st Qu.:0.000   D:105  \n",
       " Median :1.000   H:174  \n",
       " Mean   :1.042          \n",
       " 3rd Qu.:2.000          \n",
       " Max.   :5.000          \n",
       "                        \n"
      ]
     },
     "metadata": {},
     "output_type": "display_data"
    },
    {
     "name": "stdout",
     "output_type": "stream",
     "text": [
      "'data.frame':\t380 obs. of  6 variables:\n",
      " $ Date    : Factor w/ 137 levels \"01/03/18\",\"01/04/18\",..: 75 75 83 83 83 90 90 90 97 97 ...\n",
      " $ HomeTeam: Factor w/ 20 levels \"Alaves\",\"Ath Bilbao\",..: 13 19 6 10 17 2 4 11 14 15 ...\n",
      " $ AwayTeam: Factor w/ 20 levels \"Alaves\",\"Ath Bilbao\",..: 1 12 18 3 8 9 5 16 20 7 ...\n",
      " $ FTHG    : int  1 1 2 2 1 0 2 0 1 0 ...\n",
      " $ FTAG    : int  0 0 3 2 1 0 0 3 0 1 ...\n",
      " $ FTR     : Factor w/ 3 levels \"A\",\"D\",\"H\": 3 3 1 2 2 2 3 1 3 1 ...\n",
      "'data.frame':\t380 obs. of  6 variables:\n",
      " $ Date    : Factor w/ 129 levels \"01/02/2019\",\"01/03/2019\",..: 68 68 74 74 74 78 78 78 82 82 ...\n",
      " $ HomeTeam: Factor w/ 20 levels \"Alaves\",\"Ath Bilbao\",..: 5 10 4 6 20 7 14 19 2 17 ...\n",
      " $ AwayTeam: Factor w/ 20 levels \"Alaves\",\"Ath Bilbao\",..: 13 18 1 8 16 11 9 15 12 3 ...\n",
      " $ FTHG    : int  0 0 3 1 1 1 2 1 2 1 ...\n",
      " $ FTAG    : int  3 0 0 1 2 2 0 4 1 1 ...\n",
      " $ FTR     : Factor w/ 3 levels \"A\",\"D\",\"H\": 1 2 3 2 1 1 3 1 3 2 ...\n",
      "'data.frame':\t380 obs. of  6 variables:\n",
      " $ Date    : Factor w/ 116 levels \"01/02/2020\",\"01/03/2020\",..: 56 59 59 59 59 59 62 62 62 62 ...\n",
      " $ HomeTeam: Factor w/ 20 levels \"Alaves\",\"Ath Bilbao\",..: 2 6 18 13 11 20 1 8 5 3 ...\n",
      " $ AwayTeam: Factor w/ 20 levels \"Alaves\",\"Ath Bilbao\",..: 4 15 17 7 14 10 12 16 19 9 ...\n",
      " $ FTHG    : int  1 1 1 2 0 4 1 0 1 1 ...\n",
      " $ FTAG    : int  0 3 1 1 1 4 0 2 2 0 ...\n",
      " $ FTR     : Factor w/ 3 levels \"A\",\"D\",\"H\": 3 1 2 3 1 2 3 1 1 3 ...\n"
     ]
    },
    {
     "data": {
      "text/html": [
       "<ol>\n",
       "\t<li>NULL</li>\n",
       "\t<li>NULL</li>\n",
       "\t<li>NULL</li>\n",
       "</ol>\n"
      ],
      "text/latex": [
       "\\begin{enumerate}\n",
       "\\item NULL\n",
       "\\item NULL\n",
       "\\item NULL\n",
       "\\end{enumerate}\n"
      ],
      "text/markdown": [
       "1. NULL\n",
       "2. NULL\n",
       "3. NULL\n",
       "\n",
       "\n"
      ],
      "text/plain": [
       "[[1]]\n",
       "NULL\n",
       "\n",
       "[[2]]\n",
       "NULL\n",
       "\n",
       "[[3]]\n",
       "NULL\n"
      ]
     },
     "metadata": {},
     "output_type": "display_data"
    },
    {
     "data": {
      "text/html": [
       "<ol>\n",
       "\t<li><table>\n",
       "<thead><tr><th scope=col>Date</th><th scope=col>HomeTeam</th><th scope=col>AwayTeam</th><th scope=col>FTHG</th><th scope=col>FTAG</th><th scope=col>FTR</th></tr></thead>\n",
       "<tbody>\n",
       "\t<tr><td>18/08/17  </td><td>Leganes   </td><td>Alaves    </td><td>1         </td><td>0         </td><td>H         </td></tr>\n",
       "\t<tr><td>18/08/17  </td><td>Valencia  </td><td>Las Palmas</td><td>1         </td><td>0         </td><td>H         </td></tr>\n",
       "\t<tr><td>19/08/17  </td><td>Celta     </td><td>Sociedad  </td><td>2         </td><td>3         </td><td>A         </td></tr>\n",
       "\t<tr><td>19/08/17  </td><td>Girona    </td><td>Ath Madrid</td><td>2         </td><td>2         </td><td>D         </td></tr>\n",
       "\t<tr><td>19/08/17  </td><td>Sevilla   </td><td>Espanol   </td><td>1         </td><td>1         </td><td>D         </td></tr>\n",
       "\t<tr><td>20/08/17  </td><td>Ath Bilbao</td><td>Getafe    </td><td>0         </td><td>0         </td><td>D         </td></tr>\n",
       "</tbody>\n",
       "</table>\n",
       "</li>\n",
       "\t<li><table>\n",
       "<thead><tr><th scope=col>Date</th><th scope=col>HomeTeam</th><th scope=col>AwayTeam</th><th scope=col>FTHG</th><th scope=col>FTAG</th><th scope=col>FTR</th></tr></thead>\n",
       "<tbody>\n",
       "\t<tr><td>17/08/2018</td><td>Betis     </td><td>Levante   </td><td>0         </td><td>3         </td><td>A         </td></tr>\n",
       "\t<tr><td>17/08/2018</td><td>Girona    </td><td>Valladolid</td><td>0         </td><td>0         </td><td>D         </td></tr>\n",
       "\t<tr><td>18/08/2018</td><td>Barcelona </td><td>Alaves    </td><td>3         </td><td>0         </td><td>H         </td></tr>\n",
       "\t<tr><td>18/08/2018</td><td>Celta     </td><td>Espanol   </td><td>1         </td><td>1         </td><td>D         </td></tr>\n",
       "\t<tr><td>18/08/2018</td><td>Villarreal</td><td>Sociedad  </td><td>1         </td><td>2         </td><td>A         </td></tr>\n",
       "\t<tr><td>19/08/2018</td><td>Eibar     </td><td>Huesca    </td><td>1         </td><td>2         </td><td>A         </td></tr>\n",
       "</tbody>\n",
       "</table>\n",
       "</li>\n",
       "\t<li><table>\n",
       "<thead><tr><th scope=col>Date</th><th scope=col>HomeTeam</th><th scope=col>AwayTeam</th><th scope=col>FTHG</th><th scope=col>FTAG</th><th scope=col>FTR</th></tr></thead>\n",
       "<tbody>\n",
       "\t<tr><td>16/08/2019 </td><td>Ath Bilbao </td><td>Barcelona  </td><td>1          </td><td>0          </td><td>H          </td></tr>\n",
       "\t<tr><td>17/08/2019 </td><td>Celta      </td><td>Real Madrid</td><td>1          </td><td>3          </td><td>A          </td></tr>\n",
       "\t<tr><td>17/08/2019 </td><td>Valencia   </td><td>Sociedad   </td><td>1          </td><td>1          </td><td>D          </td></tr>\n",
       "\t<tr><td>17/08/2019 </td><td>Mallorca   </td><td>Eibar      </td><td>2          </td><td>1          </td><td>H          </td></tr>\n",
       "\t<tr><td>17/08/2019 </td><td>Leganes    </td><td>Osasuna    </td><td>0          </td><td>1          </td><td>A          </td></tr>\n",
       "\t<tr><td>17/08/2019 </td><td>Villarreal </td><td>Granada    </td><td>4          </td><td>4          </td><td>D          </td></tr>\n",
       "</tbody>\n",
       "</table>\n",
       "</li>\n",
       "</ol>\n"
      ],
      "text/latex": [
       "\\begin{enumerate}\n",
       "\\item \\begin{tabular}{r|llllll}\n",
       " Date & HomeTeam & AwayTeam & FTHG & FTAG & FTR\\\\\n",
       "\\hline\n",
       "\t 18/08/17   & Leganes    & Alaves     & 1          & 0          & H         \\\\\n",
       "\t 18/08/17   & Valencia   & Las Palmas & 1          & 0          & H         \\\\\n",
       "\t 19/08/17   & Celta      & Sociedad   & 2          & 3          & A         \\\\\n",
       "\t 19/08/17   & Girona     & Ath Madrid & 2          & 2          & D         \\\\\n",
       "\t 19/08/17   & Sevilla    & Espanol    & 1          & 1          & D         \\\\\n",
       "\t 20/08/17   & Ath Bilbao & Getafe     & 0          & 0          & D         \\\\\n",
       "\\end{tabular}\n",
       "\n",
       "\\item \\begin{tabular}{r|llllll}\n",
       " Date & HomeTeam & AwayTeam & FTHG & FTAG & FTR\\\\\n",
       "\\hline\n",
       "\t 17/08/2018 & Betis      & Levante    & 0          & 3          & A         \\\\\n",
       "\t 17/08/2018 & Girona     & Valladolid & 0          & 0          & D         \\\\\n",
       "\t 18/08/2018 & Barcelona  & Alaves     & 3          & 0          & H         \\\\\n",
       "\t 18/08/2018 & Celta      & Espanol    & 1          & 1          & D         \\\\\n",
       "\t 18/08/2018 & Villarreal & Sociedad   & 1          & 2          & A         \\\\\n",
       "\t 19/08/2018 & Eibar      & Huesca     & 1          & 2          & A         \\\\\n",
       "\\end{tabular}\n",
       "\n",
       "\\item \\begin{tabular}{r|llllll}\n",
       " Date & HomeTeam & AwayTeam & FTHG & FTAG & FTR\\\\\n",
       "\\hline\n",
       "\t 16/08/2019  & Ath Bilbao  & Barcelona   & 1           & 0           & H          \\\\\n",
       "\t 17/08/2019  & Celta       & Real Madrid & 1           & 3           & A          \\\\\n",
       "\t 17/08/2019  & Valencia    & Sociedad    & 1           & 1           & D          \\\\\n",
       "\t 17/08/2019  & Mallorca    & Eibar       & 2           & 1           & H          \\\\\n",
       "\t 17/08/2019  & Leganes     & Osasuna     & 0           & 1           & A          \\\\\n",
       "\t 17/08/2019  & Villarreal  & Granada     & 4           & 4           & D          \\\\\n",
       "\\end{tabular}\n",
       "\n",
       "\\end{enumerate}\n"
      ],
      "text/markdown": [
       "1. \n",
       "| Date | HomeTeam | AwayTeam | FTHG | FTAG | FTR |\n",
       "|---|---|---|---|---|---|\n",
       "| 18/08/17   | Leganes    | Alaves     | 1          | 0          | H          |\n",
       "| 18/08/17   | Valencia   | Las Palmas | 1          | 0          | H          |\n",
       "| 19/08/17   | Celta      | Sociedad   | 2          | 3          | A          |\n",
       "| 19/08/17   | Girona     | Ath Madrid | 2          | 2          | D          |\n",
       "| 19/08/17   | Sevilla    | Espanol    | 1          | 1          | D          |\n",
       "| 20/08/17   | Ath Bilbao | Getafe     | 0          | 0          | D          |\n",
       "\n",
       "\n",
       "2. \n",
       "| Date | HomeTeam | AwayTeam | FTHG | FTAG | FTR |\n",
       "|---|---|---|---|---|---|\n",
       "| 17/08/2018 | Betis      | Levante    | 0          | 3          | A          |\n",
       "| 17/08/2018 | Girona     | Valladolid | 0          | 0          | D          |\n",
       "| 18/08/2018 | Barcelona  | Alaves     | 3          | 0          | H          |\n",
       "| 18/08/2018 | Celta      | Espanol    | 1          | 1          | D          |\n",
       "| 18/08/2018 | Villarreal | Sociedad   | 1          | 2          | A          |\n",
       "| 19/08/2018 | Eibar      | Huesca     | 1          | 2          | A          |\n",
       "\n",
       "\n",
       "3. \n",
       "| Date | HomeTeam | AwayTeam | FTHG | FTAG | FTR |\n",
       "|---|---|---|---|---|---|\n",
       "| 16/08/2019  | Ath Bilbao  | Barcelona   | 1           | 0           | H           |\n",
       "| 17/08/2019  | Celta       | Real Madrid | 1           | 3           | A           |\n",
       "| 17/08/2019  | Valencia    | Sociedad    | 1           | 1           | D           |\n",
       "| 17/08/2019  | Mallorca    | Eibar       | 2           | 1           | H           |\n",
       "| 17/08/2019  | Leganes     | Osasuna     | 0           | 1           | A           |\n",
       "| 17/08/2019  | Villarreal  | Granada     | 4           | 4           | D           |\n",
       "\n",
       "\n",
       "\n",
       "\n"
      ],
      "text/plain": [
       "[[1]]\n",
       "      Date   HomeTeam   AwayTeam FTHG FTAG FTR\n",
       "1 18/08/17    Leganes     Alaves    1    0   H\n",
       "2 18/08/17   Valencia Las Palmas    1    0   H\n",
       "3 19/08/17      Celta   Sociedad    2    3   A\n",
       "4 19/08/17     Girona Ath Madrid    2    2   D\n",
       "5 19/08/17    Sevilla    Espanol    1    1   D\n",
       "6 20/08/17 Ath Bilbao     Getafe    0    0   D\n",
       "\n",
       "[[2]]\n",
       "        Date   HomeTeam   AwayTeam FTHG FTAG FTR\n",
       "1 17/08/2018      Betis    Levante    0    3   A\n",
       "2 17/08/2018     Girona Valladolid    0    0   D\n",
       "3 18/08/2018  Barcelona     Alaves    3    0   H\n",
       "4 18/08/2018      Celta    Espanol    1    1   D\n",
       "5 18/08/2018 Villarreal   Sociedad    1    2   A\n",
       "6 19/08/2018      Eibar     Huesca    1    2   A\n",
       "\n",
       "[[3]]\n",
       "        Date   HomeTeam    AwayTeam FTHG FTAG FTR\n",
       "1 16/08/2019 Ath Bilbao   Barcelona    1    0   H\n",
       "2 17/08/2019      Celta Real Madrid    1    3   A\n",
       "3 17/08/2019   Valencia    Sociedad    1    1   D\n",
       "4 17/08/2019   Mallorca       Eibar    2    1   H\n",
       "5 17/08/2019    Leganes     Osasuna    0    1   A\n",
       "6 17/08/2019 Villarreal     Granada    4    4   D\n"
      ]
     },
     "metadata": {},
     "output_type": "display_data"
    }
   ],
   "source": [
    "#lapply(LigaEspanola , View )\n",
    "lapply(LigaEspanola , summary) \n",
    "lapply(LigaEspanola , str) \n",
    "lapply(LigaEspanola , head) \n",
    " \n"
   ]
  },
  {
   "cell_type": "markdown",
   "metadata": {},
   "source": [
    "3. Selección de   las columnas Date, HomeTeam, AwayTeam, FTHG, FTAG y FTR; esto para cada uno de los data."
   ]
  },
  {
   "cell_type": "code",
   "execution_count": 14,
   "metadata": {},
   "outputs": [],
   "source": [
    "LigaEspanola <- lapply(LigaEspanola, select, Date, HomeTeam:FTR)"
   ]
  },
  {
   "cell_type": "markdown",
   "metadata": {},
   "source": [
    "4. Asegúrate de que los elementos de las columnas correspondientes de los nuevos data frames sean del mismo tipo."
   ]
  },
  {
   "cell_type": "code",
   "execution_count": 15,
   "metadata": {
    "scrolled": true
   },
   "outputs": [
    {
     "name": "stdout",
     "output_type": "stream",
     "text": [
      "'data.frame':\t1140 obs. of  6 variables:\n",
      " $ Date    : Date, format: \"0017-08-18\" \"0017-08-18\" ...\n",
      " $ HomeTeam: Factor w/ 26 levels \"Alaves\",\"Ath Bilbao\",..: 13 19 6 10 17 2 4 11 14 15 ...\n",
      " $ AwayTeam: Factor w/ 26 levels \"Alaves\",\"Ath Bilbao\",..: 1 12 18 3 8 9 5 16 20 7 ...\n",
      " $ FTHG    : int  1 1 2 2 1 0 2 0 1 0 ...\n",
      " $ FTAG    : int  0 0 3 2 1 0 0 3 0 1 ...\n",
      " $ FTR     : Factor w/ 3 levels \"A\",\"D\",\"H\": 3 3 1 2 2 2 3 1 3 1 ...\n"
     ]
    },
    {
     "data": {
      "text/html": [
       "<table>\n",
       "<thead><tr><th scope=col>Date</th><th scope=col>HomeTeam</th><th scope=col>AwayTeam</th><th scope=col>FTHG</th><th scope=col>FTAG</th><th scope=col>FTR</th></tr></thead>\n",
       "<tbody>\n",
       "\t<tr><td>0017-08-18</td><td>Leganes   </td><td>Alaves    </td><td>1         </td><td>0         </td><td>H         </td></tr>\n",
       "\t<tr><td>0017-08-18</td><td>Valencia  </td><td>Las Palmas</td><td>1         </td><td>0         </td><td>H         </td></tr>\n",
       "\t<tr><td>0017-08-19</td><td>Celta     </td><td>Sociedad  </td><td>2         </td><td>3         </td><td>A         </td></tr>\n",
       "\t<tr><td>0017-08-19</td><td>Girona    </td><td>Ath Madrid</td><td>2         </td><td>2         </td><td>D         </td></tr>\n",
       "\t<tr><td>0017-08-19</td><td>Sevilla   </td><td>Espanol   </td><td>1         </td><td>1         </td><td>D         </td></tr>\n",
       "\t<tr><td>0017-08-20</td><td>Ath Bilbao</td><td>Getafe    </td><td>0         </td><td>0         </td><td>D         </td></tr>\n",
       "</tbody>\n",
       "</table>\n"
      ],
      "text/latex": [
       "\\begin{tabular}{r|llllll}\n",
       " Date & HomeTeam & AwayTeam & FTHG & FTAG & FTR\\\\\n",
       "\\hline\n",
       "\t 0017-08-18 & Leganes    & Alaves     & 1          & 0          & H         \\\\\n",
       "\t 0017-08-18 & Valencia   & Las Palmas & 1          & 0          & H         \\\\\n",
       "\t 0017-08-19 & Celta      & Sociedad   & 2          & 3          & A         \\\\\n",
       "\t 0017-08-19 & Girona     & Ath Madrid & 2          & 2          & D         \\\\\n",
       "\t 0017-08-19 & Sevilla    & Espanol    & 1          & 1          & D         \\\\\n",
       "\t 0017-08-20 & Ath Bilbao & Getafe     & 0          & 0          & D         \\\\\n",
       "\\end{tabular}\n"
      ],
      "text/markdown": [
       "\n",
       "| Date | HomeTeam | AwayTeam | FTHG | FTAG | FTR |\n",
       "|---|---|---|---|---|---|\n",
       "| 0017-08-18 | Leganes    | Alaves     | 1          | 0          | H          |\n",
       "| 0017-08-18 | Valencia   | Las Palmas | 1          | 0          | H          |\n",
       "| 0017-08-19 | Celta      | Sociedad   | 2          | 3          | A          |\n",
       "| 0017-08-19 | Girona     | Ath Madrid | 2          | 2          | D          |\n",
       "| 0017-08-19 | Sevilla    | Espanol    | 1          | 1          | D          |\n",
       "| 0017-08-20 | Ath Bilbao | Getafe     | 0          | 0          | D          |\n",
       "\n"
      ],
      "text/plain": [
       "  Date       HomeTeam   AwayTeam   FTHG FTAG FTR\n",
       "1 0017-08-18 Leganes    Alaves     1    0    H  \n",
       "2 0017-08-18 Valencia   Las Palmas 1    0    H  \n",
       "3 0017-08-19 Celta      Sociedad   2    3    A  \n",
       "4 0017-08-19 Girona     Ath Madrid 2    2    D  \n",
       "5 0017-08-19 Sevilla    Espanol    1    1    D  \n",
       "6 0017-08-20 Ath Bilbao Getafe     0    0    D  "
      ]
     },
     "metadata": {},
     "output_type": "display_data"
    }
   ],
   "source": [
    "DatosLE <- do.call(rbind, LigaEspanola)\n",
    "DatosLE <- mutate(DatosLE, Date = as.Date(Date, \"%d/%m/%Y\"))\n",
    "str(DatosLE)\n",
    "head(DatosLE)"
   ]
  },
  {
   "cell_type": "markdown",
   "metadata": {},
   "source": [
    "## Postwork 3"
   ]
  },
  {
   "cell_type": "markdown",
   "metadata": {},
   "source": [
    "1. Con el último data frame obtenido en el postwork de la sesión 2, elabora tablas de frecuencias relativas para estimar las siguientes probabilidades: Probabilidad marginal equipo de casa, probabilidad marginal de equipo visitante, probabilida conjunta."
   ]
  },
  {
   "cell_type": "code",
   "execution_count": 16,
   "metadata": {},
   "outputs": [
    {
     "name": "stdout",
     "output_type": "stream",
     "text": [
      "[1] \"Probabilidad conjunta\"\n"
     ]
    },
    {
     "data": {
      "text/plain": [
       "         \n",
       "          0 goles   1 gol 2 goles 3 goles 4 goles 5 goles 6 goles\n",
       "  0 goles 0.07807 0.08070 0.04561 0.01842 0.00526 0.00439 0.00000\n",
       "  1 gol   0.11579 0.11491 0.06842 0.01754 0.00877 0.00175 0.00000\n",
       "  2 goles 0.08772 0.09386 0.06140 0.01140 0.00877 0.00175 0.00175\n",
       "  3 goles 0.04474 0.03246 0.02456 0.00614 0.00175 0.00175 0.00088\n",
       "  4 goles 0.01404 0.01053 0.00702 0.00000 0.00351 0.00000 0.00000\n",
       "  5 goles 0.00877 0.00526 0.00439 0.00000 0.00088 0.00000 0.00000\n",
       "  6 goles 0.00263 0.00175 0.00000 0.00088 0.00000 0.00000 0.00000\n",
       "  7 goles 0.00000 0.00088 0.00000 0.00000 0.00000 0.00000 0.00000\n",
       "  8 goles 0.00000 0.00000 0.00088 0.00000 0.00000 0.00000 0.00000"
      ]
     },
     "metadata": {},
     "output_type": "display_data"
    }
   ],
   "source": [
    "ProbConjuntaLE <- prop.table(table(DatosLE$FTHG,DatosLE$FTAG))\n",
    "colnames(ProbConjuntaLE) <- c(\"0 goles\", \"1 gol\", \"2 goles\", \"3 goles\", \"4 goles\", \"5 goles\", \"6 goles\")\n",
    "rownames(ProbConjuntaLE) <- c(\"0 goles\", \"1 gol\", \"2 goles\", \"3 goles\", \"4 goles\", \"5 goles\", \"6 goles\",\"7 goles\",\"8 goles\")\n",
    "\n",
    "print('Probabilidad conjunta')\n",
    "round(ProbConjuntaLE,5)"
   ]
  },
  {
   "cell_type": "code",
   "execution_count": 17,
   "metadata": {},
   "outputs": [
    {
     "data": {
      "text/html": [
       "<table>\n",
       "<thead><tr><th></th><th scope=col>ProbCasaLE</th><th scope=col>ProbVisitanteLE</th></tr></thead>\n",
       "<tbody>\n",
       "\t<tr><th scope=row>0 goles</th><td>0.232456140</td><td>0.351754386</td></tr>\n",
       "\t<tr><th scope=row>1 gol</th><td>0.327192982</td><td>0.340350877</td></tr>\n",
       "\t<tr><th scope=row>2 goles</th><td>0.266666667</td><td>0.212280702</td></tr>\n",
       "\t<tr><th scope=row>3 goles</th><td>0.112280702</td><td>0.054385965</td></tr>\n",
       "\t<tr><th scope=row>4 goles</th><td>0.035087719</td><td>0.028947368</td></tr>\n",
       "\t<tr><th scope=row>5 goles</th><td>0.019298246</td><td>0.009649123</td></tr>\n",
       "\t<tr><th scope=row>6 goles</th><td>0.005263158</td><td>0.002631579</td></tr>\n",
       "\t<tr><th scope=row>7 goles</th><td>0.000877193</td><td>        NaN</td></tr>\n",
       "\t<tr><th scope=row>8 goles</th><td>0.000877193</td><td>        NaN</td></tr>\n",
       "</tbody>\n",
       "</table>\n"
      ],
      "text/latex": [
       "\\begin{tabular}{r|ll}\n",
       "  & ProbCasaLE & ProbVisitanteLE\\\\\n",
       "\\hline\n",
       "\t0 goles & 0.232456140 & 0.351754386\\\\\n",
       "\t1 gol & 0.327192982 & 0.340350877\\\\\n",
       "\t2 goles & 0.266666667 & 0.212280702\\\\\n",
       "\t3 goles & 0.112280702 & 0.054385965\\\\\n",
       "\t4 goles & 0.035087719 & 0.028947368\\\\\n",
       "\t5 goles & 0.019298246 & 0.009649123\\\\\n",
       "\t6 goles & 0.005263158 & 0.002631579\\\\\n",
       "\t7 goles & 0.000877193 &         NaN\\\\\n",
       "\t8 goles & 0.000877193 &         NaN\\\\\n",
       "\\end{tabular}\n"
      ],
      "text/markdown": [
       "\n",
       "| <!--/--> | ProbCasaLE | ProbVisitanteLE |\n",
       "|---|---|---|\n",
       "| 0 goles | 0.232456140 | 0.351754386 |\n",
       "| 1 gol | 0.327192982 | 0.340350877 |\n",
       "| 2 goles | 0.266666667 | 0.212280702 |\n",
       "| 3 goles | 0.112280702 | 0.054385965 |\n",
       "| 4 goles | 0.035087719 | 0.028947368 |\n",
       "| 5 goles | 0.019298246 | 0.009649123 |\n",
       "| 6 goles | 0.005263158 | 0.002631579 |\n",
       "| 7 goles | 0.000877193 |         NaN |\n",
       "| 8 goles | 0.000877193 |         NaN |\n",
       "\n"
      ],
      "text/plain": [
       "        ProbCasaLE  ProbVisitanteLE\n",
       "0 goles 0.232456140 0.351754386    \n",
       "1 gol   0.327192982 0.340350877    \n",
       "2 goles 0.266666667 0.212280702    \n",
       "3 goles 0.112280702 0.054385965    \n",
       "4 goles 0.035087719 0.028947368    \n",
       "5 goles 0.019298246 0.009649123    \n",
       "6 goles 0.005263158 0.002631579    \n",
       "7 goles 0.000877193         NaN    \n",
       "8 goles 0.000877193         NaN    "
      ]
     },
     "metadata": {},
     "output_type": "display_data"
    }
   ],
   "source": [
    "ProbCasaLE<- prop.table(apply(ProbConjuntaLE,MARGIN = 1,sum))\n",
    "ProbVisitanteLE<- prop.table( apply(ProbConjuntaLE,MARGIN = 2,sum))\n",
    "ProbMarginalLE <- cbind(ProbCasaLE,c(ProbVisitanteLE, NaN,NaN))\n",
    "colnames(ProbMarginalLE)[2] <- 'ProbVisitanteLE'\n",
    "ProbMarginalLE"
   ]
  },
  {
   "cell_type": "markdown",
   "metadata": {},
   "source": [
    "2. Realiza lo siguiente:\n",
    "\n",
    "Un gráfico de barras para las probabilidades marginales estimadas del número de goles que anota el equipo de casa.\n",
    "\n",
    "Un gráfico de barras para las probabilidades marginales estimadas del número de goles que anota el equipo visitante.\n",
    "\n",
    "Un HeatMap para las probabilidades conjuntas estimadas de los números de goles que anotan el equipo de casa y el equipo visitante en un partido.\n"
   ]
  },
  {
   "cell_type": "code",
   "execution_count": 127,
   "metadata": {},
   "outputs": [
    {
     "data": {
      "image/png": "[encoded data removed]",
      "text/plain": [
       "Plot with title \"Probabilidad del Número de Goles \n",
       " que Anota el Equipo Visitante\""
      ]
     },
     "metadata": {},
     "output_type": "display_data"
    }
   ],
   "source": [
    "layout(matrix(c(1:2), nrow=2, byrow=FALSE))\n",
    "barplot(ProbCasaLE, main = \" Probabilidad del Numero de Goles \\n que Anota el Equipo en Casa\", \n",
    "     xlab = \"Numero de Goles\", ylab = \"Probabilidad\", col = \"#58d68d\")\n",
    "\n",
    "barplot(prop.table(table(DatosLE$FTAG)), main = \"Probabilidad del Número de Goles \\n que Anota el Equipo Visitante\", \n",
    "        xlab = \"Numero de Goles\", ylab = \"Probabilidad\", col = \"#85c1e9\")"
   ]
  },
  {
   "cell_type": "code",
   "execution_count": 62,
   "metadata": {},
   "outputs": [
    {
     "data": {
      "image/png": "[encoded data removed]",
      "text/plain": [
       "Plot with title \"Probabilidad del Marcador de Goles\""
      ]
     },
     "metadata": {},
     "output_type": "display_data"
    }
   ],
   "source": [
    "heatmap(ProbConjuntaLE,\n",
    "        scale = \"none\",\n",
    "        Rowv = NA, Colv = NA, \n",
    "        col = cm.colors(256),\n",
    "        xlab=\"Goles del Equipo Visitante\", ylab=\"Goles del Equipo en Casa\",\n",
    "        main = \"Probabilidad del Marcador de Goles\")"
   ]
  },
  {
   "cell_type": "markdown",
   "metadata": {},
   "source": [
    "## Postwork 4"
   ]
  },
  {
   "cell_type": "markdown",
   "metadata": {},
   "source": [
    "Investigación sobre la dependencia o independencia del número de goles anotados por el equipo de casa y el número de goles anotados por el equipo visitante mediante un procedimiento denominado bootstrap."
   ]
  },
  {
   "cell_type": "markdown",
   "metadata": {},
   "source": [
    "## Bootstrap\n",
    "Una distribución de muestreo describe la probabilidad de obtener cada valor posible de un estadístico de una muestra aleatoria de una población. Bootstrap es un método que estima la distribución de muestreo al tomar múltiples muestras con reemplazo de una sola muestra aleatoria. Estas nuevas muestras se denominan muestras repetidas. Cada muestra tiene el mismo tamaño que la muestra original. \n",
    "\n",
    "Imita lo que pudiera ser el aspecto de la población"
   ]
  },
  {
   "cell_type": "markdown",
   "metadata": {},
   "source": [
    "1. Obtén una tabla de cocientes al dividir estas probabilidades conjuntas por el producto de las probabilidades marginales correspondientes."
   ]
  },
  {
   "cell_type": "code",
   "execution_count": 106,
   "metadata": {},
   "outputs": [
    {
     "data": {
      "text/plain": [
       "         \n",
       "          0 goles   1 gol 2 goles 3 goles 4 goles 5 goles 6 goles\n",
       "  0 goles 0.95478 1.02004 0.92437 1.45709 0.78216 1.95540 0.00000\n",
       "  1 gol   1.00606 1.03190 0.98509 0.98590 0.92615 0.55569 0.00000\n",
       "  2 goles 0.93516 1.03415 1.08471 0.78629 1.13636 0.68182 2.50000\n",
       "  3 goles 1.13272 0.84931 1.03048 1.00554 0.53977 1.61932 2.96875\n",
       "  4 goles 1.13716 0.88144 0.94215 0.00000 3.45455 0.00000 0.00000\n",
       "  5 goles 1.29222 0.80131 1.07062 0.00000 1.57025 0.00000 0.00000\n",
       "  6 goles 1.42145 0.97938 0.00000 3.06452 0.00000 0.00000 0.00000\n",
       "  7 goles 0.00000 2.93814 0.00000 0.00000 0.00000 0.00000 0.00000\n",
       "  8 goles 0.00000 0.00000 4.71074 0.00000 0.00000 0.00000 0.00000"
      ]
     },
     "metadata": {},
     "output_type": "display_data"
    }
   ],
   "source": [
    "ProbCo =round(ProbConjuntaLE/t(ProbVisitanteLE %*% t(ProbCasaLE)),5)\n",
    "ProbCo"
   ]
  },
  {
   "cell_type": "markdown",
   "metadata": {},
   "source": [
    "2.Mediante un procedimiento de boostrap, obtén más cocientes similares a los obtenidos en la tabla del punto anterior. Esto para tener una idea de las distribuciones de la cual vienen los cocientes en la tabla anterior. Menciona en cuáles casos le parece razonable suponer que los cocientes de la tabla en el punto 1, son iguales a 1 (en tal caso tendríamos independencia de las variables aleatorias X y Y)."
   ]
  },
  {
   "cell_type": "code",
   "execution_count": 56,
   "metadata": {},
   "outputs": [],
   "source": [
    "set.seed(839287482)\n",
    "Nmuestras = 2 # Número de muestras bootstrap\n",
    "DatosLE_boot <- bootstraps(DatosLE, times = Nmuestras)"
   ]
  },
  {
   "cell_type": "code",
   "execution_count": 45,
   "metadata": {
    "collapsed": true
   },
   "outputs": [
    {
     "name": "stdout",
     "output_type": "stream",
     "text": [
      "bootstraps [2 x 2] (S3: bootstraps/rset/tbl_df/tbl/data.frame)\n",
      " $ splits:List of 2\n",
      "  ..$ :List of 4\n",
      "  .. ..$ data  :'data.frame':\t1140 obs. of  6 variables:\n",
      "  .. .. ..$ Date    : Date[1:1140], format: \"0017-08-18\" ...\n",
      "  .. .. ..$ HomeTeam: Factor w/ 26 levels \"Alaves\",\"Ath Bilbao\",..: 13 19 6 10 17 2 4 11 14 15 ...\n",
      "  .. .. ..$ AwayTeam: Factor w/ 26 levels \"Alaves\",\"Ath Bilbao\",..: 1 12 18 3 8 9 5 16 20 7 ...\n",
      "  .. .. ..$ FTHG    : int [1:1140] 1 1 2 2 1 0 2 0 1 0 ...\n",
      "  .. .. ..$ FTAG    : int [1:1140] 0 0 3 2 1 0 0 3 0 1 ...\n",
      "  .. .. ..$ FTR     : Factor w/ 3 levels \"A\",\"D\",\"H\": 3 3 1 2 2 2 3 1 3 1 ...\n",
      "  .. ..$ in_id : int [1:1140] 1013 100 44 727 491 245 235 1135 1106 19 ...\n",
      "  .. ..$ out_id: logi NA\n",
      "  .. ..$ id    : tibble [1 x 1] (S3: tbl_df/tbl/data.frame)\n",
      "  .. .. ..$ id: chr \"Bootstrap1\"\n",
      "  .. ..- attr(*, \"class\")= chr [1:2] \"boot_split\" \"rsplit\"\n",
      "  ..$ :List of 4\n",
      "  .. ..$ data  :'data.frame':\t1140 obs. of  6 variables:\n",
      "  .. .. ..$ Date    : Date[1:1140], format: \"0017-08-18\" ...\n",
      "  .. .. ..$ HomeTeam: Factor w/ 26 levels \"Alaves\",\"Ath Bilbao\",..: 13 19 6 10 17 2 4 11 14 15 ...\n",
      "  .. .. ..$ AwayTeam: Factor w/ 26 levels \"Alaves\",\"Ath Bilbao\",..: 1 12 18 3 8 9 5 16 20 7 ...\n",
      "  .. .. ..$ FTHG    : int [1:1140] 1 1 2 2 1 0 2 0 1 0 ...\n",
      "  .. .. ..$ FTAG    : int [1:1140] 0 0 3 2 1 0 0 3 0 1 ...\n",
      "  .. .. ..$ FTR     : Factor w/ 3 levels \"A\",\"D\",\"H\": 3 3 1 2 2 2 3 1 3 1 ...\n",
      "  .. ..$ in_id : int [1:1140] 578 489 169 721 824 32 109 419 160 918 ...\n",
      "  .. ..$ out_id: logi NA\n",
      "  .. ..$ id    : tibble [1 x 1] (S3: tbl_df/tbl/data.frame)\n",
      "  .. .. ..$ id: chr \"Bootstrap2\"\n",
      "  .. ..- attr(*, \"class\")= chr [1:2] \"boot_split\" \"rsplit\"\n",
      " $ id    : chr [1:2] \"Bootstrap1\" \"Bootstrap2\"\n",
      " - attr(*, \"times\")= num 2\n",
      " - attr(*, \"apparent\")= logi FALSE\n",
      " - attr(*, \"strata\")= logi FALSE\n",
      " - attr(*, \"fingerprint\")= chr \"24a58881f2c6180ada7a5acf8eea8e01\"\n"
     ]
    }
   ],
   "source": [
    "str(DatosLE_boot)"
   ]
  },
  {
   "cell_type": "code",
   "execution_count": 57,
   "metadata": {},
   "outputs": [
    {
     "data": {
      "text/plain": [
       "<Analysis/Assess/Total>\n",
       "<1140/428/1140>"
      ]
     },
     "metadata": {},
     "output_type": "display_data"
    },
    {
     "data": {
      "text/plain": [
       "<Analysis/Assess/Total>\n",
       "<1140/391/1140>"
      ]
     },
     "metadata": {},
     "output_type": "display_data"
    }
   ],
   "source": [
    "Primera_boot <- DatosLE_boot$splits[[1]]\n",
    "Segunda_boot <- DatosLE_boot$splits[[2]]\n",
    "#Informacion de la primera muestra\n",
    "Primera_boot\n",
    "Segunda_boot"
   ]
  },
  {
   "cell_type": "code",
   "execution_count": 60,
   "metadata": {},
   "outputs": [
    {
     "data": {
      "text/html": [
       "<table>\n",
       "<thead><tr><th></th><th scope=col>Date</th><th scope=col>HomeTeam</th><th scope=col>AwayTeam</th><th scope=col>FTHG</th><th scope=col>FTAG</th><th scope=col>FTR</th></tr></thead>\n",
       "<tbody>\n",
       "\t<tr><th scope=row>1013</th><td>2020-02-29 </td><td>Leganes    </td><td>Alaves     </td><td>1          </td><td>1          </td><td>D          </td></tr>\n",
       "\t<tr><th scope=row>100</th><td>0017-10-30 </td><td>Las Palmas </td><td>La Coruna  </td><td>1          </td><td>3          </td><td>A          </td></tr>\n",
       "\t<tr><th scope=row>44</th><td>0017-09-20 </td><td>La Coruna  </td><td>Alaves     </td><td>1          </td><td>0          </td><td>H          </td></tr>\n",
       "\t<tr><th scope=row>727</th><td>2019-04-28 </td><td>Valencia   </td><td>Eibar      </td><td>0          </td><td>1          </td><td>A          </td></tr>\n",
       "\t<tr><th scope=row>491</th><td>2018-11-09 </td><td>Levante    </td><td>Sociedad   </td><td>1          </td><td>3          </td><td>A          </td></tr>\n",
       "\t<tr><th scope=row>245</th><td>0018-02-24 </td><td>Real Madrid</td><td>Alaves     </td><td>4          </td><td>0          </td><td>H          </td></tr>\n",
       "</tbody>\n",
       "</table>\n"
      ],
      "text/latex": [
       "\\begin{tabular}{r|llllll}\n",
       "  & Date & HomeTeam & AwayTeam & FTHG & FTAG & FTR\\\\\n",
       "\\hline\n",
       "\t1013 & 2020-02-29  & Leganes     & Alaves      & 1           & 1           & D          \\\\\n",
       "\t100 & 0017-10-30  & Las Palmas  & La Coruna   & 1           & 3           & A          \\\\\n",
       "\t44 & 0017-09-20  & La Coruna   & Alaves      & 1           & 0           & H          \\\\\n",
       "\t727 & 2019-04-28  & Valencia    & Eibar       & 0           & 1           & A          \\\\\n",
       "\t491 & 2018-11-09  & Levante     & Sociedad    & 1           & 3           & A          \\\\\n",
       "\t245 & 0018-02-24  & Real Madrid & Alaves      & 4           & 0           & H          \\\\\n",
       "\\end{tabular}\n"
      ],
      "text/markdown": [
       "\n",
       "| <!--/--> | Date | HomeTeam | AwayTeam | FTHG | FTAG | FTR |\n",
       "|---|---|---|---|---|---|---|\n",
       "| 1013 | 2020-02-29  | Leganes     | Alaves      | 1           | 1           | D           |\n",
       "| 100 | 0017-10-30  | Las Palmas  | La Coruna   | 1           | 3           | A           |\n",
       "| 44 | 0017-09-20  | La Coruna   | Alaves      | 1           | 0           | H           |\n",
       "| 727 | 2019-04-28  | Valencia    | Eibar       | 0           | 1           | A           |\n",
       "| 491 | 2018-11-09  | Levante     | Sociedad    | 1           | 3           | A           |\n",
       "| 245 | 0018-02-24  | Real Madrid | Alaves      | 4           | 0           | H           |\n",
       "\n"
      ],
      "text/plain": [
       "     Date       HomeTeam    AwayTeam  FTHG FTAG FTR\n",
       "1013 2020-02-29 Leganes     Alaves    1    1    D  \n",
       "100  0017-10-30 Las Palmas  La Coruna 1    3    A  \n",
       "44   0017-09-20 La Coruna   Alaves    1    0    H  \n",
       "727  2019-04-28 Valencia    Eibar     0    1    A  \n",
       "491  2018-11-09 Levante     Sociedad  1    3    A  \n",
       "245  0018-02-24 Real Madrid Alaves    4    0    H  "
      ]
     },
     "metadata": {},
     "output_type": "display_data"
    },
    {
     "data": {
      "text/html": [
       "<table>\n",
       "<thead><tr><th></th><th scope=col>Date</th><th scope=col>HomeTeam</th><th scope=col>AwayTeam</th><th scope=col>FTHG</th><th scope=col>FTAG</th><th scope=col>FTR</th></tr></thead>\n",
       "<tbody>\n",
       "\t<tr><th scope=row>578</th><td>2019-01-20</td><td>Vallecano </td><td>Sociedad  </td><td>2         </td><td>2         </td><td>D         </td></tr>\n",
       "\t<tr><th scope=row>489</th><td>2018-11-04</td><td>Villarreal</td><td>Levante   </td><td>1         </td><td>1         </td><td>D         </td></tr>\n",
       "\t<tr><th scope=row>169</th><td>0017-12-23</td><td>Valencia  </td><td>Villarreal</td><td>0         </td><td>1         </td><td>A         </td></tr>\n",
       "\t<tr><th scope=row>721</th><td>2019-04-27</td><td>Ath Bilbao</td><td>Alaves    </td><td>1         </td><td>1         </td><td>D         </td></tr>\n",
       "\t<tr><th scope=row>824</th><td>2019-09-28</td><td>Granada   </td><td>Leganes   </td><td>1         </td><td>0         </td><td>H         </td></tr>\n",
       "\t<tr><th scope=row>32</th><td>0017-09-16</td><td>Ath Madrid</td><td>Malaga    </td><td>1         </td><td>0         </td><td>H         </td></tr>\n",
       "</tbody>\n",
       "</table>\n"
      ],
      "text/latex": [
       "\\begin{tabular}{r|llllll}\n",
       "  & Date & HomeTeam & AwayTeam & FTHG & FTAG & FTR\\\\\n",
       "\\hline\n",
       "\t578 & 2019-01-20 & Vallecano  & Sociedad   & 2          & 2          & D         \\\\\n",
       "\t489 & 2018-11-04 & Villarreal & Levante    & 1          & 1          & D         \\\\\n",
       "\t169 & 0017-12-23 & Valencia   & Villarreal & 0          & 1          & A         \\\\\n",
       "\t721 & 2019-04-27 & Ath Bilbao & Alaves     & 1          & 1          & D         \\\\\n",
       "\t824 & 2019-09-28 & Granada    & Leganes    & 1          & 0          & H         \\\\\n",
       "\t32 & 0017-09-16 & Ath Madrid & Malaga     & 1          & 0          & H         \\\\\n",
       "\\end{tabular}\n"
      ],
      "text/markdown": [
       "\n",
       "| <!--/--> | Date | HomeTeam | AwayTeam | FTHG | FTAG | FTR |\n",
       "|---|---|---|---|---|---|---|\n",
       "| 578 | 2019-01-20 | Vallecano  | Sociedad   | 2          | 2          | D          |\n",
       "| 489 | 2018-11-04 | Villarreal | Levante    | 1          | 1          | D          |\n",
       "| 169 | 0017-12-23 | Valencia   | Villarreal | 0          | 1          | A          |\n",
       "| 721 | 2019-04-27 | Ath Bilbao | Alaves     | 1          | 1          | D          |\n",
       "| 824 | 2019-09-28 | Granada    | Leganes    | 1          | 0          | H          |\n",
       "| 32 | 0017-09-16 | Ath Madrid | Malaga     | 1          | 0          | H          |\n",
       "\n"
      ],
      "text/plain": [
       "    Date       HomeTeam   AwayTeam   FTHG FTAG FTR\n",
       "578 2019-01-20 Vallecano  Sociedad   2    2    D  \n",
       "489 2018-11-04 Villarreal Levante    1    1    D  \n",
       "169 0017-12-23 Valencia   Villarreal 0    1    A  \n",
       "721 2019-04-27 Ath Bilbao Alaves     1    1    D  \n",
       "824 2019-09-28 Granada    Leganes    1    0    H  \n",
       "32  0017-09-16 Ath Madrid Malaga     1    0    H  "
      ]
     },
     "metadata": {},
     "output_type": "display_data"
    }
   ],
   "source": [
    "PrMuestraB = as.data.frame(Primera_boot)\n",
    "SeMuestraB = as.data.frame(Segunda_boot)\n",
    "head(PrMuestraB)\n",
    "head(SeMuestraB)"
   ]
  },
  {
   "cell_type": "code",
   "execution_count": 84,
   "metadata": {},
   "outputs": [],
   "source": [
    "#Se repite el proceso para obtener las probabilidades\n",
    "#Se crea una función que lo haga automáticamente\n",
    "ProbConjMarg <- function(x,y){\n",
    "    \n",
    "    ProbConjunta <- prop.table(table(x,y))\n",
    "    ProbMargX<- prop.table(apply(ProbConjunta,MARGIN = 1,sum))\n",
    "    ProbMargY<- prop.table(apply(ProbConjunta,MARGIN = 2,sum))\n",
    "    \n",
    "    heatmap(ProbConjunta ,\n",
    "        scale = \"none\",\n",
    "        Rowv = NA, Colv = NA, \n",
    "        col = cm.colors(256),\n",
    "        xlab=\"Goles del Equipo Visitante\", ylab=\"Goles del Equipo en Casa\",\n",
    "        main = \"Probabilidad del Marcador de Goles\")\n",
    "    \n",
    "    return(list(ProbConjunta,ProbMargX,ProbMargY))\n",
    "}"
   ]
  },
  {
   "cell_type": "code",
   "execution_count": 95,
   "metadata": {},
   "outputs": [
    {
     "data": {
      "text/plain": [
       "   y\n",
       "x         0       1       2       3       4       5       6\n",
       "  0 0.07368 0.08333 0.05351 0.01404 0.00614 0.00439 0.00000\n",
       "  1 0.12281 0.11579 0.07018 0.01579 0.01053 0.00175 0.00000\n",
       "  2 0.08509 0.09649 0.05175 0.01228 0.00965 0.00088 0.00000\n",
       "  3 0.03596 0.03246 0.02544 0.00614 0.00263 0.00088 0.00175\n",
       "  4 0.01491 0.00877 0.00351 0.00000 0.00526 0.00000 0.00000\n",
       "  5 0.01404 0.00789 0.00439 0.00000 0.00088 0.00000 0.00000\n",
       "  6 0.00439 0.00175 0.00000 0.00000 0.00000 0.00000 0.00000\n",
       "  7 0.00000 0.00088 0.00000 0.00000 0.00000 0.00000 0.00000"
      ]
     },
     "metadata": {},
     "output_type": "display_data"
    },
    {
     "data": {
      "image/png": "[encoded data removed]",
      "text/plain": [
       "Plot with title \"Probabilidad del Marcador de Goles\""
      ]
     },
     "metadata": {},
     "output_type": "display_data"
    }
   ],
   "source": [
    "ProbMuestra1<-ProbConjMarg(PrMuestraB$FTHG,PrMuestraB$FTAG )\n",
    "round(ProbMuestra1[[1]],5)"
   ]
  },
  {
   "cell_type": "code",
   "execution_count": 96,
   "metadata": {},
   "outputs": [
    {
     "data": {
      "text/plain": [
       "   y\n",
       "x         0       1       2       3       4       5       6\n",
       "  0 0.06930 0.09825 0.04912 0.02105 0.00789 0.00088 0.00000\n",
       "  1 0.11140 0.11667 0.07193 0.01667 0.00965 0.00175 0.00000\n",
       "  2 0.08421 0.09474 0.05877 0.00965 0.00877 0.00000 0.00175\n",
       "  3 0.04649 0.03333 0.01754 0.00526 0.00088 0.00263 0.00000\n",
       "  4 0.01228 0.01228 0.00789 0.00000 0.00351 0.00000 0.00000\n",
       "  5 0.00789 0.00877 0.00175 0.00000 0.00000 0.00000 0.00000\n",
       "  6 0.00000 0.00263 0.00000 0.00263 0.00000 0.00000 0.00000\n",
       "  7 0.00000 0.00088 0.00000 0.00000 0.00000 0.00000 0.00000\n",
       "  8 0.00000 0.00000 0.00088 0.00000 0.00000 0.00000 0.00000"
      ]
     },
     "metadata": {},
     "output_type": "display_data"
    },
    {
     "data": {
      "image/png": "[encoded data removed]",
      "text/plain": [
       "Plot with title \"Probabilidad del Marcador de Goles\""
      ]
     },
     "metadata": {},
     "output_type": "display_data"
    }
   ],
   "source": [
    "ProbMuestra2<-ProbConjMarg(SeMuestraB$FTHG,SeMuestraB$FTAG) \n",
    "round(ProbMuestra2[[1]],5)"
   ]
  },
  {
   "cell_type": "markdown",
   "metadata": {},
   "source": [
    "## Comparación"
   ]
  },
  {
   "cell_type": "code",
   "execution_count": 123,
   "metadata": {},
   "outputs": [
    {
     "name": "stdout",
     "output_type": "stream",
     "text": [
      "[1] \"Inicial\"\n"
     ]
    },
    {
     "data": {
      "text/plain": [
       "         \n",
       "          0 goles   1 gol 2 goles 3 goles 4 goles 5 goles 6 goles\n",
       "  0 goles 0.95478 1.02004 0.92437 1.45709 0.78216 1.95540 0.00000\n",
       "  1 gol   1.00606 1.03190 0.98509 0.98590 0.92615 0.55569 0.00000\n",
       "  2 goles 0.93516 1.03415 1.08471 0.78629 1.13636 0.68182 2.50000\n",
       "  3 goles 1.13272 0.84931 1.03048 1.00554 0.53977 1.61932 2.96875\n",
       "  4 goles 1.13716 0.88144 0.94215 0.00000 3.45455 0.00000 0.00000\n",
       "  5 goles 1.29222 0.80131 1.07062 0.00000 1.57025 0.00000 0.00000\n",
       "  6 goles 1.42145 0.97938 0.00000 3.06452 0.00000 0.00000 0.00000\n",
       "  7 goles 0.00000 2.93814 0.00000 0.00000 0.00000 0.00000 0.00000\n",
       "  8 goles 0.00000 0.00000 4.71074 0.00000 0.00000 0.00000 0.00000"
      ]
     },
     "metadata": {},
     "output_type": "display_data"
    }
   ],
   "source": [
    "print(\"Inicial\")\n",
    "ProbCo"
   ]
  },
  {
   "cell_type": "code",
   "execution_count": 124,
   "metadata": {},
   "outputs": [
    {
     "name": "stdout",
     "output_type": "stream",
     "text": [
      "[1] \"Primera muestra\"\n"
     ]
    },
    {
     "data": {
      "text/plain": [
       "   y\n",
       "x         0       1       2       3       4       5       6\n",
       "  0 0.89328 1.02047 1.09024 1.23745 0.74440 2.36318 0.00000\n",
       "  1 1.03906 0.98958 0.99790 0.97159 0.89062 0.65972 0.00000\n",
       "  2 0.94675 1.08447 0.96783 0.99377 1.07363 0.43379 0.00000\n",
       "  3 0.97375 0.88763 1.15756 1.20909 0.71250 1.05556 9.50000\n",
       "  4 1.30946 0.77805 0.51783 0.00000 4.62162 0.00000 0.00000\n",
       "  5 1.47097 0.83578 0.77257 0.00000 0.91935 0.00000 0.00000\n",
       "  6 2.03571 0.82251 0.00000 0.00000 0.00000 0.00000 0.00000\n",
       "  7 0.00000 2.87879 0.00000 0.00000 0.00000 0.00000 0.00000"
      ]
     },
     "metadata": {},
     "output_type": "display_data"
    }
   ],
   "source": [
    "print(\"Primera muestra\")\n",
    "ProbCoM1 <- round(ProbMuestra1[[1]]/t(ProbMuestra1[[3]] %*% t(ProbMuestra1[[2]])),5)\n",
    "ProbCoM1"
   ]
  },
  {
   "cell_type": "code",
   "execution_count": 125,
   "metadata": {},
   "outputs": [
    {
     "name": "stdout",
     "output_type": "stream",
     "text": [
      "[1] \"Segunda muestra\"\n"
     ]
    },
    {
     "data": {
      "text/plain": [
       "   y\n",
       "x         0       1       2       3       4       5       6\n",
       "  0 0.84788 1.08443 0.95860 1.54550 1.04321 0.67616 0.00000\n",
       "  1 1.02411 0.96754 1.05463 0.91928 0.95798 1.01604 0.00000\n",
       "  2 0.98477 0.99946 1.09619 0.67703 1.10787 0.00000 3.87755\n",
       "  3 1.32100 0.85445 0.79506 0.89728 0.26919 4.71074 0.00000\n",
       "  4 1.02981 0.92904 1.05588 0.00000 3.17770 0.00000 0.00000\n",
       "  5 1.29252 1.29560 0.45811 0.00000 0.00000 0.00000 0.00000\n",
       "  6 0.00000 1.36038 0.00000 9.04762 0.00000 0.00000 0.00000\n",
       "  7 0.00000 2.72076 0.00000 0.00000 0.00000 0.00000 0.00000\n",
       "  8 0.00000 0.00000 4.81013 0.00000 0.00000 0.00000 0.00000"
      ]
     },
     "metadata": {},
     "output_type": "display_data"
    }
   ],
   "source": [
    "print(\"Segunda muestra\")\n",
    "ProbCoM2 <-round(ProbMuestra2[[1]]/t(ProbMuestra2[[3]] %*% t(ProbMuestra2[[2]])),5)\n",
    "ProbCoM2"
   ]
  },
  {
   "cell_type": "markdown",
   "metadata": {},
   "source": [
    "Como se puede observar en los heatmaps de los muestreos, la distribución es similar al de la población. Para obtener una representación aún más similar a la real, sería necesario aumentar el tamaño de muestras."
   ]
  },
  {
   "cell_type": "markdown",
   "metadata": {},
   "source": [
    "## Postwork 5"
   ]
  },
  {
   "cell_type": "markdown",
   "metadata": {},
   "source": [
    "1. A partir del conjunto de datos de soccer de la liga española de las temporadas 2017/2018, 2018/2019 y 2019/2020, crea el data frame SmallData, que contenga las columnas date, home.team, home.score, away.team y away.score; Con ayuda de la función write.csv guarda el data frame como un archivo csv con nombre soccer.csv. "
   ]
  },
  {
   "cell_type": "code",
   "execution_count": 9,
   "metadata": {},
   "outputs": [],
   "source": [
    "LinkT1718 <- \"https://www.football-data.co.uk/mmz4281/1718/SP1.csv\"\n",
    "LinkT1819 <- \"https://www.football-data.co.uk/mmz4281/1819/SP1.csv\"\n",
    "LinkT1920 <- \"https://www.football-data.co.uk/mmz4281/1920/SP1.csv\"\n",
    "\n",
    "Links <- list(LinkT1718,LinkT1819,LinkT1920)"
   ]
  },
  {
   "cell_type": "code",
   "execution_count": 74,
   "metadata": {},
   "outputs": [],
   "source": [
    "SmallData <- data.frame(date = character(),\n",
    "                        home.team = character(),\n",
    "                        home.score = numeric(),\n",
    "                        away.team  = character(),\n",
    "                       away.score = numeric())"
   ]
  },
  {
   "cell_type": "code",
   "execution_count": 75,
   "metadata": {},
   "outputs": [
    {
     "name": "stdout",
     "output_type": "stream",
     "text": [
      "[1] \"Dimensión con 1 fichero cargado: 380\"\n",
      "[1] \"Dimensión con 2 fichero cargado: 760\"\n",
      "[1] \"Dimensión con 3 fichero cargado: 1140\"\n"
     ]
    }
   ],
   "source": [
    "for(i in 1:length(Links)){\n",
    "     D <- read.csv(Links[[i]])\n",
    "     N <- select(D, date = Date, home.team = HomeTeam,home.score = FTHG, away.team = AwayTeam, away.score = FTAG)\n",
    "    SmallData <- rbind(SmallData,N)\n",
    "    print(paste('Dimensión con',i,'fichero cargado:',dim(SmallData)[1]))\n",
    "}"
   ]
  },
  {
   "cell_type": "code",
   "execution_count": 77,
   "metadata": {},
   "outputs": [],
   "source": [
    "SmallData <- mutate(SmallData,date= as.Date(SmallData$date, format = \"%d/%m/%y\"))"
   ]
  },
  {
   "cell_type": "code",
   "execution_count": 78,
   "metadata": {},
   "outputs": [
    {
     "name": "stdout",
     "output_type": "stream",
     "text": [
      "'data.frame':\t1140 obs. of  5 variables:\n",
      " $ date      : Date, format: \"2017-08-18\" \"2017-08-18\" ...\n",
      " $ home.team : Factor w/ 26 levels \"Alaves\",\"Ath Bilbao\",..: 13 19 6 10 17 2 4 11 14 15 ...\n",
      " $ home.score: int  1 1 2 2 1 0 2 0 1 0 ...\n",
      " $ away.team : Factor w/ 26 levels \"Alaves\",\"Ath Bilbao\",..: 1 12 18 3 8 9 5 16 20 7 ...\n",
      " $ away.score: int  0 0 3 2 1 0 0 3 0 1 ...\n"
     ]
    }
   ],
   "source": [
    "str(SmallData)"
   ]
  },
  {
   "cell_type": "code",
   "execution_count": 79,
   "metadata": {},
   "outputs": [],
   "source": [
    "write.csv(SmallData, file=\"soccer.csv\", row.names = FALSE)"
   ]
  },
  {
   "cell_type": "code",
   "execution_count": 83,
   "metadata": {},
   "outputs": [],
   "source": [
    "library(fbRanks)"
   ]
  },
  {
   "cell_type": "markdown",
   "metadata": {},
   "source": [
    "2. Con la función create.fbRanks.dataframes del paquete fbRanks importe el archivo soccer.csv a R y al mismo tiempo asignelo a una variable llamada listasoccer. Se creará una lista con los elementos scores y teams que son data frames listos para la función rank.teams. Asigna estos data frames a variables llamadas anotaciones y equipos."
   ]
  },
  {
   "cell_type": "code",
   "execution_count": 84,
   "metadata": {},
   "outputs": [
    {
     "name": "stdout",
     "output_type": "stream",
     "text": [
      "Alert: teams info file was not passed in.\n",
      "Will construct one from the scores data frame but teams in the scores file must use a unique name.\n",
      "Alert: teams resolver was not passed in.\n",
      "Will construct one from the team info data frame.\n",
      "List of 6\n",
      " $ scores       :'data.frame':\t1140 obs. of  5 variables:\n",
      "  ..$ date      : Date[1:1140], format: \"2017-08-18\" \"2017-08-18\" ...\n",
      "  ..$ home.team : chr [1:1140] \"Leganes\" \"Valencia\" \"Celta\" \"Girona\" ...\n",
      "  ..$ home.score: num [1:1140] 1 1 2 2 1 0 2 0 1 0 ...\n",
      "  ..$ away.team : chr [1:1140] \"Alaves\" \"Las Palmas\" \"Sociedad\" \"Ath Madrid\" ...\n",
      "  ..$ away.score: num [1:1140] 0 0 3 2 1 0 0 3 0 1 ...\n",
      " $ raw.scores   :'data.frame':\t1140 obs. of  5 variables:\n",
      "  ..$ date      : Date[1:1140], format: \"2017-08-18\" \"2017-08-18\" ...\n",
      "  ..$ home.team : chr [1:1140] \"Leganes\" \"Valencia\" \"Celta\" \"Girona\" ...\n",
      "  ..$ home.score: num [1:1140] 1 1 2 2 1 0 2 0 1 0 ...\n",
      "  ..$ away.team : chr [1:1140] \"Alaves\" \"Las Palmas\" \"Sociedad\" \"Ath Madrid\" ...\n",
      "  ..$ away.score: num [1:1140] 0 0 3 2 1 0 0 3 0 1 ...\n",
      " $ teams        :'data.frame':\t26 obs. of  1 variable:\n",
      "  ..$ name: chr [1:26] \"Alaves\" \"Ath Bilbao\" \"Ath Madrid\" \"Barcelona\" ...\n",
      " $ team.resolver:'data.frame':\t26 obs. of  2 variables:\n",
      "  ..$ name    : chr [1:26] \"Alaves\" \"Ath Bilbao\" \"Ath Madrid\" \"Barcelona\" ...\n",
      "  ..$ alt.name: chr [1:26] \"Alaves\" \"Ath Bilbao\" \"Ath Madrid\" \"Barcelona\" ...\n",
      " $ updated      : logi FALSE\n",
      " $ ok           : logi TRUE\n"
     ]
    }
   ],
   "source": [
    "listasoccer <- create.fbRanks.dataframes(\"soccer.csv\")\n",
    "str(listasoccer)"
   ]
  },
  {
   "cell_type": "code",
   "execution_count": 85,
   "metadata": {},
   "outputs": [],
   "source": [
    "anotaciones <- listasoccer$scores\n",
    "equipos <- listasoccer$teams"
   ]
  },
  {
   "cell_type": "markdown",
   "metadata": {},
   "source": [
    "3. Con ayuda de la función unique crea un vector de fechas (fecha) que no se repitan y que correspondan a las fechas en las que se jugaron partidos. Crea una variable llamada n que contenga el número de fechas diferentes. Posteriormente, con la función rank.teams y usando como argumentos los data frames anotaciones y equipos, crea un ranking de equipos usando únicamente datos desde la fecha inicial y hasta la penúltima fecha en la que se jugaron partidos, estas fechas las deberá especificar en max.date y min.date. Guarda los resultados con el nombre ranking."
   ]
  },
  {
   "cell_type": "code",
   "execution_count": 127,
   "metadata": {},
   "outputs": [
    {
     "name": "stdout",
     "output_type": "stream",
     "text": [
      "[1] \"Existen 331 fechas diferentes\"\n"
     ]
    }
   ],
   "source": [
    "fechas <- unique(listasoccer$scores$date) #Ya están en orden\n",
    "n <- length(fechas)\n",
    "print(paste('Existen',n,'fechas diferentes'))"
   ]
  },
  {
   "cell_type": "code",
   "execution_count": 134,
   "metadata": {},
   "outputs": [
    {
     "data": {
      "text/plain": [
       "Time difference of 1222 days"
      ]
     },
     "metadata": {},
     "output_type": "display_data"
    }
   ],
   "source": [
    "rango <- fechas[c(1,n-1)]\n",
    "diff(rango)"
   ]
  },
  {
   "cell_type": "code",
   "execution_count": 135,
   "metadata": {},
   "outputs": [
    {
     "name": "stdout",
     "output_type": "stream",
     "text": [
      "\n",
      "Team Rankings based on matches 2017-08-18 to 2020-12-22\n",
      "   team        total attack defense n.games.Var1 n.games.Freq\n",
      "1  Barcelona    1.53 2.24   1.29    Barcelona    114         \n",
      "2  Ath Madrid   1.23 1.32   1.77    Ath Madrid   114         \n",
      "3  Real Madrid  1.13 1.86   1.17    Real Madrid  114         \n",
      "4  Valencia     0.54 1.33   1.10    Valencia     113         \n",
      "5  Getafe       0.53 1.08   1.33    Getafe       114         \n",
      "6  Granada      0.47 1.33   1.05    Granada       38         \n",
      "7  Sevilla      0.44 1.36   0.99    Sevilla      113         \n",
      "8  Villarreal   0.35 1.40   0.91    Villarreal   114         \n",
      "9  Sociedad     0.32 1.38   0.90    Sociedad     114         \n",
      "10 Ath Bilbao   0.10 1.01   1.06    Ath Bilbao   114         \n",
      "11 Osasuna      0.06 1.19   0.88    Osasuna       38         \n",
      "12 Betis        0.02 1.27   0.80    Betis        114         \n",
      "13 Celta        0.01 1.24   0.81    Celta        114         \n",
      "14 Levante     -0.01 1.26   0.79    Levante      113         \n",
      "15 Eibar       -0.06 1.07   0.90    Eibar        114         \n",
      "16 Girona      -0.18 1.07   0.82    Girona        76         \n",
      "17 Espanol     -0.22 0.92   0.94    Espanol      114         \n",
      "18 Alaves      -0.27 0.94   0.88    Alaves       114         \n",
      "19 Valladolid  -0.29 0.80   1.02    Valladolid    76         \n",
      "20 Leganes     -0.31 0.83   0.97    Leganes      113         \n",
      "21 Huesca      -0.35 1.08   0.72    Huesca        37         \n",
      "22 Mallorca    -0.39 1.04   0.73    Mallorca      38         \n",
      "23 Vallecano   -0.56 1.02   0.66    Vallecano     37         \n",
      "24 La Coruna   -0.83 0.94   0.60    La Coruna     38         \n",
      "25 Malaga      -1.18 0.58   0.76    Malaga        38         \n",
      "26 Las Palmas  -1.44 0.59   0.62    Las Palmas    38         \n"
     ]
    }
   ],
   "source": [
    "ranking <- rank.teams(scores=anotaciones, teams = equipos, max.date = rango[2], min.date = rango[1])"
   ]
  },
  {
   "cell_type": "markdown",
   "metadata": {},
   "source": [
    "4. Finalmente estima las probabilidades de los eventos, el equipo de casa gana, el equipo visitante gana o el resultado es un empate para los partidos que se jugaron en la última fecha del vector de fechas fecha. Esto lo puedes hacer con ayuda de la función predict y usando como argumentos ranking y fecha[n] que deberá especificar en date"
   ]
  },
  {
   "cell_type": "code",
   "execution_count": 136,
   "metadata": {
    "scrolled": true
   },
   "outputs": [
    {
     "name": "stdout",
     "output_type": "stream",
     "text": [
      "Predicted Match Results for 2017-08-18 to 2020-12-22\n",
      "Model based on data from 2017-08-18 to 2020-12-22\n",
      "---------------------------------------------\n",
      "2017-08-18 Leganes vs Alaves, HW 34%, AW 34%, T 32%, pred score 0.9-1  actual: HW (1-0)\n",
      "2017-08-18 Valencia vs Las Palmas, HW 74%, AW 8%, T 17%, pred score 2.1-0.5  actual: HW (1-0)\n",
      "2017-08-19 Celta vs Sociedad, HW 31%, AW 45%, T 24%, pred score 1.4-1.7  actual: AW (2-3)\n",
      "2017-08-19 Girona vs Ath Madrid, HW 14%, AW 62%, T 24%, pred score 0.6-1.6  actual: T (2-2)\n",
      "2017-08-19 Sevilla vs Espanol, HW 50%, AW 24%, T 27%, pred score 1.5-0.9  actual: T (1-1)\n",
      "2017-08-20 Ath Bilbao vs Getafe, HW 27%, AW 41%, T 33%, pred score 0.8-1  actual: T (0-0)\n",
      "2017-08-20 Barcelona vs Betis, HW 75%, AW 10%, T 14%, pred score 2.8-1  actual: HW (2-0)\n",
      "2017-08-20 La Coruna vs Real Madrid, HW 6%, AW 83%, T 11%, pred score 0.8-3.1  actual: AW (0-3)\n",
      "2017-08-21 Levante vs Villarreal, HW 30%, AW 47%, T 23%, pred score 1.4-1.8  actual: HW (1-0)\n",
      "2017-08-21 Malaga vs Eibar, HW 17%, AW 55%, T 28%, pred score 0.7-1.4  actual: AW (0-1)\n",
      "2017-08-25 Betis vs Celta, HW 39%, AW 38%, T 24%, pred score 1.6-1.6  actual: HW (2-1)\n",
      "2017-08-25 Sociedad vs Villarreal, HW 37%, AW 39%, T 24%, pred score 1.5-1.6  actual: HW (3-0)\n",
      "2017-08-26 Alaves vs Barcelona, HW 8%, AW 77%, T 15%, pred score 0.7-2.5  actual: AW (0-2)\n",
      "2017-08-26 Girona vs Malaga, HW 54%, AW 19%, T 27%, pred score 1.4-0.7  actual: HW (1-0)\n",
      "2017-08-26 Las Palmas vs Ath Madrid, HW 5%, AW 79%, T 16%, pred score 0.3-2.1  actual: AW (1-5)\n",
      "2017-08-26 Levante vs La Coruna, HW 58%, AW 21%, T 21%, pred score 2.1-1.2  actual: T (2-2)\n",
      "2017-08-27 Eibar vs Ath Bilbao, HW 32%, AW 39%, T 29%, pred score 1-1.1  actual: AW (0-1)\n",
      "2017-08-27 Espanol vs Leganes, HW 35%, AW 33%, T 32%, pred score 0.9-0.9  actual: AW (0-1)\n",
      "2017-08-27 Getafe vs Sevilla, HW 37%, AW 33%, T 30%, pred score 1.1-1  actual: AW (0-1)\n",
      "2017-08-27 Real Madrid vs Valencia, HW 50%, AW 26%, T 24%, pred score 1.7-1.1  actual: T (2-2)\n",
      "2017-09-08 Leganes vs Getafe, HW 21%, AW 47%, T 32%, pred score 0.6-1.1  actual: AW (1-2)\n",
      "2017-09-09 Barcelona vs Espanol, HW 75%, AW 9%, T 16%, pred score 2.4-0.7  actual: HW (5-0)\n",
      "2017-09-09 Real Madrid vs Levante, HW 66%, AW 16%, T 18%, pred score 2.4-1.1  actual: T (1-1)\n",
      "2017-09-09 Sevilla vs Eibar, HW 48%, AW 27%, T 26%, pred score 1.5-1.1  actual: HW (3-0)\n",
      "2017-09-09 Valencia vs Ath Madrid, HW 23%, AW 47%, T 30%, pred score 0.7-1.2  actual: T (0-0)\n",
      "2017-09-10 Ath Bilbao vs Girona, HW 41%, AW 30%, T 28%, pred score 1.2-1  actual: HW (2-0)\n",
      "2017-09-10 Celta vs Alaves, HW 43%, AW 31%, T 27%, pred score 1.4-1.2  actual: HW (1-0)\n",
      "2017-09-10 La Coruna vs Sociedad, HW 16%, AW 66%, T 19%, pred score 1-2.3  actual: AW (2-4)\n",
      "2017-09-10 Villarreal vs Betis, HW 46%, AW 30%, T 24%, pred score 1.7-1.4  actual: HW (3-1)\n",
      "2017-09-11 Malaga vs Las Palmas, HW 37%, AW 29%, T 34%, pred score 0.9-0.8  actual: AW (1-3)\n",
      "2017-09-15 Eibar vs Leganes, HW 39%, AW 30%, T 30%, pred score 1.1-0.9  actual: HW (1-0)\n",
      "2017-09-16 Ath Madrid vs Malaga, HW 73%, AW 6%, T 21%, pred score 1.7-0.3  actual: HW (1-0)\n",
      "2017-09-16 Betis vs La Coruna, HW 59%, AW 20%, T 21%, pred score 2.1-1.2  actual: HW (2-1)\n",
      "2017-09-16 Getafe vs Barcelona, HW 18%, AW 58%, T 24%, pred score 0.8-1.7  actual: AW (1-2)\n",
      "2017-09-16 Levante vs Valencia, HW 26%, AW 50%, T 24%, pred score 1.1-1.7  actual: T (1-1)\n",
      "2017-09-17 Alaves vs Villarreal, HW 25%, AW 50%, T 25%, pred score 1-1.6  actual: AW (0-3)\n",
      "2017-09-17 Girona vs Sevilla, HW 25%, AW 51%, T 25%, pred score 1.1-1.7  actual: AW (0-1)\n",
      "2017-09-17 Las Palmas vs Ath Bilbao, HW 12%, AW 63%, T 24%, pred score 0.6-1.6  actual: HW (1-0)\n",
      "2017-09-17 Sociedad vs Real Madrid, HW 21%, AW 58%, T 21%, pred score 1.2-2.1  actual: AW (1-3)\n",
      "2017-09-18 Espanol vs Celta, HW 32%, AW 41%, T 27%, pred score 1.1-1.3  actual: HW (2-1)\n",
      "2017-09-19 Barcelona vs Eibar, HW 74%, AW 10%, T 16%, pred score 2.5-0.8  actual: HW (6-1)\n",
      "2017-09-19 Valencia vs Malaga, HW 67%, AW 11%, T 22%, pred score 1.8-0.5  actual: HW (5-0)\n",
      "2017-09-20 Ath Bilbao vs Ath Madrid, HW 17%, AW 53%, T 30%, pred score 0.6-1.2  actual: AW (1-2)\n",
      "2017-09-20 La Coruna vs Alaves, HW 26%, AW 49%, T 25%, pred score 1.1-1.6  actual: HW (1-0)\n",
      "2017-09-20 Leganes vs Girona, HW 33%, AW 38%, T 30%, pred score 1-1.1  actual: T (0-0)\n",
      "2017-09-20 Real Madrid vs Betis, HW 65%, AW 16%, T 19%, pred score 2.3-1.1  actual: AW (0-1)\n",
      "2017-09-20 Sevilla vs Las Palmas, HW 74%, AW 9%, T 17%, pred score 2.2-0.6  actual: HW (1-0)\n",
      "2017-09-21 Celta vs Getafe, HW 26%, AW 46%, T 28%, pred score 0.9-1.3  actual: T (1-1)\n",
      "2017-09-21 Levante vs Sociedad, HW 31%, AW 46%, T 23%, pred score 1.4-1.8  actual: HW (3-0)\n",
      "2017-09-21 Villarreal vs Espanol, HW 49%, AW 26%, T 26%, pred score 1.5-1  actual: T (0-0)\n",
      "2017-09-23 Alaves vs Real Madrid, HW 13%, AW 67%, T 19%, pred score 0.8-2.1  actual: AW (1-2)\n",
      "2017-09-23 Ath Madrid vs Sevilla, HW 50%, AW 21%, T 28%, pred score 1.3-0.8  actual: HW (2-0)\n",
      "2017-09-23 Girona vs Barcelona, HW 9%, AW 77%, T 14%, pred score 0.8-2.7  actual: AW (0-3)\n",
      "2017-09-23 Malaga vs Ath Bilbao, HW 15%, AW 56%, T 29%, pred score 0.5-1.3  actual: T (3-3)\n",
      "2017-09-24 Eibar vs Celta, HW 36%, AW 38%, T 26%, pred score 1.3-1.4  actual: AW (0-4)\n",
      "2017-09-24 Espanol vs La Coruna, HW 50%, AW 25%, T 26%, pred score 1.5-1  actual: HW (4-1)\n",
      "2017-09-24 Getafe vs Villarreal, HW 39%, AW 32%, T 29%, pred score 1.2-1.1  actual: HW (4-0)\n",
      "2017-09-24 Las Palmas vs Leganes, HW 17%, AW 54%, T 29%, pred score 0.6-1.3  actual: AW (0-2)\n",
      "2017-09-24 Sociedad vs Valencia, HW 32%, AW 42%, T 26%, pred score 1.3-1.5  actual: AW (2-3)\n",
      "2017-09-25 Betis vs Levante, HW 39%, AW 38%, T 24%, pred score 1.6-1.6  actual: HW (4-0)\n",
      "2017-09-29 Celta vs Girona, HW 42%, AW 33%, T 25%, pred score 1.5-1.3  actual: T (3-3)\n",
      "2017-09-30 La Coruna vs Getafe, HW 14%, AW 64%, T 22%, pred score 0.7-1.8  actual: HW (2-1)\n",
      "2017-09-30 Leganes vs Ath Madrid, HW 13%, AW 59%, T 28%, pred score 0.5-1.4  actual: T (0-0)\n",
      "2017-09-30 Levante vs Alaves, HW 43%, AW 31%, T 26%, pred score 1.4-1.2  actual: AW (0-2)\n",
      "2017-09-30 Sevilla vs Malaga, HW 67%, AW 12%, T 22%, pred score 1.8-0.6  actual: HW (2-0)\n",
      "2017-10-01 Barcelona vs Las Palmas, HW 92%, AW 2%, T 6%, pred score 3.6-0.5  actual: HW (3-0)\n",
      "2017-10-01 Real Madrid vs Espanol, HW 65%, AW 14%, T 21%, pred score 2-0.8  actual: HW (2-0)\n",
      "2017-10-01 Sociedad vs Betis, HW 45%, AW 32%, T 23%, pred score 1.7-1.4  actual: T (4-4)\n",
      "2017-10-01 Valencia vs Ath Bilbao, HW 44%, AW 27%, T 29%, pred score 1.3-0.9  actual: HW (3-2)\n",
      "2017-10-01 Villarreal vs Eibar, HW 46%, AW 29%, T 25%, pred score 1.6-1.2  actual: HW (3-0)\n",
      "2017-10-13 Espanol vs Levante, HW 33%, AW 41%, T 27%, pred score 1.2-1.3  actual: T (0-0)\n",
      "2017-10-14 Alaves vs Sociedad, HW 25%, AW 50%, T 25%, pred score 1-1.6  actual: AW (0-2)\n",
      "2017-10-14 Ath Bilbao vs Sevilla, HW 29%, AW 43%, T 28%, pred score 1-1.3  actual: HW (1-0)\n",
      "2017-10-14 Ath Madrid vs Barcelona, HW 30%, AW 42%, T 28%, pred score 1-1.3  actual: T (1-1)\n",
      "2017-10-14 Getafe vs Real Madrid, HW 25%, AW 48%, T 27%, pred score 0.9-1.4  actual: AW (1-2)\n",
      "2017-10-15 Betis vs Valencia, HW 27%, AW 49%, T 24%, pred score 1.2-1.7  actual: AW (3-6)\n",
      "2017-10-15 Eibar vs La Coruna, HW 55%, AW 22%, T 23%, pred score 1.8-1  actual: T (0-0)\n",
      "2017-10-15 Girona vs Villarreal, HW 26%, AW 50%, T 24%, pred score 1.2-1.7  actual: AW (1-2)\n",
      "2017-10-15 Malaga vs Leganes, HW 20%, AW 48%, T 32%, pred score 0.6-1.1  actual: AW (0-2)\n",
      "2017-10-16 Las Palmas vs Celta, HW 13%, AW 67%, T 20%, pred score 0.7-2  actual: AW (2-5)\n",
      "2017-10-21 Barcelona vs Malaga, HW 87%, AW 3%, T 9%, pred score 3-0.5  actual: HW (2-0)\n",
      "2017-10-21 Betis vs Alaves, HW 43%, AW 31%, T 26%, pred score 1.4-1.2  actual: HW (2-0)\n",
      "2017-10-21 Levante vs Getafe, HW 26%, AW 47%, T 27%, pred score 0.9-1.4  actual: T (1-1)\n",
      "2017-10-21 Valencia vs Sevilla, HW 39%, AW 35%, T 27%, pred score 1.3-1.2  actual: HW (4-0)\n",
      "2017-10-22 Celta vs Ath Madrid, HW 16%, AW 60%, T 25%, pred score 0.7-1.6  actual: AW (0-1)\n",
      "2017-10-22 Leganes vs Ath Bilbao, HW 27%, AW 41%, T 32%, pred score 0.8-1  actual: HW (1-0)\n",
      "2017-10-22 Real Madrid vs Eibar, HW 64%, AW 16%, T 20%, pred score 2.1-0.9  actual: HW (3-0)\n",
      "2017-10-22 Villarreal vs Las Palmas, HW 74%, AW 9%, T 17%, pred score 2.2-0.6  actual: HW (4-0)\n",
      "2017-10-23 La Coruna vs Girona, HW 24%, AW 52%, T 23%, pred score 1.1-1.8  actual: AW (1-2)\n",
      "2017-10-23 Sociedad vs Espanol, HW 48%, AW 26%, T 26%, pred score 1.5-1  actual: T (1-1)\n",
      "2017-10-28 Alaves vs Valencia, HW 22%, AW 52%, T 26%, pred score 0.9-1.5  actual: AW (1-2)\n",
      "2017-10-28 Ath Bilbao vs Barcelona, HW 13%, AW 68%, T 19%, pred score 0.8-2.1  actual: AW (0-2)\n",
      "2017-10-28 Ath Madrid vs Villarreal, HW 53%, AW 20%, T 27%, pred score 1.5-0.8  actual: T (1-1)\n",
      "2017-10-28 Sevilla vs Leganes, HW 50%, AW 22%, T 27%, pred score 1.4-0.8  actual: HW (2-1)\n",
      "2017-10-29 Eibar vs Levante, HW 36%, AW 38%, T 25%, pred score 1.4-1.4  actual: T (2-2)\n",
      "2017-10-29 Getafe vs Sociedad, HW 40%, AW 32%, T 29%, pred score 1.2-1  actual: HW (2-1)\n",
      "2017-10-29 Girona vs Real Madrid, HW 14%, AW 68%, T 18%, pred score 0.9-2.3  actual: HW (2-1)\n",
      "2017-10-29 Malaga vs Celta, HW 16%, AW 59%, T 24%, pred score 0.7-1.6  actual: HW (2-1)\n",
      "2017-10-30 Espanol vs Betis, HW 32%, AW 41%, T 27%, pred score 1.1-1.4  actual: HW (1-0)\n",
      "2017-10-30 Las Palmas vs La Coruna, HW 25%, AW 49%, T 26%, pred score 1-1.5  actual: AW (1-3)\n",
      "2017-11-03 Betis vs Getafe, HW 26%, AW 46%, T 28%, pred score 1-1.4  actual: T (2-2)\n",
      "2017-11-04 Alaves vs Espanol, HW 34%, AW 36%, T 30%, pred score 1-1  actual: HW (1-0)\n",
      "2017-11-04 Barcelona vs Sevilla, HW 64%, AW 17%, T 19%, pred score 2.3-1.1  actual: HW (2-1)\n",
      "2017-11-04 La Coruna vs Ath Madrid, HW 7%, AW 76%, T 17%, pred score 0.5-2.2  actual: AW (0-1)\n",
      "2017-11-04 Valencia vs Leganes, HW 51%, AW 21%, T 28%, pred score 1.4-0.8  actual: HW (3-0)\n",
      "2017-11-05 Celta vs Ath Bilbao, HW 34%, AW 38%, T 27%, pred score 1.2-1.2  actual: HW (3-1)\n",
      "2017-11-05 Levante vs Girona, HW 42%, AW 34%, T 25%, pred score 1.5-1.4  actual: AW (1-2)\n",
      "2017-11-05 Real Madrid vs Las Palmas, HW 87%, AW 4%, T 10%, pred score 3-0.5  actual: HW (3-0)\n",
      "2017-11-05 Sociedad vs Eibar, HW 46%, AW 29%, T 25%, pred score 1.5-1.2  actual: HW (3-1)\n",
      "2017-11-05 Villarreal vs Malaga, HW 66%, AW 12%, T 21%, pred score 1.8-0.6  actual: HW (2-0)\n",
      "2017-11-17 Girona vs Sociedad, HW 27%, AW 49%, T 24%, pred score 1.2-1.7  actual: T (1-1)\n",
      "2017-11-18 Ath Madrid vs Real Madrid, HW 37%, AW 33%, T 29%, pred score 1.1-1  actual: T (0-0)\n",
      "2017-11-18 Getafe vs Alaves, HW 49%, AW 22%, T 30%, pred score 1.2-0.7  actual: HW (4-1)\n",
      "2017-11-18 Leganes vs Barcelona, HW 9%, AW 75%, T 16%, pred score 0.6-2.3  actual: AW (0-3)\n",
      "2017-11-18 Sevilla vs Celta, HW 47%, AW 29%, T 24%, pred score 1.7-1.3  actual: HW (2-1)\n",
      "2017-11-19 Ath Bilbao vs Villarreal, HW 31%, AW 41%, T 27%, pred score 1.1-1.3  actual: T (1-1)\n",
      "2017-11-19 Espanol vs Valencia, HW 22%, AW 51%, T 27%, pred score 0.8-1.4  actual: AW (0-2)\n",
      "2017-11-19 Las Palmas vs Levante, HW 13%, AW 67%, T 20%, pred score 0.8-2  actual: AW (0-2)\n",
      "2017-11-19 Malaga vs La Coruna, HW 29%, AW 42%, T 29%, pred score 1-1.2  actual: HW (3-2)\n",
      "2017-11-20 Eibar vs Betis, HW 35%, AW 39%, T 25%, pred score 1.3-1.4  actual: HW (5-0)\n",
      "2017-11-24 Celta vs Leganes, HW 42%, AW 30%, T 28%, pred score 1.3-1  actual: HW (1-0)\n",
      "2017-11-25 Alaves vs Eibar, HW 32%, AW 40%, T 29%, pred score 1-1.2  actual: AW (1-2)\n",
      "2017-11-25 Betis vs Girona, HW 42%, AW 33%, T 25%, pred score 1.5-1.3  actual: T (2-2)\n",
      "2017-11-25 Levante vs Ath Madrid, HW 16%, AW 61%, T 24%, pred score 0.7-1.7  actual: AW (0-5)\n",
      "2017-11-25 Real Madrid vs Malaga, HW 81%, AW 6%, T 14%, pred score 2.5-0.5  actual: HW (3-2)\n",
      "2017-11-26 La Coruna vs Ath Bilbao, HW 20%, AW 56%, T 24%, pred score 0.9-1.7  actual: T (2-2)\n",
      "2017-11-26 Sociedad vs Las Palmas, HW 73%, AW 9%, T 17%, pred score 2.2-0.7  actual: T (2-2)\n",
      "2017-11-26 Valencia vs Barcelona, HW 18%, AW 61%, T 21%, pred score 1-2  actual: T (1-1)\n",
      "2017-11-26 Villarreal vs Sevilla, HW 36%, AW 40%, T 25%, pred score 1.4-1.5  actual: AW (2-3)\n",
      "2017-11-27 Espanol vs Getafe, HW 22%, AW 47%, T 31%, pred score 0.7-1.2  actual: HW (1-0)\n",
      "2017-12-01 Malaga vs Levante, HW 17%, AW 59%, T 24%, pred score 0.7-1.7  actual: T (0-0)\n",
      "2017-12-02 Ath Bilbao vs Real Madrid, HW 18%, AW 58%, T 23%, pred score 0.9-1.7  actual: T (0-0)\n",
      "2017-12-02 Ath Madrid vs Sociedad, HW 54%, AW 20%, T 27%, pred score 1.5-0.8  actual: HW (2-1)\n",
      "2017-12-02 Barcelona vs Celta, HW 75%, AW 10%, T 15%, pred score 2.8-1  actual: T (2-2)\n",
      "2017-12-02 Sevilla vs La Coruna, HW 67%, AW 14%, T 19%, pred score 2.3-0.9  actual: HW (2-0)\n",
      "2017-12-03 Eibar vs Espanol, HW 38%, AW 32%, T 29%, pred score 1.1-1  actual: HW (3-1)\n",
      "2017-12-03 Getafe vs Valencia, HW 34%, AW 35%, T 31%, pred score 1-1  actual: HW (1-0)\n",
      "2017-12-03 Las Palmas vs Betis, HW 13%, AW 68%, T 20%, pred score 0.7-2  actual: HW (1-0)\n",
      "2017-12-03 Leganes vs Villarreal, HW 24%, AW 49%, T 27%, pred score 0.9-1.4  actual: HW (3-1)\n",
      "2017-12-04 Girona vs Alaves, HW 38%, AW 34%, T 28%, pred score 1.2-1.1  actual: AW (2-3)\n",
      "2017-12-08 Alaves vs Las Palmas, HW 58%, AW 17%, T 26%, pred score 1.5-0.7  actual: HW (2-0)\n",
      "2017-12-09 Getafe vs Eibar, HW 45%, AW 25%, T 30%, pred score 1.2-0.8  actual: T (0-0)\n",
      "2017-12-09 La Coruna vs Leganes, HW 26%, AW 46%, T 27%, pred score 1-1.4  actual: HW (1-0)\n",
      "2017-12-09 Real Madrid vs Sevilla, HW 54%, AW 24%, T 23%, pred score 1.9-1.2  actual: HW (5-0)\n",
      "2017-12-09 Valencia vs Celta, HW 49%, AW 27%, T 25%, pred score 1.6-1.1  actual: HW (2-1)\n",
      "2017-12-10 Betis vs Ath Madrid, HW 16%, AW 60%, T 24%, pred score 0.7-1.7  actual: AW (0-1)\n",
      "2017-12-10 Levante vs Ath Bilbao, HW 34%, AW 39%, T 27%, pred score 1.2-1.3  actual: AW (1-2)\n",
      "2017-12-10 Sociedad vs Malaga, HW 66%, AW 13%, T 22%, pred score 1.8-0.6  actual: AW (0-2)\n",
      "2017-12-10 Villarreal vs Barcelona, HW 15%, AW 67%, T 18%, pred score 1.1-2.5  actual: AW (0-2)\n",
      "2017-12-11 Espanol vs Girona, HW 35%, AW 36%, T 29%, pred score 1.1-1.1  actual: AW (0-1)\n",
      "2017-12-15 Sevilla vs Levante, HW 48%, AW 28%, T 23%, pred score 1.7-1.3  actual: T (0-0)\n",
      "2017-12-16 Ath Bilbao vs Sociedad, HW 32%, AW 41%, T 27%, pred score 1.1-1.3  actual: T (0-0)\n",
      "2017-12-16 Ath Madrid vs Alaves, HW 61%, AW 13%, T 26%, pred score 1.5-0.5  actual: HW (1-0)\n",
      "2017-12-16 Eibar vs Valencia, HW 25%, AW 49%, T 26%, pred score 1-1.5  actual: HW (2-1)\n",
      "2017-12-17 Barcelona vs La Coruna, HW 89%, AW 4%, T 7%, pred score 3.7-0.7  actual: HW (4-0)\n",
      "2017-12-17 Celta vs Villarreal, HW 30%, AW 46%, T 23%, pred score 1.4-1.7  actual: AW (0-1)\n",
      "2017-12-17 Girona vs Getafe, HW 23%, AW 48%, T 29%, pred score 0.8-1.3  actual: HW (1-0)\n",
      "2017-12-17 Las Palmas vs Espanol, HW 16%, AW 58%, T 26%, pred score 0.6-1.5  actual: T (2-2)\n",
      "2017-12-18 Malaga vs Betis, HW 16%, AW 60%, T 24%, pred score 0.7-1.7  actual: AW (0-2)\n",
      "2017-12-19 Levante vs Leganes, HW 42%, AW 30%, T 28%, pred score 1.3-1.1  actual: T (0-0)\n",
      "2017-12-20 Getafe vs Las Palmas, HW 69%, AW 9%, T 22%, pred score 1.7-0.4  actual: HW (2-0)\n",
      "2017-12-20 Sociedad vs Sevilla, HW 35%, AW 40%, T 24%, pred score 1.4-1.5  actual: HW (3-1)\n",
      "2017-12-21 Alaves vs Malaga, HW 50%, AW 20%, T 30%, pred score 1.2-0.7  actual: HW (1-0)\n",
      "2017-12-21 Eibar vs Girona, HW 39%, AW 34%, T 27%, pred score 1.3-1.2  actual: HW (4-1)\n",
      "2017-12-22 Betis vs Ath Bilbao, HW 35%, AW 38%, T 27%, pred score 1.2-1.3  actual: AW (0-2)\n",
      "2017-12-22 Espanol vs Ath Madrid, HW 14%, AW 59%, T 27%, pred score 0.5-1.4  actual: HW (1-0)\n",
      "2017-12-23 La Coruna vs Celta, HW 20%, AW 59%, T 21%, pred score 1.2-2.1  actual: AW (1-3)\n",
      "2017-12-23 Real Madrid vs Barcelona, HW 29%, AW 48%, T 22%, pred score 1.4-1.9  actual: AW (0-3)\n",
      "2017-12-23 Valencia vs Villarreal, HW 41%, AW 33%, T 26%, pred score 1.5-1.3  actual: AW (0-1)\n",
      "2018-01-06 Ath Madrid vs Getafe, HW 44%, AW 22%, T 34%, pred score 1-0.6  actual: HW (2-0)\n",
      "2018-01-06 Las Palmas vs Eibar, HW 14%, AW 63%, T 23%, pred score 0.7-1.7  actual: AW (1-2)\n",
      "2018-01-06 Sevilla vs Betis, HW 47%, AW 29%, T 24%, pred score 1.7-1.3  actual: AW (3-5)\n",
      "2018-01-06 Valencia vs Girona, HW 52%, AW 23%, T 25%, pred score 1.6-1  actual: HW (2-1)\n",
      "2018-01-07 Ath Bilbao vs Alaves, HW 42%, AW 28%, T 30%, pred score 1.1-0.9  actual: HW (2-0)\n",
      "2018-01-07 Barcelona vs Levante, HW 76%, AW 10%, T 14%, pred score 2.9-1  actual: HW (3-0)\n",
      "2018-01-07 Celta vs Real Madrid, HW 16%, AW 65%, T 19%, pred score 1.1-2.3  actual: T (2-2)\n",
      "2018-01-07 Leganes vs Sociedad, HW 25%, AW 49%, T 27%, pred score 0.9-1.4  actual: HW (1-0)\n",
      "2018-01-07 Villarreal vs La Coruna, HW 67%, AW 15%, T 18%, pred score 2.3-1  actual: T (1-1)\n",
      "2018-01-08 Malaga vs Espanol, HW 19%, AW 50%, T 31%, pred score 0.6-1.2  actual: AW (0-1)\n",
      "2018-01-12 Getafe vs Malaga, HW 62%, AW 11%, T 27%, pred score 1.4-0.4  actual: HW (1-0)\n",
      "2018-01-13 Eibar vs Ath Madrid, HW 15%, AW 59%, T 26%, pred score 0.6-1.5  actual: AW (0-1)\n",
      "2018-01-13 Girona vs Las Palmas, HW 61%, AW 15%, T 24%, pred score 1.7-0.7  actual: HW (6-0)\n",
      "2018-01-13 La Coruna vs Valencia, HW 13%, AW 68%, T 19%, pred score 0.9-2.2  actual: AW (1-2)\n",
      "2018-01-13 Real Madrid vs Villarreal, HW 57%, AW 22%, T 21%, pred score 2-1.2  actual: AW (0-1)\n",
      "2018-01-14 Alaves vs Sevilla, HW 23%, AW 51%, T 26%, pred score 0.9-1.5  actual: HW (1-0)\n",
      "2018-01-14 Espanol vs Ath Bilbao, HW 29%, AW 40%, T 31%, pred score 0.9-1.1  actual: T (1-1)\n",
      "2018-01-14 Levante vs Celta, HW 37%, AW 39%, T 24%, pred score 1.6-1.6  actual: AW (0-1)\n",
      "2018-01-14 Sociedad vs Barcelona, HW 15%, AW 68%, T 17%, pred score 1.1-2.5  actual: AW (2-4)\n",
      "2018-01-15 Betis vs Leganes, HW 42%, AW 30%, T 28%, pred score 1.3-1  actual: HW (3-2)\n",
      "2018-01-19 Getafe vs Ath Bilbao, HW 41%, AW 26%, T 33%, pred score 1-0.8  actual: T (2-2)\n",
      "2018-01-20 Ath Madrid vs Girona, HW 62%, AW 14%, T 24%, pred score 1.6-0.6  actual: T (1-1)\n",
      "2018-01-20 Espanol vs Sevilla, HW 24%, AW 49%, T 27%, pred score 0.9-1.5  actual: AW (0-3)\n",
      "2018-01-20 Las Palmas vs Valencia, HW 8%, AW 74%, T 18%, pred score 0.5-2.1  actual: HW (2-1)\n",
      "2018-01-20 Villarreal vs Levante, HW 47%, AW 30%, T 23%, pred score 1.8-1.4  actual: HW (2-1)\n",
      "2018-01-21 Alaves vs Leganes, HW 35%, AW 34%, T 32%, pred score 1-0.9  actual: T (2-2)\n",
      "2018-01-21 Betis vs Barcelona, HW 10%, AW 75%, T 14%, pred score 1-2.8  actual: AW (0-5)\n",
      "2018-01-21 Real Madrid vs La Coruna, HW 82%, AW 6%, T 11%, pred score 3.1-0.8  actual: HW (7-1)\n",
      "2018-01-21 Sociedad vs Celta, HW 45%, AW 31%, T 24%, pred score 1.7-1.4  actual: AW (1-2)\n",
      "2018-01-22 Eibar vs Malaga, HW 56%, AW 17%, T 27%, pred score 1.4-0.7  actual: T (1-1)\n",
      "2018-01-26 Ath Bilbao vs Eibar, HW 38%, AW 32%, T 30%, pred score 1.1-1  actual: T (1-1)\n",
      "2018-01-27 La Coruna vs Levante, HW 21%, AW 58%, T 21%, pred score 1.2-2.1  actual: T (2-2)\n",
      "2018-01-27 Malaga vs Girona, HW 19%, AW 54%, T 27%, pred score 0.7-1.4  actual: T (0-0)\n",
      "2018-01-27 Valencia vs Real Madrid, HW 25%, AW 51%, T 24%, pred score 1.1-1.7  actual: AW (1-4)\n",
      "2018-01-27 Villarreal vs Sociedad, HW 39%, AW 37%, T 24%, pred score 1.6-1.5  actual: HW (4-2)\n",
      "2018-01-28 Ath Madrid vs Las Palmas, HW 80%, AW 5%, T 16%, pred score 2.1-0.3  actual: HW (3-0)\n",
      "2018-01-28 Barcelona vs Alaves, HW 77%, AW 9%, T 15%, pred score 2.5-0.7  actual: HW (2-1)\n",
      "2018-01-28 Leganes vs Espanol, HW 32%, AW 35%, T 33%, pred score 0.9-0.9  actual: HW (3-2)\n",
      "2018-01-28 Sevilla vs Getafe, HW 33%, AW 37%, T 30%, pred score 1-1.1  actual: T (1-1)\n",
      "2018-01-29 Celta vs Betis, HW 38%, AW 39%, T 24%, pred score 1.6-1.6  actual: HW (3-2)\n",
      "2018-02-02 Sociedad vs La Coruna, HW 66%, AW 15%, T 19%, pred score 2.3-1  actual: HW (5-0)\n",
      "2018-02-03 Alaves vs Celta, HW 31%, AW 43%, T 27%, pred score 1.2-1.4  actual: HW (2-1)\n",
      "2018-02-03 Betis vs Villarreal, HW 30%, AW 46%, T 23%, pred score 1.4-1.7  actual: HW (2-1)\n",
      "2018-02-03 Eibar vs Sevilla, HW 27%, AW 48%, T 25%, pred score 1.1-1.5  actual: HW (5-1)\n",
      "2018-02-03 Levante vs Real Madrid, HW 16%, AW 66%, T 18%, pred score 1.1-2.4  actual: T (2-2)\n",
      "2018-02-04 Ath Madrid vs Valencia, HW 47%, AW 23%, T 30%, pred score 1.2-0.7  actual: HW (1-0)\n",
      "2018-02-04 Espanol vs Barcelona, HW 9%, AW 75%, T 16%, pred score 0.7-2.4  actual: T (1-1)\n",
      "2018-02-04 Getafe vs Leganes, HW 47%, AW 20%, T 32%, pred score 1.1-0.6  actual: T (0-0)\n",
      "2018-02-04 Girona vs Ath Bilbao, HW 30%, AW 41%, T 29%, pred score 1-1.2  actual: HW (2-0)\n",
      "2018-02-05 Las Palmas vs Malaga, HW 29%, AW 37%, T 34%, pred score 0.8-0.9  actual: HW (1-0)\n",
      "2018-02-09 Ath Bilbao vs Las Palmas, HW 64%, AW 13%, T 24%, pred score 1.6-0.6  actual: T (0-0)\n",
      "2018-02-10 Leganes vs Eibar, HW 31%, AW 39%, T 30%, pred score 0.9-1.1  actual: AW (0-1)\n",
      "2018-02-10 Malaga vs Ath Madrid, HW 6%, AW 73%, T 21%, pred score 0.3-1.7  actual: AW (0-1)\n",
      "2018-02-10 Real Madrid vs Sociedad, HW 58%, AW 21%, T 21%, pred score 2.1-1.2  actual: HW (5-2)\n",
      "2018-02-10 Villarreal vs Alaves, HW 50%, AW 25%, T 25%, pred score 1.6-1  actual: AW (1-2)\n",
      "2018-02-11 Barcelona vs Getafe, HW 57%, AW 18%, T 24%, pred score 1.7-0.8  actual: T (0-0)\n",
      "2018-02-11 Celta vs Espanol, HW 41%, AW 32%, T 27%, pred score 1.3-1.1  actual: T (2-2)\n",
      "2018-02-11 Sevilla vs Girona, HW 51%, AW 25%, T 24%, pred score 1.7-1.1  actual: HW (1-0)\n",
      "2018-02-11 Valencia vs Levante, HW 50%, AW 26%, T 24%, pred score 1.7-1.1  actual: HW (3-1)\n",
      "2018-02-12 La Coruna vs Betis, HW 20%, AW 59%, T 21%, pred score 1.2-2.1  actual: AW (0-1)\n",
      "2018-02-16 Girona vs Leganes, HW 37%, AW 33%, T 30%, pred score 1.1-1  actual: HW (3-0)\n",
      "2018-02-17 Alaves vs La Coruna, HW 49%, AW 26%, T 25%, pred score 1.6-1.1  actual: HW (1-0)\n",
      "2018-02-17 Eibar vs Barcelona, HW 10%, AW 74%, T 16%, pred score 0.8-2.5  actual: AW (0-2)\n",
      "2018-02-17 Las Palmas vs Sevilla, HW 9%, AW 74%, T 17%, pred score 0.6-2.2  actual: AW (1-2)\n",
      "2018-02-17 Malaga vs Valencia, HW 11%, AW 67%, T 22%, pred score 0.5-1.8  actual: AW (1-2)\n",
      "2018-02-18 Ath Madrid vs Ath Bilbao, HW 53%, AW 17%, T 30%, pred score 1.2-0.6  actual: HW (2-0)\n",
      "2018-02-18 Betis vs Real Madrid, HW 16%, AW 65%, T 19%, pred score 1.1-2.3  actual: AW (3-5)\n",
      "2018-02-18 Espanol vs Villarreal, HW 25%, AW 49%, T 26%, pred score 1-1.5  actual: T (1-1)\n",
      "2018-02-18 Sociedad vs Levante, HW 46%, AW 31%, T 23%, pred score 1.8-1.4  actual: HW (3-0)\n",
      "2018-02-19 Getafe vs Celta, HW 46%, AW 26%, T 28%, pred score 1.3-0.9  actual: HW (3-0)\n",
      "2018-02-21 Leganes vs Real Madrid, HW 13%, AW 66%, T 21%, pred score 0.7-1.9  actual: AW (1-3)\n",
      "2018-02-23 La Coruna vs Espanol, HW 25%, AW 50%, T 26%, pred score 1-1.5  actual: T (0-0)\n",
      "2018-02-24 Barcelona vs Girona, HW 77%, AW 9%, T 14%, pred score 2.7-0.8  actual: HW (6-1)\n",
      "2018-02-24 Celta vs Eibar, HW 39%, AW 36%, T 26%, pred score 1.4-1.3  actual: HW (2-0)\n",
      "2018-02-24 Leganes vs Las Palmas, HW 54%, AW 17%, T 29%, pred score 1.3-0.6  actual: T (0-0)\n",
      "2018-02-24 Real Madrid vs Alaves, HW 67%, AW 13%, T 19%, pred score 2.1-0.8  actual: HW (4-0)\n",
      "2018-02-25 Ath Bilbao vs Malaga, HW 56%, AW 15%, T 28%, pred score 1.3-0.5  actual: HW (2-1)\n",
      "2018-02-25 Sevilla vs Ath Madrid, HW 22%, AW 50%, T 28%, pred score 0.8-1.3  actual: AW (2-5)\n",
      "2018-02-25 Valencia vs Sociedad, HW 42%, AW 32%, T 25%, pred score 1.5-1.3  actual: HW (2-1)\n",
      "2018-02-25 Villarreal vs Getafe, HW 32%, AW 39%, T 29%, pred score 1.1-1.2  actual: HW (1-0)\n",
      "2018-02-26 Levante vs Betis, HW 38%, AW 39%, T 23%, pred score 1.6-1.6  actual: AW (0-2)\n",
      "2018-02-27 Espanol vs Real Madrid, HW 14%, AW 65%, T 21%, pred score 0.8-2  actual: HW (1-0)\n",
      "2018-02-27 Girona vs Celta, HW 33%, AW 42%, T 25%, pred score 1.3-1.5  actual: HW (1-0)\n",
      "2018-02-28 Ath Bilbao vs Valencia, HW 27%, AW 44%, T 29%, pred score 0.9-1.3  actual: T (1-1)\n",
      "2018-02-28 Ath Madrid vs Leganes, HW 59%, AW 13%, T 28%, pred score 1.4-0.5  actual: HW (4-0)\n",
      "2018-02-28 Eibar vs Villarreal, HW 29%, AW 46%, T 25%, pred score 1.2-1.6  actual: HW (1-0)\n",
      "2018-02-28 Getafe vs La Coruna, HW 64%, AW 14%, T 22%, pred score 1.8-0.7  actual: HW (3-0)\n",
      "2018-02-28 Malaga vs Sevilla, HW 12%, AW 67%, T 22%, pred score 0.6-1.8  actual: AW (0-1)\n",
      "2018-03-01 Alaves vs Levante, HW 32%, AW 42%, T 26%, pred score 1.2-1.4  actual: HW (1-0)\n",
      "2018-03-01 Betis vs Sociedad, HW 32%, AW 45%, T 23%, pred score 1.4-1.7  actual: T (0-0)\n",
      "2018-03-01 Las Palmas vs Barcelona, HW 2%, AW 92%, T 6%, pred score 0.5-3.6  actual: T (1-1)\n",
      "2018-03-03 La Coruna vs Eibar, HW 22%, AW 55%, T 23%, pred score 1-1.8  actual: T (1-1)\n",
      "2018-03-03 Leganes vs Malaga, HW 48%, AW 20%, T 32%, pred score 1.1-0.6  actual: HW (2-0)\n",
      "2018-03-03 Real Madrid vs Getafe, HW 48%, AW 25%, T 27%, pred score 1.4-0.9  actual: HW (3-1)\n",
      "2018-03-03 Sevilla vs Ath Bilbao, HW 42%, AW 30%, T 28%, pred score 1.3-1  actual: HW (2-0)\n",
      "2018-03-03 Villarreal vs Girona, HW 50%, AW 26%, T 24%, pred score 1.7-1.2  actual: AW (0-2)\n",
      "2018-03-04 Barcelona vs Ath Madrid, HW 42%, AW 30%, T 28%, pred score 1.3-1  actual: HW (1-0)\n",
      "2018-03-04 Levante vs Espanol, HW 41%, AW 32%, T 27%, pred score 1.3-1.2  actual: T (1-1)\n",
      "2018-03-04 Sociedad vs Alaves, HW 49%, AW 25%, T 25%, pred score 1.6-1  actual: HW (2-1)\n",
      "2018-03-04 Valencia vs Betis, HW 49%, AW 27%, T 24%, pred score 1.7-1.2  actual: HW (2-0)\n",
      "2018-03-05 Celta vs Las Palmas, HW 67%, AW 13%, T 20%, pred score 2-0.7  actual: HW (2-1)\n",
      "2018-03-09 Girona vs La Coruna, HW 53%, AW 24%, T 23%, pred score 1.8-1.1  actual: HW (2-0)\n",
      "2018-03-10 Eibar vs Real Madrid, HW 15%, AW 64%, T 20%, pred score 0.9-2.1  actual: AW (1-2)\n",
      "2018-03-10 Getafe vs Levante, HW 47%, AW 26%, T 27%, pred score 1.4-0.9  actual: AW (0-1)\n",
      "2018-03-10 Malaga vs Barcelona, HW 3%, AW 87%, T 10%, pred score 0.5-3  actual: AW (0-2)\n",
      "2018-03-10 Sevilla vs Valencia, HW 34%, AW 39%, T 27%, pred score 1.2-1.3  actual: AW (0-2)\n",
      "2018-03-11 Ath Bilbao vs Leganes, HW 41%, AW 27%, T 32%, pred score 1-0.8  actual: HW (2-0)\n",
      "2018-03-11 Ath Madrid vs Celta, HW 59%, AW 16%, T 25%, pred score 1.6-0.7  actual: HW (3-0)\n",
      "2018-03-11 Espanol vs Sociedad, HW 26%, AW 48%, T 26%, pred score 1-1.5  actual: HW (2-1)\n",
      "2018-03-11 Las Palmas vs Villarreal, HW 9%, AW 74%, T 17%, pred score 0.6-2.2  actual: AW (0-2)\n",
      "2018-03-12 Alaves vs Betis, HW 31%, AW 43%, T 26%, pred score 1.2-1.4  actual: AW (1-3)\n",
      "2018-03-16 Levante vs Eibar, HW 38%, AW 36%, T 25%, pred score 1.4-1.4  actual: HW (2-1)\n",
      "2018-03-17 Betis vs Espanol, HW 42%, AW 32%, T 27%, pred score 1.4-1.1  actual: HW (3-0)\n",
      "2018-03-17 La Coruna vs Las Palmas, HW 49%, AW 25%, T 26%, pred score 1.5-1  actual: T (1-1)\n",
      "2018-03-17 Sociedad vs Getafe, HW 31%, AW 40%, T 29%, pred score 1-1.2  actual: AW (1-2)\n",
      "2018-03-17 Valencia vs Alaves, HW 52%, AW 21%, T 26%, pred score 1.5-0.9  actual: HW (3-1)\n",
      "2018-03-18 Barcelona vs Ath Bilbao, HW 68%, AW 13%, T 19%, pred score 2.1-0.8  actual: HW (2-0)\n",
      "2018-03-18 Celta vs Malaga, HW 60%, AW 16%, T 24%, pred score 1.6-0.7  actual: T (0-0)\n",
      "2018-03-18 Leganes vs Sevilla, HW 22%, AW 50%, T 27%, pred score 0.8-1.4  actual: HW (2-1)\n",
      "2018-03-18 Real Madrid vs Girona, HW 68%, AW 14%, T 18%, pred score 2.3-0.9  actual: HW (6-3)\n",
      "2018-03-18 Villarreal vs Ath Madrid, HW 20%, AW 53%, T 27%, pred score 0.8-1.5  actual: HW (2-1)\n",
      "2018-03-31 Ath Bilbao vs Celta, HW 38%, AW 35%, T 27%, pred score 1.2-1.2  actual: T (1-1)\n",
      "2018-03-31 Girona vs Levante, HW 34%, AW 42%, T 25%, pred score 1.4-1.5  actual: T (1-1)\n",
      "2018-03-31 Las Palmas vs Real Madrid, HW 4%, AW 86%, T 10%, pred score 0.5-3  actual: AW (0-3)\n",
      "2018-03-31 Sevilla vs Barcelona, HW 16%, AW 64%, T 19%, pred score 1.1-2.3  actual: T (2-2)\n",
      "2018-04-01 Ath Madrid vs La Coruna, HW 76%, AW 7%, T 17%, pred score 2.2-0.5  actual: HW (1-0)\n",
      "2018-04-01 Eibar vs Sociedad, HW 29%, AW 46%, T 25%, pred score 1.2-1.5  actual: T (0-0)\n",
      "2018-04-01 Espanol vs Alaves, HW 36%, AW 34%, T 31%, pred score 1-1  actual: T (0-0)\n",
      "2018-04-01 Leganes vs Valencia, HW 21%, AW 51%, T 28%, pred score 0.8-1.4  actual: AW (0-1)\n",
      "2018-04-01 Malaga vs Villarreal, HW 12%, AW 66%, T 22%, pred score 0.6-1.8  actual: HW (1-0)\n",
      "2018-04-02 Getafe vs Betis, HW 46%, AW 26%, T 28%, pred score 1.4-1  actual: AW (0-1)\n",
      "2018-04-06 La Coruna vs Malaga, HW 42%, AW 29%, T 28%, pred score 1.2-1  actual: HW (3-2)\n",
      "2018-04-07 Alaves vs Getafe, HW 21%, AW 49%, T 30%, pred score 0.7-1.2  actual: HW (2-0)\n",
      "2018-04-07 Barcelona vs Leganes, HW 75%, AW 9%, T 16%, pred score 2.3-0.6  actual: HW (3-1)\n",
      "2018-04-07 Betis vs Eibar, HW 39%, AW 36%, T 25%, pred score 1.4-1.3  actual: HW (2-0)\n",
      "2018-04-07 Celta vs Sevilla, HW 29%, AW 47%, T 24%, pred score 1.3-1.7  actual: HW (4-0)\n",
      "2018-04-08 Levante vs Las Palmas, HW 67%, AW 13%, T 20%, pred score 2-0.8  actual: HW (2-1)\n",
      "2018-04-08 Real Madrid vs Ath Madrid, HW 33%, AW 37%, T 29%, pred score 1-1.1  actual: T (1-1)\n",
      "2018-04-08 Sociedad vs Girona, HW 49%, AW 27%, T 24%, pred score 1.7-1.2  actual: HW (5-0)\n",
      "2018-04-08 Valencia vs Espanol, HW 51%, AW 22%, T 27%, pred score 1.4-0.8  actual: HW (1-0)\n",
      "2018-04-09 Villarreal vs Ath Bilbao, HW 42%, AW 31%, T 27%, pred score 1.3-1.1  actual: AW (1-3)\n",
      "2018-04-13 Girona vs Betis, HW 33%, AW 42%, T 25%, pred score 1.3-1.5  actual: AW (0-1)\n",
      "2018-04-14 Ath Bilbao vs La Coruna, HW 56%, AW 19%, T 24%, pred score 1.7-0.9  actual: AW (2-3)\n",
      "2018-04-14 Barcelona vs Valencia, HW 61%, AW 18%, T 21%, pred score 2-1  actual: HW (2-1)\n",
      "2018-04-14 Las Palmas vs Sociedad, HW 9%, AW 73%, T 17%, pred score 0.7-2.2  actual: AW (0-1)\n",
      "2018-04-14 Leganes vs Celta, HW 30%, AW 42%, T 28%, pred score 1-1.3  actual: HW (1-0)\n",
      "2018-04-14 Sevilla vs Villarreal, HW 39%, AW 36%, T 25%, pred score 1.5-1.4  actual: T (2-2)\n",
      "2018-04-15 Ath Madrid vs Levante, HW 61%, AW 16%, T 24%, pred score 1.7-0.7  actual: HW (3-0)\n",
      "2018-04-15 Eibar vs Alaves, HW 40%, AW 32%, T 29%, pred score 1.2-1  actual: AW (0-1)\n",
      "2018-04-15 Getafe vs Espanol, HW 47%, AW 22%, T 31%, pred score 1.2-0.7  actual: HW (1-0)\n",
      "2018-04-15 Malaga vs Real Madrid, HW 6%, AW 80%, T 14%, pred score 0.5-2.5  actual: AW (1-2)\n",
      "2018-04-17 Celta vs Barcelona, HW 11%, AW 75%, T 15%, pred score 1-2.8  actual: T (2-2)\n",
      "2018-04-17 La Coruna vs Sevilla, HW 14%, AW 68%, T 19%, pred score 0.9-2.3  actual: T (0-0)\n",
      "2018-04-17 Villarreal vs Leganes, HW 49%, AW 24%, T 27%, pred score 1.4-0.9  actual: HW (2-1)\n",
      "2018-04-18 Espanol vs Eibar, HW 33%, AW 38%, T 29%, pred score 1-1.1  actual: AW (0-1)\n",
      "2018-04-18 Real Madrid vs Ath Bilbao, HW 59%, AW 18%, T 23%, pred score 1.7-0.9  actual: T (1-1)\n",
      "2018-04-18 Valencia vs Getafe, HW 35%, AW 34%, T 31%, pred score 1-1  actual: AW (1-2)\n",
      "2018-04-19 Alaves vs Girona, HW 34%, AW 38%, T 28%, pred score 1.1-1.2  actual: AW (1-2)\n",
      "2018-04-19 Betis vs Las Palmas, HW 67%, AW 13%, T 20%, pred score 2-0.7  actual: HW (1-0)\n",
      "2018-04-19 Levante vs Malaga, HW 60%, AW 16%, T 24%, pred score 1.7-0.7  actual: HW (1-0)\n",
      "2018-04-19 Sociedad vs Ath Madrid, HW 20%, AW 53%, T 27%, pred score 0.8-1.5  actual: HW (3-0)\n",
      "2018-04-20 Leganes vs La Coruna, HW 47%, AW 26%, T 27%, pred score 1.4-1  actual: T (0-0)\n",
      "2018-04-21 Celta vs Valencia, HW 26%, AW 49%, T 25%, pred score 1.1-1.6  actual: T (1-1)\n",
      "2018-04-21 Eibar vs Getafe, HW 25%, AW 45%, T 30%, pred score 0.8-1.2  actual: AW (0-1)\n",
      "2018-04-22 Ath Madrid vs Betis, HW 60%, AW 16%, T 24%, pred score 1.7-0.7  actual: T (0-0)\n",
      "2018-04-22 Girona vs Espanol, HW 36%, AW 35%, T 29%, pred score 1.1-1.1  actual: AW (0-2)\n",
      "2018-04-22 Las Palmas vs Alaves, HW 16%, AW 57%, T 26%, pred score 0.7-1.5  actual: AW (0-4)\n",
      "2018-04-22 Malaga vs Sociedad, HW 13%, AW 66%, T 22%, pred score 0.6-1.8  actual: HW (2-0)\n",
      "2018-04-23 Ath Bilbao vs Levante, HW 39%, AW 34%, T 27%, pred score 1.3-1.2  actual: AW (1-3)\n",
      "2018-04-27 Levante vs Sevilla, HW 28%, AW 48%, T 24%, pred score 1.3-1.7  actual: HW (2-1)\n",
      "2018-04-28 Espanol vs Las Palmas, HW 58%, AW 16%, T 27%, pred score 1.5-0.6  actual: T (1-1)\n",
      "2018-04-28 Real Madrid vs Leganes, HW 66%, AW 13%, T 21%, pred score 1.9-0.7  actual: HW (2-1)\n",
      "2018-04-28 Sociedad vs Ath Bilbao, HW 41%, AW 32%, T 27%, pred score 1.3-1.1  actual: HW (3-1)\n",
      "2018-04-28 Villarreal vs Celta, HW 46%, AW 30%, T 23%, pred score 1.7-1.4  actual: HW (4-1)\n",
      "2018-04-29 Alaves vs Ath Madrid, HW 13%, AW 61%, T 26%, pred score 0.5-1.5  actual: AW (0-1)\n",
      "2018-04-29 Getafe vs Girona, HW 49%, AW 23%, T 29%, pred score 1.3-0.8  actual: T (1-1)\n",
      "2018-04-29 La Coruna vs Barcelona, HW 3%, AW 89%, T 7%, pred score 0.7-3.7  actual: AW (2-4)\n",
      "2018-04-29 Valencia vs Eibar, HW 49%, AW 25%, T 26%, pred score 1.5-1  actual: T (0-0)\n",
      "2018-04-30 Betis vs Malaga, HW 60%, AW 16%, T 24%, pred score 1.7-0.7  actual: HW (2-1)\n",
      "2018-05-04 Sevilla vs Sociedad, HW 41%, AW 35%, T 24%, pred score 1.5-1.4  actual: HW (1-0)\n",
      "2018-05-05 Ath Bilbao vs Betis, HW 38%, AW 35%, T 27%, pred score 1.3-1.2  actual: HW (2-0)\n",
      "2018-05-05 Celta vs La Coruna, HW 58%, AW 21%, T 21%, pred score 2.1-1.2  actual: T (1-1)\n",
      "2018-05-05 Girona vs Eibar, HW 34%, AW 39%, T 27%, pred score 1.2-1.3  actual: AW (1-4)\n",
      "2018-05-05 Villarreal vs Valencia, HW 33%, AW 41%, T 26%, pred score 1.3-1.5  actual: HW (1-0)\n",
      "2018-05-06 Ath Madrid vs Espanol, HW 59%, AW 14%, T 27%, pred score 1.4-0.5  actual: AW (0-2)\n",
      "2018-05-06 Barcelona vs Real Madrid, HW 49%, AW 30%, T 22%, pred score 1.9-1.4  actual: T (2-2)\n",
      "2018-05-06 Las Palmas vs Getafe, HW 9%, AW 69%, T 22%, pred score 0.4-1.7  actual: AW (0-1)\n",
      "2018-05-06 Malaga vs Alaves, HW 20%, AW 50%, T 30%, pred score 0.7-1.2  actual: AW (0-3)\n",
      "2018-05-07 Leganes vs Levante, HW 30%, AW 42%, T 28%, pred score 1.1-1.3  actual: AW (0-3)\n",
      "2018-05-09 Barcelona vs Villarreal, HW 67%, AW 15%, T 18%, pred score 2.5-1.1  actual: HW (5-1)\n",
      "2018-05-09 Sevilla vs Real Madrid, HW 24%, AW 54%, T 23%, pred score 1.2-1.9  actual: HW (3-2)\n",
      "2018-05-12 Alaves vs Ath Bilbao, HW 28%, AW 42%, T 30%, pred score 0.9-1.1  actual: HW (3-1)\n",
      "2018-05-12 Betis vs Sevilla, HW 29%, AW 48%, T 24%, pred score 1.3-1.7  actual: T (2-2)\n",
      "2018-05-12 Eibar vs Las Palmas, HW 63%, AW 14%, T 23%, pred score 1.7-0.7  actual: HW (1-0)\n",
      "2018-05-12 Getafe vs Ath Madrid, HW 22%, AW 44%, T 34%, pred score 0.6-1  actual: AW (0-1)\n",
      "2018-05-12 Girona vs Valencia, HW 23%, AW 52%, T 25%, pred score 1-1.6  actual: AW (0-1)\n",
      "2018-05-12 La Coruna vs Villarreal, HW 15%, AW 67%, T 18%, pred score 1-2.3  actual: AW (2-4)\n",
      "2018-05-12 Real Madrid vs Celta, HW 65%, AW 16%, T 19%, pred score 2.3-1.1  actual: HW (6-0)\n",
      "2018-05-12 Sociedad vs Leganes, HW 49%, AW 24%, T 27%, pred score 1.4-0.9  actual: HW (3-2)\n",
      "2018-05-13 Espanol vs Malaga, HW 50%, AW 19%, T 31%, pred score 1.2-0.6  actual: HW (4-1)\n",
      "2018-05-13 Levante vs Barcelona, HW 10%, AW 76%, T 14%, pred score 1-2.9  actual: HW (5-4)\n",
      "2018-05-19 Celta vs Levante, HW 39%, AW 38%, T 24%, pred score 1.6-1.6  actual: HW (4-2)\n",
      "2018-05-19 Las Palmas vs Girona, HW 15%, AW 61%, T 24%, pred score 0.7-1.7  actual: AW (1-2)\n",
      "2018-05-19 Leganes vs Betis, HW 30%, AW 43%, T 28%, pred score 1-1.3  actual: HW (3-2)\n",
      "2018-05-19 Malaga vs Getafe, HW 11%, AW 62%, T 27%, pred score 0.4-1.4  actual: AW (0-1)\n",
      "2018-05-19 Sevilla vs Alaves, HW 51%, AW 23%, T 26%, pred score 1.5-0.9  actual: HW (1-0)\n",
      "2018-05-19 Villarreal vs Real Madrid, HW 22%, AW 57%, T 21%, pred score 1.2-2  actual: T (2-2)\n",
      "2018-05-20 Ath Bilbao vs Espanol, HW 40%, AW 29%, T 31%, pred score 1.1-0.9  actual: AW (0-1)\n",
      "2018-05-20 Ath Madrid vs Eibar, HW 58%, AW 15%, T 26%, pred score 1.5-0.6  actual: T (2-2)\n",
      "2018-05-20 Barcelona vs Sociedad, HW 68%, AW 14%, T 17%, pred score 2.5-1.1  actual: HW (1-0)\n",
      "2018-05-20 Valencia vs La Coruna, HW 68%, AW 13%, T 19%, pred score 2.2-0.9  actual: HW (2-1)\n",
      "2020-01-03 Villarreal vs Real Madrid, HW 22%, AW 57%, T 21%, pred score 1.2-2  actual: T (2-2)\n",
      "2020-01-03 Valladolid vs Leganes, HW 33%, AW 32%, T 35%, pred score 0.8-0.8  actual: T (2-2)\n",
      "2020-01-03 Sevilla vs Ath Bilbao, HW 43%, AW 29%, T 28%, pred score 1.3-1  actual: T (1-1)\n",
      "2020-01-04 Espanol vs Leganes, HW 35%, AW 32%, T 32%, pred score 0.9-0.9  actual: HW (1-0)\n",
      "2020-01-04 Levante vs Girona, HW 41%, AW 34%, T 25%, pred score 1.5-1.4  actual: T (2-2)\n",
      "2020-01-04 Valencia vs Eibar, HW 49%, AW 25%, T 26%, pred score 1.5-1  actual: HW (1-0)\n",
      "2020-01-04 Getafe vs Real Madrid, HW 25%, AW 48%, T 27%, pred score 0.9-1.4  actual: AW (0-3)\n",
      "2020-01-04 Ath Madrid vs Levante, HW 61%, AW 16%, T 24%, pred score 1.7-0.7  actual: HW (2-1)\n",
      "2020-01-04 Espanol vs Barcelona, HW 9%, AW 75%, T 16%, pred score 0.7-2.4  actual: T (2-2)\n",
      "2020-01-05 Alaves vs Valencia, HW 21%, AW 52%, T 26%, pred score 0.9-1.5  actual: HW (2-1)\n",
      "2020-01-05 Huesca vs Betis, HW 30%, AW 47%, T 23%, pred score 1.4-1.8  actual: HW (2-1)\n",
      "2020-01-05 Valladolid vs Vallecano, HW 41%, AW 30%, T 29%, pred score 1.2-1  actual: AW (0-1)\n",
      "2020-01-05 Granada vs Mallorca, HW 57%, AW 21%, T 23%, pred score 1.8-1  actual: HW (1-0)\n",
      "2020-01-05 Sociedad vs Villarreal, HW 37%, AW 38%, T 24%, pred score 1.5-1.6  actual: AW (1-2)\n",
      "2020-01-05 Alaves vs Betis, HW 31%, AW 43%, T 26%, pred score 1.2-1.4  actual: T (1-1)\n",
      "2020-01-05 Celta vs Osasuna, HW 36%, AW 39%, T 25%, pred score 1.4-1.5  actual: T (1-1)\n",
      "2020-01-06 Eibar vs Villarreal, HW 29%, AW 46%, T 25%, pred score 1.2-1.6  actual: T (0-0)\n",
      "2020-01-06 Getafe vs Barcelona, HW 18%, AW 57%, T 24%, pred score 0.8-1.7  actual: AW (1-2)\n",
      "2020-01-06 Real Madrid vs Sociedad, HW 58%, AW 21%, T 21%, pred score 2.1-1.2  actual: AW (0-2)\n",
      "2020-01-06 Sevilla vs Ath Madrid, HW 21%, AW 50%, T 28%, pred score 0.8-1.3  actual: T (1-1)\n",
      "2020-01-07 Celta vs Ath Bilbao, HW 34%, AW 38%, T 27%, pred score 1.2-1.2  actual: AW (1-2)\n",
      "2020-01-11 Vallecano vs Celta, HW 26%, AW 52%, T 22%, pred score 1.3-1.9  actual: HW (4-2)\n",
      "2020-01-12 Girona vs Alaves, HW 38%, AW 34%, T 28%, pred score 1.2-1.1  actual: T (1-1)\n",
      "2020-01-12 Leganes vs Huesca, HW 37%, AW 35%, T 29%, pred score 1.2-1.1  actual: HW (1-0)\n",
      "2020-01-12 Valencia vs Valladolid, HW 50%, AW 21%, T 29%, pred score 1.3-0.7  actual: T (1-1)\n",
      "2020-01-12 Villarreal vs Getafe, HW 32%, AW 39%, T 29%, pred score 1.1-1.2  actual: AW (1-2)\n",
      "2020-01-13 Ath Bilbao vs Sevilla, HW 29%, AW 42%, T 28%, pred score 1-1.3  actual: HW (2-0)\n",
      "2020-01-13 Ath Madrid vs Levante, HW 61%, AW 15%, T 24%, pred score 1.7-0.7  actual: HW (1-0)\n",
      "2020-01-13 Barcelona vs Eibar, HW 74%, AW 10%, T 16%, pred score 2.5-0.8  actual: HW (3-0)\n",
      "2020-01-13 Betis vs Real Madrid, HW 16%, AW 65%, T 19%, pred score 1.1-2.3  actual: AW (1-2)\n",
      "2020-01-14 Sociedad vs Espanol, HW 48%, AW 26%, T 26%, pred score 1.5-1  actual: HW (3-2)\n",
      "2020-01-17 Leganes vs Getafe, HW 21%, AW 47%, T 32%, pred score 0.6-1.1  actual: AW (0-3)\n",
      "2020-01-18 Getafe vs Alaves, HW 49%, AW 21%, T 30%, pred score 1.2-0.7  actual: HW (4-0)\n",
      "2020-01-18 Levante vs Alaves, HW 42%, AW 32%, T 26%, pred score 1.4-1.2  actual: AW (0-1)\n",
      "2020-01-18 Real Madrid vs Sevilla, HW 54%, AW 24%, T 23%, pred score 1.9-1.2  actual: HW (2-1)\n",
      "2020-01-18 Osasuna vs Valladolid, HW 42%, AW 29%, T 30%, pred score 1.2-0.9  actual: T (0-0)\n",
      "2020-01-18 Eibar vs Ath Madrid, HW 15%, AW 59%, T 26%, pred score 0.6-1.5  actual: HW (2-0)\n",
      "2020-01-19 Celta vs Valencia, HW 27%, AW 49%, T 24%, pred score 1.1-1.6  actual: AW (1-2)\n",
      "2020-01-19 Huesca vs Ath Madrid, HW 12%, AW 67%, T 21%, pred score 0.6-1.8  actual: AW (0-3)\n",
      "2020-01-19 Real Madrid vs Sevilla, HW 54%, AW 24%, T 22%, pred score 1.9-1.2  actual: HW (2-0)\n",
      "2020-01-19 Mallorca vs Valencia, HW 19%, AW 58%, T 23%, pred score 1-1.8  actual: HW (4-1)\n",
      "2020-01-19 Betis vs Sociedad, HW 31%, AW 45%, T 23%, pred score 1.4-1.7  actual: HW (3-0)\n",
      "2020-01-19 Villarreal vs Espanol, HW 49%, AW 25%, T 26%, pred score 1.5-1  actual: AW (1-2)\n",
      "2020-01-19 Ath Bilbao vs Celta, HW 38%, AW 34%, T 27%, pred score 1.2-1.2  actual: T (1-1)\n",
      "2020-01-19 Barcelona vs Granada, HW 63%, AW 17%, T 20%, pred score 2.1-1  actual: HW (1-0)\n",
      "2020-01-20 Barcelona vs Leganes, HW 75%, AW 9%, T 16%, pred score 2.3-0.6  actual: HW (3-1)\n",
      "2020-01-20 Betis vs Girona, HW 42%, AW 33%, T 25%, pred score 1.5-1.3  actual: HW (3-2)\n",
      "2020-01-20 Levante vs Valladolid, HW 41%, AW 30%, T 28%, pred score 1.2-1  actual: HW (2-0)\n",
      "2020-01-20 Vallecano vs Sociedad, HW 20%, AW 59%, T 21%, pred score 1.1-2.1  actual: T (2-2)\n",
      "2020-01-20 Villarreal vs Ath Bilbao, HW 42%, AW 31%, T 27%, pred score 1.3-1.1  actual: T (1-1)\n",
      "2020-01-21 Eibar vs Espanol, HW 38%, AW 33%, T 30%, pred score 1.1-1  actual: HW (3-0)\n",
      "2020-01-24 Osasuna vs Levante, HW 39%, AW 36%, T 25%, pred score 1.5-1.4  actual: HW (2-0)\n",
      "2020-01-25 Espanol vs Ath Bilbao, HW 29%, AW 40%, T 31%, pred score 0.9-1.1  actual: T (1-1)\n",
      "2020-01-25 Valencia vs Barcelona, HW 19%, AW 61%, T 21%, pred score 1-2  actual: HW (2-0)\n",
      "2020-01-25 Alaves vs Villarreal, HW 25%, AW 50%, T 25%, pred score 1-1.6  actual: AW (1-2)\n",
      "2020-01-25 Sevilla vs Granada, HW 36%, AW 38%, T 26%, pred score 1.3-1.3  actual: HW (2-0)\n",
      "2020-01-26 Ath Madrid vs Getafe, HW 44%, AW 22%, T 34%, pred score 1-0.6  actual: HW (2-0)\n",
      "2020-01-26 Leganes vs Eibar, HW 30%, AW 39%, T 31%, pred score 0.9-1.1  actual: T (2-2)\n",
      "2020-01-26 Sevilla vs Levante, HW 48%, AW 28%, T 23%, pred score 1.7-1.3  actual: HW (5-0)\n",
      "2020-01-26 Valencia vs Villarreal, HW 41%, AW 33%, T 26%, pred score 1.5-1.3  actual: HW (3-0)\n",
      "2020-01-26 Ath Madrid vs Leganes, HW 59%, AW 13%, T 28%, pred score 1.4-0.5  actual: T (0-0)\n",
      "2020-01-26 Celta vs Eibar, HW 39%, AW 35%, T 26%, pred score 1.4-1.3  actual: T (0-0)\n",
      "2020-01-26 Getafe vs Betis, HW 46%, AW 27%, T 28%, pred score 1.4-1  actual: HW (1-0)\n",
      "2020-01-26 Sociedad vs Mallorca, HW 55%, AW 23%, T 22%, pred score 1.9-1.2  actual: HW (3-0)\n",
      "2020-01-26 Valladolid vs Real Madrid, HW 13%, AW 65%, T 22%, pred score 0.7-1.8  actual: AW (0-1)\n",
      "2020-01-27 Ath Bilbao vs Betis, HW 38%, AW 35%, T 27%, pred score 1.3-1.2  actual: HW (1-0)\n",
      "2020-01-27 Espanol vs Real Madrid, HW 14%, AW 65%, T 20%, pred score 0.8-2  actual: AW (2-4)\n",
      "2020-01-27 Girona vs Barcelona, HW 9%, AW 77%, T 14%, pred score 0.8-2.7  actual: AW (0-2)\n",
      "2020-01-27 Sociedad vs Huesca, HW 54%, AW 24%, T 22%, pred score 1.9-1.2  actual: T (0-0)\n",
      "2020-01-27 Valladolid vs Celta, HW 30%, AW 41%, T 29%, pred score 1-1.2  actual: HW (2-1)\n",
      "2020-01-28 Alaves vs Vallecano, HW 43%, AW 31%, T 26%, pred score 1.4-1.2  actual: AW (0-1)\n",
      "2020-02-01 Huesca vs Valladolid, HW 34%, AW 37%, T 29%, pred score 1.1-1.1  actual: HW (4-0)\n",
      "2020-02-01 Granada vs Espanol, HW 50%, AW 23%, T 27%, pred score 1.4-0.9  actual: HW (2-1)\n",
      "2020-02-01 Real Madrid vs Ath Madrid, HW 33%, AW 37%, T 29%, pred score 1-1.1  actual: HW (1-0)\n",
      "2020-02-01 Mallorca vs Valladolid, HW 33%, AW 37%, T 30%, pred score 1-1.1  actual: AW (0-1)\n",
      "2020-02-01 Valencia vs Celta, HW 49%, AW 27%, T 24%, pred score 1.6-1.1  actual: HW (1-0)\n",
      "2020-02-02 Barcelona vs Valencia, HW 61%, AW 19%, T 21%, pred score 2-1  actual: T (2-2)\n",
      "2020-02-02 Celta vs Sevilla, HW 29%, AW 48%, T 24%, pred score 1.3-1.7  actual: HW (1-0)\n",
      "2020-02-02 Levante vs Getafe, HW 26%, AW 47%, T 27%, pred score 0.9-1.4  actual: T (0-0)\n",
      "2020-02-02 Sociedad vs Ath Bilbao, HW 41%, AW 32%, T 27%, pred score 1.3-1.1  actual: HW (2-1)\n",
      "2020-02-02 Leganes vs Sociedad, HW 24%, AW 49%, T 27%, pred score 0.9-1.4  actual: HW (2-1)\n",
      "2020-02-02 Eibar vs Betis, HW 35%, AW 39%, T 26%, pred score 1.3-1.4  actual: T (1-1)\n",
      "2020-02-02 Ath Bilbao vs Getafe, HW 27%, AW 41%, T 33%, pred score 0.8-1  actual: AW (0-2)\n",
      "2020-02-02 Sevilla vs Alaves, HW 51%, AW 23%, T 25%, pred score 1.5-0.9  actual: T (1-1)\n",
      "2020-02-02 Villarreal vs Osasuna, HW 44%, AW 31%, T 25%, pred score 1.6-1.3  actual: HW (3-1)\n",
      "2020-02-02 Barcelona vs Levante, HW 76%, AW 10%, T 14%, pred score 2.9-1  actual: HW (2-1)\n",
      "2020-02-03 Betis vs Ath Madrid, HW 16%, AW 60%, T 24%, pred score 0.7-1.7  actual: HW (1-0)\n",
      "2020-02-03 Eibar vs Girona, HW 39%, AW 34%, T 27%, pred score 1.3-1.2  actual: HW (3-0)\n",
      "2020-02-03 Real Madrid vs Alaves, HW 67%, AW 13%, T 20%, pred score 2.1-0.8  actual: HW (3-0)\n",
      "2020-02-03 Villarreal vs Espanol, HW 48%, AW 26%, T 26%, pred score 1.5-1  actual: T (2-2)\n",
      "2020-02-04 Vallecano vs Leganes, HW 31%, AW 41%, T 28%, pred score 1.1-1.3  actual: AW (1-2)\n",
      "2020-02-07 Alaves vs Eibar, HW 32%, AW 40%, T 28%, pred score 1-1.2  actual: HW (2-1)\n",
      "2020-02-08 Valladolid vs Villarreal, HW 24%, AW 48%, T 28%, pred score 0.9-1.4  actual: T (0-0)\n",
      "2020-02-08 Levante vs Leganes, HW 42%, AW 30%, T 28%, pred score 1.3-1.1  actual: HW (2-0)\n",
      "2020-02-08 Getafe vs Valencia, HW 34%, AW 35%, T 31%, pred score 1-1  actual: HW (3-0)\n",
      "2020-02-08 Valladolid vs Villarreal, HW 24%, AW 48%, T 28%, pred score 0.9-1.4  actual: T (1-1)\n",
      "2020-02-08 Ath Madrid vs Granada, HW 49%, AW 22%, T 29%, pred score 1.3-0.7  actual: HW (1-0)\n",
      "2020-02-09 Ath Madrid vs Real Madrid, HW 37%, AW 34%, T 29%, pred score 1.1-1  actual: AW (1-3)\n",
      "2020-02-09 Espanol vs Vallecano, HW 43%, AW 30%, T 27%, pred score 1.4-1.1  actual: HW (2-1)\n",
      "2020-02-09 Getafe vs Celta, HW 46%, AW 26%, T 28%, pred score 1.3-0.9  actual: HW (3-1)\n",
      "2020-02-09 Girona vs Huesca, HW 41%, AW 34%, T 25%, pred score 1.5-1.3  actual: AW (0-2)\n",
      "2020-02-09 Espanol vs Mallorca, HW 40%, AW 33%, T 28%, pred score 1.3-1.1  actual: HW (1-0)\n",
      "2020-02-09 Sociedad vs Ath Bilbao, HW 41%, AW 32%, T 27%, pred score 1.3-1.1  actual: HW (2-1)\n",
      "2020-02-09 Osasuna vs Real Madrid, HW 17%, AW 63%, T 20%, pred score 1-2.1  actual: AW (1-4)\n",
      "2020-02-09 Celta vs Sevilla, HW 29%, AW 48%, T 24%, pred score 1.3-1.7  actual: HW (2-1)\n",
      "2020-02-09 Betis vs Barcelona, HW 11%, AW 75%, T 14%, pred score 1-2.8  actual: AW (2-3)\n",
      "2020-02-10 Ath Bilbao vs Barcelona, HW 13%, AW 68%, T 19%, pred score 0.8-2.1  actual: T (0-0)\n",
      "2020-02-10 Leganes vs Betis, HW 30%, AW 42%, T 28%, pred score 1-1.3  actual: HW (3-0)\n",
      "2020-02-10 Sevilla vs Eibar, HW 47%, AW 27%, T 26%, pred score 1.5-1.1  actual: T (2-2)\n",
      "2020-02-10 Valencia vs Sociedad, HW 42%, AW 33%, T 25%, pred score 1.5-1.3  actual: T (0-0)\n",
      "2020-02-11 Alaves vs Levante, HW 31%, AW 42%, T 26%, pred score 1.2-1.4  actual: HW (2-0)\n",
      "2020-02-14 Valencia vs Ath Madrid, HW 23%, AW 47%, T 30%, pred score 0.7-1.2  actual: T (2-2)\n",
      "2020-02-15 Eibar vs Getafe, HW 25%, AW 45%, T 30%, pred score 0.8-1.2  actual: T (2-2)\n",
      "2020-02-15 Mallorca vs Alaves, HW 34%, AW 39%, T 27%, pred score 1.2-1.3  actual: HW (1-0)\n",
      "2020-02-15 Barcelona vs Getafe, HW 57%, AW 18%, T 24%, pred score 1.7-0.8  actual: HW (2-1)\n",
      "2020-02-15 Villarreal vs Levante, HW 47%, AW 30%, T 23%, pred score 1.8-1.4  actual: HW (2-1)\n",
      "2020-02-15 Granada vs Valladolid, HW 49%, AW 22%, T 29%, pred score 1.3-0.8  actual: HW (2-1)\n",
      "2020-02-16 Barcelona vs Valladolid, HW 74%, AW 9%, T 17%, pred score 2.2-0.6  actual: HW (1-0)\n",
      "2020-02-16 Celta vs Levante, HW 39%, AW 38%, T 24%, pred score 1.6-1.6  actual: AW (1-4)\n",
      "2020-02-16 Sociedad vs Leganes, HW 49%, AW 24%, T 27%, pred score 1.4-0.9  actual: HW (3-0)\n",
      "2020-02-16 Vallecano vs Ath Madrid, HW 10%, AW 71%, T 19%, pred score 0.6-2  actual: AW (0-1)\n",
      "2020-02-16 Sevilla vs Espanol, HW 49%, AW 24%, T 27%, pred score 1.5-0.9  actual: T (2-2)\n",
      "2020-02-16 Leganes vs Betis, HW 30%, AW 43%, T 28%, pred score 1-1.3  actual: T (0-0)\n",
      "2020-02-16 Ath Bilbao vs Osasuna, HW 37%, AW 35%, T 28%, pred score 1.2-1.1  actual: AW (0-1)\n",
      "2020-02-16 Real Madrid vs Celta, HW 65%, AW 16%, T 19%, pred score 2.3-1.1  actual: T (2-2)\n",
      "2020-02-17 Betis vs Alaves, HW 43%, AW 31%, T 26%, pred score 1.4-1.2  actual: T (1-1)\n",
      "2020-02-17 Real Madrid vs Girona, HW 68%, AW 14%, T 19%, pred score 2.3-0.9  actual: AW (1-2)\n",
      "2020-02-17 Valencia vs Espanol, HW 50%, AW 22%, T 27%, pred score 1.4-0.8  actual: T (0-0)\n",
      "2020-02-17 Villarreal vs Sevilla, HW 36%, AW 39%, T 25%, pred score 1.4-1.5  actual: HW (3-0)\n",
      "2020-02-18 Huesca vs Ath Bilbao, HW 27%, AW 46%, T 27%, pred score 1-1.4  actual: AW (0-1)\n",
      "2020-02-21 Betis vs Mallorca, HW 47%, AW 29%, T 24%, pred score 1.7-1.3  actual: T (3-3)\n",
      "2020-02-22 Espanol vs Huesca, HW 39%, AW 33%, T 28%, pred score 1.3-1.2  actual: T (1-1)\n",
      "2020-02-22 Celta vs Leganes, HW 42%, AW 30%, T 28%, pred score 1.3-1  actual: HW (1-0)\n",
      "2020-02-22 Barcelona vs Eibar, HW 74%, AW 10%, T 16%, pred score 2.5-0.8  actual: HW (5-0)\n",
      "2020-02-22 Sociedad vs Valencia, HW 33%, AW 42%, T 25%, pred score 1.3-1.5  actual: HW (3-0)\n",
      "2020-02-22 Levante vs Real Madrid, HW 16%, AW 66%, T 18%, pred score 1.1-2.4  actual: HW (1-0)\n",
      "2020-02-23 Alaves vs Celta, HW 31%, AW 42%, T 27%, pred score 1.2-1.4  actual: T (0-0)\n",
      "2020-02-23 Ath Bilbao vs Eibar, HW 39%, AW 32%, T 29%, pred score 1.1-1  actual: HW (1-0)\n",
      "2020-02-23 Getafe vs Vallecano, HW 58%, AW 17%, T 25%, pred score 1.6-0.8  actual: HW (2-1)\n",
      "2020-02-23 Sevilla vs Barcelona, HW 16%, AW 64%, T 19%, pred score 1.1-2.3  actual: AW (2-4)\n",
      "2020-02-23 Osasuna vs Granada, HW 28%, AW 46%, T 26%, pred score 1.1-1.5  actual: AW (0-3)\n",
      "2020-02-23 Alaves vs Ath Bilbao, HW 28%, AW 42%, T 30%, pred score 0.9-1.1  actual: HW (2-1)\n",
      "2020-02-23 Valladolid vs Espanol, HW 32%, AW 35%, T 33%, pred score 0.9-0.9  actual: HW (2-1)\n",
      "2020-02-23 Getafe vs Sevilla, HW 37%, AW 33%, T 30%, pred score 1.1-1  actual: AW (0-3)\n",
      "2020-02-23 Ath Madrid vs Villarreal, HW 53%, AW 20%, T 27%, pred score 1.5-0.8  actual: HW (3-1)\n",
      "2020-02-24 Ath Madrid vs Villarreal, HW 53%, AW 21%, T 27%, pred score 1.5-0.8  actual: HW (2-0)\n",
      "2020-02-24 Leganes vs Valencia, HW 21%, AW 51%, T 28%, pred score 0.8-1.4  actual: T (1-1)\n",
      "2020-02-24 Levante vs Real Madrid, HW 16%, AW 66%, T 18%, pred score 1.1-2.4  actual: AW (1-2)\n",
      "2020-02-24 Valladolid vs Betis, HW 30%, AW 42%, T 28%, pred score 1-1.2  actual: AW (0-2)\n",
      "2020-02-25 Girona vs Sociedad, HW 27%, AW 49%, T 24%, pred score 1.2-1.7  actual: T (0-0)\n",
      "2020-02-28 Sociedad vs Valladolid, HW 48%, AW 24%, T 28%, pred score 1.4-0.9  actual: HW (1-0)\n",
      "2020-02-29 Eibar vs Levante, HW 36%, AW 38%, T 25%, pred score 1.4-1.4  actual: HW (3-0)\n",
      "2020-02-29 Valencia vs Betis, HW 49%, AW 27%, T 24%, pred score 1.7-1.2  actual: HW (2-1)\n",
      "2020-02-29 Leganes vs Alaves, HW 34%, AW 35%, T 32%, pred score 0.9-1  actual: T (1-1)\n",
      "2020-02-29 Granada vs Celta, HW 48%, AW 28%, T 24%, pred score 1.6-1.2  actual: T (0-0)\n",
      "2020-03-01 Vallecano vs Girona, HW 29%, AW 46%, T 25%, pred score 1.2-1.6  actual: AW (0-2)\n",
      "2020-03-01 Sevilla vs Osasuna, HW 45%, AW 29%, T 25%, pred score 1.6-1.2  actual: HW (3-2)\n",
      "2020-03-01 Ath Bilbao vs Villarreal, HW 31%, AW 41%, T 27%, pred score 1.1-1.3  actual: HW (1-0)\n",
      "2020-03-01 Espanol vs Ath Madrid, HW 14%, AW 59%, T 27%, pred score 0.5-1.4  actual: T (1-1)\n",
      "2020-03-01 Mallorca vs Getafe, HW 20%, AW 54%, T 26%, pred score 0.8-1.5  actual: AW (0-1)\n",
      "2020-03-01 Real Madrid vs Barcelona, HW 29%, AW 48%, T 22%, pred score 1.4-1.9  actual: HW (2-0)\n",
      "2020-03-02 Espanol vs Valladolid, HW 35%, AW 32%, T 33%, pred score 0.9-0.9  actual: HW (3-1)\n",
      "2020-03-02 Huesca vs Sevilla, HW 22%, AW 56%, T 22%, pred score 1.1-1.9  actual: HW (2-1)\n",
      "2020-03-02 Real Madrid vs Barcelona, HW 29%, AW 49%, T 22%, pred score 1.4-1.9  actual: AW (0-1)\n",
      "2020-03-02 Villarreal vs Alaves, HW 50%, AW 25%, T 25%, pred score 1.6-1  actual: AW (1-2)\n",
      "2020-03-03 Betis vs Getafe, HW 26%, AW 46%, T 28%, pred score 1-1.4  actual: AW (1-2)\n",
      "2020-03-03 Eibar vs Celta, HW 35%, AW 39%, T 26%, pred score 1.3-1.4  actual: HW (1-0)\n",
      "2020-03-03 Sociedad vs Ath Madrid, HW 20%, AW 53%, T 27%, pred score 0.8-1.5  actual: AW (0-2)\n",
      "2020-03-03 Valencia vs Ath Bilbao, HW 44%, AW 27%, T 29%, pred score 1.3-0.9  actual: HW (2-0)\n",
      "2020-03-04 Leganes vs Levante, HW 30%, AW 42%, T 28%, pred score 1.1-1.3  actual: HW (1-0)\n",
      "2020-03-06 Alaves vs Valencia, HW 21%, AW 53%, T 26%, pred score 0.9-1.5  actual: T (1-1)\n",
      "2020-03-07 Eibar vs Mallorca, HW 44%, AW 30%, T 26%, pred score 1.5-1.2  actual: AW (1-2)\n",
      "2020-03-07 Ath Madrid vs Sevilla, HW 50%, AW 22%, T 29%, pred score 1.3-0.8  actual: T (2-2)\n",
      "2020-03-07 Barcelona vs Sociedad, HW 68%, AW 14%, T 17%, pred score 2.5-1.1  actual: HW (1-0)\n",
      "2020-03-07 Getafe vs Celta, HW 46%, AW 26%, T 28%, pred score 1.3-0.9  actual: T (0-0)\n",
      "2020-03-08 Ath Bilbao vs Espanol, HW 40%, AW 29%, T 31%, pred score 1.1-0.9  actual: T (1-1)\n",
      "2020-03-08 Osasuna vs Espanol, HW 42%, AW 30%, T 28%, pred score 1.3-1  actual: HW (1-0)\n",
      "2020-03-08 Valladolid vs Ath Bilbao, HW 27%, AW 40%, T 33%, pred score 0.8-1  actual: AW (1-4)\n",
      "2020-03-08 Levante vs Granada, HW 28%, AW 49%, T 24%, pred score 1.2-1.7  actual: T (1-1)\n",
      "2020-03-08 Villarreal vs Leganes, HW 49%, AW 24%, T 27%, pred score 1.4-0.9  actual: AW (1-2)\n",
      "2020-03-08 Betis vs Real Madrid, HW 16%, AW 65%, T 19%, pred score 1.1-2.3  actual: HW (2-1)\n",
      "2020-03-09 Alaves vs Eibar, HW 32%, AW 40%, T 29%, pred score 1-1.2  actual: T (1-1)\n",
      "2020-03-09 Ath Madrid vs Leganes, HW 59%, AW 13%, T 28%, pred score 1.4-0.5  actual: HW (1-0)\n",
      "2020-03-09 Barcelona vs Vallecano, HW 86%, AW 5%, T 9%, pred score 3.4-0.8  actual: HW (3-1)\n",
      "2020-03-09 Getafe vs Huesca, HW 53%, AW 20%, T 26%, pred score 1.5-0.8  actual: HW (2-1)\n",
      "2020-03-10 Celta vs Betis, HW 38%, AW 38%, T 24%, pred score 1.6-1.6  actual: AW (0-1)\n",
      "2020-03-10 Girona vs Valencia, HW 23%, AW 52%, T 25%, pred score 1-1.6  actual: AW (2-3)\n",
      "2020-03-10 Levante vs Villarreal, HW 30%, AW 47%, T 23%, pred score 1.4-1.8  actual: AW (0-2)\n",
      "2020-03-10 Sevilla vs Sociedad, HW 40%, AW 35%, T 25%, pred score 1.5-1.4  actual: HW (5-2)\n",
      "2020-03-10 Valladolid vs Real Madrid, HW 13%, AW 65%, T 22%, pred score 0.7-1.8  actual: AW (1-4)\n",
      "2020-03-10 Eibar vs Sociedad, HW 29%, AW 45%, T 25%, pred score 1.2-1.5  actual: AW (1-2)\n",
      "2020-03-15 Sociedad vs Levante, HW 46%, AW 31%, T 23%, pred score 1.8-1.4  actual: T (1-1)\n",
      "2020-03-16 Ath Bilbao vs Ath Madrid, HW 17%, AW 53%, T 30%, pred score 0.6-1.2  actual: HW (2-0)\n",
      "2020-03-16 Huesca vs Alaves, HW 35%, AW 38%, T 27%, pred score 1.2-1.3  actual: AW (1-3)\n",
      "2020-03-16 Leganes vs Girona, HW 33%, AW 37%, T 30%, pred score 1-1.1  actual: AW (0-2)\n",
      "2020-03-16 Real Madrid vs Celta, HW 65%, AW 16%, T 19%, pred score 2.3-1.1  actual: HW (2-0)\n",
      "2020-03-17 Betis vs Barcelona, HW 10%, AW 75%, T 14%, pred score 1-2.8  actual: AW (1-4)\n",
      "2020-03-17 Eibar vs Valladolid, HW 39%, AW 30%, T 31%, pred score 1.1-0.9  actual: AW (1-2)\n",
      "2020-03-17 Espanol vs Sevilla, HW 24%, AW 50%, T 27%, pred score 0.9-1.5  actual: AW (0-1)\n",
      "2020-03-17 Valencia vs Getafe, HW 35%, AW 34%, T 31%, pred score 1-1  actual: T (0-0)\n",
      "2020-03-17 Villarreal vs Vallecano, HW 60%, AW 19%, T 20%, pred score 2.1-1.1  actual: HW (3-1)\n",
      "2020-03-29 Girona vs Ath Bilbao, HW 30%, AW 41%, T 29%, pred score 1-1.2  actual: AW (1-2)\n",
      "2020-03-30 Alaves vs Ath Madrid, HW 13%, AW 61%, T 26%, pred score 0.5-1.5  actual: AW (0-4)\n",
      "2020-03-30 Barcelona vs Espanol, HW 75%, AW 9%, T 16%, pred score 2.4-0.7  actual: HW (2-0)\n",
      "2020-03-30 Celta vs Villarreal, HW 30%, AW 46%, T 23%, pred score 1.4-1.7  actual: HW (3-2)\n",
      "2020-03-30 Getafe vs Leganes, HW 47%, AW 21%, T 32%, pred score 1.1-0.6  actual: AW (0-2)\n",
      "2020-03-31 Levante vs Eibar, HW 38%, AW 36%, T 26%, pred score 1.4-1.4  actual: T (2-2)\n",
      "2020-03-31 Real Madrid vs Huesca, HW 73%, AW 11%, T 16%, pred score 2.6-0.9  actual: HW (3-2)\n",
      "2020-03-31 Sevilla vs Valencia, HW 35%, AW 39%, T 26%, pred score 1.2-1.3  actual: AW (0-1)\n",
      "2020-03-31 Valladolid vs Sociedad, HW 24%, AW 48%, T 28%, pred score 0.9-1.4  actual: T (1-1)\n",
      "2020-03-31 Vallecano vs Betis, HW 25%, AW 52%, T 22%, pred score 1.3-1.9  actual: T (1-1)\n",
      "2020-04-02 Ath Madrid vs Girona, HW 62%, AW 14%, T 25%, pred score 1.6-0.6  actual: HW (2-0)\n",
      "2020-04-02 Espanol vs Getafe, HW 22%, AW 47%, T 31%, pred score 0.7-1.2  actual: T (1-1)\n",
      "2020-04-02 Villarreal vs Barcelona, HW 15%, AW 67%, T 18%, pred score 1.1-2.5  actual: T (4-4)\n",
      "2020-04-03 Ath Bilbao vs Levante, HW 39%, AW 34%, T 27%, pred score 1.3-1.2  actual: HW (3-2)\n",
      "2020-04-03 Eibar vs Vallecano, HW 49%, AW 27%, T 25%, pred score 1.6-1.1  actual: HW (2-1)\n",
      "2020-04-03 Huesca vs Celta, HW 30%, AW 46%, T 24%, pred score 1.3-1.7  actual: T (3-3)\n",
      "2020-04-03 Valencia vs Real Madrid, HW 26%, AW 50%, T 24%, pred score 1.1-1.7  actual: HW (2-1)\n",
      "2020-04-04 Leganes vs Valladolid, HW 32%, AW 33%, T 35%, pred score 0.8-0.8  actual: HW (1-0)\n",
      "2020-04-04 Sevilla vs Alaves, HW 51%, AW 23%, T 26%, pred score 1.5-0.9  actual: HW (2-0)\n",
      "2020-04-04 Sociedad vs Betis, HW 45%, AW 31%, T 24%, pred score 1.7-1.4  actual: HW (2-1)\n",
      "2020-04-06 Barcelona vs Ath Madrid, HW 42%, AW 30%, T 28%, pred score 1.3-1  actual: HW (2-0)\n",
      "2020-04-06 Girona vs Espanol, HW 36%, AW 35%, T 29%, pred score 1.1-1.1  actual: AW (1-2)\n",
      "2020-04-06 Real Madrid vs Eibar, HW 65%, AW 16%, T 20%, pred score 2.1-0.9  actual: HW (2-1)\n",
      "2020-04-06 Vallecano vs Valencia, HW 17%, AW 62%, T 21%, pred score 0.9-2  actual: HW (2-0)\n",
      "2020-04-07 Alaves vs Leganes, HW 35%, AW 34%, T 32%, pred score 1-0.9  actual: T (1-1)\n",
      "2020-04-07 Betis vs Villarreal, HW 31%, AW 46%, T 23%, pred score 1.4-1.7  actual: HW (2-1)\n",
      "2020-04-07 Celta vs Sociedad, HW 31%, AW 45%, T 24%, pred score 1.4-1.7  actual: HW (3-1)\n",
      "2020-04-07 Getafe vs Ath Bilbao, HW 41%, AW 27%, T 33%, pred score 1-0.8  actual: HW (1-0)\n",
      "2020-04-07 Levante vs Huesca, HW 46%, AW 30%, T 23%, pred score 1.7-1.4  actual: T (2-2)\n",
      "2020-04-07 Valladolid vs Sevilla, HW 23%, AW 49%, T 28%, pred score 0.8-1.3  actual: AW (0-2)\n",
      "2020-04-13 Ath Madrid vs Celta, HW 60%, AW 16%, T 24%, pred score 1.6-0.7  actual: HW (2-0)\n",
      "2020-04-13 Espanol vs Alaves, HW 36%, AW 34%, T 30%, pred score 1-1  actual: HW (2-1)\n",
      "2020-04-13 Huesca vs Barcelona, HW 7%, AW 82%, T 11%, pred score 0.8-3.1  actual: T (0-0)\n",
      "2020-04-13 Sevilla vs Betis, HW 47%, AW 29%, T 24%, pred score 1.7-1.3  actual: HW (3-2)\n",
      "2020-04-14 Ath Bilbao vs Vallecano, HW 50%, AW 24%, T 26%, pred score 1.5-1  actual: HW (3-2)\n",
      "2020-04-14 Girona vs Villarreal, HW 26%, AW 50%, T 24%, pred score 1.2-1.7  actual: AW (0-1)\n",
      "2020-04-14 Sociedad vs Eibar, HW 46%, AW 29%, T 25%, pred score 1.5-1.2  actual: T (1-1)\n",
      "2020-04-14 Valencia vs Levante, HW 50%, AW 26%, T 24%, pred score 1.7-1.1  actual: HW (3-1)\n",
      "2020-04-14 Valladolid vs Getafe, HW 21%, AW 46%, T 33%, pred score 0.6-1.1  actual: T (2-2)\n",
      "2020-04-15 Leganes vs Real Madrid, HW 13%, AW 66%, T 21%, pred score 0.7-1.9  actual: T (1-1)\n",
      "2020-04-19 Alaves vs Valladolid, HW 34%, AW 33%, T 33%, pred score 0.9-0.9  actual: T (2-2)\n",
      "2020-04-20 Barcelona vs Sociedad, HW 68%, AW 14%, T 17%, pred score 2.5-1.1  actual: HW (2-1)\n",
      "2020-04-20 Celta vs Girona, HW 42%, AW 33%, T 25%, pred score 1.5-1.3  actual: HW (2-1)\n",
      "2020-04-20 Eibar vs Ath Madrid, HW 15%, AW 59%, T 26%, pred score 0.6-1.5  actual: AW (0-1)\n",
      "2020-04-20 Vallecano vs Huesca, HW 33%, AW 43%, T 24%, pred score 1.4-1.6  actual: T (0-0)\n",
      "2020-04-21 Betis vs Valencia, HW 27%, AW 49%, T 25%, pred score 1.2-1.7  actual: AW (1-2)\n",
      "2020-04-21 Getafe vs Sevilla, HW 37%, AW 33%, T 30%, pred score 1.1-1  actual: HW (3-0)\n",
      "2020-04-21 Levante vs Espanol, HW 41%, AW 33%, T 26%, pred score 1.3-1.2  actual: T (2-2)\n",
      "2020-04-21 Real Madrid vs Ath Bilbao, HW 59%, AW 18%, T 23%, pred score 1.7-0.9  actual: HW (3-0)\n",
      "2020-04-21 Villarreal vs Leganes, HW 49%, AW 24%, T 27%, pred score 1.4-0.9  actual: HW (2-1)\n",
      "2020-04-23 Alaves vs Barcelona, HW 8%, AW 77%, T 15%, pred score 0.7-2.5  actual: AW (0-2)\n",
      "2020-04-23 Huesca vs Eibar, HW 31%, AW 43%, T 26%, pred score 1.2-1.5  actual: HW (2-0)\n",
      "2020-04-23 Valladolid vs Girona, HW 33%, AW 37%, T 30%, pred score 1-1.1  actual: HW (1-0)\n",
      "2020-04-24 Ath Madrid vs Valencia, HW 47%, AW 23%, T 30%, pred score 1.2-0.7  actual: HW (3-2)\n",
      "2020-04-24 Espanol vs Celta, HW 32%, AW 41%, T 27%, pred score 1.1-1.3  actual: T (1-1)\n",
      "2020-04-24 Leganes vs Ath Bilbao, HW 27%, AW 41%, T 32%, pred score 0.8-1  actual: AW (0-1)\n",
      "2020-04-24 Levante vs Betis, HW 37%, AW 39%, T 23%, pred score 1.6-1.6  actual: HW (4-0)\n",
      "2020-04-25 Getafe vs Real Madrid, HW 25%, AW 48%, T 27%, pred score 0.9-1.4  actual: T (0-0)\n",
      "2020-04-25 Sevilla vs Vallecano, HW 61%, AW 18%, T 21%, pred score 2.1-1  actual: HW (5-0)\n",
      "2020-04-25 Sociedad vs Villarreal, HW 37%, AW 39%, T 24%, pred score 1.5-1.6  actual: AW (0-1)\n",
      "2020-04-27 Ath Bilbao vs Alaves, HW 42%, AW 28%, T 30%, pred score 1.1-0.9  actual: T (1-1)\n",
      "2020-04-27 Ath Madrid vs Valladolid, HW 58%, AW 13%, T 29%, pred score 1.3-0.5  actual: HW (1-0)\n",
      "2020-04-27 Barcelona vs Levante, HW 76%, AW 10%, T 14%, pred score 2.9-1  actual: HW (1-0)\n",
      "2020-04-27 Leganes vs Celta, HW 30%, AW 42%, T 28%, pred score 1-1.3  actual: T (0-0)\n",
      "2020-04-28 Girona vs Sevilla, HW 25%, AW 51%, T 24%, pred score 1.1-1.7  actual: HW (1-0)\n",
      "2020-04-28 Sociedad vs Getafe, HW 32%, AW 40%, T 29%, pred score 1-1.2  actual: HW (2-1)\n",
      "2020-04-28 Valencia vs Eibar, HW 49%, AW 25%, T 26%, pred score 1.5-1  actual: AW (0-1)\n",
      "2020-04-28 Vallecano vs Real Madrid, HW 9%, AW 77%, T 14%, pred score 0.9-2.8  actual: HW (1-0)\n",
      "2020-04-28 Villarreal vs Huesca, HW 55%, AW 23%, T 22%, pred score 1.9-1.2  actual: T (1-1)\n",
      "2020-04-29 Betis vs Espanol, HW 42%, AW 31%, T 27%, pred score 1.4-1.1  actual: T (1-1)\n",
      "2020-05-03 Sevilla vs Leganes, HW 50%, AW 23%, T 27%, pred score 1.4-0.8  actual: AW (0-3)\n",
      "2020-05-04 Alaves vs Sociedad, HW 25%, AW 50%, T 25%, pred score 1-1.6  actual: AW (0-1)\n",
      "2020-05-04 Celta vs Barcelona, HW 11%, AW 75%, T 15%, pred score 1-2.8  actual: HW (2-0)\n",
      "2020-05-04 Espanol vs Ath Madrid, HW 14%, AW 59%, T 27%, pred score 0.5-1.4  actual: HW (3-0)\n",
      "2020-05-04 Levante vs Vallecano, HW 51%, AW 26%, T 22%, pred score 1.9-1.3  actual: HW (4-1)\n",
      "2020-05-05 Eibar vs Betis, HW 35%, AW 39%, T 26%, pred score 1.3-1.4  actual: HW (1-0)\n",
      "2020-05-05 Getafe vs Girona, HW 49%, AW 23%, T 29%, pred score 1.3-0.8  actual: HW (2-0)\n",
      "2020-05-05 Huesca vs Valencia, HW 20%, AW 57%, T 23%, pred score 1-1.8  actual: AW (2-6)\n",
      "2020-05-05 Real Madrid vs Villarreal, HW 57%, AW 22%, T 21%, pred score 2-1.2  actual: HW (3-2)\n",
      "2020-05-05 Valladolid vs Ath Bilbao, HW 27%, AW 40%, T 33%, pred score 0.8-1  actual: HW (1-0)\n",
      "2020-05-12 Ath Bilbao vs Celta, HW 38%, AW 34%, T 28%, pred score 1.2-1.2  actual: HW (3-1)\n",
      "2020-05-12 Ath Madrid vs Sevilla, HW 50%, AW 21%, T 28%, pred score 1.3-0.8  actual: T (1-1)\n",
      "2020-05-12 Barcelona vs Getafe, HW 57%, AW 19%, T 24%, pred score 1.7-0.8  actual: HW (2-0)\n",
      "2020-05-12 Betis vs Huesca, HW 47%, AW 30%, T 23%, pred score 1.8-1.4  actual: HW (2-1)\n",
      "2020-05-12 Girona vs Levante, HW 34%, AW 42%, T 25%, pred score 1.4-1.5  actual: AW (1-2)\n",
      "2020-05-12 Leganes vs Espanol, HW 32%, AW 35%, T 33%, pred score 0.9-0.9  actual: AW (0-2)\n",
      "2020-05-12 Sociedad vs Real Madrid, HW 21%, AW 58%, T 21%, pred score 1.2-2.1  actual: HW (3-1)\n",
      "2020-05-12 Valencia vs Alaves, HW 52%, AW 21%, T 26%, pred score 1.5-0.9  actual: HW (3-1)\n",
      "2020-05-12 Vallecano vs Valladolid, HW 31%, AW 41%, T 29%, pred score 1-1.2  actual: AW (1-2)\n",
      "2020-05-12 Villarreal vs Eibar, HW 46%, AW 29%, T 25%, pred score 1.6-1.2  actual: HW (1-0)\n",
      "2020-05-18 Alaves vs Girona, HW 35%, AW 38%, T 28%, pred score 1.1-1.2  actual: HW (2-1)\n",
      "2020-05-18 Celta vs Vallecano, HW 52%, AW 26%, T 22%, pred score 1.9-1.3  actual: T (2-2)\n",
      "2020-05-18 Espanol vs Sociedad, HW 26%, AW 48%, T 26%, pred score 1-1.5  actual: HW (2-0)\n",
      "2020-05-18 Getafe vs Villarreal, HW 39%, AW 32%, T 29%, pred score 1.2-1.1  actual: T (2-2)\n",
      "2020-05-18 Huesca vs Leganes, HW 35%, AW 37%, T 28%, pred score 1.1-1.2  actual: HW (2-1)\n",
      "2020-05-18 Levante vs Ath Madrid, HW 15%, AW 61%, T 24%, pred score 0.7-1.7  actual: T (2-2)\n",
      "2020-05-18 Sevilla vs Ath Bilbao, HW 42%, AW 29%, T 28%, pred score 1.3-1  actual: HW (2-0)\n",
      "2020-05-18 Valladolid vs Valencia, HW 21%, AW 50%, T 29%, pred score 0.7-1.3  actual: AW (0-2)\n",
      "2020-05-19 Eibar vs Barcelona, HW 10%, AW 74%, T 16%, pred score 0.8-2.5  actual: T (2-2)\n",
      "2020-05-19 Real Madrid vs Betis, HW 65%, AW 16%, T 19%, pred score 2.3-1.1  actual: AW (0-2)\n",
      "2020-06-11 Sevilla vs Betis, HW 48%, AW 29%, T 24%, pred score 1.7-1.3  actual: HW (2-0)\n",
      "2020-06-12 Granada vs Getafe, HW 34%, AW 36%, T 31%, pred score 1-1  actual: HW (2-1)\n",
      "2020-06-12 Valencia vs Levante, HW 50%, AW 26%, T 24%, pred score 1.7-1.1  actual: T (1-1)\n",
      "2020-06-13 Espanol vs Alaves, HW 36%, AW 34%, T 30%, pred score 1-1  actual: HW (2-0)\n",
      "2020-06-13 Celta vs Villarreal, HW 31%, AW 46%, T 23%, pred score 1.4-1.7  actual: AW (0-1)\n",
      "2020-06-13 Leganes vs Valladolid, HW 32%, AW 33%, T 35%, pred score 0.8-0.8  actual: AW (1-2)\n",
      "2020-06-13 Mallorca vs Barcelona, HW 7%, AW 82%, T 12%, pred score 0.8-3.1  actual: AW (0-4)\n",
      "2020-06-14 Ath Bilbao vs Ath Madrid, HW 17%, AW 53%, T 30%, pred score 0.6-1.2  actual: T (1-1)\n",
      "2020-06-14 Real Madrid vs Eibar, HW 64%, AW 15%, T 20%, pred score 2.1-0.9  actual: HW (3-1)\n",
      "2020-06-14 Sociedad vs Osasuna, HW 43%, AW 32%, T 25%, pred score 1.6-1.3  actual: T (1-1)\n",
      "2020-06-15 Levante vs Sevilla, HW 28%, AW 48%, T 24%, pred score 1.3-1.7  actual: T (1-1)\n",
      "2020-06-15 Betis vs Granada, HW 28%, AW 48%, T 24%, pred score 1.2-1.7  actual: T (2-2)\n",
      "2020-06-16 Getafe vs Espanol, HW 47%, AW 22%, T 31%, pred score 1.2-0.7  actual: T (0-0)\n",
      "2020-06-16 Villarreal vs Mallorca, HW 55%, AW 22%, T 22%, pred score 1.9-1.1  actual: HW (1-0)\n",
      "2020-06-16 Barcelona vs Leganes, HW 75%, AW 9%, T 16%, pred score 2.3-0.6  actual: HW (2-0)\n",
      "2020-06-17 Eibar vs Ath Bilbao, HW 32%, AW 38%, T 29%, pred score 1-1.1  actual: T (2-2)\n",
      "2020-06-17 Valladolid vs Celta, HW 30%, AW 41%, T 29%, pred score 1-1.2  actual: T (0-0)\n",
      "2020-06-17 Osasuna vs Ath Madrid, HW 16%, AW 58%, T 26%, pred score 0.7-1.5  actual: AW (0-5)\n",
      "2020-06-18 Alaves vs Sociedad, HW 25%, AW 50%, T 25%, pred score 1-1.6  actual: HW (2-0)\n",
      "2020-06-18 Real Madrid vs Valencia, HW 51%, AW 25%, T 24%, pred score 1.7-1.1  actual: HW (3-0)\n",
      "2020-06-19 Granada vs Villarreal, HW 40%, AW 35%, T 25%, pred score 1.5-1.3  actual: AW (0-1)\n",
      "2020-06-19 Mallorca vs Leganes, HW 34%, AW 37%, T 29%, pred score 1.1-1.1  actual: T (1-1)\n",
      "2020-06-19 Sevilla vs Barcelona, HW 16%, AW 64%, T 19%, pred score 1.1-2.3  actual: T (0-0)\n",
      "2020-06-20 Espanol vs Levante, HW 33%, AW 41%, T 26%, pred score 1.2-1.3  actual: AW (1-3)\n",
      "2020-06-20 Ath Bilbao vs Betis, HW 38%, AW 35%, T 27%, pred score 1.3-1.2  actual: HW (1-0)\n",
      "2020-06-20 Getafe vs Eibar, HW 45%, AW 25%, T 30%, pred score 1.2-0.8  actual: T (1-1)\n",
      "2020-06-20 Ath Madrid vs Valladolid, HW 58%, AW 13%, T 29%, pred score 1.3-0.5  actual: HW (1-0)\n",
      "2020-06-21 Celta vs Alaves, HW 43%, AW 31%, T 26%, pred score 1.4-1.2  actual: HW (6-0)\n",
      "2020-06-21 Valencia vs Osasuna, HW 47%, AW 27%, T 26%, pred score 1.5-1.1  actual: HW (2-0)\n",
      "2020-06-21 Sociedad vs Real Madrid, HW 21%, AW 58%, T 21%, pred score 1.2-2.1  actual: AW (1-2)\n",
      "2020-06-22 Villarreal vs Sevilla, HW 36%, AW 40%, T 25%, pred score 1.4-1.5  actual: T (2-2)\n",
      "2020-06-22 Leganes vs Granada, HW 22%, AW 50%, T 28%, pred score 0.8-1.4  actual: T (0-0)\n",
      "2020-06-23 Levante vs Ath Madrid, HW 16%, AW 61%, T 24%, pred score 0.7-1.7  actual: AW (0-1)\n",
      "2020-06-23 Valladolid vs Getafe, HW 21%, AW 46%, T 33%, pred score 0.6-1.1  actual: T (1-1)\n",
      "2020-06-23 Barcelona vs Ath Bilbao, HW 68%, AW 13%, T 19%, pred score 2.1-0.8  actual: HW (1-0)\n",
      "2020-06-24 Alaves vs Osasuna, HW 30%, AW 43%, T 27%, pred score 1.1-1.3  actual: AW (0-1)\n",
      "2020-06-24 Sociedad vs Celta, HW 45%, AW 31%, T 24%, pred score 1.7-1.4  actual: AW (0-1)\n",
      "2020-06-24 Real Madrid vs Mallorca, HW 73%, AW 11%, T 16%, pred score 2.5-0.9  actual: HW (2-0)\n",
      "2020-06-25 Eibar vs Valencia, HW 25%, AW 49%, T 26%, pred score 1-1.5  actual: HW (1-0)\n",
      "2020-06-25 Betis vs Espanol, HW 41%, AW 32%, T 27%, pred score 1.4-1.1  actual: HW (1-0)\n",
      "2020-06-26 Sevilla vs Valladolid, HW 50%, AW 23%, T 28%, pred score 1.3-0.8  actual: T (1-1)\n",
      "2020-06-27 Ath Bilbao vs Mallorca, HW 46%, AW 27%, T 27%, pred score 1.4-1  actual: HW (3-1)\n",
      "2020-06-27 Celta vs Barcelona, HW 10%, AW 75%, T 15%, pred score 1-2.8  actual: T (2-2)\n",
      "2020-06-27 Osasuna vs Leganes, HW 42%, AW 29%, T 29%, pred score 1.2-0.9  actual: HW (2-1)\n",
      "2020-06-27 Ath Madrid vs Alaves, HW 61%, AW 13%, T 26%, pred score 1.5-0.5  actual: HW (2-1)\n",
      "2020-06-28 Levante vs Betis, HW 37%, AW 39%, T 24%, pred score 1.6-1.6  actual: HW (4-2)\n",
      "2020-06-28 Villarreal vs Valencia, HW 33%, AW 42%, T 26%, pred score 1.3-1.5  actual: HW (2-0)\n",
      "2020-06-28 Granada vs Eibar, HW 48%, AW 26%, T 26%, pred score 1.5-1  actual: AW (1-2)\n",
      "2020-06-28 Espanol vs Real Madrid, HW 14%, AW 65%, T 21%, pred score 0.8-2  actual: AW (0-1)\n",
      "2020-06-29 Getafe vs Sociedad, HW 40%, AW 31%, T 29%, pred score 1.2-1  actual: HW (2-1)\n",
      "2020-06-30 Mallorca vs Celta, HW 29%, AW 47%, T 24%, pred score 1.3-1.7  actual: HW (5-1)\n",
      "2020-06-30 Leganes vs Sevilla, HW 22%, AW 50%, T 27%, pred score 0.8-1.4  actual: AW (0-3)\n",
      "2020-06-30 Barcelona vs Ath Madrid, HW 42%, AW 30%, T 28%, pred score 1.3-1  actual: T (2-2)\n",
      "2020-07-01 Alaves vs Granada, HW 23%, AW 51%, T 26%, pred score 0.9-1.5  actual: AW (0-2)\n",
      "2020-07-01 Valencia vs Ath Bilbao, HW 44%, AW 27%, T 29%, pred score 1.3-0.9  actual: AW (0-2)\n",
      "2020-07-01 Betis vs Villarreal, HW 31%, AW 46%, T 23%, pred score 1.4-1.7  actual: AW (0-2)\n",
      "2020-07-01 Valladolid vs Levante, HW 30%, AW 41%, T 28%, pred score 1-1.2  actual: T (0-0)\n",
      "2020-07-02 Eibar vs Osasuna, HW 34%, AW 39%, T 27%, pred score 1.2-1.3  actual: AW (0-2)\n",
      "2020-07-02 Sociedad vs Espanol, HW 48%, AW 26%, T 26%, pred score 1.5-1  actual: HW (2-1)\n",
      "2020-07-02 Real Madrid vs Getafe, HW 48%, AW 25%, T 27%, pred score 1.4-0.9  actual: HW (1-0)\n",
      "2020-07-03 Ath Madrid vs Mallorca, HW 67%, AW 11%, T 22%, pred score 1.8-0.6  actual: HW (3-0)\n",
      "2020-07-04 Celta vs Betis, HW 38%, AW 38%, T 24%, pred score 1.6-1.6  actual: T (1-1)\n",
      "2020-07-04 Valladolid vs Alaves, HW 33%, AW 34%, T 33%, pred score 0.9-0.9  actual: HW (1-0)\n",
      "2020-07-04 Granada vs Valencia, HW 35%, AW 37%, T 27%, pred score 1.2-1.3  actual: T (2-2)\n",
      "2020-07-05 Ath Bilbao vs Real Madrid, HW 18%, AW 58%, T 24%, pred score 0.9-1.7  actual: AW (0-1)\n",
      "2020-07-05 Espanol vs Leganes, HW 35%, AW 32%, T 33%, pred score 0.9-0.9  actual: AW (0-1)\n",
      "2020-07-05 Osasuna vs Getafe, HW 27%, AW 44%, T 29%, pred score 0.9-1.2  actual: T (0-0)\n",
      "2020-07-05 Villarreal vs Barcelona, HW 15%, AW 68%, T 18%, pred score 1.1-2.5  actual: AW (1-4)\n",
      "2020-07-06 Levante vs Sociedad, HW 30%, AW 46%, T 23%, pred score 1.4-1.8  actual: T (1-1)\n",
      "2020-07-06 Sevilla vs Eibar, HW 48%, AW 27%, T 26%, pred score 1.5-1.1  actual: HW (1-0)\n",
      "2020-07-07 Valencia vs Valladolid, HW 50%, AW 21%, T 29%, pred score 1.3-0.7  actual: HW (2-1)\n",
      "2020-07-07 Celta vs Ath Madrid, HW 16%, AW 60%, T 24%, pred score 0.7-1.6  actual: T (1-1)\n",
      "2020-07-08 Betis vs Osasuna, HW 37%, AW 39%, T 25%, pred score 1.4-1.5  actual: HW (3-0)\n",
      "2020-07-08 Getafe vs Villarreal, HW 39%, AW 32%, T 29%, pred score 1.2-1.1  actual: AW (1-3)\n",
      "2020-07-08 Barcelona vs Espanol, HW 75%, AW 9%, T 16%, pred score 2.4-0.7  actual: HW (1-0)\n",
      "2020-07-09 Eibar vs Leganes, HW 39%, AW 30%, T 31%, pred score 1.1-0.9  actual: T (0-0)\n",
      "2020-07-09 Mallorca vs Levante, HW 30%, AW 47%, T 24%, pred score 1.3-1.7  actual: HW (2-0)\n",
      "2020-07-09 Ath Bilbao vs Sevilla, HW 29%, AW 43%, T 28%, pred score 1-1.3  actual: AW (1-2)\n",
      "2020-07-10 Sociedad vs Granada, HW 34%, AW 41%, T 25%, pred score 1.3-1.5  actual: AW (2-3)\n",
      "2020-07-10 Real Madrid vs Alaves, HW 67%, AW 13%, T 19%, pred score 2.1-0.8  actual: HW (2-0)\n",
      "2020-07-11 Osasuna vs Celta, HW 39%, AW 37%, T 25%, pred score 1.5-1.4  actual: HW (2-1)\n",
      "2020-07-11 Valladolid vs Barcelona, HW 9%, AW 74%, T 17%, pred score 0.6-2.2  actual: AW (0-1)\n",
      "2020-07-11 Ath Madrid vs Betis, HW 60%, AW 16%, T 24%, pred score 1.7-0.7  actual: HW (1-0)\n",
      "2020-07-12 Espanol vs Eibar, HW 32%, AW 39%, T 29%, pred score 1-1.1  actual: AW (0-2)\n",
      "2020-07-12 Levante vs Ath Bilbao, HW 34%, AW 39%, T 27%, pred score 1.2-1.3  actual: AW (1-2)\n",
      "2020-07-12 Leganes vs Valencia, HW 21%, AW 51%, T 28%, pred score 0.8-1.4  actual: HW (1-0)\n",
      "2020-07-12 Sevilla vs Mallorca, HW 56%, AW 21%, T 23%, pred score 1.9-1  actual: HW (2-0)\n",
      "2020-07-13 Alaves vs Getafe, HW 22%, AW 49%, T 30%, pred score 0.7-1.2  actual: T (0-0)\n",
      "2020-07-13 Villarreal vs Sociedad, HW 39%, AW 37%, T 24%, pred score 1.6-1.5  actual: AW (1-2)\n",
      "2020-07-13 Granada vs Real Madrid, HW 24%, AW 52%, T 23%, pred score 1.1-1.8  actual: AW (1-2)\n",
      "2020-07-16 Eibar vs Valladolid, HW 38%, AW 30%, T 31%, pred score 1.1-0.9  actual: HW (3-1)\n",
      "2020-07-16 Ath Bilbao vs Leganes, HW 41%, AW 27%, T 32%, pred score 1-0.8  actual: AW (0-2)\n",
      "2020-07-16 Barcelona vs Osasuna, HW 73%, AW 11%, T 16%, pred score 2.6-0.9  actual: AW (1-2)\n",
      "2020-07-16 Betis vs Alaves, HW 43%, AW 31%, T 26%, pred score 1.4-1.2  actual: AW (1-2)\n",
      "2020-07-16 Celta vs Levante, HW 39%, AW 38%, T 23%, pred score 1.6-1.6  actual: AW (2-3)\n",
      "2020-07-16 Getafe vs Ath Madrid, HW 22%, AW 44%, T 34%, pred score 0.6-1  actual: AW (0-2)\n",
      "2020-07-16 Mallorca vs Granada, HW 20%, AW 56%, T 23%, pred score 1-1.8  actual: AW (1-2)\n",
      "2020-07-16 Real Madrid vs Villarreal, HW 57%, AW 22%, T 21%, pred score 2-1.2  actual: HW (2-1)\n",
      "2020-07-16 Sociedad vs Sevilla, HW 35%, AW 40%, T 25%, pred score 1.4-1.5  actual: T (0-0)\n",
      "2020-07-16 Valencia vs Espanol, HW 50%, AW 22%, T 27%, pred score 1.4-0.8  actual: HW (1-0)\n",
      "2020-07-19 Alaves vs Barcelona, HW 9%, AW 76%, T 15%, pred score 0.7-2.5  actual: AW (0-5)\n",
      "2020-07-19 Valladolid vs Betis, HW 30%, AW 42%, T 28%, pred score 1-1.2  actual: HW (2-0)\n",
      "2020-07-19 Villarreal vs Eibar, HW 46%, AW 29%, T 25%, pred score 1.6-1.2  actual: HW (4-0)\n",
      "2020-07-19 Ath Madrid vs Sociedad, HW 54%, AW 20%, T 27%, pred score 1.5-0.8  actual: T (1-1)\n",
      "2020-07-19 Espanol vs Celta, HW 32%, AW 41%, T 27%, pred score 1.1-1.3  actual: T (0-0)\n",
      "2020-07-19 Granada vs Ath Bilbao, HW 43%, AW 29%, T 29%, pred score 1.3-1  actual: HW (4-0)\n",
      "2020-07-19 Leganes vs Real Madrid, HW 13%, AW 66%, T 21%, pred score 0.7-1.9  actual: T (2-2)\n",
      "2020-07-19 Levante vs Getafe, HW 26%, AW 47%, T 27%, pred score 0.9-1.4  actual: HW (1-0)\n",
      "2020-07-19 Osasuna vs Mallorca, HW 47%, AW 28%, T 24%, pred score 1.6-1.2  actual: T (2-2)\n",
      "2020-07-19 Sevilla vs Valencia, HW 35%, AW 39%, T 26%, pred score 1.2-1.3  actual: HW (1-0)\n",
      "2020-08-16 Ath Bilbao vs Barcelona, HW 13%, AW 68%, T 19%, pred score 0.8-2.1  actual: HW (1-0)\n",
      "2020-08-17 Betis vs Levante, HW 39%, AW 37%, T 23%, pred score 1.6-1.6  actual: AW (0-3)\n",
      "2020-08-17 Girona vs Valladolid, HW 37%, AW 33%, T 31%, pred score 1.1-1  actual: T (0-0)\n",
      "2020-08-17 Celta vs Real Madrid, HW 16%, AW 65%, T 19%, pred score 1.1-2.3  actual: AW (1-3)\n",
      "2020-08-17 Valencia vs Sociedad, HW 42%, AW 32%, T 25%, pred score 1.5-1.3  actual: T (1-1)\n",
      "2020-08-17 Mallorca vs Eibar, HW 30%, AW 44%, T 26%, pred score 1.2-1.5  actual: HW (2-1)\n",
      "2020-08-17 Leganes vs Osasuna, HW 29%, AW 42%, T 29%, pred score 0.9-1.2  actual: AW (0-1)\n",
      "2020-08-17 Villarreal vs Granada, HW 35%, AW 40%, T 25%, pred score 1.3-1.5  actual: T (4-4)\n",
      "2020-08-18 Barcelona vs Alaves, HW 77%, AW 8%, T 15%, pred score 2.5-0.7  actual: HW (3-0)\n",
      "2020-08-18 Celta vs Espanol, HW 41%, AW 32%, T 27%, pred score 1.3-1.1  actual: T (1-1)\n",
      "2020-08-18 Villarreal vs Sociedad, HW 39%, AW 37%, T 24%, pred score 1.6-1.5  actual: AW (1-2)\n",
      "2020-08-18 Alaves vs Levante, HW 31%, AW 42%, T 26%, pred score 1.2-1.4  actual: HW (1-0)\n",
      "2020-08-18 Espanol vs Sevilla, HW 24%, AW 49%, T 27%, pred score 0.9-1.5  actual: AW (0-2)\n",
      "2020-08-18 Betis vs Valladolid, HW 42%, AW 30%, T 28%, pred score 1.2-1  actual: AW (1-2)\n",
      "2020-08-18 Ath Madrid vs Getafe, HW 44%, AW 22%, T 34%, pred score 1-0.6  actual: HW (1-0)\n",
      "2020-08-19 Eibar vs Huesca, HW 44%, AW 31%, T 25%, pred score 1.5-1.2  actual: AW (1-2)\n",
      "2020-08-19 Real Madrid vs Getafe, HW 48%, AW 25%, T 27%, pred score 1.4-0.9  actual: HW (2-0)\n",
      "2020-08-19 Vallecano vs Sevilla, HW 18%, AW 61%, T 21%, pred score 1-2.1  actual: AW (1-4)\n",
      "2020-08-20 Ath Bilbao vs Leganes, HW 41%, AW 27%, T 32%, pred score 1-0.8  actual: HW (2-1)\n",
      "2020-08-20 Valencia vs Ath Madrid, HW 23%, AW 47%, T 30%, pred score 0.7-1.2  actual: T (1-1)\n",
      "2020-08-23 Granada vs Sevilla, HW 38%, AW 36%, T 26%, pred score 1.3-1.3  actual: AW (0-1)\n",
      "2020-08-23 Levante vs Villarreal, HW 30%, AW 47%, T 23%, pred score 1.4-1.8  actual: HW (2-1)\n",
      "2020-08-24 Getafe vs Eibar, HW 46%, AW 25%, T 30%, pred score 1.2-0.8  actual: HW (2-0)\n",
      "2020-08-24 Leganes vs Sociedad, HW 24%, AW 49%, T 27%, pred score 0.9-1.4  actual: T (2-2)\n",
      "2020-08-24 Osasuna vs Eibar, HW 39%, AW 34%, T 26%, pred score 1.3-1.2  actual: T (0-0)\n",
      "2020-08-24 Real Madrid vs Valladolid, HW 65%, AW 13%, T 22%, pred score 1.8-0.7  actual: T (1-1)\n",
      "2020-08-24 Celta vs Valencia, HW 27%, AW 49%, T 24%, pred score 1.1-1.6  actual: HW (1-0)\n",
      "2020-08-24 Getafe vs Ath Bilbao, HW 41%, AW 27%, T 32%, pred score 1-0.8  actual: T (1-1)\n",
      "2020-08-25 Alaves vs Betis, HW 31%, AW 43%, T 26%, pred score 1.2-1.4  actual: T (0-0)\n",
      "2020-08-25 Ath Madrid vs Vallecano, HW 71%, AW 10%, T 20%, pred score 2-0.6  actual: HW (1-0)\n",
      "2020-08-25 Valladolid vs Barcelona, HW 9%, AW 74%, T 17%, pred score 0.6-2.2  actual: AW (0-1)\n",
      "2020-08-25 Alaves vs Espanol, HW 34%, AW 36%, T 30%, pred score 1-1  actual: T (0-0)\n",
      "2020-08-25 Mallorca vs Sociedad, HW 23%, AW 55%, T 22%, pred score 1.2-1.9  actual: AW (0-1)\n",
      "2020-08-25 Leganes vs Ath Madrid, HW 13%, AW 59%, T 28%, pred score 0.5-1.4  actual: AW (0-1)\n",
      "2020-08-25 Barcelona vs Betis, HW 75%, AW 10%, T 14%, pred score 2.8-1  actual: HW (5-2)\n",
      "2020-08-26 Espanol vs Valencia, HW 22%, AW 51%, T 27%, pred score 0.8-1.4  actual: HW (2-0)\n",
      "2020-08-26 Girona vs Real Madrid, HW 14%, AW 68%, T 18%, pred score 0.9-2.3  actual: AW (1-4)\n",
      "2020-08-26 Sevilla vs Villarreal, HW 40%, AW 36%, T 25%, pred score 1.5-1.4  actual: T (0-0)\n",
      "2020-08-27 Ath Bilbao vs Huesca, HW 46%, AW 28%, T 27%, pred score 1.4-1  actual: T (2-2)\n",
      "2020-08-27 Levante vs Celta, HW 37%, AW 39%, T 24%, pred score 1.6-1.6  actual: AW (1-2)\n",
      "2020-08-30 Sevilla vs Celta, HW 47%, AW 28%, T 24%, pred score 1.7-1.3  actual: T (1-1)\n",
      "2020-08-30 Ath Bilbao vs Sociedad, HW 32%, AW 41%, T 27%, pred score 1.1-1.3  actual: HW (2-0)\n",
      "2020-08-31 Eibar vs Sociedad, HW 29%, AW 46%, T 25%, pred score 1.2-1.5  actual: HW (2-1)\n",
      "2020-08-31 Getafe vs Valladolid, HW 46%, AW 21%, T 33%, pred score 1.1-0.6  actual: T (0-0)\n",
      "2020-08-31 Villarreal vs Girona, HW 50%, AW 26%, T 24%, pred score 1.7-1.2  actual: AW (0-1)\n",
      "2020-08-31 Osasuna vs Barcelona, HW 12%, AW 73%, T 16%, pred score 0.9-2.6  actual: T (2-2)\n",
      "2020-08-31 Getafe vs Alaves, HW 49%, AW 21%, T 30%, pred score 1.2-0.7  actual: T (1-1)\n",
      "2020-08-31 Levante vs Valladolid, HW 41%, AW 31%, T 28%, pred score 1.2-1  actual: HW (2-0)\n",
      "2020-08-31 Betis vs Leganes, HW 43%, AW 30%, T 27%, pred score 1.3-1  actual: HW (2-1)\n",
      "2020-09-01 Celta vs Ath Madrid, HW 16%, AW 60%, T 25%, pred score 0.7-1.6  actual: HW (2-0)\n",
      "2020-09-01 Real Madrid vs Leganes, HW 66%, AW 13%, T 21%, pred score 1.9-0.7  actual: HW (4-1)\n",
      "2020-09-01 Valencia vs Mallorca, HW 57%, AW 20%, T 23%, pred score 1.8-1  actual: HW (2-0)\n",
      "2020-09-01 Ath Madrid vs Eibar, HW 59%, AW 15%, T 26%, pred score 1.5-0.6  actual: HW (3-2)\n",
      "2020-09-01 Espanol vs Granada, HW 23%, AW 50%, T 27%, pred score 0.9-1.4  actual: AW (0-3)\n",
      "2020-09-01 Villarreal vs Real Madrid, HW 22%, AW 57%, T 21%, pred score 1.2-2  actual: T (2-2)\n",
      "2020-09-02 Alaves vs Espanol, HW 34%, AW 36%, T 30%, pred score 1-1  actual: HW (2-1)\n",
      "2020-09-02 Barcelona vs Huesca, HW 82%, AW 7%, T 12%, pred score 3.1-0.8  actual: HW (8-2)\n",
      "2020-09-02 Betis vs Sevilla, HW 29%, AW 48%, T 24%, pred score 1.3-1.7  actual: HW (1-0)\n",
      "2020-09-02 Levante vs Valencia, HW 26%, AW 50%, T 24%, pred score 1.1-1.7  actual: T (2-2)\n",
      "2020-09-13 Mallorca vs Ath Bilbao, HW 27%, AW 46%, T 27%, pred score 1-1.4  actual: T (0-0)\n",
      "2020-09-14 Huesca vs Vallecano, HW 43%, AW 33%, T 24%, pred score 1.6-1.4  actual: AW (0-1)\n",
      "2020-09-14 Real Madrid vs Levante, HW 66%, AW 16%, T 18%, pred score 2.4-1.1  actual: HW (3-2)\n",
      "2020-09-14 Leganes vs Villarreal, HW 24%, AW 50%, T 27%, pred score 0.9-1.4  actual: AW (0-3)\n",
      "2020-09-14 Sociedad vs Ath Madrid, HW 20%, AW 53%, T 26%, pred score 0.8-1.5  actual: HW (2-0)\n",
      "2020-09-14 Barcelona vs Valencia, HW 61%, AW 18%, T 21%, pred score 2-1  actual: HW (5-2)\n",
      "2020-09-15 Ath Bilbao vs Real Madrid, HW 18%, AW 59%, T 23%, pred score 0.9-1.7  actual: T (1-1)\n",
      "2020-09-15 Ath Madrid vs Eibar, HW 58%, AW 15%, T 26%, pred score 1.5-0.6  actual: T (1-1)\n",
      "2020-09-15 Sociedad vs Barcelona, HW 15%, AW 68%, T 17%, pred score 1.1-2.5  actual: AW (1-2)\n",
      "2020-09-15 Valencia vs Betis, HW 49%, AW 27%, T 24%, pred score 1.7-1.2  actual: T (0-0)\n",
      "2020-09-15 Eibar vs Espanol, HW 38%, AW 32%, T 29%, pred score 1.1-1  actual: AW (1-2)\n",
      "2020-09-15 Alaves vs Sevilla, HW 23%, AW 51%, T 26%, pred score 0.9-1.5  actual: AW (0-1)\n",
      "2020-09-15 Celta vs Granada, HW 28%, AW 48%, T 24%, pred score 1.2-1.6  actual: AW (0-2)\n",
      "2020-09-15 Valladolid vs Osasuna, HW 29%, AW 42%, T 30%, pred score 0.9-1.2  actual: T (1-1)\n",
      "2020-09-15 Betis vs Getafe, HW 26%, AW 46%, T 28%, pred score 1-1.4  actual: T (1-1)\n",
      "2020-09-16 Espanol vs Levante, HW 33%, AW 41%, T 27%, pred score 1.2-1.3  actual: HW (1-0)\n",
      "2020-09-16 Leganes vs Villarreal, HW 24%, AW 49%, T 27%, pred score 0.9-1.4  actual: AW (0-1)\n",
      "2020-09-16 Sevilla vs Getafe, HW 33%, AW 37%, T 30%, pred score 1-1.1  actual: AW (0-2)\n",
      "2020-09-16 Valladolid vs Alaves, HW 33%, AW 34%, T 32%, pred score 0.9-0.9  actual: AW (0-1)\n",
      "2020-09-17 Girona vs Celta, HW 33%, AW 42%, T 25%, pred score 1.3-1.5  actual: HW (3-2)\n",
      "2020-09-20 Osasuna vs Betis, HW 38%, AW 37%, T 25%, pred score 1.5-1.4  actual: T (0-0)\n",
      "2020-09-21 Huesca vs Sociedad, HW 24%, AW 54%, T 22%, pred score 1.2-1.9  actual: AW (0-1)\n",
      "2020-09-21 Villarreal vs Valladolid, HW 48%, AW 24%, T 27%, pred score 1.4-0.9  actual: HW (2-0)\n",
      "2020-09-21 Levante vs Eibar, HW 39%, AW 36%, T 26%, pred score 1.4-1.4  actual: T (0-0)\n",
      "2020-09-21 Ath Madrid vs Celta, HW 60%, AW 16%, T 24%, pred score 1.6-0.7  actual: T (0-0)\n",
      "2020-09-21 Granada vs Barcelona, HW 17%, AW 63%, T 20%, pred score 1-2.1  actual: HW (2-0)\n",
      "2020-09-22 Celta vs Valladolid, HW 41%, AW 30%, T 29%, pred score 1.2-1  actual: T (3-3)\n",
      "2020-09-22 Eibar vs Leganes, HW 39%, AW 30%, T 31%, pred score 1.1-0.9  actual: HW (1-0)\n",
      "2020-09-22 Getafe vs Ath Madrid, HW 22%, AW 44%, T 34%, pred score 0.6-1  actual: AW (0-2)\n",
      "2020-09-22 Real Madrid vs Espanol, HW 65%, AW 14%, T 21%, pred score 2-0.8  actual: HW (1-0)\n",
      "2020-09-22 Vallecano vs Alaves, HW 31%, AW 43%, T 27%, pred score 1.2-1.4  actual: AW (1-5)\n",
      "2020-09-22 Getafe vs Mallorca, HW 54%, AW 20%, T 27%, pred score 1.5-0.8  actual: HW (4-2)\n",
      "2020-09-22 Espanol vs Sociedad, HW 26%, AW 48%, T 26%, pred score 1-1.5  actual: AW (1-3)\n",
      "2020-09-22 Valencia vs Leganes, HW 51%, AW 21%, T 28%, pred score 1.4-0.8  actual: T (1-1)\n",
      "2020-09-22 Ath Bilbao vs Alaves, HW 42%, AW 28%, T 30%, pred score 1.1-0.9  actual: HW (2-0)\n",
      "2020-09-22 Sevilla vs Real Madrid, HW 24%, AW 54%, T 23%, pred score 1.2-1.9  actual: AW (0-1)\n",
      "2020-09-23 Barcelona vs Girona, HW 77%, AW 9%, T 14%, pred score 2.7-0.8  actual: T (2-2)\n",
      "2020-09-23 Betis vs Ath Bilbao, HW 35%, AW 38%, T 27%, pred score 1.2-1.3  actual: T (2-2)\n",
      "2020-09-23 Levante vs Sevilla, HW 28%, AW 48%, T 24%, pred score 1.3-1.7  actual: AW (2-6)\n",
      "2020-09-23 Villarreal vs Valencia, HW 33%, AW 42%, T 25%, pred score 1.3-1.5  actual: T (0-0)\n",
      "2020-09-24 Valladolid vs Granada, HW 22%, AW 49%, T 29%, pred score 0.8-1.3  actual: T (1-1)\n",
      "2020-09-24 Betis vs Levante, HW 39%, AW 38%, T 23%, pred score 1.6-1.6  actual: HW (3-1)\n",
      "2020-09-24 Barcelona vs Villarreal, HW 67%, AW 15%, T 18%, pred score 2.5-1.1  actual: HW (2-1)\n",
      "2020-09-25 Ath Madrid vs Huesca, HW 67%, AW 12%, T 22%, pred score 1.8-0.6  actual: HW (3-0)\n",
      "2020-09-25 Espanol vs Eibar, HW 32%, AW 38%, T 29%, pred score 1-1.1  actual: HW (1-0)\n",
      "2020-09-25 Sociedad vs Vallecano, HW 59%, AW 20%, T 21%, pred score 2.1-1.1  actual: T (2-2)\n",
      "2020-09-25 Leganes vs Ath Bilbao, HW 27%, AW 41%, T 32%, pred score 0.8-1  actual: T (1-1)\n",
      "2020-09-25 Mallorca vs Ath Madrid, HW 11%, AW 67%, T 22%, pred score 0.6-1.8  actual: AW (0-2)\n",
      "2020-09-25 Valencia vs Getafe, HW 35%, AW 34%, T 31%, pred score 1-1  actual: T (3-3)\n",
      "2020-09-25 Real Madrid vs Osasuna, HW 63%, AW 17%, T 20%, pred score 2.1-1  actual: HW (2-0)\n",
      "2020-09-26 Ath Bilbao vs Villarreal, HW 31%, AW 41%, T 27%, pred score 1.1-1.3  actual: AW (0-3)\n",
      "2020-09-26 Leganes vs Barcelona, HW 9%, AW 75%, T 16%, pred score 0.6-2.3  actual: HW (2-1)\n",
      "2020-09-26 Sevilla vs Real Madrid, HW 23%, AW 54%, T 23%, pred score 1.2-1.9  actual: HW (3-0)\n",
      "2020-09-26 Valencia vs Celta, HW 49%, AW 26%, T 25%, pred score 1.6-1.1  actual: T (1-1)\n",
      "2020-09-26 Eibar vs Sevilla, HW 27%, AW 48%, T 26%, pred score 1.1-1.5  actual: HW (3-2)\n",
      "2020-09-26 Celta vs Espanol, HW 41%, AW 32%, T 27%, pred score 1.3-1.1  actual: T (1-1)\n",
      "2020-09-26 Sociedad vs Alaves, HW 49%, AW 26%, T 25%, pred score 1.6-1  actual: HW (3-0)\n",
      "2020-09-27 Alaves vs Getafe, HW 21%, AW 49%, T 30%, pred score 0.7-1.2  actual: T (1-1)\n",
      "2020-09-27 Girona vs Betis, HW 33%, AW 42%, T 25%, pred score 1.3-1.5  actual: AW (0-1)\n",
      "2020-09-27 Valladolid vs Levante, HW 31%, AW 41%, T 28%, pred score 1-1.2  actual: HW (2-1)\n",
      "2020-09-27 Villarreal vs Betis, HW 46%, AW 31%, T 23%, pred score 1.7-1.4  actual: HW (5-1)\n",
      "2020-09-28 Vallecano vs Espanol, HW 30%, AW 44%, T 27%, pred score 1.1-1.4  actual: T (2-2)\n",
      "2020-09-28 Ath Bilbao vs Valencia, HW 27%, AW 44%, T 29%, pred score 0.9-1.3  actual: AW (0-1)\n",
      "2020-09-28 Getafe vs Barcelona, HW 18%, AW 58%, T 24%, pred score 0.8-1.7  actual: AW (0-2)\n",
      "2020-09-28 Granada vs Leganes, HW 50%, AW 22%, T 28%, pred score 1.4-0.8  actual: HW (1-0)\n",
      "2020-09-28 Ath Madrid vs Real Madrid, HW 38%, AW 33%, T 29%, pred score 1.1-1  actual: T (0-0)\n",
      "2020-09-29 Barcelona vs Ath Bilbao, HW 68%, AW 13%, T 19%, pred score 2.1-0.8  actual: T (1-1)\n",
      "2020-09-29 Eibar vs Sevilla, HW 27%, AW 48%, T 26%, pred score 1.1-1.5  actual: AW (1-3)\n",
      "2020-09-29 Real Madrid vs Ath Madrid, HW 33%, AW 37%, T 29%, pred score 1-1.1  actual: T (0-0)\n",
      "2020-09-29 Sociedad vs Valencia, HW 33%, AW 42%, T 26%, pred score 1.3-1.5  actual: AW (0-1)\n",
      "2020-09-29 Espanol vs Valladolid, HW 35%, AW 32%, T 33%, pred score 0.9-0.9  actual: AW (0-2)\n",
      "2020-09-29 Eibar vs Celta, HW 35%, AW 39%, T 26%, pred score 1.3-1.4  actual: HW (2-0)\n",
      "2020-09-29 Alaves vs Mallorca, HW 39%, AW 34%, T 27%, pred score 1.3-1.2  actual: HW (2-0)\n",
      "2020-09-29 Levante vs Osasuna, HW 36%, AW 39%, T 24%, pred score 1.4-1.5  actual: T (1-1)\n",
      "2020-09-29 Sevilla vs Sociedad, HW 40%, AW 35%, T 25%, pred score 1.5-1.4  actual: HW (3-2)\n",
      "2020-09-30 Betis vs Leganes, HW 43%, AW 30%, T 28%, pred score 1.3-1  actual: HW (1-0)\n",
      "2020-09-30 Huesca vs Girona, HW 34%, AW 41%, T 25%, pred score 1.3-1.5  actual: T (1-1)\n",
      "2020-09-30 Levante vs Alaves, HW 42%, AW 31%, T 26%, pred score 1.4-1.2  actual: HW (2-1)\n",
      "2020-09-30 Villarreal vs Valladolid, HW 48%, AW 24%, T 27%, pred score 1.4-0.9  actual: AW (0-1)\n",
      "2020-10-01 Celta vs Getafe, HW 26%, AW 46%, T 28%, pred score 0.9-1.3  actual: T (1-1)\n",
      "2020-10-04 Betis vs Eibar, HW 39%, AW 35%, T 26%, pred score 1.4-1.3  actual: T (1-1)\n",
      "2020-10-05 Ath Bilbao vs Sociedad, HW 32%, AW 41%, T 27%, pred score 1.1-1.3  actual: AW (1-3)\n",
      "2020-10-05 Leganes vs Levante, HW 30%, AW 42%, T 28%, pred score 1.1-1.3  actual: AW (1-2)\n",
      "2020-10-05 Real Madrid vs Granada, HW 53%, AW 24%, T 23%, pred score 1.8-1.1  actual: HW (4-2)\n",
      "2020-10-05 Valencia vs Alaves, HW 52%, AW 22%, T 26%, pred score 1.5-0.9  actual: HW (2-1)\n",
      "2020-10-05 Osasuna vs Villarreal, HW 31%, AW 44%, T 25%, pred score 1.3-1.6  actual: HW (2-1)\n",
      "2020-10-06 Alaves vs Real Madrid, HW 13%, AW 67%, T 20%, pred score 0.8-2.1  actual: HW (1-0)\n",
      "2020-10-06 Getafe vs Levante, HW 47%, AW 26%, T 27%, pred score 1.4-0.9  actual: AW (0-1)\n",
      "2020-10-06 Girona vs Eibar, HW 34%, AW 40%, T 27%, pred score 1.2-1.3  actual: AW (2-3)\n",
      "2020-10-06 Leganes vs Vallecano, HW 41%, AW 31%, T 28%, pred score 1.3-1.1  actual: HW (1-0)\n",
      "2020-10-06 Mallorca vs Espanol, HW 33%, AW 39%, T 28%, pred score 1.1-1.3  actual: HW (2-0)\n",
      "2020-10-06 Celta vs Ath Bilbao, HW 34%, AW 38%, T 27%, pred score 1.2-1.2  actual: HW (1-0)\n",
      "2020-10-06 Valladolid vs Ath Madrid, HW 13%, AW 58%, T 29%, pred score 0.5-1.3  actual: T (0-0)\n",
      "2020-10-06 Sociedad vs Getafe, HW 32%, AW 40%, T 29%, pred score 1-1.2  actual: AW (1-2)\n",
      "2020-10-06 Barcelona vs Sevilla, HW 64%, AW 17%, T 19%, pred score 2.3-1.1  actual: HW (4-0)\n",
      "2020-10-07 Ath Madrid vs Betis, HW 60%, AW 16%, T 24%, pred score 1.7-0.7  actual: HW (1-0)\n",
      "2020-10-07 Espanol vs Villarreal, HW 25%, AW 49%, T 26%, pred score 1-1.5  actual: HW (3-1)\n",
      "2020-10-07 Sevilla vs Celta, HW 48%, AW 28%, T 24%, pred score 1.7-1.3  actual: HW (2-1)\n",
      "2020-10-07 Valencia vs Barcelona, HW 18%, AW 61%, T 21%, pred score 1-2  actual: T (1-1)\n",
      "2020-10-07 Valladolid vs Huesca, HW 36%, AW 34%, T 29%, pred score 1.1-1.1  actual: HW (1-0)\n",
      "2020-10-18 Granada vs Osasuna, HW 46%, AW 29%, T 25%, pred score 1.5-1.1  actual: HW (1-0)\n",
      "2020-10-19 Celta vs Alaves, HW 43%, AW 31%, T 26%, pred score 1.4-1.2  actual: AW (0-1)\n",
      "2020-10-19 Eibar vs Barcelona, HW 10%, AW 74%, T 16%, pred score 0.8-2.5  actual: AW (0-3)\n",
      "2020-10-19 Ath Madrid vs Valencia, HW 47%, AW 23%, T 30%, pred score 1.2-0.7  actual: T (1-1)\n",
      "2020-10-19 Getafe vs Leganes, HW 47%, AW 21%, T 32%, pred score 1.1-0.6  actual: HW (2-0)\n",
      "2020-10-19 Mallorca vs Real Madrid, HW 11%, AW 73%, T 16%, pred score 0.9-2.5  actual: HW (1-0)\n",
      "2020-10-20 Barcelona vs Sevilla, HW 65%, AW 16%, T 19%, pred score 2.3-1.1  actual: HW (4-2)\n",
      "2020-10-20 Real Madrid vs Levante, HW 66%, AW 16%, T 18%, pred score 2.4-1.1  actual: AW (1-2)\n",
      "2020-10-20 Valencia vs Leganes, HW 52%, AW 21%, T 28%, pred score 1.4-0.8  actual: T (1-1)\n",
      "2020-10-20 Villarreal vs Ath Madrid, HW 20%, AW 53%, T 27%, pred score 0.8-1.5  actual: T (1-1)\n",
      "2020-10-20 Alaves vs Celta, HW 31%, AW 43%, T 27%, pred score 1.2-1.4  actual: HW (2-0)\n",
      "2020-10-20 Sociedad vs Betis, HW 45%, AW 31%, T 23%, pred score 1.7-1.4  actual: HW (3-1)\n",
      "2020-10-20 Espanol vs Villarreal, HW 26%, AW 48%, T 26%, pred score 1-1.5  actual: AW (0-1)\n",
      "2020-10-20 Ath Bilbao vs Valladolid, HW 40%, AW 27%, T 33%, pred score 1-0.8  actual: T (1-1)\n",
      "2020-10-20 Sevilla vs Levante, HW 48%, AW 28%, T 24%, pred score 1.7-1.3  actual: HW (1-0)\n",
      "2020-10-21 Betis vs Valladolid, HW 42%, AW 30%, T 28%, pred score 1.2-1  actual: AW (0-1)\n",
      "2020-10-21 Eibar vs Ath Bilbao, HW 32%, AW 38%, T 30%, pred score 1-1.1  actual: T (1-1)\n",
      "2020-10-21 Huesca vs Espanol, HW 34%, AW 39%, T 27%, pred score 1.2-1.3  actual: AW (0-2)\n",
      "2020-10-21 Vallecano vs Getafe, HW 17%, AW 58%, T 24%, pred score 0.8-1.6  actual: AW (1-2)\n",
      "2020-10-22 Sociedad vs Girona, HW 49%, AW 27%, T 24%, pred score 1.7-1.2  actual: T (0-0)\n",
      "2020-10-24 Vallecano vs Ath Bilbao, HW 24%, AW 50%, T 26%, pred score 1-1.5  actual: T (1-1)\n",
      "2020-10-25 Villarreal vs Alaves, HW 50%, AW 25%, T 25%, pred score 1.6-1  actual: HW (4-1)\n",
      "2020-10-26 Valladolid vs Espanol, HW 32%, AW 35%, T 33%, pred score 0.9-0.9  actual: T (1-1)\n",
      "2020-10-26 Leganes vs Mallorca, HW 37%, AW 34%, T 29%, pred score 1.1-1.1  actual: HW (1-0)\n",
      "2020-10-26 Valladolid vs Eibar, HW 30%, AW 39%, T 31%, pred score 0.9-1.1  actual: HW (2-0)\n",
      "2020-10-26 Ath Madrid vs Ath Bilbao, HW 53%, AW 17%, T 30%, pred score 1.2-0.6  actual: HW (2-0)\n",
      "2020-10-27 Ath Bilbao vs Valencia, HW 27%, AW 44%, T 29%, pred score 0.9-1.3  actual: T (0-0)\n",
      "2020-10-27 Ath Madrid vs Sociedad, HW 53%, AW 20%, T 27%, pred score 1.5-0.8  actual: HW (2-0)\n",
      "2020-10-27 Celta vs Eibar, HW 39%, AW 35%, T 26%, pred score 1.4-1.3  actual: HW (4-0)\n",
      "2020-10-27 Girona vs Vallecano, HW 46%, AW 29%, T 24%, pred score 1.6-1.2  actual: HW (2-1)\n",
      "2020-10-27 Levante vs Leganes, HW 42%, AW 30%, T 28%, pred score 1.3-1.1  actual: HW (2-0)\n",
      "2020-10-27 Celta vs Sociedad, HW 31%, AW 45%, T 24%, pred score 1.4-1.7  actual: AW (0-1)\n",
      "2020-10-27 Granada vs Betis, HW 48%, AW 28%, T 24%, pred score 1.7-1.2  actual: HW (1-0)\n",
      "2020-10-27 Levante vs Espanol, HW 41%, AW 33%, T 27%, pred score 1.3-1.2  actual: AW (0-1)\n",
      "2020-10-27 Sevilla vs Getafe, HW 33%, AW 37%, T 30%, pred score 1-1.1  actual: HW (2-0)\n",
      "2020-10-27 Osasuna vs Valencia, HW 27%, AW 47%, T 26%, pred score 1.1-1.5  actual: HW (3-1)\n",
      "2020-10-28 Alaves vs Villarreal, HW 25%, AW 50%, T 25%, pred score 1-1.6  actual: HW (2-1)\n",
      "2020-10-28 Barcelona vs Real Madrid, HW 49%, AW 29%, T 22%, pred score 1.9-1.4  actual: HW (5-1)\n",
      "2020-10-28 Getafe vs Betis, HW 46%, AW 27%, T 28%, pred score 1.4-1  actual: HW (2-0)\n",
      "2020-10-28 Sevilla vs Huesca, HW 56%, AW 22%, T 22%, pred score 1.9-1.1  actual: HW (2-1)\n",
      "2020-10-29 Alaves vs Ath Madrid, HW 13%, AW 61%, T 26%, pred score 0.5-1.5  actual: T (1-1)\n",
      "2020-10-29 Barcelona vs Valladolid, HW 74%, AW 9%, T 17%, pred score 2.2-0.6  actual: HW (5-1)\n",
      "2020-10-30 Sociedad vs Levante, HW 46%, AW 31%, T 23%, pred score 1.8-1.4  actual: AW (1-2)\n",
      "2020-10-30 Valencia vs Sevilla, HW 39%, AW 35%, T 27%, pred score 1.3-1.2  actual: T (1-1)\n",
      "2020-10-30 Ath Bilbao vs Espanol, HW 40%, AW 29%, T 31%, pred score 1.1-0.9  actual: HW (3-0)\n",
      "2020-10-30 Betis vs Celta, HW 39%, AW 38%, T 24%, pred score 1.6-1.6  actual: HW (2-1)\n",
      "2020-10-30 Real Madrid vs Leganes, HW 66%, AW 13%, T 21%, pred score 1.9-0.7  actual: HW (5-0)\n",
      "2020-10-31 Eibar vs Villarreal, HW 29%, AW 46%, T 25%, pred score 1.2-1.6  actual: HW (2-1)\n",
      "2020-10-31 Mallorca vs Osasuna, HW 28%, AW 47%, T 25%, pred score 1.2-1.6  actual: T (2-2)\n",
      "2020-10-31 Getafe vs Granada, HW 36%, AW 34%, T 30%, pred score 1-1  actual: HW (3-1)\n",
      "2020-11-02 Espanol vs Valencia, HW 22%, AW 50%, T 27%, pred score 0.8-1.4  actual: AW (1-2)\n",
      "2020-11-02 Levante vs Barcelona, HW 10%, AW 76%, T 14%, pred score 1-2.9  actual: HW (3-1)\n",
      "2020-11-02 Sevilla vs Ath Madrid, HW 22%, AW 50%, T 28%, pred score 0.8-1.3  actual: T (1-1)\n",
      "2020-11-02 Real Madrid vs Betis, HW 65%, AW 16%, T 19%, pred score 2.3-1.1  actual: T (0-0)\n",
      "2020-11-03 Leganes vs Ath Madrid, HW 13%, AW 59%, T 28%, pred score 0.5-1.4  actual: T (1-1)\n",
      "2020-11-03 Real Madrid vs Valladolid, HW 65%, AW 13%, T 22%, pred score 1.8-0.7  actual: HW (2-0)\n",
      "2020-11-03 Valencia vs Girona, HW 52%, AW 23%, T 25%, pred score 1.6-1  actual: AW (0-1)\n",
      "2020-11-03 Vallecano vs Barcelona, HW 5%, AW 85%, T 9%, pred score 0.8-3.4  actual: AW (2-3)\n",
      "2020-11-03 Valladolid vs Mallorca, HW 37%, AW 33%, T 30%, pred score 1.1-1  actual: HW (3-0)\n",
      "2020-11-03 Villarreal vs Ath Bilbao, HW 41%, AW 31%, T 27%, pred score 1.3-1.1  actual: T (0-0)\n",
      "2020-11-03 Osasuna vs Alaves, HW 43%, AW 30%, T 27%, pred score 1.3-1.1  actual: HW (4-2)\n",
      "2020-11-03 Celta vs Getafe, HW 26%, AW 46%, T 28%, pred score 0.9-1.3  actual: AW (0-1)\n",
      "2020-11-03 Leganes vs Eibar, HW 30%, AW 39%, T 30%, pred score 0.9-1.1  actual: AW (1-2)\n",
      "2020-11-03 Granada vs Sociedad, HW 41%, AW 34%, T 25%, pred score 1.5-1.3  actual: AW (1-2)\n",
      "2020-11-04 Betis vs Celta, HW 39%, AW 38%, T 23%, pred score 1.6-1.6  actual: T (3-3)\n",
      "2020-11-04 Eibar vs Alaves, HW 40%, AW 32%, T 29%, pred score 1.2-1  actual: HW (2-1)\n",
      "2020-11-04 Huesca vs Getafe, HW 20%, AW 54%, T 26%, pred score 0.8-1.5  actual: T (1-1)\n",
      "2020-11-04 Sociedad vs Sevilla, HW 35%, AW 40%, T 24%, pred score 1.4-1.5  actual: T (0-0)\n",
      "2020-11-04 Villarreal vs Levante, HW 47%, AW 30%, T 23%, pred score 1.8-1.4  actual: T (1-1)\n",
      "2020-11-05 Espanol vs Ath Bilbao, HW 29%, AW 40%, T 31%, pred score 0.9-1.1  actual: HW (1-0)\n",
      "2020-11-08 Sociedad vs Leganes, HW 49%, AW 25%, T 27%, pred score 1.4-0.9  actual: T (1-1)\n",
      "2020-11-09 Levante vs Sociedad, HW 31%, AW 46%, T 23%, pred score 1.4-1.8  actual: AW (1-3)\n",
      "2020-11-09 Alaves vs Valladolid, HW 34%, AW 33%, T 33%, pred score 0.9-0.9  actual: HW (3-0)\n",
      "2020-11-09 Valencia vs Granada, HW 38%, AW 35%, T 27%, pred score 1.3-1.2  actual: HW (2-0)\n",
      "2020-11-09 Eibar vs Real Madrid, HW 16%, AW 64%, T 20%, pred score 0.9-2.1  actual: AW (0-4)\n",
      "2020-11-09 Barcelona vs Celta, HW 75%, AW 10%, T 15%, pred score 2.8-1  actual: HW (4-1)\n",
      "2020-11-10 Ath Madrid vs Ath Bilbao, HW 53%, AW 17%, T 30%, pred score 1.2-0.6  actual: HW (3-2)\n",
      "2020-11-10 Getafe vs Valencia, HW 34%, AW 35%, T 31%, pred score 1-1  actual: AW (0-1)\n",
      "2020-11-10 Girona vs Leganes, HW 38%, AW 33%, T 30%, pred score 1.1-1  actual: T (0-0)\n",
      "2020-11-10 Valladolid vs Eibar, HW 30%, AW 38%, T 31%, pred score 0.9-1.1  actual: T (0-0)\n",
      "2020-11-10 Mallorca vs Villarreal, HW 22%, AW 55%, T 22%, pred score 1.1-1.9  actual: HW (3-1)\n",
      "2020-11-10 Ath Bilbao vs Levante, HW 39%, AW 34%, T 27%, pred score 1.3-1.2  actual: HW (2-1)\n",
      "2020-11-10 Ath Madrid vs Espanol, HW 60%, AW 13%, T 27%, pred score 1.4-0.5  actual: HW (3-1)\n",
      "2020-11-10 Getafe vs Osasuna, HW 44%, AW 27%, T 29%, pred score 1.2-0.9  actual: T (0-0)\n",
      "2020-11-10 Betis vs Sevilla, HW 29%, AW 48%, T 24%, pred score 1.3-1.7  actual: AW (1-2)\n",
      "2020-11-11 Alaves vs Huesca, HW 38%, AW 35%, T 27%, pred score 1.3-1.2  actual: HW (2-1)\n",
      "2020-11-11 Barcelona vs Betis, HW 75%, AW 10%, T 14%, pred score 2.8-1  actual: AW (3-4)\n",
      "2020-11-11 Celta vs Real Madrid, HW 16%, AW 65%, T 19%, pred score 1.1-2.3  actual: AW (2-4)\n",
      "2020-11-11 Sevilla vs Espanol, HW 49%, AW 24%, T 26%, pred score 1.5-0.9  actual: HW (2-1)\n",
      "2020-11-11 Vallecano vs Villarreal, HW 20%, AW 60%, T 21%, pred score 1.1-2.1  actual: T (2-2)\n",
      "2020-11-22 Levante vs Mallorca, HW 47%, AW 30%, T 23%, pred score 1.7-1.3  actual: HW (2-1)\n",
      "2020-11-23 Leganes vs Alaves, HW 34%, AW 35%, T 32%, pred score 0.9-1  actual: HW (1-0)\n",
      "2020-11-23 Leganes vs Barcelona, HW 9%, AW 75%, T 17%, pred score 0.6-2.3  actual: AW (1-2)\n",
      "2020-11-23 Betis vs Valencia, HW 27%, AW 49%, T 24%, pred score 1.2-1.7  actual: HW (2-1)\n",
      "2020-11-23 Granada vs Ath Madrid, HW 22%, AW 48%, T 29%, pred score 0.7-1.3  actual: T (1-1)\n",
      "2020-11-23 Real Madrid vs Sociedad, HW 58%, AW 21%, T 21%, pred score 2.1-1.2  actual: HW (3-1)\n",
      "2020-11-24 Ath Madrid vs Barcelona, HW 30%, AW 42%, T 28%, pred score 1-1.3  actual: T (1-1)\n",
      "2020-11-24 Eibar vs Real Madrid, HW 16%, AW 64%, T 20%, pred score 0.9-2.1  actual: HW (3-0)\n",
      "2020-11-24 Huesca vs Levante, HW 30%, AW 46%, T 24%, pred score 1.4-1.7  actual: T (2-2)\n",
      "2020-11-24 Valencia vs Vallecano, HW 62%, AW 17%, T 21%, pred score 2-0.9  actual: HW (3-0)\n",
      "2020-11-24 Espanol vs Getafe, HW 22%, AW 47%, T 31%, pred score 0.7-1.2  actual: T (1-1)\n",
      "2020-11-24 Osasuna vs Ath Bilbao, HW 35%, AW 37%, T 29%, pred score 1.1-1.2  actual: AW (1-2)\n",
      "2020-11-24 Eibar vs Alaves, HW 40%, AW 32%, T 29%, pred score 1.2-1  actual: AW (0-2)\n",
      "2020-11-24 Villarreal vs Celta, HW 46%, AW 30%, T 23%, pred score 1.7-1.4  actual: AW (1-3)\n",
      "2020-11-24 Valladolid vs Sevilla, HW 23%, AW 49%, T 28%, pred score 0.8-1.3  actual: AW (0-1)\n",
      "2020-11-25 Ath Bilbao vs Getafe, HW 27%, AW 41%, T 33%, pred score 0.8-1  actual: T (1-1)\n",
      "2020-11-25 Espanol vs Girona, HW 35%, AW 36%, T 29%, pred score 1.1-1.1  actual: AW (1-3)\n",
      "2020-11-25 Sevilla vs Valladolid, HW 49%, AW 22%, T 28%, pred score 1.3-0.8  actual: HW (1-0)\n",
      "2020-11-25 Villarreal vs Betis, HW 46%, AW 31%, T 23%, pred score 1.7-1.4  actual: HW (2-1)\n",
      "2020-11-26 Sociedad vs Celta, HW 45%, AW 31%, T 24%, pred score 1.7-1.4  actual: HW (2-1)\n",
      "2020-11-29 Celta vs Valladolid, HW 41%, AW 30%, T 29%, pred score 1.2-1  actual: T (0-0)\n",
      "2020-11-30 Vallecano vs Eibar, HW 27%, AW 48%, T 25%, pred score 1.1-1.6  actual: HW (1-0)\n",
      "2020-11-30 Alaves vs Real Madrid, HW 13%, AW 68%, T 19%, pred score 0.8-2.1  actual: AW (1-2)\n",
      "2020-11-30 Sociedad vs Eibar, HW 46%, AW 29%, T 25%, pred score 1.5-1.2  actual: HW (4-1)\n",
      "2020-11-30 Mallorca vs Betis, HW 29%, AW 48%, T 23%, pred score 1.3-1.7  actual: AW (1-2)\n",
      "2020-11-30 Valencia vs Villarreal, HW 41%, AW 33%, T 26%, pred score 1.5-1.3  actual: HW (2-1)\n",
      "2020-12-01 Celta vs Huesca, HW 46%, AW 30%, T 23%, pred score 1.7-1.3  actual: HW (2-0)\n",
      "2020-12-01 Getafe vs Espanol, HW 47%, AW 22%, T 31%, pred score 1.2-0.7  actual: HW (3-0)\n",
      "2020-12-01 Real Madrid vs Valencia, HW 51%, AW 25%, T 24%, pred score 1.7-1.1  actual: HW (2-0)\n",
      "2020-12-01 Valladolid vs Leganes, HW 33%, AW 32%, T 35%, pred score 0.8-0.8  actual: AW (2-4)\n",
      "2020-12-01 Sevilla vs Leganes, HW 50%, AW 22%, T 27%, pred score 1.4-0.8  actual: HW (1-0)\n",
      "2020-12-01 Ath Bilbao vs Granada, HW 29%, AW 43%, T 28%, pred score 1-1.3  actual: HW (2-0)\n",
      "2020-12-01 Espanol vs Osasuna, HW 31%, AW 41%, T 28%, pred score 1-1.3  actual: AW (2-4)\n",
      "2020-12-01 Getafe vs Levante, HW 47%, AW 26%, T 27%, pred score 1.4-0.9  actual: HW (4-0)\n",
      "2020-12-01 Ath Madrid vs Barcelona, HW 30%, AW 42%, T 28%, pred score 1-1.3  actual: AW (0-1)\n",
      "2020-12-02 Alaves vs Sevilla, HW 23%, AW 51%, T 26%, pred score 0.9-1.5  actual: T (1-1)\n",
      "2020-12-02 Barcelona vs Villarreal, HW 67%, AW 15%, T 18%, pred score 2.5-1.1  actual: HW (2-0)\n",
      "2020-12-02 Betis vs Sociedad, HW 31%, AW 45%, T 23%, pred score 1.4-1.7  actual: HW (1-0)\n",
      "2020-12-02 Girona vs Ath Madrid, HW 14%, AW 62%, T 24%, pred score 0.6-1.6  actual: T (1-1)\n",
      "2020-12-03 Levante vs Ath Bilbao, HW 34%, AW 39%, T 27%, pred score 1.2-1.3  actual: HW (3-0)\n",
      "2020-12-06 Villarreal vs Ath Madrid, HW 20%, AW 53%, T 27%, pred score 0.8-1.5  actual: T (0-0)\n",
      "2020-12-07 Leganes vs Getafe, HW 21%, AW 47%, T 32%, pred score 0.6-1.1  actual: T (1-1)\n",
      "2020-12-07 Real Madrid vs Espanol, HW 66%, AW 14%, T 21%, pred score 2-0.8  actual: HW (2-0)\n",
      "2020-12-07 Granada vs Alaves, HW 52%, AW 22%, T 26%, pred score 1.5-0.9  actual: HW (3-0)\n",
      "2020-12-07 Levante vs Valencia, HW 26%, AW 50%, T 24%, pred score 1.1-1.7  actual: AW (2-4)\n",
      "2020-12-07 Barcelona vs Mallorca, HW 82%, AW 7%, T 11%, pred score 3.1-0.8  actual: HW (5-2)\n",
      "2020-12-08 Ath Madrid vs Alaves, HW 61%, AW 13%, T 26%, pred score 1.5-0.5  actual: HW (3-0)\n",
      "2020-12-08 Espanol vs Barcelona, HW 9%, AW 75%, T 16%, pred score 0.7-2.4  actual: AW (0-4)\n",
      "2020-12-08 Valencia vs Sevilla, HW 39%, AW 35%, T 27%, pred score 1.3-1.2  actual: T (1-1)\n",
      "2020-12-08 Villarreal vs Celta, HW 46%, AW 30%, T 23%, pred score 1.7-1.4  actual: AW (2-3)\n",
      "2020-12-08 Eibar vs Getafe, HW 25%, AW 45%, T 30%, pred score 0.8-1.2  actual: AW (0-1)\n",
      "2020-12-08 Betis vs Ath Bilbao, HW 35%, AW 38%, T 27%, pred score 1.2-1.3  actual: HW (3-2)\n",
      "2020-12-08 Valladolid vs Sociedad, HW 25%, AW 48%, T 28%, pred score 0.9-1.4  actual: T (0-0)\n",
      "2020-12-08 Leganes vs Celta, HW 29%, AW 42%, T 28%, pred score 1-1.3  actual: HW (3-2)\n",
      "2020-12-08 Osasuna vs Sevilla, HW 29%, AW 45%, T 25%, pred score 1.2-1.6  actual: T (1-1)\n",
      "2020-12-09 Betis vs Vallecano, HW 53%, AW 25%, T 22%, pred score 1.9-1.3  actual: HW (2-0)\n",
      "2020-12-09 Eibar vs Levante, HW 37%, AW 38%, T 25%, pred score 1.4-1.4  actual: T (4-4)\n",
      "2020-12-09 Huesca vs Real Madrid, HW 11%, AW 73%, T 16%, pred score 0.9-2.6  actual: AW (0-1)\n",
      "2020-12-09 Sociedad vs Valladolid, HW 48%, AW 24%, T 28%, pred score 1.4-0.9  actual: AW (1-2)\n",
      "2020-12-10 Ath Bilbao vs Girona, HW 41%, AW 30%, T 29%, pred score 1.2-1  actual: HW (1-0)\n",
      "2020-12-13 Alaves vs Leganes, HW 35%, AW 33%, T 32%, pred score 1-0.9  actual: T (1-1)\n",
      "2020-12-14 Celta vs Leganes, HW 42%, AW 30%, T 28%, pred score 1.3-1  actual: T (0-0)\n",
      "2020-12-14 Granada vs Levante, HW 49%, AW 27%, T 24%, pred score 1.7-1.2  actual: AW (1-2)\n",
      "2020-12-14 Sociedad vs Barcelona, HW 14%, AW 68%, T 17%, pred score 1.1-2.5  actual: T (2-2)\n",
      "2020-12-14 Ath Bilbao vs Eibar, HW 38%, AW 32%, T 29%, pred score 1.1-1  actual: T (0-0)\n",
      "2020-12-14 Ath Madrid vs Osasuna, HW 57%, AW 17%, T 26%, pred score 1.5-0.7  actual: HW (2-0)\n",
      "2020-12-15 Eibar vs Valencia, HW 25%, AW 49%, T 26%, pred score 1-1.5  actual: T (1-1)\n",
      "2020-12-15 Getafe vs Sociedad, HW 40%, AW 32%, T 29%, pred score 1.2-1  actual: HW (1-0)\n",
      "2020-12-15 Real Madrid vs Vallecano, HW 78%, AW 9%, T 14%, pred score 2.8-0.9  actual: HW (1-0)\n",
      "2020-12-15 Valladolid vs Ath Madrid, HW 13%, AW 58%, T 29%, pred score 0.5-1.3  actual: AW (2-3)\n",
      "2020-12-15 Getafe vs Valladolid, HW 46%, AW 21%, T 33%, pred score 1.1-0.6  actual: HW (2-0)\n",
      "2020-12-15 Celta vs Mallorca, HW 47%, AW 29%, T 24%, pred score 1.7-1.3  actual: T (2-2)\n",
      "2020-12-15 Espanol vs Betis, HW 32%, AW 41%, T 27%, pred score 1.1-1.4  actual: T (2-2)\n",
      "2020-12-15 Sevilla vs Villarreal, HW 40%, AW 36%, T 25%, pred score 1.5-1.4  actual: AW (1-2)\n",
      "2020-12-15 Valencia vs Real Madrid, HW 26%, AW 50%, T 24%, pred score 1.1-1.7  actual: T (1-1)\n",
      "2020-12-16 Espanol vs Betis, HW 31%, AW 42%, T 27%, pred score 1.1-1.4  actual: AW (1-3)\n",
      "2020-12-16 Huesca vs Villarreal, HW 23%, AW 55%, T 22%, pred score 1.2-1.9  actual: T (2-2)\n",
      "2020-12-16 Levante vs Barcelona, HW 10%, AW 76%, T 14%, pred score 1-2.9  actual: AW (0-5)\n",
      "2020-12-16 Sevilla vs Girona, HW 51%, AW 25%, T 24%, pred score 1.7-1.1  actual: HW (2-0)\n",
      "2020-12-17 Alaves vs Ath Bilbao, HW 28%, AW 42%, T 30%, pred score 0.9-1.1  actual: T (0-0)\n",
      "2020-12-18 Barcelona vs Real Madrid, HW 49%, AW 29%, T 22%, pred score 1.9-1.4  actual: T (0-0)\n",
      "2020-12-20 Eibar vs Granada, HW 26%, AW 48%, T 26%, pred score 1-1.5  actual: HW (3-0)\n",
      "2020-12-21 Girona vs Getafe, HW 23%, AW 49%, T 28%, pred score 0.8-1.3  actual: T (1-1)\n",
      "2020-12-21 Sociedad vs Alaves, HW 49%, AW 25%, T 26%, pred score 1.6-1  actual: AW (0-1)\n",
      "2020-12-21 Mallorca vs Sevilla, HW 21%, AW 56%, T 23%, pred score 1-1.9  actual: AW (0-2)\n",
      "2020-12-21 Barcelona vs Alaves, HW 77%, AW 8%, T 15%, pred score 2.5-0.7  actual: HW (4-1)\n",
      "2020-12-21 Villarreal vs Getafe, HW 32%, AW 39%, T 29%, pred score 1.1-1.2  actual: HW (1-0)\n",
      "2020-12-21 Valladolid vs Valencia, HW 21%, AW 50%, T 29%, pred score 0.7-1.3  actual: T (1-1)\n",
      "2020-12-22 Ath Bilbao vs Valladolid, HW 40%, AW 27%, T 33%, pred score 1-0.8  actual: T (1-1)\n",
      "2020-12-22 Ath Madrid vs Espanol, HW 59%, AW 14%, T 27%, pred score 1.4-0.5  actual: HW (1-0)\n",
      "2020-12-22 Barcelona vs Celta, HW 75%, AW 10%, T 15%, pred score 2.8-1  actual: HW (2-0)\n",
      "2020-12-22 Betis vs Eibar, HW 39%, AW 35%, T 26%, pred score 1.4-1.3  actual: T (1-1)\n",
      "2020-12-22 Leganes vs Espanol, HW 32%, AW 35%, T 32%, pred score 0.9-0.9  actual: HW (2-0)\n",
      "2020-12-22 Osasuna vs Sociedad, HW 32%, AW 44%, T 25%, pred score 1.3-1.6  actual: AW (3-4)\n",
      "2020-12-22 Betis vs Ath Madrid, HW 16%, AW 60%, T 24%, pred score 0.7-1.7  actual: AW (1-2)\n",
      "2020-12-22 Levante vs Celta, HW 38%, AW 39%, T 24%, pred score 1.6-1.6  actual: HW (3-1)\n",
      "2020-12-22 Real Madrid vs Ath Bilbao, HW 59%, AW 18%, T 23%, pred score 1.7-0.9  actual: T (0-0)\n"
     ]
    }
   ],
   "source": [
    "prediccion <- predict.fbRanks(ranking, max.date = rango[2], min.date = rango[1])"
   ]
  },
  {
   "cell_type": "code",
   "execution_count": 17,
   "metadata": {
    "collapsed": true
   },
   "outputs": [
    {
     "ename": "ERROR",
     "evalue": "Error in str(prediccion): objeto 'prediccion' no encontrado\n",
     "output_type": "error",
     "traceback": [
      "Error in str(prediccion): objeto 'prediccion' no encontrado\nTraceback:\n",
      "1. str(prediccion)"
     ]
    }
   ],
   "source": [
    "str(prediccion)"
   ]
  },
  {
   "cell_type": "markdown",
   "metadata": {},
   "source": [
    "## Postwork 6"
   ]
  },
  {
   "cell_type": "markdown",
   "metadata": {},
   "source": [
    "Importa el conjunto de datos match.data.csv a R"
   ]
  },
  {
   "cell_type": "code",
   "execution_count": 26,
   "metadata": {},
   "outputs": [],
   "source": [
    "library(dplyr)\n",
    "library(lubridate)"
   ]
  },
  {
   "cell_type": "code",
   "execution_count": 42,
   "metadata": {},
   "outputs": [],
   "source": [
    "LinkDatos <- 'https://raw.githubusercontent.com/beduExpert/Programacion-R-Santander-2021/main/Sesion-06/Postwork/match.data.csv'\n",
    "DatosMatch <- read.csv(LinkDatos)"
   ]
  },
  {
   "cell_type": "code",
   "execution_count": 43,
   "metadata": {},
   "outputs": [],
   "source": [
    "DatosMatch <- mutate(DatosMatch,date= as.Date(DatosMatch$date, format = \"%Y-%m-%d\") )"
   ]
  },
  {
   "cell_type": "code",
   "execution_count": 44,
   "metadata": {},
   "outputs": [
    {
     "name": "stdout",
     "output_type": "stream",
     "text": [
      "'data.frame':\t3800 obs. of  5 variables:\n",
      " $ date      : Date, format: \"2010-08-28\" \"2010-08-28\" ...\n",
      " $ home.team : Factor w/ 33 levels \"Alaves\",\"Almeria\",..: 15 20 21 11 17 22 23 25 27 4 ...\n",
      " $ home.score: int  0 1 1 3 0 0 0 0 1 4 ...\n",
      " $ away.team : Factor w/ 33 levels \"Alaves\",\"Almeria\",..: 3 26 29 12 33 24 2 5 32 28 ...\n",
      " $ away.score: int  1 4 3 1 0 0 0 3 0 0 ...\n"
     ]
    }
   ],
   "source": [
    "str(DatosMatch)"
   ]
  },
  {
   "cell_type": "markdown",
   "metadata": {},
   "source": [
    "1. Agrega una nueva columna sumagoles que contenga la suma de goles por partido."
   ]
  },
  {
   "cell_type": "code",
   "execution_count": 45,
   "metadata": {},
   "outputs": [
    {
     "data": {
      "text/html": [
       "<table>\n",
       "<thead><tr><th scope=col>date</th><th scope=col>home.team</th><th scope=col>home.score</th><th scope=col>away.team</th><th scope=col>away.score</th><th scope=col>total.goles</th></tr></thead>\n",
       "<tbody>\n",
       "\t<tr><td>2010-08-28 </td><td>Hercules   </td><td>0          </td><td>Ath Bilbao </td><td>1          </td><td>1          </td></tr>\n",
       "\t<tr><td>2010-08-28 </td><td>Levante    </td><td>1          </td><td>Sevilla    </td><td>4          </td><td>5          </td></tr>\n",
       "\t<tr><td>2010-08-28 </td><td>Malaga     </td><td>1          </td><td>Valencia   </td><td>3          </td><td>4          </td></tr>\n",
       "\t<tr><td>2010-08-29 </td><td>Espanol    </td><td>3          </td><td>Getafe     </td><td>1          </td><td>4          </td></tr>\n",
       "\t<tr><td>2010-08-29 </td><td>La Coruna  </td><td>0          </td><td>Zaragoza   </td><td>0          </td><td>0          </td></tr>\n",
       "\t<tr><td>2010-08-29 </td><td>Mallorca   </td><td>0          </td><td>Real Madrid</td><td>0          </td><td>0          </td></tr>\n",
       "</tbody>\n",
       "</table>\n"
      ],
      "text/latex": [
       "\\begin{tabular}{r|llllll}\n",
       " date & home.team & home.score & away.team & away.score & total.goles\\\\\n",
       "\\hline\n",
       "\t 2010-08-28  & Hercules    & 0           & Ath Bilbao  & 1           & 1          \\\\\n",
       "\t 2010-08-28  & Levante     & 1           & Sevilla     & 4           & 5          \\\\\n",
       "\t 2010-08-28  & Malaga      & 1           & Valencia    & 3           & 4          \\\\\n",
       "\t 2010-08-29  & Espanol     & 3           & Getafe      & 1           & 4          \\\\\n",
       "\t 2010-08-29  & La Coruna   & 0           & Zaragoza    & 0           & 0          \\\\\n",
       "\t 2010-08-29  & Mallorca    & 0           & Real Madrid & 0           & 0          \\\\\n",
       "\\end{tabular}\n"
      ],
      "text/markdown": [
       "\n",
       "| date | home.team | home.score | away.team | away.score | total.goles |\n",
       "|---|---|---|---|---|---|\n",
       "| 2010-08-28  | Hercules    | 0           | Ath Bilbao  | 1           | 1           |\n",
       "| 2010-08-28  | Levante     | 1           | Sevilla     | 4           | 5           |\n",
       "| 2010-08-28  | Malaga      | 1           | Valencia    | 3           | 4           |\n",
       "| 2010-08-29  | Espanol     | 3           | Getafe      | 1           | 4           |\n",
       "| 2010-08-29  | La Coruna   | 0           | Zaragoza    | 0           | 0           |\n",
       "| 2010-08-29  | Mallorca    | 0           | Real Madrid | 0           | 0           |\n",
       "\n"
      ],
      "text/plain": [
       "  date       home.team home.score away.team   away.score total.goles\n",
       "1 2010-08-28 Hercules  0          Ath Bilbao  1          1          \n",
       "2 2010-08-28 Levante   1          Sevilla     4          5          \n",
       "3 2010-08-28 Malaga    1          Valencia    3          4          \n",
       "4 2010-08-29 Espanol   3          Getafe      1          4          \n",
       "5 2010-08-29 La Coruna 0          Zaragoza    0          0          \n",
       "6 2010-08-29 Mallorca  0          Real Madrid 0          0          "
      ]
     },
     "metadata": {},
     "output_type": "display_data"
    }
   ],
   "source": [
    "DatosMatch<- mutate(DatosMatch,total.goles=DatosMatch$home.score+DatosMatch$away.score)\n",
    "head(DatosMatch)"
   ]
  },
  {
   "cell_type": "markdown",
   "metadata": {},
   "source": [
    "2. Obtén el promedio por mes de la suma de goles."
   ]
  },
  {
   "cell_type": "code",
   "execution_count": 46,
   "metadata": {},
   "outputs": [
    {
     "name": "stderr",
     "output_type": "stream",
     "text": [
      "`summarise()` has grouped output by 'Yr'. You can override using the `.groups` argument.\n"
     ]
    }
   ],
   "source": [
    "goles<- DatosMatch %>% \n",
    "  group_by( Yr =year(date),Mn = month(date)) %>% \n",
    "  summarise(mean = mean(total.goles))"
   ]
  },
  {
   "cell_type": "code",
   "execution_count": 50,
   "metadata": {},
   "outputs": [
    {
     "name": "stdout",
     "output_type": "stream",
     "text": [
      "grouped_df [101 x 3] (S3: grouped_df/tbl_df/tbl/data.frame)\n",
      " $ Yr  : num [1:101] 2010 2010 2010 2010 2010 ...\n",
      " $ Mn  : num [1:101] 8 9 10 11 12 1 2 3 4 5 ...\n",
      " $ mean: num [1:101] 2.2 2.42 3.03 2.9 2.73 ...\n",
      " - attr(*, \"groups\")= tibble [11 x 2] (S3: tbl_df/tbl/data.frame)\n",
      "  ..$ Yr   : num [1:11] 2010 2011 2012 2013 2014 ...\n",
      "  ..$ .rows: list<int> [1:11] \n",
      "  .. ..$ : int [1:5] 1 2 3 4 5\n",
      "  .. ..$ : int [1:10] 6 7 8 9 10 11 12 13 14 15\n",
      "  .. ..$ : int [1:10] 16 17 18 19 20 21 22 23 24 25\n",
      "  .. ..$ : int [1:11] 26 27 28 29 30 31 32 33 34 35 ...\n",
      "  .. ..$ : int [1:10] 37 38 39 40 41 42 43 44 45 46\n",
      "  .. ..$ : int [1:10] 47 48 49 50 51 52 53 54 55 56\n",
      "  .. ..$ : int [1:10] 57 58 59 60 61 62 63 64 65 66\n",
      "  .. ..$ : int [1:10] 67 68 69 70 71 72 73 74 75 76\n",
      "  .. ..$ : int [1:10] 77 78 79 80 81 82 83 84 85 86\n",
      "  .. ..$ : int [1:10] 87 88 89 90 91 92 93 94 95 96\n",
      "  .. ..$ : int [1:5] 97 98 99 100 101\n",
      "  .. ..@ ptype: int(0) \n",
      "  ..- attr(*, \".drop\")= logi TRUE\n"
     ]
    }
   ],
   "source": [
    "str(goles)"
   ]
  },
  {
   "cell_type": "markdown",
   "metadata": {},
   "source": [
    "3. Crea la serie de tiempo del promedio por mes de la suma de goles hasta diciembre de 2019."
   ]
  },
  {
   "cell_type": "code",
   "execution_count": 54,
   "metadata": {},
   "outputs": [],
   "source": [
    "SerieGolM <- ts(goles, st= c(2010,8), end = c(2019,12), fr = 12)"
   ]
  },
  {
   "cell_type": "markdown",
   "metadata": {},
   "source": [
    "4. Grafica la serie de tiempo."
   ]
  },
  {
   "cell_type": "code",
   "execution_count": 55,
   "metadata": {},
   "outputs": [
    {
     "data": {
      "image/png": "[encoded data removed]",
      "text/plain": [
       "plot without title"
      ]
     },
     "metadata": {},
     "output_type": "display_data"
    }
   ],
   "source": [
    "plot(SerieGolM, xlab = \"Tiempo\", ylab = \"Promedio de goles\", main = \"Serie del promedio de goles de la Liga Española\",\n",
    "     sub = \"Agrupación mensual: Agosto de 2010 a Diciembre de 2019\")"
   ]
  },
  {
   "cell_type": "markdown",
   "metadata": {},
   "source": [
    "## PostWork 7"
   ]
  },
  {
   "cell_type": "markdown",
   "metadata": {},
   "source": [
    "Utilizando el manejador de BDD Mongodb Compass\n",
    "1. Alojar el fichero match.data.csv en una base de datos llamada match_games, nombrando al collection como match"
   ]
  },
  {
   "cell_type": "code",
   "execution_count": 16,
   "metadata": {},
   "outputs": [],
   "source": [
    "m <- mongo(collection='match',\n",
    "           db='match_games',\n",
    "           url = \"\",\n",
    "           verbose = FALSE)"
   ]
  },
  {
   "cell_type": "code",
   "execution_count": 5,
   "metadata": {},
   "outputs": [],
   "source": [
    "LinkM <-'https://raw.githubusercontent.com/beduExpert/Programacion-R-Santander-2021/main/Sesion-07/Postwork/match.data.csv'\n",
    "DatosMATCH <-read.csv(LinkM)"
   ]
  },
  {
   "cell_type": "code",
   "execution_count": 6,
   "metadata": {},
   "outputs": [
    {
     "data": {
      "text/plain": [
       "List of 5\n",
       " $ nInserted  : num 3800\n",
       " $ nMatched   : num 0\n",
       " $ nRemoved   : num 0\n",
       " $ nUpserted  : num 0\n",
       " $ writeErrors: list()"
      ]
     },
     "metadata": {},
     "output_type": "display_data"
    }
   ],
   "source": [
    "m$insert(DatosMATCH)"
   ]
  },
  {
   "cell_type": "markdown",
   "metadata": {},
   "source": [
    "2. Una vez hecho esto, realizar un count para conocer el número de registros que se tiene en la base\n"
   ]
  },
  {
   "cell_type": "code",
   "execution_count": 9,
   "metadata": {},
   "outputs": [
    {
     "name": "stdout",
     "output_type": "stream",
     "text": [
      "[1] \"Se guardaron 3800 documentos\"\n"
     ]
    }
   ],
   "source": [
    "NDoc <- m$count('{}')\n",
    "\n",
    "print(paste('Se guardaron',NDoc,'documentos'))"
   ]
  },
  {
   "cell_type": "markdown",
   "metadata": {},
   "source": [
    "3. Realiza una consulta utilizando la sintaxis de Mongodb en la base de datos, para conocer el número de goles que metió el Real Madrid el 20 de diciembre de 2015 y contra que equipo jugó, ¿perdió ó fue goleada?"
   ]
  },
  {
   "cell_type": "code",
   "execution_count": 13,
   "metadata": {},
   "outputs": [
    {
     "name": "stdout",
     "output_type": "stream",
     "text": [
      "        date   home_team home_score away_team away_score\n",
      "1 2015-12-20 Real Madrid         10 Vallecano          2\n"
     ]
    }
   ],
   "source": [
    "consulta <- m$find(query = '{\"date\" : \"2015-12-20\", \"home_team\" : \"Real Madrid\" }')\n",
    "print(consulta)\n",
    "#Real madrid contra Vallecano y Ganó Real madrid "
   ]
  },
  {
   "cell_type": "markdown",
   "metadata": {},
   "source": [
    "4. Por último, no olvides cerrar la conexión con la BDD"
   ]
  },
  {
   "cell_type": "code",
   "execution_count": 14,
   "metadata": {},
   "outputs": [],
   "source": [
    " rm(m)"
   ]
  },
  {
   "cell_type": "markdown",
   "metadata": {},
   "source": [
    "## Postwork 8"
   ]
  },
  {
   "cell_type": "markdown",
   "metadata": {},
   "source": [
    "Para este postwork genera un dashboard en un solo archivo app.R, para esto realiza lo siguiente:\n",
    "\n",
    "    Ejecuta el código momios.R\n",
    "\n",
    "    Almacena los gráficos resultantes en formato png\n",
    "\n",
    "    Crea un dashboard donde se muestren los resultados con 4 pestañas:\n",
    "\n",
    "    Una con las gráficas de barras, donde en el eje de las x se muestren los goles de local y visitante con un menu de selección, con una geometría de tipo barras además de hacer un facet_wrap con el equipo visitante\n",
    "\n",
    "    Realiza una pestaña donde agregues las imágenes de las gráficas del postwork 3\n",
    "\n",
    "    En otra pestaña coloca el data table del fichero match.data.csv\n",
    "\n",
    "    Por último en otra pestaña agrega las imágenes de las gráficas de los factores de ganancia mínimo y máximo\n",
    "\n",
    "recuerda que si tienes problemas con el codificado guarda tu archivo app.R con la codificación UTF-8"
   ]
  },
  {
   "cell_type": "code",
   "execution_count": null,
   "metadata": {},
   "outputs": [],
   "source": []
  },
  {
   "cell_type": "code",
   "execution_count": null,
   "metadata": {},
   "outputs": [],
   "source": []
  },
  {
   "cell_type": "code",
   "execution_count": null,
   "metadata": {},
   "outputs": [],
   "source": []
  },
  {
   "cell_type": "code",
   "execution_count": null,
   "metadata": {},
   "outputs": [],
   "source": []
  },
  {
   "cell_type": "code",
   "execution_count": null,
   "metadata": {},
   "outputs": [],
   "source": []
  },
  {
   "cell_type": "markdown",
   "metadata": {},
   "source": [
    "## Notas adicionales\n",
    "\n",
    "Si no tienes instaladas las librerias usa los siguientes comandos"
   ]
  },
  {
   "cell_type": "code",
   "execution_count": 200,
   "metadata": {},
   "outputs": [],
   "source": [
    "#install.packages(\"ggplot2\")\n",
    "#install.packages(\"dplyr\")\n",
    "#install.packages(\"rsample\")\n",
    "#install.packages('fbRanks')\n",
    "#install.packages(\"lubridate\")\n",
    "#install.packages(\"mongolite\")"
   ]
  },
  {
   "cell_type": "code",
   "execution_count": null,
   "metadata": {},
   "outputs": [],
   "source": []
  }
 ],
 "metadata": {
  "kernelspec": {
   "display_name": "R",
   "language": "R",
   "name": "ir"
  },
  "language_info": {
   "codemirror_mode": "r",
   "file_extension": ".r",
   "mimetype": "text/x-r-source",
   "name": "R",
   "pygments_lexer": "r",
   "version": "3.6.1"
  }
 },
 "nbformat": 4,
 "nbformat_minor": 4
}
